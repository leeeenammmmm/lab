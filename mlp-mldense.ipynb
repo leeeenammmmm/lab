{
 "cells": [
  {
   "cell_type": "code",
   "execution_count": 1,
   "id": "84c0e8bb",
   "metadata": {
    "execution": {
     "iopub.execute_input": "2023-10-19T02:38:20.943476Z",
     "iopub.status.busy": "2023-10-19T02:38:20.943104Z",
     "iopub.status.idle": "2023-10-19T02:38:31.396153Z",
     "shell.execute_reply": "2023-10-19T02:38:31.395222Z"
    },
    "papermill": {
     "duration": 10.462802,
     "end_time": "2023-10-19T02:38:31.398507",
     "exception": false,
     "start_time": "2023-10-19T02:38:20.935705",
     "status": "completed"
    },
    "tags": []
   },
   "outputs": [
    {
     "name": "stdout",
     "output_type": "stream",
     "text": [
      "Requirement already satisfied: transformers in /opt/conda/lib/python3.10/site-packages (4.33.0)\r\n",
      "Requirement already satisfied: filelock in /opt/conda/lib/python3.10/site-packages (from transformers) (3.12.2)\r\n",
      "Requirement already satisfied: huggingface-hub<1.0,>=0.15.1 in /opt/conda/lib/python3.10/site-packages (from transformers) (0.16.4)\r\n",
      "Requirement already satisfied: numpy>=1.17 in /opt/conda/lib/python3.10/site-packages (from transformers) (1.23.5)\r\n",
      "Requirement already satisfied: packaging>=20.0 in /opt/conda/lib/python3.10/site-packages (from transformers) (21.3)\r\n",
      "Requirement already satisfied: pyyaml>=5.1 in /opt/conda/lib/python3.10/site-packages (from transformers) (6.0)\r\n",
      "Requirement already satisfied: regex!=2019.12.17 in /opt/conda/lib/python3.10/site-packages (from transformers) (2023.6.3)\r\n",
      "Requirement already satisfied: requests in /opt/conda/lib/python3.10/site-packages (from transformers) (2.31.0)\r\n",
      "Requirement already satisfied: tokenizers!=0.11.3,<0.14,>=0.11.1 in /opt/conda/lib/python3.10/site-packages (from transformers) (0.13.3)\r\n",
      "Requirement already satisfied: safetensors>=0.3.1 in /opt/conda/lib/python3.10/site-packages (from transformers) (0.3.3)\r\n",
      "Requirement already satisfied: tqdm>=4.27 in /opt/conda/lib/python3.10/site-packages (from transformers) (4.66.1)\r\n",
      "Requirement already satisfied: fsspec in /opt/conda/lib/python3.10/site-packages (from huggingface-hub<1.0,>=0.15.1->transformers) (2023.9.0)\r\n",
      "Requirement already satisfied: typing-extensions>=3.7.4.3 in /opt/conda/lib/python3.10/site-packages (from huggingface-hub<1.0,>=0.15.1->transformers) (4.6.3)\r\n",
      "Requirement already satisfied: pyparsing!=3.0.5,>=2.0.2 in /opt/conda/lib/python3.10/site-packages (from packaging>=20.0->transformers) (3.0.9)\r\n",
      "Requirement already satisfied: charset-normalizer<4,>=2 in /opt/conda/lib/python3.10/site-packages (from requests->transformers) (3.1.0)\r\n",
      "Requirement already satisfied: idna<4,>=2.5 in /opt/conda/lib/python3.10/site-packages (from requests->transformers) (3.4)\r\n",
      "Requirement already satisfied: urllib3<3,>=1.21.1 in /opt/conda/lib/python3.10/site-packages (from requests->transformers) (1.26.15)\r\n",
      "Requirement already satisfied: certifi>=2017.4.17 in /opt/conda/lib/python3.10/site-packages (from requests->transformers) (2023.7.22)\r\n"
     ]
    }
   ],
   "source": [
    "!pip install transformers"
   ]
  },
  {
   "cell_type": "code",
   "execution_count": 2,
   "id": "e706dc7c",
   "metadata": {
    "execution": {
     "iopub.execute_input": "2023-10-19T02:38:31.411953Z",
     "iopub.status.busy": "2023-10-19T02:38:31.411679Z",
     "iopub.status.idle": "2023-10-19T02:38:35.433425Z",
     "shell.execute_reply": "2023-10-19T02:38:35.432637Z"
    },
    "papermill": {
     "duration": 4.030726,
     "end_time": "2023-10-19T02:38:35.435480",
     "exception": false,
     "start_time": "2023-10-19T02:38:31.404754",
     "status": "completed"
    },
    "tags": []
   },
   "outputs": [],
   "source": [
    "\n",
    "import torch\n",
    "import torch.nn as nn\n",
    "import pandas as pd\n",
    "import numpy as np\n",
    "import shutil\n",
    "import sys   "
   ]
  },
  {
   "cell_type": "code",
   "execution_count": 3,
   "id": "3ae64f8c",
   "metadata": {
    "execution": {
     "iopub.execute_input": "2023-10-19T02:38:35.448921Z",
     "iopub.status.busy": "2023-10-19T02:38:35.448547Z",
     "iopub.status.idle": "2023-10-19T02:38:35.452709Z",
     "shell.execute_reply": "2023-10-19T02:38:35.451912Z"
    },
    "papermill": {
     "duration": 0.012747,
     "end_time": "2023-10-19T02:38:35.454483",
     "exception": false,
     "start_time": "2023-10-19T02:38:35.441736",
     "status": "completed"
    },
    "tags": []
   },
   "outputs": [],
   "source": [
    "train_path = \"/kaggle/input/data-capec-multilabel/capec_mutilabel_new.csv\"\n",
    "test_path = \"/kaggle/input/data-capec-multilabel/capec_mutilabel_new.csv\""
   ]
  },
  {
   "cell_type": "code",
   "execution_count": 4,
   "id": "63335a2f",
   "metadata": {
    "execution": {
     "iopub.execute_input": "2023-10-19T02:38:35.466808Z",
     "iopub.status.busy": "2023-10-19T02:38:35.466559Z",
     "iopub.status.idle": "2023-10-19T02:38:36.352775Z",
     "shell.execute_reply": "2023-10-19T02:38:36.351937Z"
    },
    "papermill": {
     "duration": 0.894911,
     "end_time": "2023-10-19T02:38:36.355050",
     "exception": false,
     "start_time": "2023-10-19T02:38:35.460139",
     "status": "completed"
    },
    "tags": []
   },
   "outputs": [
    {
     "name": "stderr",
     "output_type": "stream",
     "text": [
      "/opt/conda/lib/python3.10/site-packages/scipy/__init__.py:146: UserWarning: A NumPy version >=1.16.5 and <1.23.0 is required for this version of SciPy (detected version 1.23.5\n",
      "  warnings.warn(f\"A NumPy version >={np_minversion} and <{np_maxversion}\"\n"
     ]
    }
   ],
   "source": [
    "from sklearn.metrics import precision_score, recall_score, confusion_matrix, classification_report,accuracy_score, f1_score"
   ]
  },
  {
   "cell_type": "code",
   "execution_count": 5,
   "id": "eafd08e4",
   "metadata": {
    "execution": {
     "iopub.execute_input": "2023-10-19T02:38:36.369339Z",
     "iopub.status.busy": "2023-10-19T02:38:36.369010Z",
     "iopub.status.idle": "2023-10-19T02:38:44.514527Z",
     "shell.execute_reply": "2023-10-19T02:38:44.513466Z"
    },
    "papermill": {
     "duration": 8.154533,
     "end_time": "2023-10-19T02:38:44.516921",
     "exception": false,
     "start_time": "2023-10-19T02:38:36.362388",
     "status": "completed"
    },
    "tags": []
   },
   "outputs": [
    {
     "name": "stderr",
     "output_type": "stream",
     "text": [
      "/tmp/ipykernel_26/897552558.py:1: DtypeWarning: Columns (5,6,22) have mixed types. Specify dtype option on import or set low_memory=False.\n",
      "  train_df = pd.read_csv(train_path)\n",
      "/tmp/ipykernel_26/897552558.py:2: DtypeWarning: Columns (5,6,22) have mixed types. Specify dtype option on import or set low_memory=False.\n",
      "  test_df = pd.read_csv(test_path)\n"
     ]
    }
   ],
   "source": [
    "train_df = pd.read_csv(train_path)\n",
    "test_df = pd.read_csv(test_path)"
   ]
  },
  {
   "cell_type": "code",
   "execution_count": 6,
   "id": "b314fb53",
   "metadata": {
    "execution": {
     "iopub.execute_input": "2023-10-19T02:38:44.530658Z",
     "iopub.status.busy": "2023-10-19T02:38:44.530382Z",
     "iopub.status.idle": "2023-10-19T02:38:44.616294Z",
     "shell.execute_reply": "2023-10-19T02:38:44.615537Z"
    },
    "papermill": {
     "duration": 0.095235,
     "end_time": "2023-10-19T02:38:44.618545",
     "exception": false,
     "start_time": "2023-10-19T02:38:44.523310",
     "status": "completed"
    },
    "tags": []
   },
   "outputs": [],
   "source": [
    "train_df.drop(train_df.columns[1:24], axis=1, inplace=True)"
   ]
  },
  {
   "cell_type": "code",
   "execution_count": 7,
   "id": "5258117b",
   "metadata": {
    "execution": {
     "iopub.execute_input": "2023-10-19T02:38:44.632350Z",
     "iopub.status.busy": "2023-10-19T02:38:44.632035Z",
     "iopub.status.idle": "2023-10-19T02:38:44.647879Z",
     "shell.execute_reply": "2023-10-19T02:38:44.647188Z"
    },
    "papermill": {
     "duration": 0.024777,
     "end_time": "2023-10-19T02:38:44.649720",
     "exception": false,
     "start_time": "2023-10-19T02:38:44.624943",
     "status": "completed"
    },
    "tags": []
   },
   "outputs": [],
   "source": [
    "df2 = train_df.loc[90000:624245]\n",
    "df2 = df2.loc[(df2['242 - Code Injection'] == 1) \n",
    "              | (df2['16 - Dictionary-based Password Attack']==1)\n",
    "              | (df2['153 - Input Data Manipulation']==1)\n",
    "              | (df2['248 - Command Injection']==1)\n",
    "              | (df2['34 - HTTP Response Splitting']==1)\n",
    "              | (df2['274 - HTTP Verb Tampering'] == 1)\n",
    "              | (df2['33 - HTTP Request Smuggling']==1)]"
   ]
  },
  {
   "cell_type": "code",
   "execution_count": 8,
   "id": "0eb17200",
   "metadata": {
    "execution": {
     "iopub.execute_input": "2023-10-19T02:38:44.662908Z",
     "iopub.status.busy": "2023-10-19T02:38:44.662683Z",
     "iopub.status.idle": "2023-10-19T02:38:44.683304Z",
     "shell.execute_reply": "2023-10-19T02:38:44.682578Z"
    },
    "papermill": {
     "duration": 0.029533,
     "end_time": "2023-10-19T02:38:44.685275",
     "exception": false,
     "start_time": "2023-10-19T02:38:44.655742",
     "status": "completed"
    },
    "tags": []
   },
   "outputs": [],
   "source": [
    "train_df = pd.concat([train_df.head(90000), df2], ignore_index=True)"
   ]
  },
  {
   "cell_type": "code",
   "execution_count": 9,
   "id": "4f7b4e05",
   "metadata": {
    "execution": {
     "iopub.execute_input": "2023-10-19T02:38:44.698822Z",
     "iopub.status.busy": "2023-10-19T02:38:44.698549Z",
     "iopub.status.idle": "2023-10-19T02:38:44.703018Z",
     "shell.execute_reply": "2023-10-19T02:38:44.702079Z"
    },
    "papermill": {
     "duration": 0.013347,
     "end_time": "2023-10-19T02:38:44.704936",
     "exception": false,
     "start_time": "2023-10-19T02:38:44.691589",
     "status": "completed"
    },
    "tags": []
   },
   "outputs": [],
   "source": [
    "target_list = [\"000 - Normal\", \"272 - Protocol Manipulation\", \"242 - Code Injection\", \n",
    "               \"88 - OS Command Injection\", \"126 - Path Traversal\", \"66 - SQL Injection\",\n",
    "               \"16 - Dictionary-based Password Attack\", \"310 - Scanning for Vulnerable Software\", \n",
    "               \"153 - Input Data Manipulation\", \"248 - Command Injection\", \n",
    "               \"274 - HTTP Verb Tampering\", \"194 - Fake the Source of Data\", \n",
    "               \"34 - HTTP Response Splitting\", \"33 - HTTP Request Smuggling\"]"
   ]
  },
  {
   "cell_type": "code",
   "execution_count": 10,
   "id": "7096404a",
   "metadata": {
    "execution": {
     "iopub.execute_input": "2023-10-19T02:38:44.718253Z",
     "iopub.status.busy": "2023-10-19T02:38:44.717957Z",
     "iopub.status.idle": "2023-10-19T02:38:44.724086Z",
     "shell.execute_reply": "2023-10-19T02:38:44.723244Z"
    },
    "papermill": {
     "duration": 0.014976,
     "end_time": "2023-10-19T02:38:44.726012",
     "exception": false,
     "start_time": "2023-10-19T02:38:44.711036",
     "status": "completed"
    },
    "tags": []
   },
   "outputs": [
    {
     "data": {
      "text/plain": [
       "14"
      ]
     },
     "execution_count": 10,
     "metadata": {},
     "output_type": "execute_result"
    }
   ],
   "source": [
    "len(target_list)"
   ]
  },
  {
   "cell_type": "code",
   "execution_count": 11,
   "id": "010b4c9d",
   "metadata": {
    "execution": {
     "iopub.execute_input": "2023-10-19T02:38:44.739518Z",
     "iopub.status.busy": "2023-10-19T02:38:44.739273Z",
     "iopub.status.idle": "2023-10-19T02:38:44.743308Z",
     "shell.execute_reply": "2023-10-19T02:38:44.742465Z"
    },
    "papermill": {
     "duration": 0.012635,
     "end_time": "2023-10-19T02:38:44.745018",
     "exception": false,
     "start_time": "2023-10-19T02:38:44.732383",
     "status": "completed"
    },
    "tags": []
   },
   "outputs": [],
   "source": [
    "# hyperparameters\n",
    "MAX_LEN = 256\n",
    "TRAIN_BATCH_SIZE = 32\n",
    "VALID_BATCH_SIZE = 32\n",
    "EPOCHS = 10\n",
    "LEARNING_RATE = 1e-05\n",
    "num_class=14"
   ]
  },
  {
   "cell_type": "code",
   "execution_count": 12,
   "id": "a850f36b",
   "metadata": {
    "execution": {
     "iopub.execute_input": "2023-10-19T02:38:44.758749Z",
     "iopub.status.busy": "2023-10-19T02:38:44.758515Z",
     "iopub.status.idle": "2023-10-19T02:38:53.372954Z",
     "shell.execute_reply": "2023-10-19T02:38:53.372253Z"
    },
    "papermill": {
     "duration": 8.623446,
     "end_time": "2023-10-19T02:38:53.375116",
     "exception": false,
     "start_time": "2023-10-19T02:38:44.751670",
     "status": "completed"
    },
    "tags": []
   },
   "outputs": [],
   "source": [
    "from transformers import AutoTokenizer, AutoModelForMaskedLM, AutoModel\n",
    "from transformers import BertTokenizer, BertModel, BertTokenizerFast"
   ]
  },
  {
   "cell_type": "code",
   "execution_count": 13,
   "id": "b12350da",
   "metadata": {
    "execution": {
     "iopub.execute_input": "2023-10-19T02:38:53.389700Z",
     "iopub.status.busy": "2023-10-19T02:38:53.389080Z",
     "iopub.status.idle": "2023-10-19T02:38:57.076981Z",
     "shell.execute_reply": "2023-10-19T02:38:57.076146Z"
    },
    "papermill": {
     "duration": 3.697162,
     "end_time": "2023-10-19T02:38:57.079277",
     "exception": false,
     "start_time": "2023-10-19T02:38:53.382115",
     "status": "completed"
    },
    "tags": []
   },
   "outputs": [
    {
     "data": {
      "application/vnd.jupyter.widget-view+json": {
       "model_id": "d06dd46a6b0845bfb53eaf52f89a2a23",
       "version_major": 2,
       "version_minor": 0
      },
      "text/plain": [
       "Downloading (…)solve/main/vocab.txt:   0%|          | 0.00/378k [00:00<?, ?B/s]"
      ]
     },
     "metadata": {},
     "output_type": "display_data"
    },
    {
     "data": {
      "application/vnd.jupyter.widget-view+json": {
       "model_id": "2a3c2cfa0ac64f8591a7ff939d451fde",
       "version_major": 2,
       "version_minor": 0
      },
      "text/plain": [
       "Downloading (…)lve/main/config.json:   0%|          | 0.00/467 [00:00<?, ?B/s]"
      ]
     },
     "metadata": {},
     "output_type": "display_data"
    },
    {
     "data": {
      "application/vnd.jupyter.widget-view+json": {
       "model_id": "0d6ab37d63404c1f818c9b9062c64515",
       "version_major": 2,
       "version_minor": 0
      },
      "text/plain": [
       "Downloading model.safetensors:   0%|          | 0.00/336M [00:00<?, ?B/s]"
      ]
     },
     "metadata": {},
     "output_type": "display_data"
    }
   ],
   "source": [
    "secBertTokenizer = BertTokenizerFast.from_pretrained(\"jackaduma/SecBERT\", do_lower_case=True)\n",
    "secBertModel = BertModel.from_pretrained(\"jackaduma/SecBERT\", num_labels = num_class)"
   ]
  },
  {
   "cell_type": "code",
   "execution_count": 14,
   "id": "9ce68cad",
   "metadata": {
    "execution": {
     "iopub.execute_input": "2023-10-19T02:38:57.093948Z",
     "iopub.status.busy": "2023-10-19T02:38:57.093656Z",
     "iopub.status.idle": "2023-10-19T02:38:57.341949Z",
     "shell.execute_reply": "2023-10-19T02:38:57.341156Z"
    },
    "papermill": {
     "duration": 0.257992,
     "end_time": "2023-10-19T02:38:57.344241",
     "exception": false,
     "start_time": "2023-10-19T02:38:57.086249",
     "status": "completed"
    },
    "tags": []
   },
   "outputs": [],
   "source": [
    "tokenizer = AutoTokenizer.from_pretrained('jackaduma/SecBERT')"
   ]
  },
  {
   "cell_type": "code",
   "execution_count": 15,
   "id": "517f0df2",
   "metadata": {
    "execution": {
     "iopub.execute_input": "2023-10-19T02:38:57.359718Z",
     "iopub.status.busy": "2023-10-19T02:38:57.359068Z",
     "iopub.status.idle": "2023-10-19T02:38:57.363452Z",
     "shell.execute_reply": "2023-10-19T02:38:57.362629Z"
    },
    "papermill": {
     "duration": 0.013588,
     "end_time": "2023-10-19T02:38:57.365063",
     "exception": false,
     "start_time": "2023-10-19T02:38:57.351475",
     "status": "completed"
    },
    "tags": []
   },
   "outputs": [],
   "source": [
    "def freeze_k_layer(secBert, k=1):\n",
    "    for param in secBert.encoder.layer[0:k].parameters():\n",
    "        param.requires_grad = False"
   ]
  },
  {
   "cell_type": "code",
   "execution_count": 16,
   "id": "10e61c92",
   "metadata": {
    "execution": {
     "iopub.execute_input": "2023-10-19T02:38:57.379673Z",
     "iopub.status.busy": "2023-10-19T02:38:57.379432Z",
     "iopub.status.idle": "2023-10-19T02:38:57.383821Z",
     "shell.execute_reply": "2023-10-19T02:38:57.383007Z"
    },
    "papermill": {
     "duration": 0.01373,
     "end_time": "2023-10-19T02:38:57.385656",
     "exception": false,
     "start_time": "2023-10-19T02:38:57.371926",
     "status": "completed"
    },
    "tags": []
   },
   "outputs": [],
   "source": [
    "freeze_k_layer(secBertModel, k=6)"
   ]
  },
  {
   "cell_type": "code",
   "execution_count": 17,
   "id": "5001b3ba",
   "metadata": {
    "execution": {
     "iopub.execute_input": "2023-10-19T02:38:57.400447Z",
     "iopub.status.busy": "2023-10-19T02:38:57.400148Z",
     "iopub.status.idle": "2023-10-19T02:38:57.406814Z",
     "shell.execute_reply": "2023-10-19T02:38:57.405843Z"
    },
    "papermill": {
     "duration": 0.015678,
     "end_time": "2023-10-19T02:38:57.408358",
     "exception": false,
     "start_time": "2023-10-19T02:38:57.392680",
     "status": "completed"
    },
    "tags": []
   },
   "outputs": [],
   "source": [
    "class CustomDataset(torch.utils.data.Dataset):\n",
    "\n",
    "    def __init__(self, df, tokenizer, max_len):\n",
    "        self.tokenizer = tokenizer\n",
    "        self.df = df\n",
    "        self.title = df['text']\n",
    "        self.targets = self.df[target_list].values\n",
    "        self.max_len = max_len\n",
    "\n",
    "    def __len__(self):\n",
    "        return len(self.title)\n",
    "\n",
    "    def __getitem__(self, index):\n",
    "        title = str(self.title[index])\n",
    "        title = \" \".join(title.split())\n",
    "\n",
    "        inputs = self.tokenizer.encode_plus(\n",
    "            title,\n",
    "            None,\n",
    "            add_special_tokens=True,\n",
    "            max_length=self.max_len,\n",
    "            padding='max_length',\n",
    "            return_token_type_ids=True,\n",
    "            truncation=True,\n",
    "            return_attention_mask=True,\n",
    "            return_tensors='pt'\n",
    "        )\n",
    "\n",
    "        return {\n",
    "            'input_ids': inputs['input_ids'].flatten(),\n",
    "            'attention_mask': inputs['attention_mask'].flatten(),\n",
    "            'token_type_ids': inputs[\"token_type_ids\"].flatten(),\n",
    "            'targets': torch.FloatTensor(self.targets[index])\n",
    "        }"
   ]
  },
  {
   "cell_type": "code",
   "execution_count": 18,
   "id": "1bb4992f",
   "metadata": {
    "execution": {
     "iopub.execute_input": "2023-10-19T02:38:57.422956Z",
     "iopub.status.busy": "2023-10-19T02:38:57.422716Z",
     "iopub.status.idle": "2023-10-19T02:38:57.466050Z",
     "shell.execute_reply": "2023-10-19T02:38:57.465250Z"
    },
    "papermill": {
     "duration": 0.052944,
     "end_time": "2023-10-19T02:38:57.468190",
     "exception": false,
     "start_time": "2023-10-19T02:38:57.415246",
     "status": "completed"
    },
    "tags": []
   },
   "outputs": [],
   "source": [
    "train_size = 0.8\n",
    "train_df1 = train_df.sample(frac=train_size, random_state=200).reset_index(drop=True)\n",
    "val_df = train_df.drop(train_df1.index).reset_index(drop=True)"
   ]
  },
  {
   "cell_type": "code",
   "execution_count": 19,
   "id": "6a8a91f4",
   "metadata": {
    "execution": {
     "iopub.execute_input": "2023-10-19T02:38:57.483799Z",
     "iopub.status.busy": "2023-10-19T02:38:57.483497Z",
     "iopub.status.idle": "2023-10-19T02:38:57.488332Z",
     "shell.execute_reply": "2023-10-19T02:38:57.487354Z"
    },
    "papermill": {
     "duration": 0.014543,
     "end_time": "2023-10-19T02:38:57.490245",
     "exception": false,
     "start_time": "2023-10-19T02:38:57.475702",
     "status": "completed"
    },
    "tags": []
   },
   "outputs": [
    {
     "name": "stdout",
     "output_type": "stream",
     "text": [
      "26851\n"
     ]
    }
   ],
   "source": [
    "print(len(val_df))"
   ]
  },
  {
   "cell_type": "code",
   "execution_count": 20,
   "id": "08b61e86",
   "metadata": {
    "execution": {
     "iopub.execute_input": "2023-10-19T02:38:57.505000Z",
     "iopub.status.busy": "2023-10-19T02:38:57.504765Z",
     "iopub.status.idle": "2023-10-19T02:38:57.515740Z",
     "shell.execute_reply": "2023-10-19T02:38:57.514886Z"
    },
    "papermill": {
     "duration": 0.020404,
     "end_time": "2023-10-19T02:38:57.517516",
     "exception": false,
     "start_time": "2023-10-19T02:38:57.497112",
     "status": "completed"
    },
    "tags": []
   },
   "outputs": [],
   "source": [
    "train_dataset = CustomDataset(train_df1, tokenizer, MAX_LEN)\n",
    "valid_dataset = CustomDataset(val_df, tokenizer, MAX_LEN)"
   ]
  },
  {
   "cell_type": "code",
   "execution_count": 21,
   "id": "c91f4139",
   "metadata": {
    "execution": {
     "iopub.execute_input": "2023-10-19T02:38:57.532947Z",
     "iopub.status.busy": "2023-10-19T02:38:57.532679Z",
     "iopub.status.idle": "2023-10-19T02:38:57.537341Z",
     "shell.execute_reply": "2023-10-19T02:38:57.536591Z"
    },
    "papermill": {
     "duration": 0.014177,
     "end_time": "2023-10-19T02:38:57.538999",
     "exception": false,
     "start_time": "2023-10-19T02:38:57.524822",
     "status": "completed"
    },
    "tags": []
   },
   "outputs": [],
   "source": [
    "train_data_loader = torch.utils.data.DataLoader(train_dataset, \n",
    "    batch_size=TRAIN_BATCH_SIZE,\n",
    "    shuffle=True,\n",
    "    num_workers=0\n",
    ")\n",
    "\n",
    "val_data_loader = torch.utils.data.DataLoader(valid_dataset, \n",
    "    batch_size=VALID_BATCH_SIZE,\n",
    "    shuffle=False,\n",
    "    num_workers=0\n",
    ")"
   ]
  },
  {
   "cell_type": "code",
   "execution_count": 22,
   "id": "3ec6b798",
   "metadata": {
    "execution": {
     "iopub.execute_input": "2023-10-19T02:38:57.554339Z",
     "iopub.status.busy": "2023-10-19T02:38:57.554044Z",
     "iopub.status.idle": "2023-10-19T02:38:57.658841Z",
     "shell.execute_reply": "2023-10-19T02:38:57.657833Z"
    },
    "papermill": {
     "duration": 0.114546,
     "end_time": "2023-10-19T02:38:57.660696",
     "exception": false,
     "start_time": "2023-10-19T02:38:57.546150",
     "status": "completed"
    },
    "tags": []
   },
   "outputs": [
    {
     "data": {
      "text/plain": [
       "device(type='cuda')"
      ]
     },
     "execution_count": 22,
     "metadata": {},
     "output_type": "execute_result"
    }
   ],
   "source": [
    "device = torch.device('cuda') if torch.cuda.is_available() else torch.device('cpu')\n",
    "device"
   ]
  },
  {
   "cell_type": "code",
   "execution_count": 23,
   "id": "24c4a4d1",
   "metadata": {
    "execution": {
     "iopub.execute_input": "2023-10-19T02:38:57.675784Z",
     "iopub.status.busy": "2023-10-19T02:38:57.675525Z",
     "iopub.status.idle": "2023-10-19T02:38:57.681043Z",
     "shell.execute_reply": "2023-10-19T02:38:57.680248Z"
    },
    "papermill": {
     "duration": 0.01516,
     "end_time": "2023-10-19T02:38:57.682797",
     "exception": false,
     "start_time": "2023-10-19T02:38:57.667637",
     "status": "completed"
    },
    "tags": []
   },
   "outputs": [],
   "source": [
    "class Branch(nn.Module):\n",
    "    def __init__(self, input_size, hidden1_size, hidden2_size, dropout, num_outputs):\n",
    "        super(Branch, self).__init__()\n",
    "\n",
    "        self.dense1 = nn.Linear(input_size, hidden1_size)\n",
    "        self.dropout = nn.Dropout(p=dropout)\n",
    "        self.dense2 = nn.Linear(hidden1_size, hidden2_size)\n",
    "        self.dense3 = nn.Linear(hidden2_size, num_outputs)\n",
    "\n",
    "    def forward(self, x):\n",
    "        out_dense1 = self.dense1(x)\n",
    "        out_dropout = self.dropout(out_dense1)\n",
    "        out_dense2 = self.dense2(out_dropout)\n",
    "        out_dense3 = self.dense3(out_dense2)\n",
    "\n",
    "        return out_dense3"
   ]
  },
  {
   "cell_type": "code",
   "execution_count": 24,
   "id": "028dbf0a",
   "metadata": {
    "execution": {
     "iopub.execute_input": "2023-10-19T02:38:57.698347Z",
     "iopub.status.busy": "2023-10-19T02:38:57.698034Z",
     "iopub.status.idle": "2023-10-19T02:38:57.723826Z",
     "shell.execute_reply": "2023-10-19T02:38:57.723200Z"
    },
    "papermill": {
     "duration": 0.035372,
     "end_time": "2023-10-19T02:38:57.725616",
     "exception": false,
     "start_time": "2023-10-19T02:38:57.690244",
     "status": "completed"
    },
    "tags": []
   },
   "outputs": [],
   "source": [
    "class BaseModel(nn.Module):\n",
    "    def __init__(self, original_model, num_classes):\n",
    "        super(BaseModel, self).__init__()\n",
    "        self.num_classes = num_classes\n",
    "        self.original_model = original_model\n",
    "        self.branches = nn.ModuleList([Branch(768, 128, 64, 0.1, 2) for _ in range(num_classes)])\n",
    "        self.activation = nn.Softmax(dim=1)\n",
    "\n",
    "    def forward(self, input_ids, attention_mask=None, token_type_ids=None, labels=None):\n",
    "        out_bert = self.original_model(input_ids, attention_mask=attention_mask, token_type_ids=token_type_ids)\n",
    "        pooler_out = out_bert.pooler_output\n",
    "        output_branches = [branch(pooler_out) for branch in self.branches]\n",
    "        # outputs = [self.activation(out_branch) for out_branch in output_branches]\n",
    "\n",
    "        # apply softmax function for each branch\n",
    "        out_soft = [self.activation(out) for out in output_branches]\n",
    "        out_soft_max_indices = [torch.argmax(out, dim=1) for out in out_soft]\n",
    "        out_soft_max_indices = torch.stack(out_soft_max_indices, dim=1)\n",
    "\n",
    "        return out_soft, out_soft_max_indices\n",
    "\n",
    "secBertClassifierMultilabel = BaseModel(original_model=secBertModel, num_classes=num_class)"
   ]
  },
  {
   "cell_type": "code",
   "execution_count": 25,
   "id": "7cd8c696",
   "metadata": {
    "execution": {
     "iopub.execute_input": "2023-10-19T02:38:57.782415Z",
     "iopub.status.busy": "2023-10-19T02:38:57.781661Z",
     "iopub.status.idle": "2023-10-19T02:38:57.788528Z",
     "shell.execute_reply": "2023-10-19T02:38:57.787628Z"
    },
    "papermill": {
     "duration": 0.017082,
     "end_time": "2023-10-19T02:38:57.790417",
     "exception": false,
     "start_time": "2023-10-19T02:38:57.773335",
     "status": "completed"
    },
    "tags": []
   },
   "outputs": [
    {
     "data": {
      "text/plain": [
       "BaseModel(\n",
       "  (original_model): BertModel(\n",
       "    (embeddings): BertEmbeddings(\n",
       "      (word_embeddings): Embedding(52000, 768, padding_idx=0)\n",
       "      (position_embeddings): Embedding(514, 768)\n",
       "      (token_type_embeddings): Embedding(1, 768)\n",
       "      (LayerNorm): LayerNorm((768,), eps=1e-12, elementwise_affine=True)\n",
       "      (dropout): Dropout(p=0.1, inplace=False)\n",
       "    )\n",
       "    (encoder): BertEncoder(\n",
       "      (layer): ModuleList(\n",
       "        (0-5): 6 x BertLayer(\n",
       "          (attention): BertAttention(\n",
       "            (self): BertSelfAttention(\n",
       "              (query): Linear(in_features=768, out_features=768, bias=True)\n",
       "              (key): Linear(in_features=768, out_features=768, bias=True)\n",
       "              (value): Linear(in_features=768, out_features=768, bias=True)\n",
       "              (dropout): Dropout(p=0.1, inplace=False)\n",
       "            )\n",
       "            (output): BertSelfOutput(\n",
       "              (dense): Linear(in_features=768, out_features=768, bias=True)\n",
       "              (LayerNorm): LayerNorm((768,), eps=1e-12, elementwise_affine=True)\n",
       "              (dropout): Dropout(p=0.1, inplace=False)\n",
       "            )\n",
       "          )\n",
       "          (intermediate): BertIntermediate(\n",
       "            (dense): Linear(in_features=768, out_features=3072, bias=True)\n",
       "            (intermediate_act_fn): GELUActivation()\n",
       "          )\n",
       "          (output): BertOutput(\n",
       "            (dense): Linear(in_features=3072, out_features=768, bias=True)\n",
       "            (LayerNorm): LayerNorm((768,), eps=1e-12, elementwise_affine=True)\n",
       "            (dropout): Dropout(p=0.1, inplace=False)\n",
       "          )\n",
       "        )\n",
       "      )\n",
       "    )\n",
       "    (pooler): BertPooler(\n",
       "      (dense): Linear(in_features=768, out_features=768, bias=True)\n",
       "      (activation): Tanh()\n",
       "    )\n",
       "  )\n",
       "  (branches): ModuleList(\n",
       "    (0-13): 14 x Branch(\n",
       "      (dense1): Linear(in_features=768, out_features=128, bias=True)\n",
       "      (dropout): Dropout(p=0.1, inplace=False)\n",
       "      (dense2): Linear(in_features=128, out_features=64, bias=True)\n",
       "      (dense3): Linear(in_features=64, out_features=2, bias=True)\n",
       "    )\n",
       "  )\n",
       "  (activation): Softmax(dim=1)\n",
       ")"
      ]
     },
     "execution_count": 25,
     "metadata": {},
     "output_type": "execute_result"
    }
   ],
   "source": [
    "secBertClassifierMultilabel"
   ]
  },
  {
   "cell_type": "code",
   "execution_count": 26,
   "id": "aedbb388",
   "metadata": {
    "execution": {
     "iopub.execute_input": "2023-10-19T02:38:57.807239Z",
     "iopub.status.busy": "2023-10-19T02:38:57.806942Z",
     "iopub.status.idle": "2023-10-19T02:39:05.787612Z",
     "shell.execute_reply": "2023-10-19T02:39:05.786565Z"
    },
    "papermill": {
     "duration": 7.991745,
     "end_time": "2023-10-19T02:39:05.790059",
     "exception": false,
     "start_time": "2023-10-19T02:38:57.798314",
     "status": "completed"
    },
    "tags": []
   },
   "outputs": [
    {
     "name": "stdout",
     "output_type": "stream",
     "text": [
      "tensor([[0, 0, 0, 0, 0, 0, 0, 0, 0, 0, 0, 0, 1, 0],\n",
      "        [1, 0, 0, 0, 0, 0, 0, 0, 0, 0, 0, 0, 0, 0],\n",
      "        [0, 0, 0, 0, 0, 0, 0, 1, 0, 0, 0, 0, 0, 0],\n",
      "        [0, 0, 0, 0, 0, 0, 0, 0, 0, 0, 0, 0, 1, 1],\n",
      "        [1, 0, 0, 0, 0, 0, 0, 0, 0, 0, 0, 0, 0, 0],\n",
      "        [0, 0, 0, 0, 0, 0, 0, 0, 0, 0, 0, 1, 0, 0],\n",
      "        [0, 0, 0, 0, 0, 0, 0, 0, 0, 0, 0, 1, 0, 0],\n",
      "        [0, 1, 0, 0, 0, 0, 0, 0, 0, 0, 1, 0, 0, 0],\n",
      "        [0, 0, 0, 0, 1, 0, 0, 0, 0, 0, 0, 0, 0, 0],\n",
      "        [0, 0, 0, 0, 0, 0, 0, 0, 1, 0, 0, 0, 0, 0],\n",
      "        [0, 0, 1, 0, 0, 0, 0, 0, 0, 0, 0, 0, 0, 0],\n",
      "        [0, 0, 0, 0, 1, 0, 0, 0, 0, 0, 0, 0, 0, 0],\n",
      "        [0, 0, 0, 0, 0, 0, 0, 0, 0, 0, 0, 0, 1, 0],\n",
      "        [0, 0, 0, 0, 0, 0, 0, 0, 0, 0, 0, 1, 0, 0],\n",
      "        [1, 0, 0, 0, 0, 0, 0, 0, 0, 0, 0, 0, 0, 0],\n",
      "        [0, 0, 0, 0, 0, 0, 0, 0, 0, 0, 0, 1, 0, 0],\n",
      "        [0, 0, 0, 0, 0, 0, 0, 0, 0, 0, 0, 1, 0, 0],\n",
      "        [1, 0, 0, 0, 0, 0, 0, 0, 0, 0, 0, 0, 0, 0],\n",
      "        [0, 0, 0, 0, 0, 0, 0, 0, 0, 0, 0, 1, 0, 0],\n",
      "        [0, 0, 0, 0, 0, 0, 0, 0, 0, 0, 0, 1, 0, 0],\n",
      "        [0, 0, 0, 0, 1, 0, 0, 0, 0, 0, 0, 0, 0, 0],\n",
      "        [0, 0, 0, 1, 1, 0, 0, 0, 0, 0, 0, 0, 0, 0],\n",
      "        [0, 0, 0, 0, 0, 0, 0, 0, 0, 0, 0, 1, 0, 0],\n",
      "        [0, 0, 0, 0, 1, 0, 0, 0, 0, 0, 0, 0, 0, 0],\n",
      "        [0, 0, 0, 0, 0, 0, 0, 0, 0, 0, 0, 1, 0, 0],\n",
      "        [0, 0, 0, 0, 0, 0, 0, 0, 0, 0, 0, 1, 0, 0],\n",
      "        [1, 0, 0, 0, 0, 0, 0, 0, 0, 0, 0, 0, 0, 0],\n",
      "        [0, 0, 0, 0, 1, 0, 0, 0, 0, 0, 0, 0, 0, 0],\n",
      "        [0, 0, 0, 0, 0, 0, 0, 0, 0, 0, 0, 1, 0, 0],\n",
      "        [1, 0, 0, 0, 0, 0, 0, 0, 0, 0, 0, 0, 0, 0],\n",
      "        [0, 0, 0, 0, 0, 0, 0, 0, 0, 0, 0, 1, 0, 0],\n",
      "        [0, 0, 0, 0, 0, 0, 0, 0, 0, 0, 0, 1, 0, 0]], device='cuda:0')\n",
      "--------\n",
      "tensor([[1, 0, 0, 0, 0, 0, 0, 1, 0, 0, 1, 1, 0, 1],\n",
      "        [1, 0, 0, 0, 0, 0, 0, 1, 0, 0, 1, 1, 0, 1],\n",
      "        [1, 0, 0, 0, 0, 0, 0, 1, 0, 0, 1, 1, 0, 1],\n",
      "        [1, 0, 0, 0, 0, 0, 0, 1, 1, 0, 1, 1, 0, 1],\n",
      "        [1, 0, 0, 0, 0, 0, 0, 1, 0, 0, 1, 1, 0, 1],\n",
      "        [1, 0, 1, 0, 0, 0, 0, 1, 0, 0, 1, 1, 0, 0],\n",
      "        [1, 0, 0, 0, 0, 0, 0, 1, 0, 0, 1, 1, 0, 1],\n",
      "        [1, 0, 0, 0, 0, 0, 0, 1, 0, 0, 1, 1, 0, 0],\n",
      "        [1, 0, 0, 0, 0, 0, 0, 1, 1, 0, 1, 1, 0, 0],\n",
      "        [1, 0, 1, 0, 0, 0, 0, 1, 0, 0, 1, 1, 0, 1],\n",
      "        [1, 0, 0, 0, 0, 0, 0, 1, 1, 0, 1, 1, 0, 0],\n",
      "        [1, 0, 0, 0, 0, 0, 0, 1, 0, 0, 1, 1, 0, 0],\n",
      "        [1, 0, 0, 0, 0, 0, 0, 1, 0, 0, 1, 1, 0, 1],\n",
      "        [1, 0, 1, 0, 0, 0, 0, 1, 1, 0, 1, 1, 0, 0],\n",
      "        [1, 0, 0, 0, 0, 0, 0, 1, 0, 0, 1, 1, 1, 1],\n",
      "        [1, 0, 0, 0, 0, 0, 0, 0, 0, 0, 1, 1, 0, 1],\n",
      "        [1, 0, 1, 0, 0, 0, 0, 1, 1, 0, 1, 1, 0, 0],\n",
      "        [1, 0, 1, 0, 0, 0, 0, 1, 0, 0, 1, 1, 0, 0],\n",
      "        [1, 0, 0, 0, 0, 0, 0, 1, 0, 0, 1, 1, 0, 1],\n",
      "        [1, 0, 0, 0, 0, 0, 0, 1, 1, 0, 1, 1, 1, 0],\n",
      "        [1, 0, 0, 0, 0, 0, 0, 1, 0, 0, 1, 1, 0, 1],\n",
      "        [1, 0, 1, 0, 0, 0, 0, 1, 0, 0, 1, 1, 0, 1],\n",
      "        [1, 0, 0, 0, 0, 0, 0, 1, 0, 0, 1, 1, 1, 1],\n",
      "        [1, 1, 0, 0, 0, 1, 0, 0, 1, 0, 1, 1, 1, 0],\n",
      "        [1, 0, 0, 0, 0, 0, 0, 1, 0, 0, 1, 1, 1, 0],\n",
      "        [1, 0, 1, 0, 0, 0, 0, 1, 0, 0, 1, 1, 0, 0],\n",
      "        [1, 0, 1, 0, 0, 0, 0, 1, 0, 0, 1, 1, 0, 1],\n",
      "        [1, 1, 0, 0, 0, 0, 1, 1, 1, 0, 1, 1, 0, 0],\n",
      "        [1, 0, 1, 0, 0, 0, 0, 1, 1, 0, 1, 1, 1, 1],\n",
      "        [1, 0, 0, 0, 0, 0, 0, 1, 0, 1, 1, 0, 0, 0],\n",
      "        [1, 0, 0, 0, 0, 0, 0, 1, 1, 0, 1, 1, 0, 0],\n",
      "        [1, 0, 1, 0, 0, 0, 0, 1, 0, 0, 1, 1, 0, 0]], device='cuda:0')\n"
     ]
    }
   ],
   "source": [
    "model = secBertClassifierMultilabel\n",
    "model.to(device)\n",
    "for step, batch in enumerate(train_data_loader):\n",
    "        # push the batch to gpu\n",
    "        ids = batch['input_ids'].to(device, dtype = torch.long)\n",
    "        mask = batch['attention_mask'].to(device, dtype = torch.long)\n",
    "        token_type_ids = batch['token_type_ids'].to(device, dtype = torch.long)\n",
    "        targets = batch['targets'].to(device, dtype = torch.long)\n",
    "\n",
    "        preds, max_indices = model(ids, attention_mask=mask, token_type_ids=token_type_ids)\n",
    "        print(targets)\n",
    "        print('--------')\n",
    "        print(max_indices)\n",
    "        break"
   ]
  },
  {
   "cell_type": "code",
   "execution_count": 27,
   "id": "55e67c03",
   "metadata": {
    "execution": {
     "iopub.execute_input": "2023-10-19T02:39:05.808387Z",
     "iopub.status.busy": "2023-10-19T02:39:05.807936Z",
     "iopub.status.idle": "2023-10-19T02:39:05.813875Z",
     "shell.execute_reply": "2023-10-19T02:39:05.812907Z"
    },
    "papermill": {
     "duration": 0.017117,
     "end_time": "2023-10-19T02:39:05.815796",
     "exception": false,
     "start_time": "2023-10-19T02:39:05.798679",
     "status": "completed"
    },
    "tags": []
   },
   "outputs": [],
   "source": [
    "def calculate_score(y_true, preds, score_type=''):\n",
    "    acc_score = 0.0\n",
    "    if score_type=='multioutput':\n",
    "        num_acc = 0\n",
    "        for i in range(len(y_true)):\n",
    "            if np.array_equal(y_true[i], preds[i]):\n",
    "                num_acc+=1\n",
    "        if len(y_true) != 0:\n",
    "            acc_score = num_acc / len(y_true)\n",
    "        else:\n",
    "            acc_score = 0\n",
    "    else:\n",
    "        acc_score = accuracy_score(y_true, preds)\n",
    "\n",
    "    return acc_score"
   ]
  },
  {
   "cell_type": "code",
   "execution_count": 28,
   "id": "5ecee299",
   "metadata": {
    "execution": {
     "iopub.execute_input": "2023-10-19T02:39:05.834747Z",
     "iopub.status.busy": "2023-10-19T02:39:05.834470Z",
     "iopub.status.idle": "2023-10-19T02:39:05.842945Z",
     "shell.execute_reply": "2023-10-19T02:39:05.842097Z"
    },
    "papermill": {
     "duration": 0.019203,
     "end_time": "2023-10-19T02:39:05.844693",
     "exception": false,
     "start_time": "2023-10-19T02:39:05.825490",
     "status": "completed"
    },
    "tags": []
   },
   "outputs": [],
   "source": [
    "def train_steps(training_loader, model, loss_f, optimizer, score_type=''):\n",
    "    print('Training...')\n",
    "    training_loss = 0\n",
    "    n_correct = 0\n",
    "    nb_tr_steps = 0\n",
    "    nb_tr_examples = 0\n",
    "    train_acc = 0.\n",
    "    train_f1 = 0.\n",
    "    misclassify_train_data = {}\n",
    "\n",
    "    model.train()\n",
    "\n",
    "    for step, batch in enumerate(training_loader):\n",
    "        # push the batch to gpu\n",
    "        ids = batch['input_ids'].to(device, dtype = torch.long)\n",
    "        mask = batch['attention_mask'].to(device, dtype = torch.long)\n",
    "        token_type_ids = batch['token_type_ids'].to(device, dtype = torch.long)\n",
    "        targets = batch['targets'].to(device, dtype = torch.long)\n",
    "\n",
    "        preds, max_indices = model(ids, attention_mask=mask, token_type_ids=token_type_ids)\n",
    "\n",
    "        # calculate the loss for each branch\n",
    "        losses = [loss_f(preds[i], targets[:, i]) for i in range(targets.shape[1])]\n",
    "        average_loss = sum(losses) / targets.shape[1]\n",
    "        training_loss += average_loss.item()\n",
    "\n",
    "        label_ids = targets.to('cpu').numpy()\n",
    "        max_indices = max_indices.detach().cpu().numpy()\n",
    "        acc_score = calculate_score(label_ids, max_indices, score_type)\n",
    "        train_acc += acc_score\n",
    "\n",
    "#         if is_find_miss:\n",
    "#             misclassify_data = get_misclassified_data(label_ids, max_indices, indices)\n",
    "#             misclassify_train_data.update(misclassify_data)\n",
    "\n",
    "        nb_tr_steps += 1\n",
    "\n",
    "        optimizer.zero_grad()\n",
    "        average_loss.backward()\n",
    "        torch.nn.utils.clip_grad_norm_(model.parameters(), 1.0)\n",
    "        # When using GPU\n",
    "        optimizer.step()\n",
    "\n",
    "    epoch_loss = training_loss / nb_tr_steps\n",
    "    epoch_acc = train_acc / nb_tr_steps\n",
    "\n",
    "    return epoch_loss, epoch_acc, misclassify_train_data"
   ]
  },
  {
   "cell_type": "code",
   "execution_count": 29,
   "id": "907bcaec",
   "metadata": {
    "execution": {
     "iopub.execute_input": "2023-10-19T02:39:05.861567Z",
     "iopub.status.busy": "2023-10-19T02:39:05.861282Z",
     "iopub.status.idle": "2023-10-19T02:39:05.869052Z",
     "shell.execute_reply": "2023-10-19T02:39:05.868263Z"
    },
    "papermill": {
     "duration": 0.018417,
     "end_time": "2023-10-19T02:39:05.870977",
     "exception": false,
     "start_time": "2023-10-19T02:39:05.852560",
     "status": "completed"
    },
    "tags": []
   },
   "outputs": [],
   "source": [
    "def evaluate_steps(validating_loader, model, loss_f, score_type='', **kwargs):\n",
    "    print(\"\\nEvaluating...\")\n",
    "\n",
    "    # deactivate dropout layers\n",
    "    model.eval()\n",
    "\n",
    "    total_loss, total_accuracy = 0, 0\n",
    "\n",
    "    # empty list to save the model predictions\n",
    "    total_preds = []\n",
    "    total_labels = []\n",
    "    # iterate over batches\n",
    "    for step, batch in enumerate(validating_loader):\n",
    "        # push the batch to gpu\n",
    "        ids = batch['input_ids'].to(device, dtype = torch.long)\n",
    "        mask = batch['attention_mask'].to(device, dtype = torch.long)\n",
    "        token_type_ids = batch['token_type_ids'].to(device, dtype = torch.long)\n",
    "        targets = batch['targets'].to(device, dtype = torch.long)\n",
    "\n",
    "        # deactivate autograd\n",
    "        with torch.no_grad():\n",
    "            # model predictions\n",
    "            preds, max_indices = model(ids, attention_mask=mask, token_type_ids=token_type_ids)\n",
    "\n",
    "            # compute the validation loss between actual and predicted values\n",
    "            losses = [loss_f(preds[i], targets[:, i]) for i in range(targets.shape[1])]\n",
    "            average_loss = sum(losses) / targets.shape[1]\n",
    "            total_loss += average_loss.item()\n",
    "\n",
    "            max_indices = max_indices.detach().cpu().numpy()\n",
    "            total_preds += list(max_indices)\n",
    "            total_labels += targets.tolist()\n",
    "    # compute the validation loss of the epoch\n",
    "    if len(validating_loader) != 0:\n",
    "        avg_loss = total_loss / len(validating_loader)\n",
    "    else:\n",
    "        avg_loss = 0\n",
    "    acc_score = calculate_score(total_labels, total_preds, score_type)\n",
    "\n",
    "    return avg_loss, acc_score"
   ]
  },
  {
   "cell_type": "code",
   "execution_count": 30,
   "id": "76accdd3",
   "metadata": {
    "execution": {
     "iopub.execute_input": "2023-10-19T02:39:05.888159Z",
     "iopub.status.busy": "2023-10-19T02:39:05.887886Z",
     "iopub.status.idle": "2023-10-19T02:39:05.895104Z",
     "shell.execute_reply": "2023-10-19T02:39:05.894234Z"
    },
    "papermill": {
     "duration": 0.017649,
     "end_time": "2023-10-19T02:39:05.896934",
     "exception": false,
     "start_time": "2023-10-19T02:39:05.879285",
     "status": "completed"
    },
    "tags": []
   },
   "outputs": [],
   "source": [
    "def train(epochs, model, optimizer, criterion, dataloader, score_type='multioutput', save_dir='/kaggle/working/', is_find_miss=True):\n",
    "    data_train_loader, data_val_loader = dataloader\n",
    "    # set initial loss to infinite\n",
    "    best_valid_loss = float('inf')\n",
    "    train_losses = []\n",
    "    valid_losses = []\n",
    "    train_accuracies = []\n",
    "    valid_accuracies = []\n",
    "    misclassify_train_data = {}\n",
    "\n",
    "    for epoch in range(epochs):\n",
    "        print('Epoch {}/{} '.format(epoch + 1, epochs))\n",
    "        start_time = time.time()\n",
    "        train_loss, train_acc, misclassify_train_steps_data = train_steps(data_train_loader, model, criterion, optimizer, score_type=score_type)\n",
    "        valid_loss, valid_acc = evaluate_steps(data_val_loader, model, criterion, score_type=score_type)\n",
    "\n",
    "    # save the best model\n",
    "        if valid_loss < best_valid_loss:\n",
    "            best_valid_loss = valid_loss\n",
    "#             torch.save(model.state_dict(), save_dir)\n",
    "        # append training and validation loss\n",
    "        train_losses.append(train_loss)\n",
    "        valid_losses.append(valid_loss)\n",
    "        train_accuracies.append(train_acc)\n",
    "        valid_accuracies.append(valid_acc)\n",
    "        misclassify_train_data.update(misclassify_train_steps_data)\n",
    "\n",
    "        elapsed_time = time.time() - start_time\n",
    "\n",
    "        print('\\t loss={:.4f} \\t accuracy={:.4f} \\t val_loss={:.4f}  \\t val_acc={:.4f}  \\t time={:.2f}s'.format(train_loss, train_acc, valid_loss, valid_acc, elapsed_time))\n",
    "\n",
    "    return train_accuracies, valid_accuracies, train_losses, valid_losses, misclassify_train_data"
   ]
  },
  {
   "cell_type": "markdown",
   "id": "c7253626",
   "metadata": {
    "papermill": {
     "duration": 0.007816,
     "end_time": "2023-10-19T02:39:05.912572",
     "exception": false,
     "start_time": "2023-10-19T02:39:05.904756",
     "status": "completed"
    },
    "tags": []
   },
   "source": [
    "**Train SecBert-Escort model**"
   ]
  },
  {
   "cell_type": "code",
   "execution_count": 31,
   "id": "5928f835",
   "metadata": {
    "execution": {
     "iopub.execute_input": "2023-10-19T02:39:05.929032Z",
     "iopub.status.busy": "2023-10-19T02:39:05.928767Z",
     "iopub.status.idle": "2023-10-19T02:39:05.932620Z",
     "shell.execute_reply": "2023-10-19T02:39:05.931804Z"
    },
    "papermill": {
     "duration": 0.014219,
     "end_time": "2023-10-19T02:39:05.934593",
     "exception": false,
     "start_time": "2023-10-19T02:39:05.920374",
     "status": "completed"
    },
    "tags": []
   },
   "outputs": [],
   "source": [
    "import time\n",
    "import matplotlib.pyplot as plt"
   ]
  },
  {
   "cell_type": "code",
   "execution_count": 32,
   "id": "81aa7a28",
   "metadata": {
    "execution": {
     "iopub.execute_input": "2023-10-19T02:39:05.950810Z",
     "iopub.status.busy": "2023-10-19T02:39:05.950565Z",
     "iopub.status.idle": "2023-10-19T02:39:05.955734Z",
     "shell.execute_reply": "2023-10-19T02:39:05.954855Z"
    },
    "papermill": {
     "duration": 0.015671,
     "end_time": "2023-10-19T02:39:05.957691",
     "exception": false,
     "start_time": "2023-10-19T02:39:05.942020",
     "status": "completed"
    },
    "tags": []
   },
   "outputs": [],
   "source": [
    "def plot_graph(epochs, train, valid, tittle):\n",
    "    fig = plt.figure(figsize=(12,12))\n",
    "    plt.title(tittle)\n",
    "    plt.plot(list(np.arange(epochs) + 1) , train, label='train')\n",
    "    plt.plot(list(np.arange(epochs) + 1), valid, label='validation')\n",
    "    plt.xlabel('num_epochs', fontsize=12)\n",
    "    plt.ylabel('loss', fontsize=12)\n",
    "    plt.legend(loc='best')"
   ]
  },
  {
   "cell_type": "code",
   "execution_count": 33,
   "id": "a180c64a",
   "metadata": {
    "execution": {
     "iopub.execute_input": "2023-10-19T02:39:05.974692Z",
     "iopub.status.busy": "2023-10-19T02:39:05.974468Z",
     "iopub.status.idle": "2023-10-19T07:58:00.363311Z",
     "shell.execute_reply": "2023-10-19T07:58:00.362332Z"
    },
    "papermill": {
     "duration": 19134.399625,
     "end_time": "2023-10-19T07:58:00.365271",
     "exception": false,
     "start_time": "2023-10-19T02:39:05.965646",
     "status": "completed"
    },
    "tags": []
   },
   "outputs": [
    {
     "name": "stdout",
     "output_type": "stream",
     "text": [
      "Epoch 1/10 \n",
      "Training...\n",
      "\n",
      "Evaluating...\n",
      "\t loss=0.3732 \t accuracy=0.3156 \t val_loss=0.3945  \t val_acc=0.0000  \t time=1906.63s\n",
      "Epoch 2/10 \n",
      "Training...\n",
      "\n",
      "Evaluating...\n",
      "\t loss=0.3511 \t accuracy=0.5486 \t val_loss=0.3947  \t val_acc=0.0000  \t time=1916.09s\n",
      "Epoch 3/10 \n",
      "Training...\n",
      "\n",
      "Evaluating...\n",
      "\t loss=0.3481 \t accuracy=0.5865 \t val_loss=0.3946  \t val_acc=0.0000  \t time=1915.24s\n",
      "Epoch 4/10 \n",
      "Training...\n",
      "\n",
      "Evaluating...\n",
      "\t loss=0.3479 \t accuracy=0.5870 \t val_loss=0.3945  \t val_acc=0.0000  \t time=1914.78s\n",
      "Epoch 5/10 \n",
      "Training...\n",
      "\n",
      "Evaluating...\n",
      "\t loss=0.3478 \t accuracy=0.5876 \t val_loss=0.3946  \t val_acc=0.0000  \t time=1914.82s\n",
      "Epoch 6/10 \n",
      "Training...\n",
      "\n",
      "Evaluating...\n",
      "\t loss=0.3478 \t accuracy=0.5880 \t val_loss=0.3945  \t val_acc=0.0000  \t time=1914.14s\n",
      "Epoch 7/10 \n",
      "Training...\n",
      "\n",
      "Evaluating...\n",
      "\t loss=0.3478 \t accuracy=0.5886 \t val_loss=0.3947  \t val_acc=0.0000  \t time=1913.37s\n",
      "Epoch 8/10 \n",
      "Training...\n",
      "\n",
      "Evaluating...\n",
      "\t loss=0.3477 \t accuracy=0.5886 \t val_loss=0.3947  \t val_acc=0.0000  \t time=1912.47s\n",
      "Epoch 9/10 \n",
      "Training...\n",
      "\n",
      "Evaluating...\n",
      "\t loss=0.3477 \t accuracy=0.5889 \t val_loss=0.3945  \t val_acc=0.0000  \t time=1912.67s\n",
      "Epoch 10/10 \n",
      "Training...\n",
      "\n",
      "Evaluating...\n",
      "\t loss=0.3477 \t accuracy=0.5881 \t val_loss=0.3948  \t val_acc=0.0000  \t time=1913.44s\n"
     ]
    },
    {
     "data": {
      "text/plain": [
       "'\\nEvaluate model on test set and save the result\\n'"
      ]
     },
     "execution_count": 33,
     "metadata": {},
     "output_type": "execute_result"
    },
    {
     "data": {
      "image/png": "[encoded data removed]",
      "text/plain": [
       "<Figure size 1200x1200 with 1 Axes>"
      ]
     },
     "metadata": {},
     "output_type": "display_data"
    },
    {
     "data": {
      "image/png": "[encoded data removed]",
      "text/plain": [
       "<Figure size 1200x1200 with 1 Axes>"
      ]
     },
     "metadata": {},
     "output_type": "display_data"
    }
   ],
   "source": [
    "secBertClassifierMultilabel.to(device)\n",
    "\n",
    "# Creating the loss function and optimizer\n",
    "criterion = nn.CrossEntropyLoss()\n",
    "optimizer = torch.optim.Adam(params = secBertClassifierMultilabel.parameters(), lr=LEARNING_RATE)\n",
    "\n",
    "train_accuracies, valid_accuracies, train_losses, valid_losses, misclassify_train_data = train(EPOCHS, secBertClassifierMultilabel, optimizer, criterion, (train_data_loader, val_data_loader))\n",
    "# df = pd.DataFrame.from_dict(misclassify_train_data, orient='index', columns=labels)\n",
    "# df.index.name = 'X_train_index'\n",
    "# df.to_csv(data_folder+'misclassified-data.csv')\n",
    "\n",
    "\"\"\"\n",
    "Plot the result of training process\n",
    "\"\"\"\n",
    "plot_graph(EPOCHS, train_losses, valid_losses, \"Train/Validation Loss\")\n",
    "plot_graph(EPOCHS, train_accuracies, valid_accuracies, \"Train/Validation Accuracy\")\n",
    "\n",
    "\"\"\"\n",
    "Evaluate model on test set and save the result\n",
    "\"\"\"\n",
    "# total_labels, total_preds = predict(testing_loader, secBertClassifierMultilabel)\n",
    "# df_labels = pd.DataFrame(total_labels, columns=labels)\n",
    "# df_preds = pd.DataFrame(total_preds, columns=labels)\n",
    "\n",
    "# df_labels.to_csv(data_folder+'labels-test-secbert-escort.csv')\n",
    "# df_preds.to_csv(data_folder+'preds-secbert-escort.csv')\n",
    "\n",
    "# save_classification(y_test=np.array(total_labels), y_pred=np.array(total_preds), labels=labels, out_dir='escort-secbert.csv')"
   ]
  },
  {
   "cell_type": "code",
   "execution_count": 34,
   "id": "5d06b1d7",
   "metadata": {
    "execution": {
     "iopub.execute_input": "2023-10-19T07:58:00.386674Z",
     "iopub.status.busy": "2023-10-19T07:58:00.386431Z",
     "iopub.status.idle": "2023-10-19T07:58:00.390314Z",
     "shell.execute_reply": "2023-10-19T07:58:00.389499Z"
    },
    "papermill": {
     "duration": 0.016541,
     "end_time": "2023-10-19T07:58:00.392230",
     "exception": false,
     "start_time": "2023-10-19T07:58:00.375689",
     "status": "completed"
    },
    "tags": []
   },
   "outputs": [],
   "source": [
    "from sklearn.metrics import hamming_loss"
   ]
  },
  {
   "cell_type": "code",
   "execution_count": 35,
   "id": "03070551",
   "metadata": {
    "execution": {
     "iopub.execute_input": "2023-10-19T07:58:00.412762Z",
     "iopub.status.busy": "2023-10-19T07:58:00.412502Z",
     "iopub.status.idle": "2023-10-19T07:58:00.419622Z",
     "shell.execute_reply": "2023-10-19T07:58:00.418798Z"
    },
    "papermill": {
     "duration": 0.019636,
     "end_time": "2023-10-19T07:58:00.421469",
     "exception": false,
     "start_time": "2023-10-19T07:58:00.401833",
     "status": "completed"
    },
    "tags": []
   },
   "outputs": [],
   "source": [
    "def save_classification(y_test, y_pred, labels):\n",
    "    if isinstance(y_pred, np.ndarray) == False:\n",
    "        y_pred = y_pred.toarray()\n",
    "\n",
    "    def accuracy(y_true, y_pred):\n",
    "        temp = 0\n",
    "        for i in range(y_true.shape[0]):\n",
    "            numerator = sum(np.logical_and(y_true[i], y_pred[i]))\n",
    "            denominator = sum(np.logical_or(y_true[i], y_pred[i]))\n",
    "            if denominator != 0:\n",
    "                temp += numerator / denominator\n",
    "        return temp / y_true.shape[0]\n",
    "\n",
    "    out = classification_report(y_test,y_pred, output_dict=True, target_names=labels)\n",
    "    total_support = out['samples avg']['support']\n",
    "\n",
    "    mr = accuracy_score(y_test, y_pred)\n",
    "    acc = accuracy(y_test,y_pred)\n",
    "    hm = hamming_loss(y_test, y_pred)\n",
    "\n",
    "    out['Exact Match Ratio'] = {'precision': mr, 'recall': mr, 'f1-score': mr, 'support': total_support}\n",
    "    out['Hamming Loss'] = {'precision': hm, 'recall': hm, 'f1-score': hm, 'support': total_support}\n",
    "    out['Accuracy'] = {'precision': acc, 'recall': acc, 'f1-score': acc, 'support': total_support}\n",
    "    out_df = pd.DataFrame(out).transpose()\n",
    "    print(out_df)\n",
    "\n",
    "    \n",
    "\n",
    "    return out_df"
   ]
  },
  {
   "cell_type": "code",
   "execution_count": null,
   "id": "c10230a0",
   "metadata": {
    "papermill": {
     "duration": 0.011117,
     "end_time": "2023-10-19T07:58:00.442435",
     "exception": false,
     "start_time": "2023-10-19T07:58:00.431318",
     "status": "completed"
    },
    "tags": []
   },
   "outputs": [],
   "source": []
  },
  {
   "cell_type": "code",
   "execution_count": 36,
   "id": "74bcdade",
   "metadata": {
    "execution": {
     "iopub.execute_input": "2023-10-19T07:58:00.463774Z",
     "iopub.status.busy": "2023-10-19T07:58:00.463339Z",
     "iopub.status.idle": "2023-10-19T07:58:00.468933Z",
     "shell.execute_reply": "2023-10-19T07:58:00.468229Z"
    },
    "papermill": {
     "duration": 0.018156,
     "end_time": "2023-10-19T07:58:00.470614",
     "exception": false,
     "start_time": "2023-10-19T07:58:00.452458",
     "status": "completed"
    },
    "tags": []
   },
   "outputs": [],
   "source": [
    "def predict(testing_loader, model):\n",
    "    print(\"\\nPredicting...\")\n",
    "    # deactivate dropout layers\n",
    "    model.eval()\n",
    "\n",
    "    # empty list to save the model predictions\n",
    "    total_preds = []\n",
    "    total_labels = []\n",
    "    # iterate over batches\n",
    "    for step, batch in enumerate(testing_loader):\n",
    "        # push the batch to gpu\n",
    "        ids = batch['input_ids'].to(device)\n",
    "        mask = batch['attention_mask'].to(device)\n",
    "        token_type_ids = batch['token_type_ids'].to(device)\n",
    "        targets = batch['targets'].to(device)\n",
    "\n",
    "        # deactivate autograd\n",
    "        with torch.no_grad():\n",
    "            # model predictions\n",
    "            preds, max_indices = model(ids, attention_mask=mask, token_type_ids=token_type_ids)\n",
    "\n",
    "            max_indices = max_indices.detach().cpu().numpy()\n",
    "            total_preds += list(max_indices)\n",
    "            total_labels += targets.tolist()\n",
    "\n",
    "    return total_labels, total_preds"
   ]
  },
  {
   "cell_type": "code",
   "execution_count": 37,
   "id": "a44fe456",
   "metadata": {
    "execution": {
     "iopub.execute_input": "2023-10-19T07:58:00.491880Z",
     "iopub.status.busy": "2023-10-19T07:58:00.491064Z",
     "iopub.status.idle": "2023-10-19T08:12:30.559406Z",
     "shell.execute_reply": "2023-10-19T08:12:30.558253Z"
    },
    "papermill": {
     "duration": 870.081042,
     "end_time": "2023-10-19T08:12:30.561471",
     "exception": false,
     "start_time": "2023-10-19T07:58:00.480429",
     "status": "completed"
    },
    "tags": []
   },
   "outputs": [
    {
     "name": "stdout",
     "output_type": "stream",
     "text": [
      "\n",
      "Predicting...\n"
     ]
    },
    {
     "name": "stderr",
     "output_type": "stream",
     "text": [
      "/opt/conda/lib/python3.10/site-packages/sklearn/metrics/_classification.py:1344: UndefinedMetricWarning: Precision and F-score are ill-defined and being set to 0.0 in labels with no predicted samples. Use `zero_division` parameter to control this behavior.\n",
      "  _warn_prf(average, modifier, msg_start, len(result))\n",
      "/opt/conda/lib/python3.10/site-packages/sklearn/metrics/_classification.py:1344: UndefinedMetricWarning: Recall and F-score are ill-defined and being set to 0.0 in labels with no true samples. Use `zero_division` parameter to control this behavior.\n",
      "  _warn_prf(average, modifier, msg_start, len(result))\n",
      "/opt/conda/lib/python3.10/site-packages/sklearn/metrics/_classification.py:1344: UndefinedMetricWarning: Precision and F-score are ill-defined and being set to 0.0 in samples with no predicted labels. Use `zero_division` parameter to control this behavior.\n",
      "  _warn_prf(average, modifier, msg_start, len(result))\n"
     ]
    },
    {
     "name": "stdout",
     "output_type": "stream",
     "text": [
      "                                        precision    recall  f1-score  \\\n",
      "000 - Normal                             0.932923  0.970543  0.951362   \n",
      "272 - Protocol Manipulation              0.000000  0.000000  0.000000   \n",
      "242 - Code Injection                     0.000000  0.000000  0.000000   \n",
      "88 - OS Command Injection                0.000000  0.000000  0.000000   \n",
      "126 - Path Traversal                     0.987846  0.848700  0.913002   \n",
      "66 - SQL Injection                       0.000000  0.000000  0.000000   \n",
      "16 - Dictionary-based Password Attack    0.000000  0.000000  0.000000   \n",
      "310 - Scanning for Vulnerable Software   0.000000  0.000000  0.000000   \n",
      "153 - Input Data Manipulation            0.000000  0.000000  0.000000   \n",
      "248 - Command Injection                  0.000000  0.000000  0.000000   \n",
      "274 - HTTP Verb Tampering                0.000000  0.000000  0.000000   \n",
      "194 - Fake the Source of Data            0.999475  0.917304  0.956628   \n",
      "34 - HTTP Response Splitting             0.000000  0.000000  0.000000   \n",
      "33 - HTTP Request Smuggling              0.000000  0.000000  0.000000   \n",
      "micro avg                                0.976325  0.558342  0.710413   \n",
      "macro avg                                0.208589  0.195468  0.201499   \n",
      "weighted avg                             0.594590  0.558342  0.575201   \n",
      "samples avg                              0.590533  0.589772  0.590015   \n",
      "Exact Match Ratio                        0.589043  0.589043  0.589043   \n",
      "Hamming Loss                             0.034389  0.034389  0.034389   \n",
      "Accuracy                                 0.589766  0.589766  0.589766   \n",
      "\n",
      "                                         support  \n",
      "000 - Normal                             19690.0  \n",
      "272 - Protocol Manipulation               1914.0  \n",
      "242 - Code Injection                     12585.0  \n",
      "88 - OS Command Injection                 1856.0  \n",
      "126 - Path Traversal                     14078.0  \n",
      "66 - SQL Injection                        1726.0  \n",
      "16 - Dictionary-based Password Attack     1472.0  \n",
      "310 - Scanning for Vulnerable Software    2157.0  \n",
      "153 - Input Data Manipulation             1821.0  \n",
      "248 - Command Injection                      0.0  \n",
      "274 - HTTP Verb Tampering                 4403.0  \n",
      "194 - Fake the Source of Data            35286.0  \n",
      "34 - HTTP Response Splitting             15756.0  \n",
      "33 - HTTP Request Smuggling                853.0  \n",
      "micro avg                               113597.0  \n",
      "macro avg                               113597.0  \n",
      "weighted avg                            113597.0  \n",
      "samples avg                             113597.0  \n",
      "Exact Match Ratio                       113597.0  \n",
      "Hamming Loss                            113597.0  \n",
      "Accuracy                                113597.0  \n"
     ]
    },
    {
     "data": {
      "text/html": [
       "<div>\n",
       "<style scoped>\n",
       "    .dataframe tbody tr th:only-of-type {\n",
       "        vertical-align: middle;\n",
       "    }\n",
       "\n",
       "    .dataframe tbody tr th {\n",
       "        vertical-align: top;\n",
       "    }\n",
       "\n",
       "    .dataframe thead th {\n",
       "        text-align: right;\n",
       "    }\n",
       "</style>\n",
       "<table border=\"1\" class=\"dataframe\">\n",
       "  <thead>\n",
       "    <tr style=\"text-align: right;\">\n",
       "      <th></th>\n",
       "      <th>precision</th>\n",
       "      <th>recall</th>\n",
       "      <th>f1-score</th>\n",
       "      <th>support</th>\n",
       "    </tr>\n",
       "  </thead>\n",
       "  <tbody>\n",
       "    <tr>\n",
       "      <th>000 - Normal</th>\n",
       "      <td>0.932923</td>\n",
       "      <td>0.970543</td>\n",
       "      <td>0.951362</td>\n",
       "      <td>19690.0</td>\n",
       "    </tr>\n",
       "    <tr>\n",
       "      <th>272 - Protocol Manipulation</th>\n",
       "      <td>0.000000</td>\n",
       "      <td>0.000000</td>\n",
       "      <td>0.000000</td>\n",
       "      <td>1914.0</td>\n",
       "    </tr>\n",
       "    <tr>\n",
       "      <th>242 - Code Injection</th>\n",
       "      <td>0.000000</td>\n",
       "      <td>0.000000</td>\n",
       "      <td>0.000000</td>\n",
       "      <td>12585.0</td>\n",
       "    </tr>\n",
       "    <tr>\n",
       "      <th>88 - OS Command Injection</th>\n",
       "      <td>0.000000</td>\n",
       "      <td>0.000000</td>\n",
       "      <td>0.000000</td>\n",
       "      <td>1856.0</td>\n",
       "    </tr>\n",
       "    <tr>\n",
       "      <th>126 - Path Traversal</th>\n",
       "      <td>0.987846</td>\n",
       "      <td>0.848700</td>\n",
       "      <td>0.913002</td>\n",
       "      <td>14078.0</td>\n",
       "    </tr>\n",
       "    <tr>\n",
       "      <th>66 - SQL Injection</th>\n",
       "      <td>0.000000</td>\n",
       "      <td>0.000000</td>\n",
       "      <td>0.000000</td>\n",
       "      <td>1726.0</td>\n",
       "    </tr>\n",
       "    <tr>\n",
       "      <th>16 - Dictionary-based Password Attack</th>\n",
       "      <td>0.000000</td>\n",
       "      <td>0.000000</td>\n",
       "      <td>0.000000</td>\n",
       "      <td>1472.0</td>\n",
       "    </tr>\n",
       "    <tr>\n",
       "      <th>310 - Scanning for Vulnerable Software</th>\n",
       "      <td>0.000000</td>\n",
       "      <td>0.000000</td>\n",
       "      <td>0.000000</td>\n",
       "      <td>2157.0</td>\n",
       "    </tr>\n",
       "    <tr>\n",
       "      <th>153 - Input Data Manipulation</th>\n",
       "      <td>0.000000</td>\n",
       "      <td>0.000000</td>\n",
       "      <td>0.000000</td>\n",
       "      <td>1821.0</td>\n",
       "    </tr>\n",
       "    <tr>\n",
       "      <th>248 - Command Injection</th>\n",
       "      <td>0.000000</td>\n",
       "      <td>0.000000</td>\n",
       "      <td>0.000000</td>\n",
       "      <td>0.0</td>\n",
       "    </tr>\n",
       "    <tr>\n",
       "      <th>274 - HTTP Verb Tampering</th>\n",
       "      <td>0.000000</td>\n",
       "      <td>0.000000</td>\n",
       "      <td>0.000000</td>\n",
       "      <td>4403.0</td>\n",
       "    </tr>\n",
       "    <tr>\n",
       "      <th>194 - Fake the Source of Data</th>\n",
       "      <td>0.999475</td>\n",
       "      <td>0.917304</td>\n",
       "      <td>0.956628</td>\n",
       "      <td>35286.0</td>\n",
       "    </tr>\n",
       "    <tr>\n",
       "      <th>34 - HTTP Response Splitting</th>\n",
       "      <td>0.000000</td>\n",
       "      <td>0.000000</td>\n",
       "      <td>0.000000</td>\n",
       "      <td>15756.0</td>\n",
       "    </tr>\n",
       "    <tr>\n",
       "      <th>33 - HTTP Request Smuggling</th>\n",
       "      <td>0.000000</td>\n",
       "      <td>0.000000</td>\n",
       "      <td>0.000000</td>\n",
       "      <td>853.0</td>\n",
       "    </tr>\n",
       "    <tr>\n",
       "      <th>micro avg</th>\n",
       "      <td>0.976325</td>\n",
       "      <td>0.558342</td>\n",
       "      <td>0.710413</td>\n",
       "      <td>113597.0</td>\n",
       "    </tr>\n",
       "    <tr>\n",
       "      <th>macro avg</th>\n",
       "      <td>0.208589</td>\n",
       "      <td>0.195468</td>\n",
       "      <td>0.201499</td>\n",
       "      <td>113597.0</td>\n",
       "    </tr>\n",
       "    <tr>\n",
       "      <th>weighted avg</th>\n",
       "      <td>0.594590</td>\n",
       "      <td>0.558342</td>\n",
       "      <td>0.575201</td>\n",
       "      <td>113597.0</td>\n",
       "    </tr>\n",
       "    <tr>\n",
       "      <th>samples avg</th>\n",
       "      <td>0.590533</td>\n",
       "      <td>0.589772</td>\n",
       "      <td>0.590015</td>\n",
       "      <td>113597.0</td>\n",
       "    </tr>\n",
       "    <tr>\n",
       "      <th>Exact Match Ratio</th>\n",
       "      <td>0.589043</td>\n",
       "      <td>0.589043</td>\n",
       "      <td>0.589043</td>\n",
       "      <td>113597.0</td>\n",
       "    </tr>\n",
       "    <tr>\n",
       "      <th>Hamming Loss</th>\n",
       "      <td>0.034389</td>\n",
       "      <td>0.034389</td>\n",
       "      <td>0.034389</td>\n",
       "      <td>113597.0</td>\n",
       "    </tr>\n",
       "    <tr>\n",
       "      <th>Accuracy</th>\n",
       "      <td>0.589766</td>\n",
       "      <td>0.589766</td>\n",
       "      <td>0.589766</td>\n",
       "      <td>113597.0</td>\n",
       "    </tr>\n",
       "  </tbody>\n",
       "</table>\n",
       "</div>"
      ],
      "text/plain": [
       "                                        precision    recall  f1-score  \\\n",
       "000 - Normal                             0.932923  0.970543  0.951362   \n",
       "272 - Protocol Manipulation              0.000000  0.000000  0.000000   \n",
       "242 - Code Injection                     0.000000  0.000000  0.000000   \n",
       "88 - OS Command Injection                0.000000  0.000000  0.000000   \n",
       "126 - Path Traversal                     0.987846  0.848700  0.913002   \n",
       "66 - SQL Injection                       0.000000  0.000000  0.000000   \n",
       "16 - Dictionary-based Password Attack    0.000000  0.000000  0.000000   \n",
       "310 - Scanning for Vulnerable Software   0.000000  0.000000  0.000000   \n",
       "153 - Input Data Manipulation            0.000000  0.000000  0.000000   \n",
       "248 - Command Injection                  0.000000  0.000000  0.000000   \n",
       "274 - HTTP Verb Tampering                0.000000  0.000000  0.000000   \n",
       "194 - Fake the Source of Data            0.999475  0.917304  0.956628   \n",
       "34 - HTTP Response Splitting             0.000000  0.000000  0.000000   \n",
       "33 - HTTP Request Smuggling              0.000000  0.000000  0.000000   \n",
       "micro avg                                0.976325  0.558342  0.710413   \n",
       "macro avg                                0.208589  0.195468  0.201499   \n",
       "weighted avg                             0.594590  0.558342  0.575201   \n",
       "samples avg                              0.590533  0.589772  0.590015   \n",
       "Exact Match Ratio                        0.589043  0.589043  0.589043   \n",
       "Hamming Loss                             0.034389  0.034389  0.034389   \n",
       "Accuracy                                 0.589766  0.589766  0.589766   \n",
       "\n",
       "                                         support  \n",
       "000 - Normal                             19690.0  \n",
       "272 - Protocol Manipulation               1914.0  \n",
       "242 - Code Injection                     12585.0  \n",
       "88 - OS Command Injection                 1856.0  \n",
       "126 - Path Traversal                     14078.0  \n",
       "66 - SQL Injection                        1726.0  \n",
       "16 - Dictionary-based Password Attack     1472.0  \n",
       "310 - Scanning for Vulnerable Software    2157.0  \n",
       "153 - Input Data Manipulation             1821.0  \n",
       "248 - Command Injection                      0.0  \n",
       "274 - HTTP Verb Tampering                 4403.0  \n",
       "194 - Fake the Source of Data            35286.0  \n",
       "34 - HTTP Response Splitting             15756.0  \n",
       "33 - HTTP Request Smuggling                853.0  \n",
       "micro avg                               113597.0  \n",
       "macro avg                               113597.0  \n",
       "weighted avg                            113597.0  \n",
       "samples avg                             113597.0  \n",
       "Exact Match Ratio                       113597.0  \n",
       "Hamming Loss                            113597.0  \n",
       "Accuracy                                113597.0  "
      ]
     },
     "execution_count": 37,
     "metadata": {},
     "output_type": "execute_result"
    }
   ],
   "source": [
    "total_labels, total_preds = predict(train_data_loader, secBertClassifierMultilabel)\n",
    "save_classification(y_test=np.array(total_labels), y_pred=np.array(total_preds), labels=target_list)"
   ]
  }
 ],
 "metadata": {
  "kernelspec": {
   "display_name": "Python 3",
   "language": "python",
   "name": "python3"
  },
  "language_info": {
   "codemirror_mode": {
    "name": "ipython",
    "version": 3
   },
   "file_extension": ".py",
   "mimetype": "text/x-python",
   "name": "python",
   "nbconvert_exporter": "python",
   "pygments_lexer": "ipython3",
   "version": "3.10.12"
  },
  "papermill": {
   "default_parameters": {},
   "duration": 20056.439333,
   "end_time": "2023-10-19T08:12:34.219876",
   "environment_variables": {},
   "exception": null,
   "input_path": "__notebook__.ipynb",
   "output_path": "__notebook__.ipynb",
   "parameters": {},
   "start_time": "2023-10-19T02:38:17.780543",
   "version": "2.4.0"
  },
  "widgets": {
   "application/vnd.jupyter.widget-state+json": {
    "state": {
     "06ebfccedbdc4af68573b9492b1e31b5": {
      "model_module": "@jupyter-widgets/base",
      "model_module_version": "1.2.0",
      "model_name": "LayoutModel",
      "state": {
       "_model_module": "@jupyter-widgets/base",
       "_model_module_version": "1.2.0",
       "_model_name": "LayoutModel",
       "_view_count": null,
       "_view_module": "@jupyter-widgets/base",
       "_view_module_version": "1.2.0",
       "_view_name": "LayoutView",
       "align_content": null,
       "align_items": null,
       "align_self": null,
       "border": null,
       "bottom": null,
       "display": null,
       "flex": null,
       "flex_flow": null,
       "grid_area": null,
       "grid_auto_columns": null,
       "grid_auto_flow": null,
       "grid_auto_rows": null,
       "grid_column": null,
       "grid_gap": null,
       "grid_row": null,
       "grid_template_areas": null,
       "grid_template_columns": null,
       "grid_template_rows": null,
       "height": null,
       "justify_content": null,
       "justify_items": null,
       "left": null,
       "margin": null,
       "max_height": null,
       "max_width": null,
       "min_height": null,
       "min_width": null,
       "object_fit": null,
       "object_position": null,
       "order": null,
       "overflow": null,
       "overflow_x": null,
       "overflow_y": null,
       "padding": null,
       "right": null,
       "top": null,
       "visibility": null,
       "width": null
      }
     },
     "074f17720f584292ab0a29f80759bf37": {
      "model_module": "@jupyter-widgets/controls",
      "model_module_version": "1.5.0",
      "model_name": "DescriptionStyleModel",
      "state": {
       "_model_module": "@jupyter-widgets/controls",
       "_model_module_version": "1.5.0",
       "_model_name": "DescriptionStyleModel",
       "_view_count": null,
       "_view_module": "@jupyter-widgets/base",
       "_view_module_version": "1.2.0",
       "_view_name": "StyleView",
       "description_width": ""
      }
     },
     "0d6ab37d63404c1f818c9b9062c64515": {
      "model_module": "@jupyter-widgets/controls",
      "model_module_version": "1.5.0",
      "model_name": "HBoxModel",
      "state": {
       "_dom_classes": [],
       "_model_module": "@jupyter-widgets/controls",
       "_model_module_version": "1.5.0",
       "_model_name": "HBoxModel",
       "_view_count": null,
       "_view_module": "@jupyter-widgets/controls",
       "_view_module_version": "1.5.0",
       "_view_name": "HBoxView",
       "box_style": "",
       "children": [
        "IPY_MODEL_4fedfbe095e84d0a8890b20a9678fc01",
        "IPY_MODEL_ca95368b14124d0a930d49162faeab74",
        "IPY_MODEL_abd3b2072a884556bbaa7195cca0f06d"
       ],
       "layout": "IPY_MODEL_49df6691ba0d42b1b1515d5afda8316d"
      }
     },
     "14f672a9d8554d399e718d3aee19c3d6": {
      "model_module": "@jupyter-widgets/controls",
      "model_module_version": "1.5.0",
      "model_name": "FloatProgressModel",
      "state": {
       "_dom_classes": [],
       "_model_module": "@jupyter-widgets/controls",
       "_model_module_version": "1.5.0",
       "_model_name": "FloatProgressModel",
       "_view_count": null,
       "_view_module": "@jupyter-widgets/controls",
       "_view_module_version": "1.5.0",
       "_view_name": "ProgressView",
       "bar_style": "success",
       "description": "",
       "description_tooltip": null,
       "layout": "IPY_MODEL_a2235bb5102646d9925bc8b85a747a58",
       "max": 467.0,
       "min": 0.0,
       "orientation": "horizontal",
       "style": "IPY_MODEL_e6af56c4338341febeec1c6ae8ef1bc8",
       "value": 467.0
      }
     },
     "1f81bbc4615149d9818fcaf8ee63318e": {
      "model_module": "@jupyter-widgets/base",
      "model_module_version": "1.2.0",
      "model_name": "LayoutModel",
      "state": {
       "_model_module": "@jupyter-widgets/base",
       "_model_module_version": "1.2.0",
       "_model_name": "LayoutModel",
       "_view_count": null,
       "_view_module": "@jupyter-widgets/base",
       "_view_module_version": "1.2.0",
       "_view_name": "LayoutView",
       "align_content": null,
       "align_items": null,
       "align_self": null,
       "border": null,
       "bottom": null,
       "display": null,
       "flex": null,
       "flex_flow": null,
       "grid_area": null,
       "grid_auto_columns": null,
       "grid_auto_flow": null,
       "grid_auto_rows": null,
       "grid_column": null,
       "grid_gap": null,
       "grid_row": null,
       "grid_template_areas": null,
       "grid_template_columns": null,
       "grid_template_rows": null,
       "height": null,
       "justify_content": null,
       "justify_items": null,
       "left": null,
       "margin": null,
       "max_height": null,
       "max_width": null,
       "min_height": null,
       "min_width": null,
       "object_fit": null,
       "object_position": null,
       "order": null,
       "overflow": null,
       "overflow_x": null,
       "overflow_y": null,
       "padding": null,
       "right": null,
       "top": null,
       "visibility": null,
       "width": null
      }
     },
     "2a3c2cfa0ac64f8591a7ff939d451fde": {
      "model_module": "@jupyter-widgets/controls",
      "model_module_version": "1.5.0",
      "model_name": "HBoxModel",
      "state": {
       "_dom_classes": [],
       "_model_module": "@jupyter-widgets/controls",
       "_model_module_version": "1.5.0",
       "_model_name": "HBoxModel",
       "_view_count": null,
       "_view_module": "@jupyter-widgets/controls",
       "_view_module_version": "1.5.0",
       "_view_name": "HBoxView",
       "box_style": "",
       "children": [
        "IPY_MODEL_911f710416a7460bad680b4202598172",
        "IPY_MODEL_14f672a9d8554d399e718d3aee19c3d6",
        "IPY_MODEL_8ddcd967743c4ce0adba2c3c980b4b41"
       ],
       "layout": "IPY_MODEL_a72186fb2b324e839aeba280acdb2ba8"
      }
     },
     "3c146193fe3c436ca1cf10f15af12285": {
      "model_module": "@jupyter-widgets/controls",
      "model_module_version": "1.5.0",
      "model_name": "ProgressStyleModel",
      "state": {
       "_model_module": "@jupyter-widgets/controls",
       "_model_module_version": "1.5.0",
       "_model_name": "ProgressStyleModel",
       "_view_count": null,
       "_view_module": "@jupyter-widgets/base",
       "_view_module_version": "1.2.0",
       "_view_name": "StyleView",
       "bar_color": null,
       "description_width": ""
      }
     },
     "3f606e5f165f4ce294b1bccc2a35fd5a": {
      "model_module": "@jupyter-widgets/base",
      "model_module_version": "1.2.0",
      "model_name": "LayoutModel",
      "state": {
       "_model_module": "@jupyter-widgets/base",
       "_model_module_version": "1.2.0",
       "_model_name": "LayoutModel",
       "_view_count": null,
       "_view_module": "@jupyter-widgets/base",
       "_view_module_version": "1.2.0",
       "_view_name": "LayoutView",
       "align_content": null,
       "align_items": null,
       "align_self": null,
       "border": null,
       "bottom": null,
       "display": null,
       "flex": null,
       "flex_flow": null,
       "grid_area": null,
       "grid_auto_columns": null,
       "grid_auto_flow": null,
       "grid_auto_rows": null,
       "grid_column": null,
       "grid_gap": null,
       "grid_row": null,
       "grid_template_areas": null,
       "grid_template_columns": null,
       "grid_template_rows": null,
       "height": null,
       "justify_content": null,
       "justify_items": null,
       "left": null,
       "margin": null,
       "max_height": null,
       "max_width": null,
       "min_height": null,
       "min_width": null,
       "object_fit": null,
       "object_position": null,
       "order": null,
       "overflow": null,
       "overflow_x": null,
       "overflow_y": null,
       "padding": null,
       "right": null,
       "top": null,
       "visibility": null,
       "width": null
      }
     },
     "49df6691ba0d42b1b1515d5afda8316d": {
      "model_module": "@jupyter-widgets/base",
      "model_module_version": "1.2.0",
      "model_name": "LayoutModel",
      "state": {
       "_model_module": "@jupyter-widgets/base",
       "_model_module_version": "1.2.0",
       "_model_name": "LayoutModel",
       "_view_count": null,
       "_view_module": "@jupyter-widgets/base",
       "_view_module_version": "1.2.0",
       "_view_name": "LayoutView",
       "align_content": null,
       "align_items": null,
       "align_self": null,
       "border": null,
       "bottom": null,
       "display": null,
       "flex": null,
       "flex_flow": null,
       "grid_area": null,
       "grid_auto_columns": null,
       "grid_auto_flow": null,
       "grid_auto_rows": null,
       "grid_column": null,
       "grid_gap": null,
       "grid_row": null,
       "grid_template_areas": null,
       "grid_template_columns": null,
       "grid_template_rows": null,
       "height": null,
       "justify_content": null,
       "justify_items": null,
       "left": null,
       "margin": null,
       "max_height": null,
       "max_width": null,
       "min_height": null,
       "min_width": null,
       "object_fit": null,
       "object_position": null,
       "order": null,
       "overflow": null,
       "overflow_x": null,
       "overflow_y": null,
       "padding": null,
       "right": null,
       "top": null,
       "visibility": null,
       "width": null
      }
     },
     "4fedfbe095e84d0a8890b20a9678fc01": {
      "model_module": "@jupyter-widgets/controls",
      "model_module_version": "1.5.0",
      "model_name": "HTMLModel",
      "state": {
       "_dom_classes": [],
       "_model_module": "@jupyter-widgets/controls",
       "_model_module_version": "1.5.0",
       "_model_name": "HTMLModel",
       "_view_count": null,
       "_view_module": "@jupyter-widgets/controls",
       "_view_module_version": "1.5.0",
       "_view_name": "HTMLView",
       "description": "",
       "description_tooltip": null,
       "layout": "IPY_MODEL_583c0e42f7fa4c2b999b30f7ff4716cb",
       "placeholder": "​",
       "style": "IPY_MODEL_074f17720f584292ab0a29f80759bf37",
       "value": "Downloading model.safetensors: 100%"
      }
     },
     "583c0e42f7fa4c2b999b30f7ff4716cb": {
      "model_module": "@jupyter-widgets/base",
      "model_module_version": "1.2.0",
      "model_name": "LayoutModel",
      "state": {
       "_model_module": "@jupyter-widgets/base",
       "_model_module_version": "1.2.0",
       "_model_name": "LayoutModel",
       "_view_count": null,
       "_view_module": "@jupyter-widgets/base",
       "_view_module_version": "1.2.0",
       "_view_name": "LayoutView",
       "align_content": null,
       "align_items": null,
       "align_self": null,
       "border": null,
       "bottom": null,
       "display": null,
       "flex": null,
       "flex_flow": null,
       "grid_area": null,
       "grid_auto_columns": null,
       "grid_auto_flow": null,
       "grid_auto_rows": null,
       "grid_column": null,
       "grid_gap": null,
       "grid_row": null,
       "grid_template_areas": null,
       "grid_template_columns": null,
       "grid_template_rows": null,
       "height": null,
       "justify_content": null,
       "justify_items": null,
       "left": null,
       "margin": null,
       "max_height": null,
       "max_width": null,
       "min_height": null,
       "min_width": null,
       "object_fit": null,
       "object_position": null,
       "order": null,
       "overflow": null,
       "overflow_x": null,
       "overflow_y": null,
       "padding": null,
       "right": null,
       "top": null,
       "visibility": null,
       "width": null
      }
     },
     "5be4f77e6a75483f858cc731cd6f8bd3": {
      "model_module": "@jupyter-widgets/controls",
      "model_module_version": "1.5.0",
      "model_name": "DescriptionStyleModel",
      "state": {
       "_model_module": "@jupyter-widgets/controls",
       "_model_module_version": "1.5.0",
       "_model_name": "DescriptionStyleModel",
       "_view_count": null,
       "_view_module": "@jupyter-widgets/base",
       "_view_module_version": "1.2.0",
       "_view_name": "StyleView",
       "description_width": ""
      }
     },
     "5e7a281d54404103ae7ee861adadccd0": {
      "model_module": "@jupyter-widgets/controls",
      "model_module_version": "1.5.0",
      "model_name": "DescriptionStyleModel",
      "state": {
       "_model_module": "@jupyter-widgets/controls",
       "_model_module_version": "1.5.0",
       "_model_name": "DescriptionStyleModel",
       "_view_count": null,
       "_view_module": "@jupyter-widgets/base",
       "_view_module_version": "1.2.0",
       "_view_name": "StyleView",
       "description_width": ""
      }
     },
     "79bdc9c10a494afaa36d92ca84f40dbe": {
      "model_module": "@jupyter-widgets/controls",
      "model_module_version": "1.5.0",
      "model_name": "HTMLModel",
      "state": {
       "_dom_classes": [],
       "_model_module": "@jupyter-widgets/controls",
       "_model_module_version": "1.5.0",
       "_model_name": "HTMLModel",
       "_view_count": null,
       "_view_module": "@jupyter-widgets/controls",
       "_view_module_version": "1.5.0",
       "_view_name": "HTMLView",
       "description": "",
       "description_tooltip": null,
       "layout": "IPY_MODEL_1f81bbc4615149d9818fcaf8ee63318e",
       "placeholder": "​",
       "style": "IPY_MODEL_d3c69deda2464644b4c759c409b95a90",
       "value": "Downloading (…)solve/main/vocab.txt: 100%"
      }
     },
     "8ddcd967743c4ce0adba2c3c980b4b41": {
      "model_module": "@jupyter-widgets/controls",
      "model_module_version": "1.5.0",
      "model_name": "HTMLModel",
      "state": {
       "_dom_classes": [],
       "_model_module": "@jupyter-widgets/controls",
       "_model_module_version": "1.5.0",
       "_model_name": "HTMLModel",
       "_view_count": null,
       "_view_module": "@jupyter-widgets/controls",
       "_view_module_version": "1.5.0",
       "_view_name": "HTMLView",
       "description": "",
       "description_tooltip": null,
       "layout": "IPY_MODEL_d022f2e75cd042b18e171f39f3b49186",
       "placeholder": "​",
       "style": "IPY_MODEL_f7c37ad14e44445fb6da884f68a40c1f",
       "value": " 467/467 [00:00&lt;00:00, 44.3kB/s]"
      }
     },
     "90f789dc51d742f9b5b538d533683674": {
      "model_module": "@jupyter-widgets/controls",
      "model_module_version": "1.5.0",
      "model_name": "ProgressStyleModel",
      "state": {
       "_model_module": "@jupyter-widgets/controls",
       "_model_module_version": "1.5.0",
       "_model_name": "ProgressStyleModel",
       "_view_count": null,
       "_view_module": "@jupyter-widgets/base",
       "_view_module_version": "1.2.0",
       "_view_name": "StyleView",
       "bar_color": null,
       "description_width": ""
      }
     },
     "911f710416a7460bad680b4202598172": {
      "model_module": "@jupyter-widgets/controls",
      "model_module_version": "1.5.0",
      "model_name": "HTMLModel",
      "state": {
       "_dom_classes": [],
       "_model_module": "@jupyter-widgets/controls",
       "_model_module_version": "1.5.0",
       "_model_name": "HTMLModel",
       "_view_count": null,
       "_view_module": "@jupyter-widgets/controls",
       "_view_module_version": "1.5.0",
       "_view_name": "HTMLView",
       "description": "",
       "description_tooltip": null,
       "layout": "IPY_MODEL_06ebfccedbdc4af68573b9492b1e31b5",
       "placeholder": "​",
       "style": "IPY_MODEL_5e7a281d54404103ae7ee861adadccd0",
       "value": "Downloading (…)lve/main/config.json: 100%"
      }
     },
     "9e5df02e3a3340d092a2a990a7f48309": {
      "model_module": "@jupyter-widgets/base",
      "model_module_version": "1.2.0",
      "model_name": "LayoutModel",
      "state": {
       "_model_module": "@jupyter-widgets/base",
       "_model_module_version": "1.2.0",
       "_model_name": "LayoutModel",
       "_view_count": null,
       "_view_module": "@jupyter-widgets/base",
       "_view_module_version": "1.2.0",
       "_view_name": "LayoutView",
       "align_content": null,
       "align_items": null,
       "align_self": null,
       "border": null,
       "bottom": null,
       "display": null,
       "flex": null,
       "flex_flow": null,
       "grid_area": null,
       "grid_auto_columns": null,
       "grid_auto_flow": null,
       "grid_auto_rows": null,
       "grid_column": null,
       "grid_gap": null,
       "grid_row": null,
       "grid_template_areas": null,
       "grid_template_columns": null,
       "grid_template_rows": null,
       "height": null,
       "justify_content": null,
       "justify_items": null,
       "left": null,
       "margin": null,
       "max_height": null,
       "max_width": null,
       "min_height": null,
       "min_width": null,
       "object_fit": null,
       "object_position": null,
       "order": null,
       "overflow": null,
       "overflow_x": null,
       "overflow_y": null,
       "padding": null,
       "right": null,
       "top": null,
       "visibility": null,
       "width": null
      }
     },
     "a2235bb5102646d9925bc8b85a747a58": {
      "model_module": "@jupyter-widgets/base",
      "model_module_version": "1.2.0",
      "model_name": "LayoutModel",
      "state": {
       "_model_module": "@jupyter-widgets/base",
       "_model_module_version": "1.2.0",
       "_model_name": "LayoutModel",
       "_view_count": null,
       "_view_module": "@jupyter-widgets/base",
       "_view_module_version": "1.2.0",
       "_view_name": "LayoutView",
       "align_content": null,
       "align_items": null,
       "align_self": null,
       "border": null,
       "bottom": null,
       "display": null,
       "flex": null,
       "flex_flow": null,
       "grid_area": null,
       "grid_auto_columns": null,
       "grid_auto_flow": null,
       "grid_auto_rows": null,
       "grid_column": null,
       "grid_gap": null,
       "grid_row": null,
       "grid_template_areas": null,
       "grid_template_columns": null,
       "grid_template_rows": null,
       "height": null,
       "justify_content": null,
       "justify_items": null,
       "left": null,
       "margin": null,
       "max_height": null,
       "max_width": null,
       "min_height": null,
       "min_width": null,
       "object_fit": null,
       "object_position": null,
       "order": null,
       "overflow": null,
       "overflow_x": null,
       "overflow_y": null,
       "padding": null,
       "right": null,
       "top": null,
       "visibility": null,
       "width": null
      }
     },
     "a72186fb2b324e839aeba280acdb2ba8": {
      "model_module": "@jupyter-widgets/base",
      "model_module_version": "1.2.0",
      "model_name": "LayoutModel",
      "state": {
       "_model_module": "@jupyter-widgets/base",
       "_model_module_version": "1.2.0",
       "_model_name": "LayoutModel",
       "_view_count": null,
       "_view_module": "@jupyter-widgets/base",
       "_view_module_version": "1.2.0",
       "_view_name": "LayoutView",
       "align_content": null,
       "align_items": null,
       "align_self": null,
       "border": null,
       "bottom": null,
       "display": null,
       "flex": null,
       "flex_flow": null,
       "grid_area": null,
       "grid_auto_columns": null,
       "grid_auto_flow": null,
       "grid_auto_rows": null,
       "grid_column": null,
       "grid_gap": null,
       "grid_row": null,
       "grid_template_areas": null,
       "grid_template_columns": null,
       "grid_template_rows": null,
       "height": null,
       "justify_content": null,
       "justify_items": null,
       "left": null,
       "margin": null,
       "max_height": null,
       "max_width": null,
       "min_height": null,
       "min_width": null,
       "object_fit": null,
       "object_position": null,
       "order": null,
       "overflow": null,
       "overflow_x": null,
       "overflow_y": null,
       "padding": null,
       "right": null,
       "top": null,
       "visibility": null,
       "width": null
      }
     },
     "a7d0b74a394e4005a908a54135eb2fb7": {
      "model_module": "@jupyter-widgets/controls",
      "model_module_version": "1.5.0",
      "model_name": "FloatProgressModel",
      "state": {
       "_dom_classes": [],
       "_model_module": "@jupyter-widgets/controls",
       "_model_module_version": "1.5.0",
       "_model_name": "FloatProgressModel",
       "_view_count": null,
       "_view_module": "@jupyter-widgets/controls",
       "_view_module_version": "1.5.0",
       "_view_name": "ProgressView",
       "bar_style": "success",
       "description": "",
       "description_tooltip": null,
       "layout": "IPY_MODEL_f0fac010823b43df8b33fc15c2c3933e",
       "max": 378000.0,
       "min": 0.0,
       "orientation": "horizontal",
       "style": "IPY_MODEL_3c146193fe3c436ca1cf10f15af12285",
       "value": 378000.0
      }
     },
     "abd3b2072a884556bbaa7195cca0f06d": {
      "model_module": "@jupyter-widgets/controls",
      "model_module_version": "1.5.0",
      "model_name": "HTMLModel",
      "state": {
       "_dom_classes": [],
       "_model_module": "@jupyter-widgets/controls",
       "_model_module_version": "1.5.0",
       "_model_name": "HTMLModel",
       "_view_count": null,
       "_view_module": "@jupyter-widgets/controls",
       "_view_module_version": "1.5.0",
       "_view_name": "HTMLView",
       "description": "",
       "description_tooltip": null,
       "layout": "IPY_MODEL_3f606e5f165f4ce294b1bccc2a35fd5a",
       "placeholder": "​",
       "style": "IPY_MODEL_e851d05719da4b5681b0cfa96d6b3399",
       "value": " 336M/336M [00:01&lt;00:00, 221MB/s]"
      }
     },
     "bad375fde7294651b7ddd28fa799d67a": {
      "model_module": "@jupyter-widgets/base",
      "model_module_version": "1.2.0",
      "model_name": "LayoutModel",
      "state": {
       "_model_module": "@jupyter-widgets/base",
       "_model_module_version": "1.2.0",
       "_model_name": "LayoutModel",
       "_view_count": null,
       "_view_module": "@jupyter-widgets/base",
       "_view_module_version": "1.2.0",
       "_view_name": "LayoutView",
       "align_content": null,
       "align_items": null,
       "align_self": null,
       "border": null,
       "bottom": null,
       "display": null,
       "flex": null,
       "flex_flow": null,
       "grid_area": null,
       "grid_auto_columns": null,
       "grid_auto_flow": null,
       "grid_auto_rows": null,
       "grid_column": null,
       "grid_gap": null,
       "grid_row": null,
       "grid_template_areas": null,
       "grid_template_columns": null,
       "grid_template_rows": null,
       "height": null,
       "justify_content": null,
       "justify_items": null,
       "left": null,
       "margin": null,
       "max_height": null,
       "max_width": null,
       "min_height": null,
       "min_width": null,
       "object_fit": null,
       "object_position": null,
       "order": null,
       "overflow": null,
       "overflow_x": null,
       "overflow_y": null,
       "padding": null,
       "right": null,
       "top": null,
       "visibility": null,
       "width": null
      }
     },
     "c5cf71c1f3404bf3ac5f4fe478c425b9": {
      "model_module": "@jupyter-widgets/base",
      "model_module_version": "1.2.0",
      "model_name": "LayoutModel",
      "state": {
       "_model_module": "@jupyter-widgets/base",
       "_model_module_version": "1.2.0",
       "_model_name": "LayoutModel",
       "_view_count": null,
       "_view_module": "@jupyter-widgets/base",
       "_view_module_version": "1.2.0",
       "_view_name": "LayoutView",
       "align_content": null,
       "align_items": null,
       "align_self": null,
       "border": null,
       "bottom": null,
       "display": null,
       "flex": null,
       "flex_flow": null,
       "grid_area": null,
       "grid_auto_columns": null,
       "grid_auto_flow": null,
       "grid_auto_rows": null,
       "grid_column": null,
       "grid_gap": null,
       "grid_row": null,
       "grid_template_areas": null,
       "grid_template_columns": null,
       "grid_template_rows": null,
       "height": null,
       "justify_content": null,
       "justify_items": null,
       "left": null,
       "margin": null,
       "max_height": null,
       "max_width": null,
       "min_height": null,
       "min_width": null,
       "object_fit": null,
       "object_position": null,
       "order": null,
       "overflow": null,
       "overflow_x": null,
       "overflow_y": null,
       "padding": null,
       "right": null,
       "top": null,
       "visibility": null,
       "width": null
      }
     },
     "ca95368b14124d0a930d49162faeab74": {
      "model_module": "@jupyter-widgets/controls",
      "model_module_version": "1.5.0",
      "model_name": "FloatProgressModel",
      "state": {
       "_dom_classes": [],
       "_model_module": "@jupyter-widgets/controls",
       "_model_module_version": "1.5.0",
       "_model_name": "FloatProgressModel",
       "_view_count": null,
       "_view_module": "@jupyter-widgets/controls",
       "_view_module_version": "1.5.0",
       "_view_name": "ProgressView",
       "bar_style": "success",
       "description": "",
       "description_tooltip": null,
       "layout": "IPY_MODEL_9e5df02e3a3340d092a2a990a7f48309",
       "max": 336396808.0,
       "min": 0.0,
       "orientation": "horizontal",
       "style": "IPY_MODEL_90f789dc51d742f9b5b538d533683674",
       "value": 336396808.0
      }
     },
     "d022f2e75cd042b18e171f39f3b49186": {
      "model_module": "@jupyter-widgets/base",
      "model_module_version": "1.2.0",
      "model_name": "LayoutModel",
      "state": {
       "_model_module": "@jupyter-widgets/base",
       "_model_module_version": "1.2.0",
       "_model_name": "LayoutModel",
       "_view_count": null,
       "_view_module": "@jupyter-widgets/base",
       "_view_module_version": "1.2.0",
       "_view_name": "LayoutView",
       "align_content": null,
       "align_items": null,
       "align_self": null,
       "border": null,
       "bottom": null,
       "display": null,
       "flex": null,
       "flex_flow": null,
       "grid_area": null,
       "grid_auto_columns": null,
       "grid_auto_flow": null,
       "grid_auto_rows": null,
       "grid_column": null,
       "grid_gap": null,
       "grid_row": null,
       "grid_template_areas": null,
       "grid_template_columns": null,
       "grid_template_rows": null,
       "height": null,
       "justify_content": null,
       "justify_items": null,
       "left": null,
       "margin": null,
       "max_height": null,
       "max_width": null,
       "min_height": null,
       "min_width": null,
       "object_fit": null,
       "object_position": null,
       "order": null,
       "overflow": null,
       "overflow_x": null,
       "overflow_y": null,
       "padding": null,
       "right": null,
       "top": null,
       "visibility": null,
       "width": null
      }
     },
     "d06dd46a6b0845bfb53eaf52f89a2a23": {
      "model_module": "@jupyter-widgets/controls",
      "model_module_version": "1.5.0",
      "model_name": "HBoxModel",
      "state": {
       "_dom_classes": [],
       "_model_module": "@jupyter-widgets/controls",
       "_model_module_version": "1.5.0",
       "_model_name": "HBoxModel",
       "_view_count": null,
       "_view_module": "@jupyter-widgets/controls",
       "_view_module_version": "1.5.0",
       "_view_name": "HBoxView",
       "box_style": "",
       "children": [
        "IPY_MODEL_79bdc9c10a494afaa36d92ca84f40dbe",
        "IPY_MODEL_a7d0b74a394e4005a908a54135eb2fb7",
        "IPY_MODEL_d959f7187da248b49cdec0e87cc5da09"
       ],
       "layout": "IPY_MODEL_c5cf71c1f3404bf3ac5f4fe478c425b9"
      }
     },
     "d3c69deda2464644b4c759c409b95a90": {
      "model_module": "@jupyter-widgets/controls",
      "model_module_version": "1.5.0",
      "model_name": "DescriptionStyleModel",
      "state": {
       "_model_module": "@jupyter-widgets/controls",
       "_model_module_version": "1.5.0",
       "_model_name": "DescriptionStyleModel",
       "_view_count": null,
       "_view_module": "@jupyter-widgets/base",
       "_view_module_version": "1.2.0",
       "_view_name": "StyleView",
       "description_width": ""
      }
     },
     "d959f7187da248b49cdec0e87cc5da09": {
      "model_module": "@jupyter-widgets/controls",
      "model_module_version": "1.5.0",
      "model_name": "HTMLModel",
      "state": {
       "_dom_classes": [],
       "_model_module": "@jupyter-widgets/controls",
       "_model_module_version": "1.5.0",
       "_model_name": "HTMLModel",
       "_view_count": null,
       "_view_module": "@jupyter-widgets/controls",
       "_view_module_version": "1.5.0",
       "_view_name": "HTMLView",
       "description": "",
       "description_tooltip": null,
       "layout": "IPY_MODEL_bad375fde7294651b7ddd28fa799d67a",
       "placeholder": "​",
       "style": "IPY_MODEL_5be4f77e6a75483f858cc731cd6f8bd3",
       "value": " 378k/378k [00:00&lt;00:00, 7.33MB/s]"
      }
     },
     "e6af56c4338341febeec1c6ae8ef1bc8": {
      "model_module": "@jupyter-widgets/controls",
      "model_module_version": "1.5.0",
      "model_name": "ProgressStyleModel",
      "state": {
       "_model_module": "@jupyter-widgets/controls",
       "_model_module_version": "1.5.0",
       "_model_name": "ProgressStyleModel",
       "_view_count": null,
       "_view_module": "@jupyter-widgets/base",
       "_view_module_version": "1.2.0",
       "_view_name": "StyleView",
       "bar_color": null,
       "description_width": ""
      }
     },
     "e851d05719da4b5681b0cfa96d6b3399": {
      "model_module": "@jupyter-widgets/controls",
      "model_module_version": "1.5.0",
      "model_name": "DescriptionStyleModel",
      "state": {
       "_model_module": "@jupyter-widgets/controls",
       "_model_module_version": "1.5.0",
       "_model_name": "DescriptionStyleModel",
       "_view_count": null,
       "_view_module": "@jupyter-widgets/base",
       "_view_module_version": "1.2.0",
       "_view_name": "StyleView",
       "description_width": ""
      }
     },
     "f0fac010823b43df8b33fc15c2c3933e": {
      "model_module": "@jupyter-widgets/base",
      "model_module_version": "1.2.0",
      "model_name": "LayoutModel",
      "state": {
       "_model_module": "@jupyter-widgets/base",
       "_model_module_version": "1.2.0",
       "_model_name": "LayoutModel",
       "_view_count": null,
       "_view_module": "@jupyter-widgets/base",
       "_view_module_version": "1.2.0",
       "_view_name": "LayoutView",
       "align_content": null,
       "align_items": null,
       "align_self": null,
       "border": null,
       "bottom": null,
       "display": null,
       "flex": null,
       "flex_flow": null,
       "grid_area": null,
       "grid_auto_columns": null,
       "grid_auto_flow": null,
       "grid_auto_rows": null,
       "grid_column": null,
       "grid_gap": null,
       "grid_row": null,
       "grid_template_areas": null,
       "grid_template_columns": null,
       "grid_template_rows": null,
       "height": null,
       "justify_content": null,
       "justify_items": null,
       "left": null,
       "margin": null,
       "max_height": null,
       "max_width": null,
       "min_height": null,
       "min_width": null,
       "object_fit": null,
       "object_position": null,
       "order": null,
       "overflow": null,
       "overflow_x": null,
       "overflow_y": null,
       "padding": null,
       "right": null,
       "top": null,
       "visibility": null,
       "width": null
      }
     },
     "f7c37ad14e44445fb6da884f68a40c1f": {
      "model_module": "@jupyter-widgets/controls",
      "model_module_version": "1.5.0",
      "model_name": "DescriptionStyleModel",
      "state": {
       "_model_module": "@jupyter-widgets/controls",
       "_model_module_version": "1.5.0",
       "_model_name": "DescriptionStyleModel",
       "_view_count": null,
       "_view_module": "@jupyter-widgets/base",
       "_view_module_version": "1.2.0",
       "_view_name": "StyleView",
       "description_width": ""
      }
     }
    },
    "version_major": 2,
    "version_minor": 0
   }
  }
 },
 "nbformat": 4,
 "nbformat_minor": 5
}
