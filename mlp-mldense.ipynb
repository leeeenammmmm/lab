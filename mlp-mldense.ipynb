{
 "cells": [
  {
   "cell_type": "code",
   "execution_count": 1,
   "id": "71f404d9",
   "metadata": {
    "execution": {
     "iopub.execute_input": "2023-11-08T08:25:02.668554Z",
     "iopub.status.busy": "2023-11-08T08:25:02.667626Z",
     "iopub.status.idle": "2023-11-08T08:25:15.954239Z",
     "shell.execute_reply": "2023-11-08T08:25:15.953128Z"
    },
    "papermill": {
     "duration": 13.301872,
     "end_time": "2023-11-08T08:25:15.956591",
     "exception": false,
     "start_time": "2023-11-08T08:25:02.654719",
     "status": "completed"
    },
    "tags": []
   },
   "outputs": [
    {
     "name": "stdout",
     "output_type": "stream",
     "text": [
      "Requirement already satisfied: transformers in /opt/conda/lib/python3.10/site-packages (4.33.0)\r\n",
      "Requirement already satisfied: filelock in /opt/conda/lib/python3.10/site-packages (from transformers) (3.12.2)\r\n",
      "Requirement already satisfied: huggingface-hub<1.0,>=0.15.1 in /opt/conda/lib/python3.10/site-packages (from transformers) (0.16.4)\r\n",
      "Requirement already satisfied: numpy>=1.17 in /opt/conda/lib/python3.10/site-packages (from transformers) (1.23.5)\r\n",
      "Requirement already satisfied: packaging>=20.0 in /opt/conda/lib/python3.10/site-packages (from transformers) (21.3)\r\n",
      "Requirement already satisfied: pyyaml>=5.1 in /opt/conda/lib/python3.10/site-packages (from transformers) (6.0)\r\n",
      "Requirement already satisfied: regex!=2019.12.17 in /opt/conda/lib/python3.10/site-packages (from transformers) (2023.6.3)\r\n",
      "Requirement already satisfied: requests in /opt/conda/lib/python3.10/site-packages (from transformers) (2.31.0)\r\n",
      "Requirement already satisfied: tokenizers!=0.11.3,<0.14,>=0.11.1 in /opt/conda/lib/python3.10/site-packages (from transformers) (0.13.3)\r\n",
      "Requirement already satisfied: safetensors>=0.3.1 in /opt/conda/lib/python3.10/site-packages (from transformers) (0.3.3)\r\n",
      "Requirement already satisfied: tqdm>=4.27 in /opt/conda/lib/python3.10/site-packages (from transformers) (4.66.1)\r\n",
      "Requirement already satisfied: fsspec in /opt/conda/lib/python3.10/site-packages (from huggingface-hub<1.0,>=0.15.1->transformers) (2023.9.0)\r\n",
      "Requirement already satisfied: typing-extensions>=3.7.4.3 in /opt/conda/lib/python3.10/site-packages (from huggingface-hub<1.0,>=0.15.1->transformers) (4.6.3)\r\n",
      "Requirement already satisfied: pyparsing!=3.0.5,>=2.0.2 in /opt/conda/lib/python3.10/site-packages (from packaging>=20.0->transformers) (3.0.9)\r\n",
      "Requirement already satisfied: charset-normalizer<4,>=2 in /opt/conda/lib/python3.10/site-packages (from requests->transformers) (3.1.0)\r\n",
      "Requirement already satisfied: idna<4,>=2.5 in /opt/conda/lib/python3.10/site-packages (from requests->transformers) (3.4)\r\n",
      "Requirement already satisfied: urllib3<3,>=1.21.1 in /opt/conda/lib/python3.10/site-packages (from requests->transformers) (1.26.15)\r\n",
      "Requirement already satisfied: certifi>=2017.4.17 in /opt/conda/lib/python3.10/site-packages (from requests->transformers) (2023.7.22)\r\n"
     ]
    }
   ],
   "source": [
    "!pip install transformers"
   ]
  },
  {
   "cell_type": "code",
   "execution_count": 2,
   "id": "b820e5f7",
   "metadata": {
    "execution": {
     "iopub.execute_input": "2023-11-08T08:25:15.979233Z",
     "iopub.status.busy": "2023-11-08T08:25:15.978905Z",
     "iopub.status.idle": "2023-11-08T08:25:20.683777Z",
     "shell.execute_reply": "2023-11-08T08:25:20.682697Z"
    },
    "papermill": {
     "duration": 4.718889,
     "end_time": "2023-11-08T08:25:20.686362",
     "exception": false,
     "start_time": "2023-11-08T08:25:15.967473",
     "status": "completed"
    },
    "tags": []
   },
   "outputs": [],
   "source": [
    "\n",
    "import torch\n",
    "import torch.nn as nn\n",
    "import pandas as pd\n",
    "import numpy as np\n",
    "import shutil\n",
    "import sys   "
   ]
  },
  {
   "cell_type": "code",
   "execution_count": 3,
   "id": "447fc1fb",
   "metadata": {
    "execution": {
     "iopub.execute_input": "2023-11-08T08:25:20.710502Z",
     "iopub.status.busy": "2023-11-08T08:25:20.710107Z",
     "iopub.status.idle": "2023-11-08T08:25:20.714324Z",
     "shell.execute_reply": "2023-11-08T08:25:20.713417Z"
    },
    "papermill": {
     "duration": 0.017813,
     "end_time": "2023-11-08T08:25:20.716181",
     "exception": false,
     "start_time": "2023-11-08T08:25:20.698368",
     "status": "completed"
    },
    "tags": []
   },
   "outputs": [],
   "source": [
    "train_path = \"/kaggle/input/data-capec-multilabel/capec_mutilabel_new.csv\"\n",
    "test_path = \"/kaggle/input/data-capec-multilabel/capec_mutilabel_new.csv\""
   ]
  },
  {
   "cell_type": "code",
   "execution_count": 4,
   "id": "07aa1636",
   "metadata": {
    "execution": {
     "iopub.execute_input": "2023-11-08T08:25:20.739029Z",
     "iopub.status.busy": "2023-11-08T08:25:20.738742Z",
     "iopub.status.idle": "2023-11-08T08:25:21.769806Z",
     "shell.execute_reply": "2023-11-08T08:25:21.769011Z"
    },
    "papermill": {
     "duration": 1.045206,
     "end_time": "2023-11-08T08:25:21.772117",
     "exception": false,
     "start_time": "2023-11-08T08:25:20.726911",
     "status": "completed"
    },
    "tags": []
   },
   "outputs": [
    {
     "name": "stderr",
     "output_type": "stream",
     "text": [
      "/opt/conda/lib/python3.10/site-packages/scipy/__init__.py:146: UserWarning: A NumPy version >=1.16.5 and <1.23.0 is required for this version of SciPy (detected version 1.23.5\n",
      "  warnings.warn(f\"A NumPy version >={np_minversion} and <{np_maxversion}\"\n"
     ]
    }
   ],
   "source": [
    "from sklearn.metrics import precision_score, recall_score, confusion_matrix, classification_report,accuracy_score, f1_score"
   ]
  },
  {
   "cell_type": "code",
   "execution_count": 5,
   "id": "cb3750a7",
   "metadata": {
    "execution": {
     "iopub.execute_input": "2023-11-08T08:25:21.795581Z",
     "iopub.status.busy": "2023-11-08T08:25:21.795310Z",
     "iopub.status.idle": "2023-11-08T08:25:30.558796Z",
     "shell.execute_reply": "2023-11-08T08:25:30.557941Z"
    },
    "papermill": {
     "duration": 8.777802,
     "end_time": "2023-11-08T08:25:30.561293",
     "exception": false,
     "start_time": "2023-11-08T08:25:21.783491",
     "status": "completed"
    },
    "tags": []
   },
   "outputs": [
    {
     "name": "stderr",
     "output_type": "stream",
     "text": [
      "/tmp/ipykernel_26/897552558.py:1: DtypeWarning: Columns (5,6,22) have mixed types. Specify dtype option on import or set low_memory=False.\n",
      "  train_df = pd.read_csv(train_path)\n",
      "/tmp/ipykernel_26/897552558.py:2: DtypeWarning: Columns (5,6,22) have mixed types. Specify dtype option on import or set low_memory=False.\n",
      "  test_df = pd.read_csv(test_path)\n"
     ]
    }
   ],
   "source": [
    "train_df = pd.read_csv(train_path)\n",
    "test_df = pd.read_csv(test_path)"
   ]
  },
  {
   "cell_type": "code",
   "execution_count": 6,
   "id": "d4e60d5d",
   "metadata": {
    "execution": {
     "iopub.execute_input": "2023-11-08T08:25:30.585199Z",
     "iopub.status.busy": "2023-11-08T08:25:30.584871Z",
     "iopub.status.idle": "2023-11-08T08:25:30.665155Z",
     "shell.execute_reply": "2023-11-08T08:25:30.664380Z"
    },
    "papermill": {
     "duration": 0.094738,
     "end_time": "2023-11-08T08:25:30.667491",
     "exception": false,
     "start_time": "2023-11-08T08:25:30.572753",
     "status": "completed"
    },
    "tags": []
   },
   "outputs": [],
   "source": [
    "train_df.drop(train_df.columns[1:24], axis=1, inplace=True)"
   ]
  },
  {
   "cell_type": "code",
   "execution_count": 7,
   "id": "61cd70c1",
   "metadata": {
    "execution": {
     "iopub.execute_input": "2023-11-08T08:25:30.690038Z",
     "iopub.status.busy": "2023-11-08T08:25:30.689732Z",
     "iopub.status.idle": "2023-11-08T08:25:30.706370Z",
     "shell.execute_reply": "2023-11-08T08:25:30.705631Z"
    },
    "papermill": {
     "duration": 0.030042,
     "end_time": "2023-11-08T08:25:30.708424",
     "exception": false,
     "start_time": "2023-11-08T08:25:30.678382",
     "status": "completed"
    },
    "tags": []
   },
   "outputs": [],
   "source": [
    "df2 = train_df.loc[90000:624245]\n",
    "df2 = df2.loc[(df2['242 - Code Injection'] == 1) \n",
    "              | (df2['16 - Dictionary-based Password Attack']==1)\n",
    "              | (df2['153 - Input Data Manipulation']==1)\n",
    "              | (df2['248 - Command Injection']==1)\n",
    "              | (df2['34 - HTTP Response Splitting']==1)\n",
    "              | (df2['274 - HTTP Verb Tampering'] == 1)\n",
    "              | (df2['33 - HTTP Request Smuggling']==1)]"
   ]
  },
  {
   "cell_type": "code",
   "execution_count": 8,
   "id": "bb843434",
   "metadata": {
    "execution": {
     "iopub.execute_input": "2023-11-08T08:25:30.730819Z",
     "iopub.status.busy": "2023-11-08T08:25:30.730553Z",
     "iopub.status.idle": "2023-11-08T08:25:30.752715Z",
     "shell.execute_reply": "2023-11-08T08:25:30.751871Z"
    },
    "papermill": {
     "duration": 0.0357,
     "end_time": "2023-11-08T08:25:30.754619",
     "exception": false,
     "start_time": "2023-11-08T08:25:30.718919",
     "status": "completed"
    },
    "tags": []
   },
   "outputs": [],
   "source": [
    "train_df = pd.concat([train_df.head(90000), df2], ignore_index=True)"
   ]
  },
  {
   "cell_type": "code",
   "execution_count": 9,
   "id": "f706b583",
   "metadata": {
    "execution": {
     "iopub.execute_input": "2023-11-08T08:25:30.776904Z",
     "iopub.status.busy": "2023-11-08T08:25:30.776608Z",
     "iopub.status.idle": "2023-11-08T08:25:30.781429Z",
     "shell.execute_reply": "2023-11-08T08:25:30.780510Z"
    },
    "papermill": {
     "duration": 0.018142,
     "end_time": "2023-11-08T08:25:30.783436",
     "exception": false,
     "start_time": "2023-11-08T08:25:30.765294",
     "status": "completed"
    },
    "tags": []
   },
   "outputs": [],
   "source": [
    "target_list = [\"000 - Normal\", \"272 - Protocol Manipulation\", \"242 - Code Injection\", \n",
    "               \"88 - OS Command Injection\", \"126 - Path Traversal\", \"66 - SQL Injection\",\n",
    "               \"16 - Dictionary-based Password Attack\", \"310 - Scanning for Vulnerable Software\", \n",
    "               \"153 - Input Data Manipulation\", \"248 - Command Injection\", \n",
    "               \"274 - HTTP Verb Tampering\", \"194 - Fake the Source of Data\", \n",
    "               \"34 - HTTP Response Splitting\", \"33 - HTTP Request Smuggling\"]"
   ]
  },
  {
   "cell_type": "code",
   "execution_count": 10,
   "id": "c07b4d68",
   "metadata": {
    "execution": {
     "iopub.execute_input": "2023-11-08T08:25:30.806242Z",
     "iopub.status.busy": "2023-11-08T08:25:30.805998Z",
     "iopub.status.idle": "2023-11-08T08:25:30.812189Z",
     "shell.execute_reply": "2023-11-08T08:25:30.811334Z"
    },
    "papermill": {
     "duration": 0.0196,
     "end_time": "2023-11-08T08:25:30.814236",
     "exception": false,
     "start_time": "2023-11-08T08:25:30.794636",
     "status": "completed"
    },
    "tags": []
   },
   "outputs": [
    {
     "data": {
      "text/plain": [
       "14"
      ]
     },
     "execution_count": 10,
     "metadata": {},
     "output_type": "execute_result"
    }
   ],
   "source": [
    "len(target_list)"
   ]
  },
  {
   "cell_type": "code",
   "execution_count": 11,
   "id": "bc36abb2",
   "metadata": {
    "execution": {
     "iopub.execute_input": "2023-11-08T08:25:30.837183Z",
     "iopub.status.busy": "2023-11-08T08:25:30.836897Z",
     "iopub.status.idle": "2023-11-08T08:25:30.841095Z",
     "shell.execute_reply": "2023-11-08T08:25:30.840165Z"
    },
    "papermill": {
     "duration": 0.018275,
     "end_time": "2023-11-08T08:25:30.843174",
     "exception": false,
     "start_time": "2023-11-08T08:25:30.824899",
     "status": "completed"
    },
    "tags": []
   },
   "outputs": [],
   "source": [
    "# hyperparameters\n",
    "MAX_LEN = 256\n",
    "TRAIN_BATCH_SIZE = 32\n",
    "VALID_BATCH_SIZE = 32\n",
    "EPOCHS = 10\n",
    "LEARNING_RATE = 1e-05\n",
    "num_class=14"
   ]
  },
  {
   "cell_type": "code",
   "execution_count": 12,
   "id": "df756a8a",
   "metadata": {
    "execution": {
     "iopub.execute_input": "2023-11-08T08:25:30.867093Z",
     "iopub.status.busy": "2023-11-08T08:25:30.866527Z",
     "iopub.status.idle": "2023-11-08T08:25:41.626926Z",
     "shell.execute_reply": "2023-11-08T08:25:41.626073Z"
    },
    "papermill": {
     "duration": 10.774587,
     "end_time": "2023-11-08T08:25:41.629233",
     "exception": false,
     "start_time": "2023-11-08T08:25:30.854646",
     "status": "completed"
    },
    "tags": []
   },
   "outputs": [],
   "source": [
    "from transformers import AutoTokenizer, AutoModelForMaskedLM, AutoModel\n",
    "from transformers import BertTokenizer, BertModel, BertTokenizerFast"
   ]
  },
  {
   "cell_type": "code",
   "execution_count": 13,
   "id": "197b2fa0",
   "metadata": {
    "execution": {
     "iopub.execute_input": "2023-11-08T08:25:41.652287Z",
     "iopub.status.busy": "2023-11-08T08:25:41.652026Z",
     "iopub.status.idle": "2023-11-08T08:25:45.028148Z",
     "shell.execute_reply": "2023-11-08T08:25:45.027299Z"
    },
    "papermill": {
     "duration": 3.390271,
     "end_time": "2023-11-08T08:25:45.030513",
     "exception": false,
     "start_time": "2023-11-08T08:25:41.640242",
     "status": "completed"
    },
    "tags": []
   },
   "outputs": [
    {
     "data": {
      "application/vnd.jupyter.widget-view+json": {
       "model_id": "c413dc1279564ed2909348fc7438ce73",
       "version_major": 2,
       "version_minor": 0
      },
      "text/plain": [
       "Downloading (…)solve/main/vocab.txt:   0%|          | 0.00/378k [00:00<?, ?B/s]"
      ]
     },
     "metadata": {},
     "output_type": "display_data"
    },
    {
     "data": {
      "application/vnd.jupyter.widget-view+json": {
       "model_id": "cedc4bfe711940acbf347d43f5103733",
       "version_major": 2,
       "version_minor": 0
      },
      "text/plain": [
       "Downloading (…)lve/main/config.json:   0%|          | 0.00/467 [00:00<?, ?B/s]"
      ]
     },
     "metadata": {},
     "output_type": "display_data"
    },
    {
     "data": {
      "application/vnd.jupyter.widget-view+json": {
       "model_id": "5b7e48e5dd414f2199d88012bfeb87dc",
       "version_major": 2,
       "version_minor": 0
      },
      "text/plain": [
       "Downloading model.safetensors:   0%|          | 0.00/336M [00:00<?, ?B/s]"
      ]
     },
     "metadata": {},
     "output_type": "display_data"
    }
   ],
   "source": [
    "secBertTokenizer = BertTokenizerFast.from_pretrained(\"jackaduma/SecBERT\", do_lower_case=True)\n",
    "secBertModel = BertModel.from_pretrained(\"jackaduma/SecBERT\", num_labels = num_class)"
   ]
  },
  {
   "cell_type": "code",
   "execution_count": 14,
   "id": "a25f9261",
   "metadata": {
    "execution": {
     "iopub.execute_input": "2023-11-08T08:25:45.055065Z",
     "iopub.status.busy": "2023-11-08T08:25:45.054775Z",
     "iopub.status.idle": "2023-11-08T08:25:45.453682Z",
     "shell.execute_reply": "2023-11-08T08:25:45.452865Z"
    },
    "papermill": {
     "duration": 0.413446,
     "end_time": "2023-11-08T08:25:45.456040",
     "exception": false,
     "start_time": "2023-11-08T08:25:45.042594",
     "status": "completed"
    },
    "tags": []
   },
   "outputs": [],
   "source": [
    "tokenizer = AutoTokenizer.from_pretrained('jackaduma/SecBERT')"
   ]
  },
  {
   "cell_type": "code",
   "execution_count": 15,
   "id": "56853b92",
   "metadata": {
    "execution": {
     "iopub.execute_input": "2023-11-08T08:25:45.479983Z",
     "iopub.status.busy": "2023-11-08T08:25:45.479690Z",
     "iopub.status.idle": "2023-11-08T08:25:45.484354Z",
     "shell.execute_reply": "2023-11-08T08:25:45.483543Z"
    },
    "papermill": {
     "duration": 0.01869,
     "end_time": "2023-11-08T08:25:45.486325",
     "exception": false,
     "start_time": "2023-11-08T08:25:45.467635",
     "status": "completed"
    },
    "tags": []
   },
   "outputs": [],
   "source": [
    "def freeze_k_layer(secBert, k=1):\n",
    "    for param in secBert.encoder.layer[0:k].parameters():\n",
    "        param.requires_grad = False"
   ]
  },
  {
   "cell_type": "code",
   "execution_count": 16,
   "id": "4eacebec",
   "metadata": {
    "execution": {
     "iopub.execute_input": "2023-11-08T08:25:45.509910Z",
     "iopub.status.busy": "2023-11-08T08:25:45.509143Z",
     "iopub.status.idle": "2023-11-08T08:25:45.513833Z",
     "shell.execute_reply": "2023-11-08T08:25:45.513160Z"
    },
    "papermill": {
     "duration": 0.01839,
     "end_time": "2023-11-08T08:25:45.515789",
     "exception": false,
     "start_time": "2023-11-08T08:25:45.497399",
     "status": "completed"
    },
    "tags": []
   },
   "outputs": [],
   "source": [
    "freeze_k_layer(secBertModel, k=6)"
   ]
  },
  {
   "cell_type": "code",
   "execution_count": 17,
   "id": "35173d3e",
   "metadata": {
    "execution": {
     "iopub.execute_input": "2023-11-08T08:25:45.538887Z",
     "iopub.status.busy": "2023-11-08T08:25:45.538623Z",
     "iopub.status.idle": "2023-11-08T08:25:45.546187Z",
     "shell.execute_reply": "2023-11-08T08:25:45.545377Z"
    },
    "papermill": {
     "duration": 0.021128,
     "end_time": "2023-11-08T08:25:45.548003",
     "exception": false,
     "start_time": "2023-11-08T08:25:45.526875",
     "status": "completed"
    },
    "tags": []
   },
   "outputs": [],
   "source": [
    "class CustomDataset(torch.utils.data.Dataset):\n",
    "\n",
    "    def __init__(self, df, tokenizer, max_len):\n",
    "        self.tokenizer = tokenizer\n",
    "        self.df = df\n",
    "        self.title = df['text']\n",
    "        self.targets = self.df[target_list].values\n",
    "        self.max_len = max_len\n",
    "\n",
    "    def __len__(self):\n",
    "        return len(self.title)\n",
    "\n",
    "    def __getitem__(self, index):\n",
    "        title = str(self.title[index])\n",
    "        title = \" \".join(title.split())\n",
    "\n",
    "        inputs = self.tokenizer.encode_plus(\n",
    "            title,\n",
    "            None,\n",
    "            add_special_tokens=True,\n",
    "            max_length=self.max_len,\n",
    "            padding='max_length',\n",
    "            return_token_type_ids=True,\n",
    "            truncation=True,\n",
    "            return_attention_mask=True,\n",
    "            return_tensors='pt'\n",
    "        )\n",
    "\n",
    "        return {\n",
    "            'input_ids': inputs['input_ids'].flatten(),\n",
    "            'attention_mask': inputs['attention_mask'].flatten(),\n",
    "            'token_type_ids': inputs[\"token_type_ids\"].flatten(),\n",
    "            'targets': torch.FloatTensor(self.targets[index])\n",
    "        }"
   ]
  },
  {
   "cell_type": "code",
   "execution_count": 18,
   "id": "a0a686d9",
   "metadata": {
    "execution": {
     "iopub.execute_input": "2023-11-08T08:25:45.571192Z",
     "iopub.status.busy": "2023-11-08T08:25:45.570894Z",
     "iopub.status.idle": "2023-11-08T08:25:45.611873Z",
     "shell.execute_reply": "2023-11-08T08:25:45.610871Z"
    },
    "papermill": {
     "duration": 0.054995,
     "end_time": "2023-11-08T08:25:45.614122",
     "exception": false,
     "start_time": "2023-11-08T08:25:45.559127",
     "status": "completed"
    },
    "tags": []
   },
   "outputs": [],
   "source": [
    "train_size = 0.8\n",
    "train_df1 = train_df.sample(frac=train_size, random_state=200).reset_index(drop=True)\n",
    "val_df = train_df.drop(train_df1.index).reset_index(drop=True)"
   ]
  },
  {
   "cell_type": "code",
   "execution_count": 19,
   "id": "887af09a",
   "metadata": {
    "execution": {
     "iopub.execute_input": "2023-11-08T08:25:45.637929Z",
     "iopub.status.busy": "2023-11-08T08:25:45.637646Z",
     "iopub.status.idle": "2023-11-08T08:25:45.642286Z",
     "shell.execute_reply": "2023-11-08T08:25:45.641367Z"
    },
    "papermill": {
     "duration": 0.018621,
     "end_time": "2023-11-08T08:25:45.644349",
     "exception": false,
     "start_time": "2023-11-08T08:25:45.625728",
     "status": "completed"
    },
    "tags": []
   },
   "outputs": [
    {
     "name": "stdout",
     "output_type": "stream",
     "text": [
      "26851\n"
     ]
    }
   ],
   "source": [
    "print(len(val_df))"
   ]
  },
  {
   "cell_type": "code",
   "execution_count": 20,
   "id": "70dc9be3",
   "metadata": {
    "execution": {
     "iopub.execute_input": "2023-11-08T08:25:45.667783Z",
     "iopub.status.busy": "2023-11-08T08:25:45.667524Z",
     "iopub.status.idle": "2023-11-08T08:25:45.678087Z",
     "shell.execute_reply": "2023-11-08T08:25:45.677196Z"
    },
    "papermill": {
     "duration": 0.024549,
     "end_time": "2023-11-08T08:25:45.679994",
     "exception": false,
     "start_time": "2023-11-08T08:25:45.655445",
     "status": "completed"
    },
    "tags": []
   },
   "outputs": [],
   "source": [
    "train_dataset = CustomDataset(train_df1, tokenizer, MAX_LEN)\n",
    "valid_dataset = CustomDataset(val_df, tokenizer, MAX_LEN)"
   ]
  },
  {
   "cell_type": "code",
   "execution_count": 21,
   "id": "14c42a31",
   "metadata": {
    "execution": {
     "iopub.execute_input": "2023-11-08T08:25:45.703714Z",
     "iopub.status.busy": "2023-11-08T08:25:45.703463Z",
     "iopub.status.idle": "2023-11-08T08:25:45.708508Z",
     "shell.execute_reply": "2023-11-08T08:25:45.707711Z"
    },
    "papermill": {
     "duration": 0.018714,
     "end_time": "2023-11-08T08:25:45.710365",
     "exception": false,
     "start_time": "2023-11-08T08:25:45.691651",
     "status": "completed"
    },
    "tags": []
   },
   "outputs": [],
   "source": [
    "train_data_loader = torch.utils.data.DataLoader(train_dataset, \n",
    "    batch_size=TRAIN_BATCH_SIZE,\n",
    "    shuffle=True,\n",
    "    num_workers=0\n",
    ")\n",
    "\n",
    "val_data_loader = torch.utils.data.DataLoader(valid_dataset, \n",
    "    batch_size=VALID_BATCH_SIZE,\n",
    "    shuffle=False,\n",
    "    num_workers=0\n",
    ")"
   ]
  },
  {
   "cell_type": "code",
   "execution_count": 22,
   "id": "e4cf1b10",
   "metadata": {
    "execution": {
     "iopub.execute_input": "2023-11-08T08:25:45.733995Z",
     "iopub.status.busy": "2023-11-08T08:25:45.733705Z",
     "iopub.status.idle": "2023-11-08T08:25:45.837877Z",
     "shell.execute_reply": "2023-11-08T08:25:45.836996Z"
    },
    "papermill": {
     "duration": 0.118658,
     "end_time": "2023-11-08T08:25:45.840256",
     "exception": false,
     "start_time": "2023-11-08T08:25:45.721598",
     "status": "completed"
    },
    "tags": []
   },
   "outputs": [
    {
     "data": {
      "text/plain": [
       "device(type='cuda')"
      ]
     },
     "execution_count": 22,
     "metadata": {},
     "output_type": "execute_result"
    }
   ],
   "source": [
    "device = torch.device('cuda') if torch.cuda.is_available() else torch.device('cpu')\n",
    "device"
   ]
  },
  {
   "cell_type": "code",
   "execution_count": 23,
   "id": "79637988",
   "metadata": {
    "execution": {
     "iopub.execute_input": "2023-11-08T08:25:45.907663Z",
     "iopub.status.busy": "2023-11-08T08:25:45.907332Z",
     "iopub.status.idle": "2023-11-08T08:25:45.914112Z",
     "shell.execute_reply": "2023-11-08T08:25:45.913201Z"
    },
    "papermill": {
     "duration": 0.021884,
     "end_time": "2023-11-08T08:25:45.916007",
     "exception": false,
     "start_time": "2023-11-08T08:25:45.894123",
     "status": "completed"
    },
    "tags": []
   },
   "outputs": [],
   "source": [
    "class Branch(nn.Module):\n",
    "    def __init__(self, input_size, hidden1_size, hidden2_size, dropout, num_outputs):\n",
    "        super(Branch, self).__init__()\n",
    "\n",
    "        self.dense1 = nn.Linear(input_size, hidden1_size)\n",
    "        self.dropout = nn.Dropout(p=dropout)\n",
    "        self.dense2 = nn.Linear(hidden1_size, hidden2_size)\n",
    "        self.dense3 = nn.Linear(hidden2_size, num_outputs)\n",
    "\n",
    "    def forward(self, x):\n",
    "        out_dense1 = self.dense1(x)\n",
    "        out_dropout = self.dropout(out_dense1)\n",
    "        out_dense2 = self.dense2(out_dropout)\n",
    "        out_dense3 = self.dense3(out_dense2)\n",
    "\n",
    "        return out_dense3"
   ]
  },
  {
   "cell_type": "code",
   "execution_count": 24,
   "id": "d8cd1f72",
   "metadata": {
    "execution": {
     "iopub.execute_input": "2023-11-08T08:25:45.940098Z",
     "iopub.status.busy": "2023-11-08T08:25:45.939793Z",
     "iopub.status.idle": "2023-11-08T08:25:45.963906Z",
     "shell.execute_reply": "2023-11-08T08:25:45.963260Z"
    },
    "papermill": {
     "duration": 0.038612,
     "end_time": "2023-11-08T08:25:45.965903",
     "exception": false,
     "start_time": "2023-11-08T08:25:45.927291",
     "status": "completed"
    },
    "tags": []
   },
   "outputs": [],
   "source": [
    "class BaseModel(nn.Module):\n",
    "    def __init__(self, original_model, num_classes):\n",
    "        super(BaseModel, self).__init__()\n",
    "        self.num_classes = num_classes\n",
    "        self.original_model = original_model\n",
    "        self.branches = nn.ModuleList([Branch(768, 128, 64, 0.1, 2) for _ in range(num_classes)])\n",
    "        self.activation = nn.Softmax(dim=1)\n",
    "\n",
    "    def forward(self, input_ids, attention_mask=None, token_type_ids=None, labels=None):\n",
    "        out_bert = self.original_model(input_ids, attention_mask=attention_mask, token_type_ids=token_type_ids)\n",
    "        pooler_out = out_bert.pooler_output\n",
    "        output_branches = [branch(pooler_out) for branch in self.branches]\n",
    "        # outputs = [self.activation(out_branch) for out_branch in output_branches]\n",
    "\n",
    "        # apply softmax function for each branch\n",
    "        out_soft = [self.activation(out) for out in output_branches]\n",
    "        out_soft_max_indices = [torch.argmax(out, dim=1) for out in out_soft]\n",
    "        out_soft_max_indices = torch.stack(out_soft_max_indices, dim=1)\n",
    "\n",
    "        return out_soft, out_soft_max_indices\n",
    "\n",
    "secBertClassifierMultilabel = BaseModel(original_model=secBertModel, num_classes=num_class)"
   ]
  },
  {
   "cell_type": "code",
   "execution_count": 25,
   "id": "9984a51b",
   "metadata": {
    "execution": {
     "iopub.execute_input": "2023-11-08T08:25:45.989435Z",
     "iopub.status.busy": "2023-11-08T08:25:45.989163Z",
     "iopub.status.idle": "2023-11-08T08:25:45.996015Z",
     "shell.execute_reply": "2023-11-08T08:25:45.995179Z"
    },
    "papermill": {
     "duration": 0.020885,
     "end_time": "2023-11-08T08:25:45.997980",
     "exception": false,
     "start_time": "2023-11-08T08:25:45.977095",
     "status": "completed"
    },
    "tags": []
   },
   "outputs": [
    {
     "data": {
      "text/plain": [
       "BaseModel(\n",
       "  (original_model): BertModel(\n",
       "    (embeddings): BertEmbeddings(\n",
       "      (word_embeddings): Embedding(52000, 768, padding_idx=0)\n",
       "      (position_embeddings): Embedding(514, 768)\n",
       "      (token_type_embeddings): Embedding(1, 768)\n",
       "      (LayerNorm): LayerNorm((768,), eps=1e-12, elementwise_affine=True)\n",
       "      (dropout): Dropout(p=0.1, inplace=False)\n",
       "    )\n",
       "    (encoder): BertEncoder(\n",
       "      (layer): ModuleList(\n",
       "        (0-5): 6 x BertLayer(\n",
       "          (attention): BertAttention(\n",
       "            (self): BertSelfAttention(\n",
       "              (query): Linear(in_features=768, out_features=768, bias=True)\n",
       "              (key): Linear(in_features=768, out_features=768, bias=True)\n",
       "              (value): Linear(in_features=768, out_features=768, bias=True)\n",
       "              (dropout): Dropout(p=0.1, inplace=False)\n",
       "            )\n",
       "            (output): BertSelfOutput(\n",
       "              (dense): Linear(in_features=768, out_features=768, bias=True)\n",
       "              (LayerNorm): LayerNorm((768,), eps=1e-12, elementwise_affine=True)\n",
       "              (dropout): Dropout(p=0.1, inplace=False)\n",
       "            )\n",
       "          )\n",
       "          (intermediate): BertIntermediate(\n",
       "            (dense): Linear(in_features=768, out_features=3072, bias=True)\n",
       "            (intermediate_act_fn): GELUActivation()\n",
       "          )\n",
       "          (output): BertOutput(\n",
       "            (dense): Linear(in_features=3072, out_features=768, bias=True)\n",
       "            (LayerNorm): LayerNorm((768,), eps=1e-12, elementwise_affine=True)\n",
       "            (dropout): Dropout(p=0.1, inplace=False)\n",
       "          )\n",
       "        )\n",
       "      )\n",
       "    )\n",
       "    (pooler): BertPooler(\n",
       "      (dense): Linear(in_features=768, out_features=768, bias=True)\n",
       "      (activation): Tanh()\n",
       "    )\n",
       "  )\n",
       "  (branches): ModuleList(\n",
       "    (0-13): 14 x Branch(\n",
       "      (dense1): Linear(in_features=768, out_features=128, bias=True)\n",
       "      (dropout): Dropout(p=0.1, inplace=False)\n",
       "      (dense2): Linear(in_features=128, out_features=64, bias=True)\n",
       "      (dense3): Linear(in_features=64, out_features=2, bias=True)\n",
       "    )\n",
       "  )\n",
       "  (activation): Softmax(dim=1)\n",
       ")"
      ]
     },
     "execution_count": 25,
     "metadata": {},
     "output_type": "execute_result"
    }
   ],
   "source": [
    "secBertClassifierMultilabel"
   ]
  },
  {
   "cell_type": "code",
   "execution_count": 26,
   "id": "e3dbb34c",
   "metadata": {
    "execution": {
     "iopub.execute_input": "2023-11-08T08:25:46.022297Z",
     "iopub.status.busy": "2023-11-08T08:25:46.022045Z",
     "iopub.status.idle": "2023-11-08T08:25:54.890979Z",
     "shell.execute_reply": "2023-11-08T08:25:54.890018Z"
    },
    "papermill": {
     "duration": 8.883903,
     "end_time": "2023-11-08T08:25:54.893539",
     "exception": false,
     "start_time": "2023-11-08T08:25:46.009636",
     "status": "completed"
    },
    "tags": []
   },
   "outputs": [
    {
     "name": "stdout",
     "output_type": "stream",
     "text": [
      "tensor([[0, 0, 0, 0, 0, 0, 0, 0, 0, 0, 0, 1, 0, 0],\n",
      "        [0, 0, 1, 0, 0, 0, 0, 0, 0, 0, 0, 0, 0, 0],\n",
      "        [1, 0, 0, 0, 0, 0, 0, 0, 0, 0, 0, 0, 0, 0],\n",
      "        [0, 0, 0, 0, 1, 0, 0, 0, 0, 0, 0, 0, 0, 0],\n",
      "        [0, 0, 0, 0, 0, 0, 0, 0, 0, 0, 0, 0, 1, 0],\n",
      "        [0, 0, 0, 0, 0, 0, 0, 0, 0, 0, 0, 1, 0, 0],\n",
      "        [1, 0, 0, 0, 0, 0, 0, 0, 0, 0, 0, 0, 0, 0],\n",
      "        [0, 0, 0, 0, 0, 0, 0, 0, 0, 0, 0, 1, 0, 0],\n",
      "        [0, 0, 1, 0, 0, 0, 0, 0, 0, 0, 0, 0, 0, 0],\n",
      "        [0, 0, 0, 0, 1, 0, 0, 0, 0, 0, 0, 0, 0, 0],\n",
      "        [0, 0, 0, 0, 1, 0, 0, 0, 0, 0, 0, 0, 0, 0],\n",
      "        [0, 0, 1, 0, 0, 0, 0, 0, 0, 0, 0, 0, 0, 0],\n",
      "        [0, 0, 0, 0, 0, 0, 0, 0, 0, 0, 0, 0, 1, 0],\n",
      "        [1, 0, 0, 0, 0, 0, 0, 0, 0, 0, 0, 0, 0, 0],\n",
      "        [0, 0, 0, 0, 0, 0, 0, 0, 0, 0, 0, 0, 1, 0],\n",
      "        [1, 0, 0, 0, 0, 0, 0, 0, 0, 0, 0, 0, 0, 0],\n",
      "        [0, 0, 0, 0, 0, 0, 0, 0, 0, 0, 0, 1, 0, 0],\n",
      "        [0, 0, 0, 0, 1, 0, 0, 0, 0, 0, 0, 0, 0, 0],\n",
      "        [1, 0, 0, 0, 0, 0, 0, 0, 0, 0, 0, 0, 0, 0],\n",
      "        [0, 0, 0, 0, 0, 0, 0, 0, 0, 0, 0, 0, 1, 0],\n",
      "        [0, 0, 0, 0, 0, 0, 1, 0, 0, 0, 0, 0, 0, 0],\n",
      "        [0, 0, 0, 0, 0, 0, 0, 0, 0, 0, 0, 0, 1, 0],\n",
      "        [0, 0, 1, 0, 0, 0, 0, 0, 0, 0, 0, 0, 0, 0],\n",
      "        [0, 0, 0, 0, 0, 0, 0, 0, 0, 0, 0, 1, 0, 0],\n",
      "        [1, 0, 0, 0, 0, 0, 0, 0, 0, 0, 0, 0, 0, 0],\n",
      "        [0, 0, 0, 0, 0, 0, 0, 0, 0, 0, 0, 1, 0, 0],\n",
      "        [0, 0, 0, 0, 0, 0, 0, 0, 0, 0, 0, 0, 1, 0],\n",
      "        [0, 0, 0, 0, 1, 0, 0, 0, 0, 0, 0, 0, 0, 0],\n",
      "        [0, 0, 0, 0, 1, 0, 0, 0, 0, 0, 0, 0, 0, 0],\n",
      "        [0, 0, 0, 0, 0, 0, 0, 0, 0, 0, 0, 1, 0, 0],\n",
      "        [0, 0, 0, 0, 0, 0, 0, 0, 0, 0, 0, 1, 0, 0],\n",
      "        [0, 0, 0, 0, 1, 0, 0, 0, 0, 0, 0, 0, 0, 0]], device='cuda:0')\n",
      "--------\n",
      "tensor([[1, 1, 1, 1, 0, 0, 1, 1, 0, 0, 0, 1, 0, 1],\n",
      "        [1, 1, 1, 1, 0, 0, 1, 1, 0, 0, 1, 1, 1, 1],\n",
      "        [1, 1, 1, 1, 1, 0, 1, 1, 0, 0, 0, 1, 1, 1],\n",
      "        [1, 1, 1, 1, 0, 0, 1, 1, 0, 0, 0, 1, 1, 1],\n",
      "        [1, 1, 1, 1, 0, 0, 1, 1, 0, 0, 0, 1, 1, 0],\n",
      "        [1, 1, 1, 1, 0, 0, 1, 1, 0, 0, 0, 1, 1, 1],\n",
      "        [1, 1, 1, 1, 0, 0, 1, 1, 0, 0, 0, 1, 0, 1],\n",
      "        [1, 1, 1, 1, 0, 0, 1, 1, 0, 0, 0, 1, 1, 1],\n",
      "        [1, 1, 1, 1, 1, 0, 1, 1, 0, 0, 0, 1, 1, 1],\n",
      "        [1, 1, 1, 1, 0, 0, 0, 1, 0, 0, 0, 1, 1, 1],\n",
      "        [1, 1, 1, 1, 1, 0, 1, 1, 0, 0, 1, 1, 1, 0],\n",
      "        [1, 1, 1, 1, 1, 0, 1, 1, 0, 0, 1, 1, 1, 1],\n",
      "        [1, 1, 1, 1, 1, 1, 1, 1, 0, 0, 0, 1, 1, 0],\n",
      "        [1, 1, 1, 1, 0, 0, 1, 1, 0, 0, 0, 1, 1, 0],\n",
      "        [1, 1, 1, 1, 1, 0, 1, 1, 0, 0, 0, 1, 1, 0],\n",
      "        [1, 1, 1, 1, 0, 0, 1, 1, 0, 0, 0, 1, 1, 1],\n",
      "        [1, 1, 1, 1, 1, 0, 1, 1, 0, 0, 0, 1, 1, 1],\n",
      "        [1, 0, 1, 1, 1, 0, 0, 1, 0, 0, 0, 1, 1, 1],\n",
      "        [1, 1, 1, 1, 1, 0, 1, 1, 1, 0, 0, 1, 1, 1],\n",
      "        [1, 1, 1, 1, 0, 0, 1, 1, 0, 0, 0, 1, 1, 1],\n",
      "        [1, 1, 1, 1, 1, 0, 1, 1, 1, 0, 0, 1, 0, 1],\n",
      "        [1, 1, 1, 1, 0, 0, 1, 1, 0, 0, 0, 1, 1, 1],\n",
      "        [1, 1, 1, 1, 1, 0, 1, 1, 0, 0, 0, 1, 1, 1],\n",
      "        [1, 1, 1, 1, 0, 1, 1, 1, 0, 0, 0, 1, 1, 1],\n",
      "        [1, 0, 1, 1, 0, 1, 1, 1, 0, 0, 0, 1, 1, 1],\n",
      "        [1, 1, 1, 1, 0, 0, 1, 1, 0, 0, 0, 1, 1, 1],\n",
      "        [1, 1, 1, 1, 0, 0, 1, 1, 0, 0, 0, 1, 1, 1],\n",
      "        [1, 1, 1, 1, 1, 0, 1, 1, 0, 0, 0, 1, 1, 0],\n",
      "        [1, 0, 1, 1, 0, 0, 0, 1, 0, 0, 0, 1, 1, 1],\n",
      "        [1, 1, 1, 1, 1, 0, 1, 1, 0, 0, 0, 1, 1, 1],\n",
      "        [1, 1, 1, 1, 1, 0, 1, 1, 0, 0, 0, 1, 1, 1],\n",
      "        [1, 1, 1, 1, 0, 0, 1, 1, 0, 0, 0, 1, 1, 0]], device='cuda:0')\n"
     ]
    }
   ],
   "source": [
    "model = secBertClassifierMultilabel\n",
    "model.to(device)\n",
    "for step, batch in enumerate(train_data_loader):\n",
    "        # push the batch to gpu\n",
    "        ids = batch['input_ids'].to(device, dtype = torch.long)\n",
    "        mask = batch['attention_mask'].to(device, dtype = torch.long)\n",
    "        token_type_ids = batch['token_type_ids'].to(device, dtype = torch.long)\n",
    "        targets = batch['targets'].to(device, dtype = torch.long)\n",
    "\n",
    "        preds, max_indices = model(ids, attention_mask=mask, token_type_ids=token_type_ids)\n",
    "        print(targets)\n",
    "        print('--------')\n",
    "        print(max_indices)\n",
    "        break"
   ]
  },
  {
   "cell_type": "code",
   "execution_count": 27,
   "id": "acc48314",
   "metadata": {
    "execution": {
     "iopub.execute_input": "2023-11-08T08:25:54.918919Z",
     "iopub.status.busy": "2023-11-08T08:25:54.918637Z",
     "iopub.status.idle": "2023-11-08T08:25:54.924495Z",
     "shell.execute_reply": "2023-11-08T08:25:54.923681Z"
    },
    "papermill": {
     "duration": 0.02068,
     "end_time": "2023-11-08T08:25:54.926470",
     "exception": false,
     "start_time": "2023-11-08T08:25:54.905790",
     "status": "completed"
    },
    "tags": []
   },
   "outputs": [],
   "source": [
    "def calculate_score(y_true, preds, score_type=''):\n",
    "    acc_score = 0.0\n",
    "    if score_type=='multioutput':\n",
    "        num_acc = 0\n",
    "        for i in range(len(y_true)):\n",
    "            if np.array_equal(y_true[i], preds[i]):\n",
    "                num_acc+=1\n",
    "        if len(y_true) != 0:\n",
    "            acc_score = num_acc / len(y_true)\n",
    "        else:\n",
    "            acc_score = 0\n",
    "    else:\n",
    "        acc_score = accuracy_score(y_true, preds)\n",
    "\n",
    "    return acc_score"
   ]
  },
  {
   "cell_type": "code",
   "execution_count": 28,
   "id": "ae1f601e",
   "metadata": {
    "execution": {
     "iopub.execute_input": "2023-11-08T08:25:54.952588Z",
     "iopub.status.busy": "2023-11-08T08:25:54.952289Z",
     "iopub.status.idle": "2023-11-08T08:25:54.962586Z",
     "shell.execute_reply": "2023-11-08T08:25:54.961731Z"
    },
    "papermill": {
     "duration": 0.025729,
     "end_time": "2023-11-08T08:25:54.964531",
     "exception": false,
     "start_time": "2023-11-08T08:25:54.938802",
     "status": "completed"
    },
    "tags": []
   },
   "outputs": [],
   "source": [
    "def train_steps(training_loader, model, loss_f, optimizer, score_type=''):\n",
    "    print('Training...')\n",
    "    training_loss = 0\n",
    "    n_correct = 0\n",
    "    nb_tr_steps = 0\n",
    "    nb_tr_examples = 0\n",
    "    train_acc = 0.\n",
    "    train_f1 = 0.\n",
    "    misclassify_train_data = {}\n",
    "\n",
    "    model.train()\n",
    "\n",
    "    for step, batch in enumerate(training_loader):\n",
    "        # push the batch to gpu\n",
    "        ids = batch['input_ids'].to(device, dtype = torch.long)\n",
    "        mask = batch['attention_mask'].to(device, dtype = torch.long)\n",
    "        token_type_ids = batch['token_type_ids'].to(device, dtype = torch.long)\n",
    "        targets = batch['targets'].to(device, dtype = torch.long)\n",
    "\n",
    "        preds, max_indices = model(ids, attention_mask=mask, token_type_ids=token_type_ids)\n",
    "\n",
    "        # calculate the loss for each branch\n",
    "        losses = [loss_f(preds[i], targets[:, i]) for i in range(targets.shape[1])]\n",
    "        average_loss = sum(losses) / targets.shape[1]\n",
    "        training_loss += average_loss.item()\n",
    "\n",
    "        label_ids = targets.to('cpu').numpy()\n",
    "        max_indices = max_indices.detach().cpu().numpy()\n",
    "        acc_score = calculate_score(label_ids, max_indices, score_type)\n",
    "        train_acc += acc_score\n",
    "\n",
    "#         if is_find_miss:\n",
    "#             misclassify_data = get_misclassified_data(label_ids, max_indices, indices)\n",
    "#             misclassify_train_data.update(misclassify_data)\n",
    "\n",
    "        nb_tr_steps += 1\n",
    "\n",
    "        optimizer.zero_grad()\n",
    "        average_loss.backward()\n",
    "        torch.nn.utils.clip_grad_norm_(model.parameters(), 1.0)\n",
    "        # When using GPU\n",
    "        optimizer.step()\n",
    "\n",
    "    epoch_loss = training_loss / nb_tr_steps\n",
    "    epoch_acc = train_acc / nb_tr_steps\n",
    "\n",
    "    return epoch_loss, epoch_acc, misclassify_train_data"
   ]
  },
  {
   "cell_type": "code",
   "execution_count": 29,
   "id": "8cce2d16",
   "metadata": {
    "execution": {
     "iopub.execute_input": "2023-11-08T08:25:54.989175Z",
     "iopub.status.busy": "2023-11-08T08:25:54.988889Z",
     "iopub.status.idle": "2023-11-08T08:25:54.998195Z",
     "shell.execute_reply": "2023-11-08T08:25:54.997422Z"
    },
    "papermill": {
     "duration": 0.024022,
     "end_time": "2023-11-08T08:25:55.000377",
     "exception": false,
     "start_time": "2023-11-08T08:25:54.976355",
     "status": "completed"
    },
    "tags": []
   },
   "outputs": [],
   "source": [
    "def evaluate_steps(validating_loader, model, loss_f, score_type='', **kwargs):\n",
    "    print(\"\\nEvaluating...\")\n",
    "\n",
    "    # deactivate dropout layers\n",
    "    model.eval()\n",
    "\n",
    "    total_loss, total_accuracy = 0, 0\n",
    "\n",
    "    # empty list to save the model predictions\n",
    "    total_preds = []\n",
    "    total_labels = []\n",
    "    # iterate over batches\n",
    "    for step, batch in enumerate(validating_loader):\n",
    "        # push the batch to gpu\n",
    "        ids = batch['input_ids'].to(device, dtype = torch.long)\n",
    "        mask = batch['attention_mask'].to(device, dtype = torch.long)\n",
    "        token_type_ids = batch['token_type_ids'].to(device, dtype = torch.long)\n",
    "        targets = batch['targets'].to(device, dtype = torch.long)\n",
    "\n",
    "        # deactivate autograd\n",
    "        with torch.no_grad():\n",
    "            # model predictions\n",
    "            preds, max_indices = model(ids, attention_mask=mask, token_type_ids=token_type_ids)\n",
    "\n",
    "            # compute the validation loss between actual and predicted values\n",
    "            losses = [loss_f(preds[i], targets[:, i]) for i in range(targets.shape[1])]\n",
    "            average_loss = sum(losses) / targets.shape[1]\n",
    "            total_loss += average_loss.item()\n",
    "\n",
    "            max_indices = max_indices.detach().cpu().numpy()\n",
    "            total_preds += list(max_indices)\n",
    "            total_labels += targets.tolist()\n",
    "    # compute the validation loss of the epoch\n",
    "    if len(validating_loader) != 0:\n",
    "        avg_loss = total_loss / len(validating_loader)\n",
    "    else:\n",
    "        avg_loss = 0\n",
    "    acc_score = calculate_score(total_labels, total_preds, score_type)\n",
    "\n",
    "    return avg_loss, acc_score"
   ]
  },
  {
   "cell_type": "code",
   "execution_count": 30,
   "id": "4dceebdb",
   "metadata": {
    "execution": {
     "iopub.execute_input": "2023-11-08T08:25:55.025975Z",
     "iopub.status.busy": "2023-11-08T08:25:55.025411Z",
     "iopub.status.idle": "2023-11-08T08:25:55.033431Z",
     "shell.execute_reply": "2023-11-08T08:25:55.032599Z"
    },
    "papermill": {
     "duration": 0.022649,
     "end_time": "2023-11-08T08:25:55.035362",
     "exception": false,
     "start_time": "2023-11-08T08:25:55.012713",
     "status": "completed"
    },
    "tags": []
   },
   "outputs": [],
   "source": [
    "def train(epochs, model, optimizer, criterion, dataloader, score_type='multioutput', save_dir='/kaggle/working/', is_find_miss=True):\n",
    "    data_train_loader, data_val_loader = dataloader\n",
    "    # set initial loss to infinite\n",
    "    best_valid_loss = float('inf')\n",
    "    train_losses = []\n",
    "    valid_losses = []\n",
    "    train_accuracies = []\n",
    "    valid_accuracies = []\n",
    "    misclassify_train_data = {}\n",
    "\n",
    "    for epoch in range(epochs):\n",
    "        print('Epoch {}/{} '.format(epoch + 1, epochs))\n",
    "        start_time = time.time()\n",
    "        train_loss, train_acc, misclassify_train_steps_data = train_steps(data_train_loader, model, criterion, optimizer, score_type=score_type)\n",
    "        valid_loss, valid_acc = evaluate_steps(data_val_loader, model, criterion, score_type=score_type)\n",
    "\n",
    "    # save the best model\n",
    "        if valid_loss < best_valid_loss:\n",
    "            best_valid_loss = valid_loss\n",
    "#             torch.save(model.state_dict(), save_dir)\n",
    "        # append training and validation loss\n",
    "        train_losses.append(train_loss)\n",
    "        valid_losses.append(valid_loss)\n",
    "        train_accuracies.append(train_acc)\n",
    "        valid_accuracies.append(valid_acc)\n",
    "        misclassify_train_data.update(misclassify_train_steps_data)\n",
    "\n",
    "        elapsed_time = time.time() - start_time\n",
    "\n",
    "        print('\\t loss={:.4f} \\t accuracy={:.4f} \\t val_loss={:.4f}  \\t val_acc={:.4f}  \\t time={:.2f}s'.format(train_loss, train_acc, valid_loss, valid_acc, elapsed_time))\n",
    "\n",
    "    return train_accuracies, valid_accuracies, train_losses, valid_losses, misclassify_train_data"
   ]
  },
  {
   "cell_type": "markdown",
   "id": "3c5fb115",
   "metadata": {
    "papermill": {
     "duration": 0.011779,
     "end_time": "2023-11-08T08:25:55.058787",
     "exception": false,
     "start_time": "2023-11-08T08:25:55.047008",
     "status": "completed"
    },
    "tags": []
   },
   "source": [
    "**Train SecBert-Escort model**"
   ]
  },
  {
   "cell_type": "code",
   "execution_count": 31,
   "id": "d8cf9168",
   "metadata": {
    "execution": {
     "iopub.execute_input": "2023-11-08T08:25:55.083289Z",
     "iopub.status.busy": "2023-11-08T08:25:55.083042Z",
     "iopub.status.idle": "2023-11-08T08:25:55.086868Z",
     "shell.execute_reply": "2023-11-08T08:25:55.086016Z"
    },
    "papermill": {
     "duration": 0.018465,
     "end_time": "2023-11-08T08:25:55.089011",
     "exception": false,
     "start_time": "2023-11-08T08:25:55.070546",
     "status": "completed"
    },
    "tags": []
   },
   "outputs": [],
   "source": [
    "import time\n",
    "import matplotlib.pyplot as plt"
   ]
  },
  {
   "cell_type": "code",
   "execution_count": 32,
   "id": "a868ea7d",
   "metadata": {
    "execution": {
     "iopub.execute_input": "2023-11-08T08:25:55.121596Z",
     "iopub.status.busy": "2023-11-08T08:25:55.120819Z",
     "iopub.status.idle": "2023-11-08T08:25:55.128794Z",
     "shell.execute_reply": "2023-11-08T08:25:55.127725Z"
    },
    "papermill": {
     "duration": 0.029417,
     "end_time": "2023-11-08T08:25:55.131312",
     "exception": false,
     "start_time": "2023-11-08T08:25:55.101895",
     "status": "completed"
    },
    "tags": []
   },
   "outputs": [],
   "source": [
    "def plot_graph(epochs, train, valid, tittle):\n",
    "    fig = plt.figure(figsize=(12,12))\n",
    "    plt.title(tittle)\n",
    "    plt.plot(list(np.arange(epochs) + 1) , train, label='train')\n",
    "    plt.plot(list(np.arange(epochs) + 1), valid, label='validation')\n",
    "    plt.xlabel('num_epochs', fontsize=12)\n",
    "    plt.ylabel('loss', fontsize=12)\n",
    "    plt.legend(loc='best')"
   ]
  },
  {
   "cell_type": "code",
   "execution_count": 33,
   "id": "1a7cd4f4",
   "metadata": {
    "execution": {
     "iopub.execute_input": "2023-11-08T08:25:55.169878Z",
     "iopub.status.busy": "2023-11-08T08:25:55.169571Z",
     "iopub.status.idle": "2023-11-08T13:22:47.083883Z",
     "shell.execute_reply": "2023-11-08T13:22:47.082893Z"
    },
    "papermill": {
     "duration": 17811.929904,
     "end_time": "2023-11-08T13:22:47.086392",
     "exception": false,
     "start_time": "2023-11-08T08:25:55.156488",
     "status": "completed"
    },
    "tags": []
   },
   "outputs": [
    {
     "name": "stdout",
     "output_type": "stream",
     "text": [
      "Epoch 1/10 \n",
      "Training...\n",
      "\n",
      "Evaluating...\n",
      "\t loss=0.3728 \t accuracy=0.3249 \t val_loss=0.3945  \t val_acc=0.0000  \t time=1776.52s\n",
      "Epoch 2/10 \n",
      "Training...\n",
      "\n",
      "Evaluating...\n",
      "\t loss=0.3526 \t accuracy=0.5249 \t val_loss=0.3947  \t val_acc=0.0000  \t time=1780.03s\n",
      "Epoch 3/10 \n",
      "Training...\n",
      "\n",
      "Evaluating...\n",
      "\t loss=0.3481 \t accuracy=0.5858 \t val_loss=0.3946  \t val_acc=0.0000  \t time=1779.90s\n",
      "Epoch 4/10 \n",
      "Training...\n",
      "\n",
      "Evaluating...\n",
      "\t loss=0.3479 \t accuracy=0.5867 \t val_loss=0.3946  \t val_acc=0.0000  \t time=1779.49s\n",
      "Epoch 5/10 \n",
      "Training...\n",
      "\n",
      "Evaluating...\n",
      "\t loss=0.3478 \t accuracy=0.5867 \t val_loss=0.3945  \t val_acc=0.0000  \t time=1781.41s\n",
      "Epoch 6/10 \n",
      "Training...\n",
      "\n",
      "Evaluating...\n",
      "\t loss=0.3478 \t accuracy=0.5875 \t val_loss=0.3945  \t val_acc=0.0000  \t time=1783.90s\n",
      "Epoch 7/10 \n",
      "Training...\n",
      "\n",
      "Evaluating...\n",
      "\t loss=0.3478 \t accuracy=0.5881 \t val_loss=0.3945  \t val_acc=0.0000  \t time=1783.45s\n",
      "Epoch 8/10 \n",
      "Training...\n",
      "\n",
      "Evaluating...\n",
      "\t loss=0.3474 \t accuracy=0.5913 \t val_loss=0.3945  \t val_acc=0.0000  \t time=1782.19s\n",
      "Epoch 9/10 \n",
      "Training...\n",
      "\n",
      "Evaluating...\n",
      "\t loss=0.3473 \t accuracy=0.5925 \t val_loss=0.3945  \t val_acc=0.0000  \t time=1781.70s\n",
      "Epoch 10/10 \n",
      "Training...\n",
      "\n",
      "Evaluating...\n",
      "\t loss=0.3473 \t accuracy=0.5924 \t val_loss=0.3945  \t val_acc=0.0000  \t time=1782.49s\n"
     ]
    },
    {
     "data": {
      "text/plain": [
       "'\\nEvaluate model on test set and save the result\\n'"
      ]
     },
     "execution_count": 33,
     "metadata": {},
     "output_type": "execute_result"
    },
    {
     "data": {
      "image/png": "[encoded data removed]",
      "text/plain": [
       "<Figure size 1200x1200 with 1 Axes>"
      ]
     },
     "metadata": {},
     "output_type": "display_data"
    },
    {
     "data": {
      "image/png": "[encoded data removed]",
      "text/plain": [
       "<Figure size 1200x1200 with 1 Axes>"
      ]
     },
     "metadata": {},
     "output_type": "display_data"
    }
   ],
   "source": [
    "secBertClassifierMultilabel.to(device)\n",
    "\n",
    "# Creating the loss function and optimizer\n",
    "criterion = nn.CrossEntropyLoss()\n",
    "optimizer = torch.optim.Adam(params = secBertClassifierMultilabel.parameters(), lr=LEARNING_RATE)\n",
    "\n",
    "train_accuracies, valid_accuracies, train_losses, valid_losses, misclassify_train_data = train(EPOCHS, secBertClassifierMultilabel, optimizer, criterion, (train_data_loader, val_data_loader))\n",
    "# df = pd.DataFrame.from_dict(misclassify_train_data, orient='index', columns=labels)\n",
    "# df.index.name = 'X_train_index'\n",
    "# df.to_csv(data_folder+'misclassified-data.csv')\n",
    "\n",
    "\"\"\"\n",
    "Plot the result of training process\n",
    "\"\"\"\n",
    "plot_graph(EPOCHS, train_losses, valid_losses, \"Train/Validation Loss\")\n",
    "plot_graph(EPOCHS, train_accuracies, valid_accuracies, \"Train/Validation Accuracy\")\n",
    "\n",
    "\"\"\"\n",
    "Evaluate model on test set and save the result\n",
    "\"\"\"\n",
    "# total_labels, total_preds = predict(testing_loader, secBertClassifierMultilabel)\n",
    "# df_labels = pd.DataFrame(total_labels, columns=labels)\n",
    "# df_preds = pd.DataFrame(total_preds, columns=labels)\n",
    "\n",
    "# df_labels.to_csv(data_folder+'labels-test-secbert-escort.csv')\n",
    "# df_preds.to_csv(data_folder+'preds-secbert-escort.csv')\n",
    "\n",
    "# save_classification(y_test=np.array(total_labels), y_pred=np.array(total_preds), labels=labels, out_dir='escort-secbert.csv')"
   ]
  },
  {
   "cell_type": "code",
   "execution_count": 34,
   "id": "017b6ad7",
   "metadata": {
    "execution": {
     "iopub.execute_input": "2023-11-08T13:22:47.120754Z",
     "iopub.status.busy": "2023-11-08T13:22:47.120426Z",
     "iopub.status.idle": "2023-11-08T13:22:47.124988Z",
     "shell.execute_reply": "2023-11-08T13:22:47.123860Z"
    },
    "papermill": {
     "duration": 0.023914,
     "end_time": "2023-11-08T13:22:47.127114",
     "exception": false,
     "start_time": "2023-11-08T13:22:47.103200",
     "status": "completed"
    },
    "tags": []
   },
   "outputs": [],
   "source": [
    "from sklearn.metrics import hamming_loss"
   ]
  },
  {
   "cell_type": "code",
   "execution_count": 35,
   "id": "30816cb4",
   "metadata": {
    "execution": {
     "iopub.execute_input": "2023-11-08T13:22:47.160787Z",
     "iopub.status.busy": "2023-11-08T13:22:47.160498Z",
     "iopub.status.idle": "2023-11-08T13:22:47.170171Z",
     "shell.execute_reply": "2023-11-08T13:22:47.169255Z"
    },
    "papermill": {
     "duration": 0.028925,
     "end_time": "2023-11-08T13:22:47.172169",
     "exception": false,
     "start_time": "2023-11-08T13:22:47.143244",
     "status": "completed"
    },
    "tags": []
   },
   "outputs": [],
   "source": [
    "def save_classification(y_test, y_pred, labels):\n",
    "    if isinstance(y_pred, np.ndarray) == False:\n",
    "        y_pred = y_pred.toarray()\n",
    "\n",
    "    def accuracy(y_true, y_pred):\n",
    "        temp = 0\n",
    "        for i in range(y_true.shape[0]):\n",
    "            numerator = sum(np.logical_and(y_true[i], y_pred[i]))\n",
    "            denominator = sum(np.logical_or(y_true[i], y_pred[i]))\n",
    "            if denominator != 0:\n",
    "                temp += numerator / denominator\n",
    "        return temp / y_true.shape[0]\n",
    "\n",
    "    out = classification_report(y_test,y_pred, output_dict=True, target_names=labels)\n",
    "    total_support = out['samples avg']['support']\n",
    "\n",
    "    mr = accuracy_score(y_test, y_pred)\n",
    "    acc = accuracy(y_test,y_pred)\n",
    "    hm = hamming_loss(y_test, y_pred)\n",
    "\n",
    "    out['Exact Match Ratio'] = {'precision': mr, 'recall': mr, 'f1-score': mr, 'support': total_support}\n",
    "    out['Hamming Loss'] = {'precision': hm, 'recall': hm, 'f1-score': hm, 'support': total_support}\n",
    "    out['Accuracy'] = {'precision': acc, 'recall': acc, 'f1-score': acc, 'support': total_support}\n",
    "    out_df = pd.DataFrame(out).transpose()\n",
    "    print(out_df)\n",
    "\n",
    "    \n",
    "\n",
    "    return out_df"
   ]
  },
  {
   "cell_type": "code",
   "execution_count": null,
   "id": "a47e14e1",
   "metadata": {
    "papermill": {
     "duration": 0.015158,
     "end_time": "2023-11-08T13:22:47.203854",
     "exception": false,
     "start_time": "2023-11-08T13:22:47.188696",
     "status": "completed"
    },
    "tags": []
   },
   "outputs": [],
   "source": []
  },
  {
   "cell_type": "code",
   "execution_count": 36,
   "id": "de894b37",
   "metadata": {
    "execution": {
     "iopub.execute_input": "2023-11-08T13:22:47.239435Z",
     "iopub.status.busy": "2023-11-08T13:22:47.239104Z",
     "iopub.status.idle": "2023-11-08T13:22:47.247145Z",
     "shell.execute_reply": "2023-11-08T13:22:47.246106Z"
    },
    "papermill": {
     "duration": 0.028704,
     "end_time": "2023-11-08T13:22:47.249399",
     "exception": false,
     "start_time": "2023-11-08T13:22:47.220695",
     "status": "completed"
    },
    "tags": []
   },
   "outputs": [],
   "source": [
    "def predict(testing_loader, model):\n",
    "    print(\"\\nPredicting...\")\n",
    "    # deactivate dropout layers\n",
    "    model.eval()\n",
    "\n",
    "    # empty list to save the model predictions\n",
    "    total_preds = []\n",
    "    total_labels = []\n",
    "    # iterate over batches\n",
    "    for step, batch in enumerate(testing_loader):\n",
    "        # push the batch to gpu\n",
    "        ids = batch['input_ids'].to(device)\n",
    "        mask = batch['attention_mask'].to(device)\n",
    "        token_type_ids = batch['token_type_ids'].to(device)\n",
    "        targets = batch['targets'].to(device)\n",
    "\n",
    "        # deactivate autograd\n",
    "        with torch.no_grad():\n",
    "            # model predictions\n",
    "            preds, max_indices = model(ids, attention_mask=mask, token_type_ids=token_type_ids)\n",
    "\n",
    "            max_indices = max_indices.detach().cpu().numpy()\n",
    "            total_preds += list(max_indices)\n",
    "            total_labels += targets.tolist()\n",
    "\n",
    "    return total_labels, total_preds"
   ]
  },
  {
   "cell_type": "code",
   "execution_count": 37,
   "id": "096d895e",
   "metadata": {
    "execution": {
     "iopub.execute_input": "2023-11-08T13:22:47.284876Z",
     "iopub.status.busy": "2023-11-08T13:22:47.284545Z",
     "iopub.status.idle": "2023-11-08T13:36:13.438419Z",
     "shell.execute_reply": "2023-11-08T13:36:13.437385Z"
    },
    "papermill": {
     "duration": 806.174191,
     "end_time": "2023-11-08T13:36:13.440692",
     "exception": false,
     "start_time": "2023-11-08T13:22:47.266501",
     "status": "completed"
    },
    "tags": []
   },
   "outputs": [
    {
     "name": "stdout",
     "output_type": "stream",
     "text": [
      "\n",
      "Predicting...\n"
     ]
    },
    {
     "name": "stderr",
     "output_type": "stream",
     "text": [
      "/opt/conda/lib/python3.10/site-packages/sklearn/metrics/_classification.py:1344: UndefinedMetricWarning: Precision and F-score are ill-defined and being set to 0.0 in labels with no predicted samples. Use `zero_division` parameter to control this behavior.\n",
      "  _warn_prf(average, modifier, msg_start, len(result))\n",
      "/opt/conda/lib/python3.10/site-packages/sklearn/metrics/_classification.py:1344: UndefinedMetricWarning: Recall and F-score are ill-defined and being set to 0.0 in labels with no true samples. Use `zero_division` parameter to control this behavior.\n",
      "  _warn_prf(average, modifier, msg_start, len(result))\n",
      "/opt/conda/lib/python3.10/site-packages/sklearn/metrics/_classification.py:1344: UndefinedMetricWarning: Precision and F-score are ill-defined and being set to 0.0 in samples with no predicted labels. Use `zero_division` parameter to control this behavior.\n",
      "  _warn_prf(average, modifier, msg_start, len(result))\n"
     ]
    },
    {
     "name": "stdout",
     "output_type": "stream",
     "text": [
      "                                        precision    recall  f1-score  \\\n",
      "000 - Normal                             0.932819  0.970340  0.951210   \n",
      "272 - Protocol Manipulation              0.000000  0.000000  0.000000   \n",
      "242 - Code Injection                     0.000000  0.000000  0.000000   \n",
      "88 - OS Command Injection                0.000000  0.000000  0.000000   \n",
      "126 - Path Traversal                     0.986172  0.896647  0.939281   \n",
      "66 - SQL Injection                       0.000000  0.000000  0.000000   \n",
      "16 - Dictionary-based Password Attack    0.000000  0.000000  0.000000   \n",
      "310 - Scanning for Vulnerable Software   0.000000  0.000000  0.000000   \n",
      "153 - Input Data Manipulation            0.000000  0.000000  0.000000   \n",
      "248 - Command Injection                  0.000000  0.000000  0.000000   \n",
      "274 - HTTP Verb Tampering                0.000000  0.000000  0.000000   \n",
      "194 - Fake the Source of Data            0.999413  0.917333  0.956616   \n",
      "34 - HTTP Response Splitting             0.000000  0.000000  0.000000   \n",
      "33 - HTTP Request Smuggling              0.000000  0.000000  0.000000   \n",
      "micro avg                                0.976062  0.564258  0.715112   \n",
      "macro avg                                0.208457  0.198880  0.203365   \n",
      "weighted avg                             0.594345  0.564258  0.578428   \n",
      "samples avg                              0.596752  0.595034  0.595583   \n",
      "Exact Match Ratio                        0.593224  0.593224  0.593224   \n",
      "Hamming Loss                             0.033965  0.033965  0.033965   \n",
      "Accuracy                                 0.594987  0.594987  0.594987   \n",
      "\n",
      "                                         support  \n",
      "000 - Normal                             19690.0  \n",
      "272 - Protocol Manipulation               1914.0  \n",
      "242 - Code Injection                     12585.0  \n",
      "88 - OS Command Injection                 1856.0  \n",
      "126 - Path Traversal                     14078.0  \n",
      "66 - SQL Injection                        1726.0  \n",
      "16 - Dictionary-based Password Attack     1472.0  \n",
      "310 - Scanning for Vulnerable Software    2157.0  \n",
      "153 - Input Data Manipulation             1821.0  \n",
      "248 - Command Injection                      0.0  \n",
      "274 - HTTP Verb Tampering                 4403.0  \n",
      "194 - Fake the Source of Data            35286.0  \n",
      "34 - HTTP Response Splitting             15756.0  \n",
      "33 - HTTP Request Smuggling                853.0  \n",
      "micro avg                               113597.0  \n",
      "macro avg                               113597.0  \n",
      "weighted avg                            113597.0  \n",
      "samples avg                             113597.0  \n",
      "Exact Match Ratio                       113597.0  \n",
      "Hamming Loss                            113597.0  \n",
      "Accuracy                                113597.0  \n"
     ]
    },
    {
     "data": {
      "text/html": [
       "<div>\n",
       "<style scoped>\n",
       "    .dataframe tbody tr th:only-of-type {\n",
       "        vertical-align: middle;\n",
       "    }\n",
       "\n",
       "    .dataframe tbody tr th {\n",
       "        vertical-align: top;\n",
       "    }\n",
       "\n",
       "    .dataframe thead th {\n",
       "        text-align: right;\n",
       "    }\n",
       "</style>\n",
       "<table border=\"1\" class=\"dataframe\">\n",
       "  <thead>\n",
       "    <tr style=\"text-align: right;\">\n",
       "      <th></th>\n",
       "      <th>precision</th>\n",
       "      <th>recall</th>\n",
       "      <th>f1-score</th>\n",
       "      <th>support</th>\n",
       "    </tr>\n",
       "  </thead>\n",
       "  <tbody>\n",
       "    <tr>\n",
       "      <th>000 - Normal</th>\n",
       "      <td>0.932819</td>\n",
       "      <td>0.970340</td>\n",
       "      <td>0.951210</td>\n",
       "      <td>19690.0</td>\n",
       "    </tr>\n",
       "    <tr>\n",
       "      <th>272 - Protocol Manipulation</th>\n",
       "      <td>0.000000</td>\n",
       "      <td>0.000000</td>\n",
       "      <td>0.000000</td>\n",
       "      <td>1914.0</td>\n",
       "    </tr>\n",
       "    <tr>\n",
       "      <th>242 - Code Injection</th>\n",
       "      <td>0.000000</td>\n",
       "      <td>0.000000</td>\n",
       "      <td>0.000000</td>\n",
       "      <td>12585.0</td>\n",
       "    </tr>\n",
       "    <tr>\n",
       "      <th>88 - OS Command Injection</th>\n",
       "      <td>0.000000</td>\n",
       "      <td>0.000000</td>\n",
       "      <td>0.000000</td>\n",
       "      <td>1856.0</td>\n",
       "    </tr>\n",
       "    <tr>\n",
       "      <th>126 - Path Traversal</th>\n",
       "      <td>0.986172</td>\n",
       "      <td>0.896647</td>\n",
       "      <td>0.939281</td>\n",
       "      <td>14078.0</td>\n",
       "    </tr>\n",
       "    <tr>\n",
       "      <th>66 - SQL Injection</th>\n",
       "      <td>0.000000</td>\n",
       "      <td>0.000000</td>\n",
       "      <td>0.000000</td>\n",
       "      <td>1726.0</td>\n",
       "    </tr>\n",
       "    <tr>\n",
       "      <th>16 - Dictionary-based Password Attack</th>\n",
       "      <td>0.000000</td>\n",
       "      <td>0.000000</td>\n",
       "      <td>0.000000</td>\n",
       "      <td>1472.0</td>\n",
       "    </tr>\n",
       "    <tr>\n",
       "      <th>310 - Scanning for Vulnerable Software</th>\n",
       "      <td>0.000000</td>\n",
       "      <td>0.000000</td>\n",
       "      <td>0.000000</td>\n",
       "      <td>2157.0</td>\n",
       "    </tr>\n",
       "    <tr>\n",
       "      <th>153 - Input Data Manipulation</th>\n",
       "      <td>0.000000</td>\n",
       "      <td>0.000000</td>\n",
       "      <td>0.000000</td>\n",
       "      <td>1821.0</td>\n",
       "    </tr>\n",
       "    <tr>\n",
       "      <th>248 - Command Injection</th>\n",
       "      <td>0.000000</td>\n",
       "      <td>0.000000</td>\n",
       "      <td>0.000000</td>\n",
       "      <td>0.0</td>\n",
       "    </tr>\n",
       "    <tr>\n",
       "      <th>274 - HTTP Verb Tampering</th>\n",
       "      <td>0.000000</td>\n",
       "      <td>0.000000</td>\n",
       "      <td>0.000000</td>\n",
       "      <td>4403.0</td>\n",
       "    </tr>\n",
       "    <tr>\n",
       "      <th>194 - Fake the Source of Data</th>\n",
       "      <td>0.999413</td>\n",
       "      <td>0.917333</td>\n",
       "      <td>0.956616</td>\n",
       "      <td>35286.0</td>\n",
       "    </tr>\n",
       "    <tr>\n",
       "      <th>34 - HTTP Response Splitting</th>\n",
       "      <td>0.000000</td>\n",
       "      <td>0.000000</td>\n",
       "      <td>0.000000</td>\n",
       "      <td>15756.0</td>\n",
       "    </tr>\n",
       "    <tr>\n",
       "      <th>33 - HTTP Request Smuggling</th>\n",
       "      <td>0.000000</td>\n",
       "      <td>0.000000</td>\n",
       "      <td>0.000000</td>\n",
       "      <td>853.0</td>\n",
       "    </tr>\n",
       "    <tr>\n",
       "      <th>micro avg</th>\n",
       "      <td>0.976062</td>\n",
       "      <td>0.564258</td>\n",
       "      <td>0.715112</td>\n",
       "      <td>113597.0</td>\n",
       "    </tr>\n",
       "    <tr>\n",
       "      <th>macro avg</th>\n",
       "      <td>0.208457</td>\n",
       "      <td>0.198880</td>\n",
       "      <td>0.203365</td>\n",
       "      <td>113597.0</td>\n",
       "    </tr>\n",
       "    <tr>\n",
       "      <th>weighted avg</th>\n",
       "      <td>0.594345</td>\n",
       "      <td>0.564258</td>\n",
       "      <td>0.578428</td>\n",
       "      <td>113597.0</td>\n",
       "    </tr>\n",
       "    <tr>\n",
       "      <th>samples avg</th>\n",
       "      <td>0.596752</td>\n",
       "      <td>0.595034</td>\n",
       "      <td>0.595583</td>\n",
       "      <td>113597.0</td>\n",
       "    </tr>\n",
       "    <tr>\n",
       "      <th>Exact Match Ratio</th>\n",
       "      <td>0.593224</td>\n",
       "      <td>0.593224</td>\n",
       "      <td>0.593224</td>\n",
       "      <td>113597.0</td>\n",
       "    </tr>\n",
       "    <tr>\n",
       "      <th>Hamming Loss</th>\n",
       "      <td>0.033965</td>\n",
       "      <td>0.033965</td>\n",
       "      <td>0.033965</td>\n",
       "      <td>113597.0</td>\n",
       "    </tr>\n",
       "    <tr>\n",
       "      <th>Accuracy</th>\n",
       "      <td>0.594987</td>\n",
       "      <td>0.594987</td>\n",
       "      <td>0.594987</td>\n",
       "      <td>113597.0</td>\n",
       "    </tr>\n",
       "  </tbody>\n",
       "</table>\n",
       "</div>"
      ],
      "text/plain": [
       "                                        precision    recall  f1-score  \\\n",
       "000 - Normal                             0.932819  0.970340  0.951210   \n",
       "272 - Protocol Manipulation              0.000000  0.000000  0.000000   \n",
       "242 - Code Injection                     0.000000  0.000000  0.000000   \n",
       "88 - OS Command Injection                0.000000  0.000000  0.000000   \n",
       "126 - Path Traversal                     0.986172  0.896647  0.939281   \n",
       "66 - SQL Injection                       0.000000  0.000000  0.000000   \n",
       "16 - Dictionary-based Password Attack    0.000000  0.000000  0.000000   \n",
       "310 - Scanning for Vulnerable Software   0.000000  0.000000  0.000000   \n",
       "153 - Input Data Manipulation            0.000000  0.000000  0.000000   \n",
       "248 - Command Injection                  0.000000  0.000000  0.000000   \n",
       "274 - HTTP Verb Tampering                0.000000  0.000000  0.000000   \n",
       "194 - Fake the Source of Data            0.999413  0.917333  0.956616   \n",
       "34 - HTTP Response Splitting             0.000000  0.000000  0.000000   \n",
       "33 - HTTP Request Smuggling              0.000000  0.000000  0.000000   \n",
       "micro avg                                0.976062  0.564258  0.715112   \n",
       "macro avg                                0.208457  0.198880  0.203365   \n",
       "weighted avg                             0.594345  0.564258  0.578428   \n",
       "samples avg                              0.596752  0.595034  0.595583   \n",
       "Exact Match Ratio                        0.593224  0.593224  0.593224   \n",
       "Hamming Loss                             0.033965  0.033965  0.033965   \n",
       "Accuracy                                 0.594987  0.594987  0.594987   \n",
       "\n",
       "                                         support  \n",
       "000 - Normal                             19690.0  \n",
       "272 - Protocol Manipulation               1914.0  \n",
       "242 - Code Injection                     12585.0  \n",
       "88 - OS Command Injection                 1856.0  \n",
       "126 - Path Traversal                     14078.0  \n",
       "66 - SQL Injection                        1726.0  \n",
       "16 - Dictionary-based Password Attack     1472.0  \n",
       "310 - Scanning for Vulnerable Software    2157.0  \n",
       "153 - Input Data Manipulation             1821.0  \n",
       "248 - Command Injection                      0.0  \n",
       "274 - HTTP Verb Tampering                 4403.0  \n",
       "194 - Fake the Source of Data            35286.0  \n",
       "34 - HTTP Response Splitting             15756.0  \n",
       "33 - HTTP Request Smuggling                853.0  \n",
       "micro avg                               113597.0  \n",
       "macro avg                               113597.0  \n",
       "weighted avg                            113597.0  \n",
       "samples avg                             113597.0  \n",
       "Exact Match Ratio                       113597.0  \n",
       "Hamming Loss                            113597.0  \n",
       "Accuracy                                113597.0  "
      ]
     },
     "execution_count": 37,
     "metadata": {},
     "output_type": "execute_result"
    }
   ],
   "source": [
    "total_labels, total_preds = predict(train_data_loader, secBertClassifierMultilabel)\n",
    "save_classification(y_test=np.array(total_labels), y_pred=np.array(total_preds), labels=target_list)"
   ]
  }
 ],
 "metadata": {
  "kernelspec": {
   "display_name": "Python 3",
   "language": "python",
   "name": "python3"
  },
  "language_info": {
   "codemirror_mode": {
    "name": "ipython",
    "version": 3
   },
   "file_extension": ".py",
   "mimetype": "text/x-python",
   "name": "python",
   "nbconvert_exporter": "python",
   "pygments_lexer": "ipython3",
   "version": "3.10.12"
  },
  "papermill": {
   "default_parameters": {},
   "duration": 18678.197479,
   "end_time": "2023-11-08T13:36:17.225397",
   "environment_variables": {},
   "exception": null,
   "input_path": "__notebook__.ipynb",
   "output_path": "__notebook__.ipynb",
   "parameters": {},
   "start_time": "2023-11-08T08:24:59.027918",
   "version": "2.4.0"
  },
  "widgets": {
   "application/vnd.jupyter.widget-state+json": {
    "state": {
     "0bff90668227417fba36a4cfb96d93e1": {
      "model_module": "@jupyter-widgets/controls",
      "model_module_version": "1.5.0",
      "model_name": "ProgressStyleModel",
      "state": {
       "_model_module": "@jupyter-widgets/controls",
       "_model_module_version": "1.5.0",
       "_model_name": "ProgressStyleModel",
       "_view_count": null,
       "_view_module": "@jupyter-widgets/base",
       "_view_module_version": "1.2.0",
       "_view_name": "StyleView",
       "bar_color": null,
       "description_width": ""
      }
     },
     "0f3f71da920d4c51887e6b0e1f3dc83e": {
      "model_module": "@jupyter-widgets/controls",
      "model_module_version": "1.5.0",
      "model_name": "HTMLModel",
      "state": {
       "_dom_classes": [],
       "_model_module": "@jupyter-widgets/controls",
       "_model_module_version": "1.5.0",
       "_model_name": "HTMLModel",
       "_view_count": null,
       "_view_module": "@jupyter-widgets/controls",
       "_view_module_version": "1.5.0",
       "_view_name": "HTMLView",
       "description": "",
       "description_tooltip": null,
       "layout": "IPY_MODEL_7d3b103c14f74e92ac84ffa3c7afceb7",
       "placeholder": "​",
       "style": "IPY_MODEL_ffcad81548e14b63abc6071ac39d17ad",
       "value": "Downloading (…)lve/main/config.json: 100%"
      }
     },
     "0fa86ae049b94121812d95d72ad80127": {
      "model_module": "@jupyter-widgets/base",
      "model_module_version": "1.2.0",
      "model_name": "LayoutModel",
      "state": {
       "_model_module": "@jupyter-widgets/base",
       "_model_module_version": "1.2.0",
       "_model_name": "LayoutModel",
       "_view_count": null,
       "_view_module": "@jupyter-widgets/base",
       "_view_module_version": "1.2.0",
       "_view_name": "LayoutView",
       "align_content": null,
       "align_items": null,
       "align_self": null,
       "border": null,
       "bottom": null,
       "display": null,
       "flex": null,
       "flex_flow": null,
       "grid_area": null,
       "grid_auto_columns": null,
       "grid_auto_flow": null,
       "grid_auto_rows": null,
       "grid_column": null,
       "grid_gap": null,
       "grid_row": null,
       "grid_template_areas": null,
       "grid_template_columns": null,
       "grid_template_rows": null,
       "height": null,
       "justify_content": null,
       "justify_items": null,
       "left": null,
       "margin": null,
       "max_height": null,
       "max_width": null,
       "min_height": null,
       "min_width": null,
       "object_fit": null,
       "object_position": null,
       "order": null,
       "overflow": null,
       "overflow_x": null,
       "overflow_y": null,
       "padding": null,
       "right": null,
       "top": null,
       "visibility": null,
       "width": null
      }
     },
     "1f6165ee36a1424b99b05f878c7450f7": {
      "model_module": "@jupyter-widgets/controls",
      "model_module_version": "1.5.0",
      "model_name": "DescriptionStyleModel",
      "state": {
       "_model_module": "@jupyter-widgets/controls",
       "_model_module_version": "1.5.0",
       "_model_name": "DescriptionStyleModel",
       "_view_count": null,
       "_view_module": "@jupyter-widgets/base",
       "_view_module_version": "1.2.0",
       "_view_name": "StyleView",
       "description_width": ""
      }
     },
     "207cf70f31574875ad2dfba5f6d378e9": {
      "model_module": "@jupyter-widgets/controls",
      "model_module_version": "1.5.0",
      "model_name": "DescriptionStyleModel",
      "state": {
       "_model_module": "@jupyter-widgets/controls",
       "_model_module_version": "1.5.0",
       "_model_name": "DescriptionStyleModel",
       "_view_count": null,
       "_view_module": "@jupyter-widgets/base",
       "_view_module_version": "1.2.0",
       "_view_name": "StyleView",
       "description_width": ""
      }
     },
     "20daca152f3d4c62b65be1273664e117": {
      "model_module": "@jupyter-widgets/controls",
      "model_module_version": "1.5.0",
      "model_name": "HTMLModel",
      "state": {
       "_dom_classes": [],
       "_model_module": "@jupyter-widgets/controls",
       "_model_module_version": "1.5.0",
       "_model_name": "HTMLModel",
       "_view_count": null,
       "_view_module": "@jupyter-widgets/controls",
       "_view_module_version": "1.5.0",
       "_view_name": "HTMLView",
       "description": "",
       "description_tooltip": null,
       "layout": "IPY_MODEL_5890f5f75b1a463da4e5f7f878aca280",
       "placeholder": "​",
       "style": "IPY_MODEL_bea8d784f5f04a0083a9ae899c1f81d9",
       "value": "Downloading (…)solve/main/vocab.txt: 100%"
      }
     },
     "2e6b3fe169944c5c984fcf2092249110": {
      "model_module": "@jupyter-widgets/base",
      "model_module_version": "1.2.0",
      "model_name": "LayoutModel",
      "state": {
       "_model_module": "@jupyter-widgets/base",
       "_model_module_version": "1.2.0",
       "_model_name": "LayoutModel",
       "_view_count": null,
       "_view_module": "@jupyter-widgets/base",
       "_view_module_version": "1.2.0",
       "_view_name": "LayoutView",
       "align_content": null,
       "align_items": null,
       "align_self": null,
       "border": null,
       "bottom": null,
       "display": null,
       "flex": null,
       "flex_flow": null,
       "grid_area": null,
       "grid_auto_columns": null,
       "grid_auto_flow": null,
       "grid_auto_rows": null,
       "grid_column": null,
       "grid_gap": null,
       "grid_row": null,
       "grid_template_areas": null,
       "grid_template_columns": null,
       "grid_template_rows": null,
       "height": null,
       "justify_content": null,
       "justify_items": null,
       "left": null,
       "margin": null,
       "max_height": null,
       "max_width": null,
       "min_height": null,
       "min_width": null,
       "object_fit": null,
       "object_position": null,
       "order": null,
       "overflow": null,
       "overflow_x": null,
       "overflow_y": null,
       "padding": null,
       "right": null,
       "top": null,
       "visibility": null,
       "width": null
      }
     },
     "2e7b0bb99c4048dd84f891e8e672831d": {
      "model_module": "@jupyter-widgets/base",
      "model_module_version": "1.2.0",
      "model_name": "LayoutModel",
      "state": {
       "_model_module": "@jupyter-widgets/base",
       "_model_module_version": "1.2.0",
       "_model_name": "LayoutModel",
       "_view_count": null,
       "_view_module": "@jupyter-widgets/base",
       "_view_module_version": "1.2.0",
       "_view_name": "LayoutView",
       "align_content": null,
       "align_items": null,
       "align_self": null,
       "border": null,
       "bottom": null,
       "display": null,
       "flex": null,
       "flex_flow": null,
       "grid_area": null,
       "grid_auto_columns": null,
       "grid_auto_flow": null,
       "grid_auto_rows": null,
       "grid_column": null,
       "grid_gap": null,
       "grid_row": null,
       "grid_template_areas": null,
       "grid_template_columns": null,
       "grid_template_rows": null,
       "height": null,
       "justify_content": null,
       "justify_items": null,
       "left": null,
       "margin": null,
       "max_height": null,
       "max_width": null,
       "min_height": null,
       "min_width": null,
       "object_fit": null,
       "object_position": null,
       "order": null,
       "overflow": null,
       "overflow_x": null,
       "overflow_y": null,
       "padding": null,
       "right": null,
       "top": null,
       "visibility": null,
       "width": null
      }
     },
     "30fa57447c1d4011bc21ae81411f9790": {
      "model_module": "@jupyter-widgets/base",
      "model_module_version": "1.2.0",
      "model_name": "LayoutModel",
      "state": {
       "_model_module": "@jupyter-widgets/base",
       "_model_module_version": "1.2.0",
       "_model_name": "LayoutModel",
       "_view_count": null,
       "_view_module": "@jupyter-widgets/base",
       "_view_module_version": "1.2.0",
       "_view_name": "LayoutView",
       "align_content": null,
       "align_items": null,
       "align_self": null,
       "border": null,
       "bottom": null,
       "display": null,
       "flex": null,
       "flex_flow": null,
       "grid_area": null,
       "grid_auto_columns": null,
       "grid_auto_flow": null,
       "grid_auto_rows": null,
       "grid_column": null,
       "grid_gap": null,
       "grid_row": null,
       "grid_template_areas": null,
       "grid_template_columns": null,
       "grid_template_rows": null,
       "height": null,
       "justify_content": null,
       "justify_items": null,
       "left": null,
       "margin": null,
       "max_height": null,
       "max_width": null,
       "min_height": null,
       "min_width": null,
       "object_fit": null,
       "object_position": null,
       "order": null,
       "overflow": null,
       "overflow_x": null,
       "overflow_y": null,
       "padding": null,
       "right": null,
       "top": null,
       "visibility": null,
       "width": null
      }
     },
     "43d006b550a5422ba6d524cb34b67a82": {
      "model_module": "@jupyter-widgets/controls",
      "model_module_version": "1.5.0",
      "model_name": "DescriptionStyleModel",
      "state": {
       "_model_module": "@jupyter-widgets/controls",
       "_model_module_version": "1.5.0",
       "_model_name": "DescriptionStyleModel",
       "_view_count": null,
       "_view_module": "@jupyter-widgets/base",
       "_view_module_version": "1.2.0",
       "_view_name": "StyleView",
       "description_width": ""
      }
     },
     "483dec9f737e4db5b3d5c9fdf56cecfe": {
      "model_module": "@jupyter-widgets/controls",
      "model_module_version": "1.5.0",
      "model_name": "HTMLModel",
      "state": {
       "_dom_classes": [],
       "_model_module": "@jupyter-widgets/controls",
       "_model_module_version": "1.5.0",
       "_model_name": "HTMLModel",
       "_view_count": null,
       "_view_module": "@jupyter-widgets/controls",
       "_view_module_version": "1.5.0",
       "_view_name": "HTMLView",
       "description": "",
       "description_tooltip": null,
       "layout": "IPY_MODEL_9bc953c312c74b30844ec21b6edd9ea5",
       "placeholder": "​",
       "style": "IPY_MODEL_207cf70f31574875ad2dfba5f6d378e9",
       "value": "Downloading model.safetensors: 100%"
      }
     },
     "4ef8598b176c4d05b07d32b8cd913d8f": {
      "model_module": "@jupyter-widgets/controls",
      "model_module_version": "1.5.0",
      "model_name": "HTMLModel",
      "state": {
       "_dom_classes": [],
       "_model_module": "@jupyter-widgets/controls",
       "_model_module_version": "1.5.0",
       "_model_name": "HTMLModel",
       "_view_count": null,
       "_view_module": "@jupyter-widgets/controls",
       "_view_module_version": "1.5.0",
       "_view_name": "HTMLView",
       "description": "",
       "description_tooltip": null,
       "layout": "IPY_MODEL_2e7b0bb99c4048dd84f891e8e672831d",
       "placeholder": "​",
       "style": "IPY_MODEL_1f6165ee36a1424b99b05f878c7450f7",
       "value": " 336M/336M [00:01&lt;00:00, 231MB/s]"
      }
     },
     "51b5aa4d4e144383945760ee4a574606": {
      "model_module": "@jupyter-widgets/base",
      "model_module_version": "1.2.0",
      "model_name": "LayoutModel",
      "state": {
       "_model_module": "@jupyter-widgets/base",
       "_model_module_version": "1.2.0",
       "_model_name": "LayoutModel",
       "_view_count": null,
       "_view_module": "@jupyter-widgets/base",
       "_view_module_version": "1.2.0",
       "_view_name": "LayoutView",
       "align_content": null,
       "align_items": null,
       "align_self": null,
       "border": null,
       "bottom": null,
       "display": null,
       "flex": null,
       "flex_flow": null,
       "grid_area": null,
       "grid_auto_columns": null,
       "grid_auto_flow": null,
       "grid_auto_rows": null,
       "grid_column": null,
       "grid_gap": null,
       "grid_row": null,
       "grid_template_areas": null,
       "grid_template_columns": null,
       "grid_template_rows": null,
       "height": null,
       "justify_content": null,
       "justify_items": null,
       "left": null,
       "margin": null,
       "max_height": null,
       "max_width": null,
       "min_height": null,
       "min_width": null,
       "object_fit": null,
       "object_position": null,
       "order": null,
       "overflow": null,
       "overflow_x": null,
       "overflow_y": null,
       "padding": null,
       "right": null,
       "top": null,
       "visibility": null,
       "width": null
      }
     },
     "521c582e98ce4fc49552ccac91232abe": {
      "model_module": "@jupyter-widgets/controls",
      "model_module_version": "1.5.0",
      "model_name": "HTMLModel",
      "state": {
       "_dom_classes": [],
       "_model_module": "@jupyter-widgets/controls",
       "_model_module_version": "1.5.0",
       "_model_name": "HTMLModel",
       "_view_count": null,
       "_view_module": "@jupyter-widgets/controls",
       "_view_module_version": "1.5.0",
       "_view_name": "HTMLView",
       "description": "",
       "description_tooltip": null,
       "layout": "IPY_MODEL_e4c1862a960b4f67945b609fb9a6e397",
       "placeholder": "​",
       "style": "IPY_MODEL_43d006b550a5422ba6d524cb34b67a82",
       "value": " 467/467 [00:00&lt;00:00, 38.6kB/s]"
      }
     },
     "5890f5f75b1a463da4e5f7f878aca280": {
      "model_module": "@jupyter-widgets/base",
      "model_module_version": "1.2.0",
      "model_name": "LayoutModel",
      "state": {
       "_model_module": "@jupyter-widgets/base",
       "_model_module_version": "1.2.0",
       "_model_name": "LayoutModel",
       "_view_count": null,
       "_view_module": "@jupyter-widgets/base",
       "_view_module_version": "1.2.0",
       "_view_name": "LayoutView",
       "align_content": null,
       "align_items": null,
       "align_self": null,
       "border": null,
       "bottom": null,
       "display": null,
       "flex": null,
       "flex_flow": null,
       "grid_area": null,
       "grid_auto_columns": null,
       "grid_auto_flow": null,
       "grid_auto_rows": null,
       "grid_column": null,
       "grid_gap": null,
       "grid_row": null,
       "grid_template_areas": null,
       "grid_template_columns": null,
       "grid_template_rows": null,
       "height": null,
       "justify_content": null,
       "justify_items": null,
       "left": null,
       "margin": null,
       "max_height": null,
       "max_width": null,
       "min_height": null,
       "min_width": null,
       "object_fit": null,
       "object_position": null,
       "order": null,
       "overflow": null,
       "overflow_x": null,
       "overflow_y": null,
       "padding": null,
       "right": null,
       "top": null,
       "visibility": null,
       "width": null
      }
     },
     "5b7e48e5dd414f2199d88012bfeb87dc": {
      "model_module": "@jupyter-widgets/controls",
      "model_module_version": "1.5.0",
      "model_name": "HBoxModel",
      "state": {
       "_dom_classes": [],
       "_model_module": "@jupyter-widgets/controls",
       "_model_module_version": "1.5.0",
       "_model_name": "HBoxModel",
       "_view_count": null,
       "_view_module": "@jupyter-widgets/controls",
       "_view_module_version": "1.5.0",
       "_view_name": "HBoxView",
       "box_style": "",
       "children": [
        "IPY_MODEL_483dec9f737e4db5b3d5c9fdf56cecfe",
        "IPY_MODEL_f0083439430043daac6feb541b9811b5",
        "IPY_MODEL_4ef8598b176c4d05b07d32b8cd913d8f"
       ],
       "layout": "IPY_MODEL_30fa57447c1d4011bc21ae81411f9790"
      }
     },
     "715c8a40aaf24f2ab10ccf0df6c20ca0": {
      "model_module": "@jupyter-widgets/base",
      "model_module_version": "1.2.0",
      "model_name": "LayoutModel",
      "state": {
       "_model_module": "@jupyter-widgets/base",
       "_model_module_version": "1.2.0",
       "_model_name": "LayoutModel",
       "_view_count": null,
       "_view_module": "@jupyter-widgets/base",
       "_view_module_version": "1.2.0",
       "_view_name": "LayoutView",
       "align_content": null,
       "align_items": null,
       "align_self": null,
       "border": null,
       "bottom": null,
       "display": null,
       "flex": null,
       "flex_flow": null,
       "grid_area": null,
       "grid_auto_columns": null,
       "grid_auto_flow": null,
       "grid_auto_rows": null,
       "grid_column": null,
       "grid_gap": null,
       "grid_row": null,
       "grid_template_areas": null,
       "grid_template_columns": null,
       "grid_template_rows": null,
       "height": null,
       "justify_content": null,
       "justify_items": null,
       "left": null,
       "margin": null,
       "max_height": null,
       "max_width": null,
       "min_height": null,
       "min_width": null,
       "object_fit": null,
       "object_position": null,
       "order": null,
       "overflow": null,
       "overflow_x": null,
       "overflow_y": null,
       "padding": null,
       "right": null,
       "top": null,
       "visibility": null,
       "width": null
      }
     },
     "793ca5609de043f4bdcdc14f96bc9e36": {
      "model_module": "@jupyter-widgets/controls",
      "model_module_version": "1.5.0",
      "model_name": "ProgressStyleModel",
      "state": {
       "_model_module": "@jupyter-widgets/controls",
       "_model_module_version": "1.5.0",
       "_model_name": "ProgressStyleModel",
       "_view_count": null,
       "_view_module": "@jupyter-widgets/base",
       "_view_module_version": "1.2.0",
       "_view_name": "StyleView",
       "bar_color": null,
       "description_width": ""
      }
     },
     "7d3b103c14f74e92ac84ffa3c7afceb7": {
      "model_module": "@jupyter-widgets/base",
      "model_module_version": "1.2.0",
      "model_name": "LayoutModel",
      "state": {
       "_model_module": "@jupyter-widgets/base",
       "_model_module_version": "1.2.0",
       "_model_name": "LayoutModel",
       "_view_count": null,
       "_view_module": "@jupyter-widgets/base",
       "_view_module_version": "1.2.0",
       "_view_name": "LayoutView",
       "align_content": null,
       "align_items": null,
       "align_self": null,
       "border": null,
       "bottom": null,
       "display": null,
       "flex": null,
       "flex_flow": null,
       "grid_area": null,
       "grid_auto_columns": null,
       "grid_auto_flow": null,
       "grid_auto_rows": null,
       "grid_column": null,
       "grid_gap": null,
       "grid_row": null,
       "grid_template_areas": null,
       "grid_template_columns": null,
       "grid_template_rows": null,
       "height": null,
       "justify_content": null,
       "justify_items": null,
       "left": null,
       "margin": null,
       "max_height": null,
       "max_width": null,
       "min_height": null,
       "min_width": null,
       "object_fit": null,
       "object_position": null,
       "order": null,
       "overflow": null,
       "overflow_x": null,
       "overflow_y": null,
       "padding": null,
       "right": null,
       "top": null,
       "visibility": null,
       "width": null
      }
     },
     "8128707b18da49f0bc24cef54323609d": {
      "model_module": "@jupyter-widgets/controls",
      "model_module_version": "1.5.0",
      "model_name": "FloatProgressModel",
      "state": {
       "_dom_classes": [],
       "_model_module": "@jupyter-widgets/controls",
       "_model_module_version": "1.5.0",
       "_model_name": "FloatProgressModel",
       "_view_count": null,
       "_view_module": "@jupyter-widgets/controls",
       "_view_module_version": "1.5.0",
       "_view_name": "ProgressView",
       "bar_style": "success",
       "description": "",
       "description_tooltip": null,
       "layout": "IPY_MODEL_2e6b3fe169944c5c984fcf2092249110",
       "max": 378000.0,
       "min": 0.0,
       "orientation": "horizontal",
       "style": "IPY_MODEL_85df21a284514bdfb0c4b0dfe154c08c",
       "value": 378000.0
      }
     },
     "85df21a284514bdfb0c4b0dfe154c08c": {
      "model_module": "@jupyter-widgets/controls",
      "model_module_version": "1.5.0",
      "model_name": "ProgressStyleModel",
      "state": {
       "_model_module": "@jupyter-widgets/controls",
       "_model_module_version": "1.5.0",
       "_model_name": "ProgressStyleModel",
       "_view_count": null,
       "_view_module": "@jupyter-widgets/base",
       "_view_module_version": "1.2.0",
       "_view_name": "StyleView",
       "bar_color": null,
       "description_width": ""
      }
     },
     "92431034399a4ec3b3e9f902914a528e": {
      "model_module": "@jupyter-widgets/controls",
      "model_module_version": "1.5.0",
      "model_name": "FloatProgressModel",
      "state": {
       "_dom_classes": [],
       "_model_module": "@jupyter-widgets/controls",
       "_model_module_version": "1.5.0",
       "_model_name": "FloatProgressModel",
       "_view_count": null,
       "_view_module": "@jupyter-widgets/controls",
       "_view_module_version": "1.5.0",
       "_view_name": "ProgressView",
       "bar_style": "success",
       "description": "",
       "description_tooltip": null,
       "layout": "IPY_MODEL_51b5aa4d4e144383945760ee4a574606",
       "max": 467.0,
       "min": 0.0,
       "orientation": "horizontal",
       "style": "IPY_MODEL_0bff90668227417fba36a4cfb96d93e1",
       "value": 467.0
      }
     },
     "992c200b0b86465ebc59547c1f268694": {
      "model_module": "@jupyter-widgets/base",
      "model_module_version": "1.2.0",
      "model_name": "LayoutModel",
      "state": {
       "_model_module": "@jupyter-widgets/base",
       "_model_module_version": "1.2.0",
       "_model_name": "LayoutModel",
       "_view_count": null,
       "_view_module": "@jupyter-widgets/base",
       "_view_module_version": "1.2.0",
       "_view_name": "LayoutView",
       "align_content": null,
       "align_items": null,
       "align_self": null,
       "border": null,
       "bottom": null,
       "display": null,
       "flex": null,
       "flex_flow": null,
       "grid_area": null,
       "grid_auto_columns": null,
       "grid_auto_flow": null,
       "grid_auto_rows": null,
       "grid_column": null,
       "grid_gap": null,
       "grid_row": null,
       "grid_template_areas": null,
       "grid_template_columns": null,
       "grid_template_rows": null,
       "height": null,
       "justify_content": null,
       "justify_items": null,
       "left": null,
       "margin": null,
       "max_height": null,
       "max_width": null,
       "min_height": null,
       "min_width": null,
       "object_fit": null,
       "object_position": null,
       "order": null,
       "overflow": null,
       "overflow_x": null,
       "overflow_y": null,
       "padding": null,
       "right": null,
       "top": null,
       "visibility": null,
       "width": null
      }
     },
     "9ac6f6a098ab4abbb9dadc6d2ec30615": {
      "model_module": "@jupyter-widgets/base",
      "model_module_version": "1.2.0",
      "model_name": "LayoutModel",
      "state": {
       "_model_module": "@jupyter-widgets/base",
       "_model_module_version": "1.2.0",
       "_model_name": "LayoutModel",
       "_view_count": null,
       "_view_module": "@jupyter-widgets/base",
       "_view_module_version": "1.2.0",
       "_view_name": "LayoutView",
       "align_content": null,
       "align_items": null,
       "align_self": null,
       "border": null,
       "bottom": null,
       "display": null,
       "flex": null,
       "flex_flow": null,
       "grid_area": null,
       "grid_auto_columns": null,
       "grid_auto_flow": null,
       "grid_auto_rows": null,
       "grid_column": null,
       "grid_gap": null,
       "grid_row": null,
       "grid_template_areas": null,
       "grid_template_columns": null,
       "grid_template_rows": null,
       "height": null,
       "justify_content": null,
       "justify_items": null,
       "left": null,
       "margin": null,
       "max_height": null,
       "max_width": null,
       "min_height": null,
       "min_width": null,
       "object_fit": null,
       "object_position": null,
       "order": null,
       "overflow": null,
       "overflow_x": null,
       "overflow_y": null,
       "padding": null,
       "right": null,
       "top": null,
       "visibility": null,
       "width": null
      }
     },
     "9bc953c312c74b30844ec21b6edd9ea5": {
      "model_module": "@jupyter-widgets/base",
      "model_module_version": "1.2.0",
      "model_name": "LayoutModel",
      "state": {
       "_model_module": "@jupyter-widgets/base",
       "_model_module_version": "1.2.0",
       "_model_name": "LayoutModel",
       "_view_count": null,
       "_view_module": "@jupyter-widgets/base",
       "_view_module_version": "1.2.0",
       "_view_name": "LayoutView",
       "align_content": null,
       "align_items": null,
       "align_self": null,
       "border": null,
       "bottom": null,
       "display": null,
       "flex": null,
       "flex_flow": null,
       "grid_area": null,
       "grid_auto_columns": null,
       "grid_auto_flow": null,
       "grid_auto_rows": null,
       "grid_column": null,
       "grid_gap": null,
       "grid_row": null,
       "grid_template_areas": null,
       "grid_template_columns": null,
       "grid_template_rows": null,
       "height": null,
       "justify_content": null,
       "justify_items": null,
       "left": null,
       "margin": null,
       "max_height": null,
       "max_width": null,
       "min_height": null,
       "min_width": null,
       "object_fit": null,
       "object_position": null,
       "order": null,
       "overflow": null,
       "overflow_x": null,
       "overflow_y": null,
       "padding": null,
       "right": null,
       "top": null,
       "visibility": null,
       "width": null
      }
     },
     "b299a53bbb944a0490d97b71e24ec902": {
      "model_module": "@jupyter-widgets/controls",
      "model_module_version": "1.5.0",
      "model_name": "DescriptionStyleModel",
      "state": {
       "_model_module": "@jupyter-widgets/controls",
       "_model_module_version": "1.5.0",
       "_model_name": "DescriptionStyleModel",
       "_view_count": null,
       "_view_module": "@jupyter-widgets/base",
       "_view_module_version": "1.2.0",
       "_view_name": "StyleView",
       "description_width": ""
      }
     },
     "bea8d784f5f04a0083a9ae899c1f81d9": {
      "model_module": "@jupyter-widgets/controls",
      "model_module_version": "1.5.0",
      "model_name": "DescriptionStyleModel",
      "state": {
       "_model_module": "@jupyter-widgets/controls",
       "_model_module_version": "1.5.0",
       "_model_name": "DescriptionStyleModel",
       "_view_count": null,
       "_view_module": "@jupyter-widgets/base",
       "_view_module_version": "1.2.0",
       "_view_name": "StyleView",
       "description_width": ""
      }
     },
     "c413dc1279564ed2909348fc7438ce73": {
      "model_module": "@jupyter-widgets/controls",
      "model_module_version": "1.5.0",
      "model_name": "HBoxModel",
      "state": {
       "_dom_classes": [],
       "_model_module": "@jupyter-widgets/controls",
       "_model_module_version": "1.5.0",
       "_model_name": "HBoxModel",
       "_view_count": null,
       "_view_module": "@jupyter-widgets/controls",
       "_view_module_version": "1.5.0",
       "_view_name": "HBoxView",
       "box_style": "",
       "children": [
        "IPY_MODEL_20daca152f3d4c62b65be1273664e117",
        "IPY_MODEL_8128707b18da49f0bc24cef54323609d",
        "IPY_MODEL_e0613cf9a87648f087f99b4845e7b00e"
       ],
       "layout": "IPY_MODEL_715c8a40aaf24f2ab10ccf0df6c20ca0"
      }
     },
     "cedc4bfe711940acbf347d43f5103733": {
      "model_module": "@jupyter-widgets/controls",
      "model_module_version": "1.5.0",
      "model_name": "HBoxModel",
      "state": {
       "_dom_classes": [],
       "_model_module": "@jupyter-widgets/controls",
       "_model_module_version": "1.5.0",
       "_model_name": "HBoxModel",
       "_view_count": null,
       "_view_module": "@jupyter-widgets/controls",
       "_view_module_version": "1.5.0",
       "_view_name": "HBoxView",
       "box_style": "",
       "children": [
        "IPY_MODEL_0f3f71da920d4c51887e6b0e1f3dc83e",
        "IPY_MODEL_92431034399a4ec3b3e9f902914a528e",
        "IPY_MODEL_521c582e98ce4fc49552ccac91232abe"
       ],
       "layout": "IPY_MODEL_992c200b0b86465ebc59547c1f268694"
      }
     },
     "e0613cf9a87648f087f99b4845e7b00e": {
      "model_module": "@jupyter-widgets/controls",
      "model_module_version": "1.5.0",
      "model_name": "HTMLModel",
      "state": {
       "_dom_classes": [],
       "_model_module": "@jupyter-widgets/controls",
       "_model_module_version": "1.5.0",
       "_model_name": "HTMLModel",
       "_view_count": null,
       "_view_module": "@jupyter-widgets/controls",
       "_view_module_version": "1.5.0",
       "_view_name": "HTMLView",
       "description": "",
       "description_tooltip": null,
       "layout": "IPY_MODEL_0fa86ae049b94121812d95d72ad80127",
       "placeholder": "​",
       "style": "IPY_MODEL_b299a53bbb944a0490d97b71e24ec902",
       "value": " 378k/378k [00:00&lt;00:00, 6.64MB/s]"
      }
     },
     "e4c1862a960b4f67945b609fb9a6e397": {
      "model_module": "@jupyter-widgets/base",
      "model_module_version": "1.2.0",
      "model_name": "LayoutModel",
      "state": {
       "_model_module": "@jupyter-widgets/base",
       "_model_module_version": "1.2.0",
       "_model_name": "LayoutModel",
       "_view_count": null,
       "_view_module": "@jupyter-widgets/base",
       "_view_module_version": "1.2.0",
       "_view_name": "LayoutView",
       "align_content": null,
       "align_items": null,
       "align_self": null,
       "border": null,
       "bottom": null,
       "display": null,
       "flex": null,
       "flex_flow": null,
       "grid_area": null,
       "grid_auto_columns": null,
       "grid_auto_flow": null,
       "grid_auto_rows": null,
       "grid_column": null,
       "grid_gap": null,
       "grid_row": null,
       "grid_template_areas": null,
       "grid_template_columns": null,
       "grid_template_rows": null,
       "height": null,
       "justify_content": null,
       "justify_items": null,
       "left": null,
       "margin": null,
       "max_height": null,
       "max_width": null,
       "min_height": null,
       "min_width": null,
       "object_fit": null,
       "object_position": null,
       "order": null,
       "overflow": null,
       "overflow_x": null,
       "overflow_y": null,
       "padding": null,
       "right": null,
       "top": null,
       "visibility": null,
       "width": null
      }
     },
     "f0083439430043daac6feb541b9811b5": {
      "model_module": "@jupyter-widgets/controls",
      "model_module_version": "1.5.0",
      "model_name": "FloatProgressModel",
      "state": {
       "_dom_classes": [],
       "_model_module": "@jupyter-widgets/controls",
       "_model_module_version": "1.5.0",
       "_model_name": "FloatProgressModel",
       "_view_count": null,
       "_view_module": "@jupyter-widgets/controls",
       "_view_module_version": "1.5.0",
       "_view_name": "ProgressView",
       "bar_style": "success",
       "description": "",
       "description_tooltip": null,
       "layout": "IPY_MODEL_9ac6f6a098ab4abbb9dadc6d2ec30615",
       "max": 336396808.0,
       "min": 0.0,
       "orientation": "horizontal",
       "style": "IPY_MODEL_793ca5609de043f4bdcdc14f96bc9e36",
       "value": 336396808.0
      }
     },
     "ffcad81548e14b63abc6071ac39d17ad": {
      "model_module": "@jupyter-widgets/controls",
      "model_module_version": "1.5.0",
      "model_name": "DescriptionStyleModel",
      "state": {
       "_model_module": "@jupyter-widgets/controls",
       "_model_module_version": "1.5.0",
       "_model_name": "DescriptionStyleModel",
       "_view_count": null,
       "_view_module": "@jupyter-widgets/base",
       "_view_module_version": "1.2.0",
       "_view_name": "StyleView",
       "description_width": ""
      }
     }
    },
    "version_major": 2,
    "version_minor": 0
   }
  }
 },
 "nbformat": 4,
 "nbformat_minor": 5
}
