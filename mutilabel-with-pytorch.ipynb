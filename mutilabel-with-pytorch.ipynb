{
 "cells": [
  {
   "cell_type": "code",
   "execution_count": 1,
   "id": "14034de9",
   "metadata": {
    "execution": {
     "iopub.execute_input": "2023-11-12T09:52:29.107709Z",
     "iopub.status.busy": "2023-11-12T09:52:29.107374Z",
     "iopub.status.idle": "2023-11-12T09:52:42.317623Z",
     "shell.execute_reply": "2023-11-12T09:52:42.316672Z"
    },
    "papermill": {
     "duration": 13.221879,
     "end_time": "2023-11-12T09:52:42.320299",
     "exception": false,
     "start_time": "2023-11-12T09:52:29.098420",
     "status": "completed"
    },
    "tags": []
   },
   "outputs": [
    {
     "name": "stdout",
     "output_type": "stream",
     "text": [
      "Requirement already satisfied: transformers in /opt/conda/lib/python3.10/site-packages (4.33.0)\r\n",
      "Requirement already satisfied: filelock in /opt/conda/lib/python3.10/site-packages (from transformers) (3.12.2)\r\n",
      "Requirement already satisfied: huggingface-hub<1.0,>=0.15.1 in /opt/conda/lib/python3.10/site-packages (from transformers) (0.16.4)\r\n",
      "Requirement already satisfied: numpy>=1.17 in /opt/conda/lib/python3.10/site-packages (from transformers) (1.23.5)\r\n",
      "Requirement already satisfied: packaging>=20.0 in /opt/conda/lib/python3.10/site-packages (from transformers) (21.3)\r\n",
      "Requirement already satisfied: pyyaml>=5.1 in /opt/conda/lib/python3.10/site-packages (from transformers) (6.0)\r\n",
      "Requirement already satisfied: regex!=2019.12.17 in /opt/conda/lib/python3.10/site-packages (from transformers) (2023.6.3)\r\n",
      "Requirement already satisfied: requests in /opt/conda/lib/python3.10/site-packages (from transformers) (2.31.0)\r\n",
      "Requirement already satisfied: tokenizers!=0.11.3,<0.14,>=0.11.1 in /opt/conda/lib/python3.10/site-packages (from transformers) (0.13.3)\r\n",
      "Requirement already satisfied: safetensors>=0.3.1 in /opt/conda/lib/python3.10/site-packages (from transformers) (0.3.3)\r\n",
      "Requirement already satisfied: tqdm>=4.27 in /opt/conda/lib/python3.10/site-packages (from transformers) (4.66.1)\r\n",
      "Requirement already satisfied: fsspec in /opt/conda/lib/python3.10/site-packages (from huggingface-hub<1.0,>=0.15.1->transformers) (2023.9.0)\r\n",
      "Requirement already satisfied: typing-extensions>=3.7.4.3 in /opt/conda/lib/python3.10/site-packages (from huggingface-hub<1.0,>=0.15.1->transformers) (4.6.3)\r\n",
      "Requirement already satisfied: pyparsing!=3.0.5,>=2.0.2 in /opt/conda/lib/python3.10/site-packages (from packaging>=20.0->transformers) (3.0.9)\r\n",
      "Requirement already satisfied: charset-normalizer<4,>=2 in /opt/conda/lib/python3.10/site-packages (from requests->transformers) (3.1.0)\r\n",
      "Requirement already satisfied: idna<4,>=2.5 in /opt/conda/lib/python3.10/site-packages (from requests->transformers) (3.4)\r\n",
      "Requirement already satisfied: urllib3<3,>=1.21.1 in /opt/conda/lib/python3.10/site-packages (from requests->transformers) (1.26.15)\r\n",
      "Requirement already satisfied: certifi>=2017.4.17 in /opt/conda/lib/python3.10/site-packages (from requests->transformers) (2023.7.22)\r\n"
     ]
    }
   ],
   "source": [
    "!pip install transformers"
   ]
  },
  {
   "cell_type": "code",
   "execution_count": 2,
   "id": "9405fc34",
   "metadata": {
    "execution": {
     "iopub.execute_input": "2023-11-12T09:52:42.336573Z",
     "iopub.status.busy": "2023-11-12T09:52:42.336286Z",
     "iopub.status.idle": "2023-11-12T09:52:46.717250Z",
     "shell.execute_reply": "2023-11-12T09:52:46.716254Z"
    },
    "papermill": {
     "duration": 4.391671,
     "end_time": "2023-11-12T09:52:46.719708",
     "exception": false,
     "start_time": "2023-11-12T09:52:42.328037",
     "status": "completed"
    },
    "tags": []
   },
   "outputs": [],
   "source": [
    "\n",
    "import torch\n",
    "import torch.nn as nn\n",
    "import pandas as pd\n",
    "import numpy as np\n",
    "import shutil\n",
    "import sys   "
   ]
  },
  {
   "cell_type": "code",
   "execution_count": 3,
   "id": "5f83c183",
   "metadata": {
    "execution": {
     "iopub.execute_input": "2023-11-12T09:52:46.737784Z",
     "iopub.status.busy": "2023-11-12T09:52:46.736779Z",
     "iopub.status.idle": "2023-11-12T09:52:46.741329Z",
     "shell.execute_reply": "2023-11-12T09:52:46.740404Z"
    },
    "papermill": {
     "duration": 0.015189,
     "end_time": "2023-11-12T09:52:46.743292",
     "exception": false,
     "start_time": "2023-11-12T09:52:46.728103",
     "status": "completed"
    },
    "tags": []
   },
   "outputs": [],
   "source": [
    "train_path = \"/kaggle/input/data-capec-multilabel/capec_mutilabel_new.csv\"\n",
    "test_path = \"/kaggle/input/data-capec-multilabel/capec_mutilabel_new.csv\""
   ]
  },
  {
   "cell_type": "code",
   "execution_count": 4,
   "id": "b2c3e78d",
   "metadata": {
    "execution": {
     "iopub.execute_input": "2023-11-12T09:52:46.760223Z",
     "iopub.status.busy": "2023-11-12T09:52:46.759930Z",
     "iopub.status.idle": "2023-11-12T09:52:55.362393Z",
     "shell.execute_reply": "2023-11-12T09:52:55.361331Z"
    },
    "papermill": {
     "duration": 8.613769,
     "end_time": "2023-11-12T09:52:55.364885",
     "exception": false,
     "start_time": "2023-11-12T09:52:46.751116",
     "status": "completed"
    },
    "tags": []
   },
   "outputs": [
    {
     "name": "stderr",
     "output_type": "stream",
     "text": [
      "/tmp/ipykernel_26/897552558.py:1: DtypeWarning: Columns (5,6,22) have mixed types. Specify dtype option on import or set low_memory=False.\n",
      "  train_df = pd.read_csv(train_path)\n",
      "/tmp/ipykernel_26/897552558.py:2: DtypeWarning: Columns (5,6,22) have mixed types. Specify dtype option on import or set low_memory=False.\n",
      "  test_df = pd.read_csv(test_path)\n"
     ]
    }
   ],
   "source": [
    "train_df = pd.read_csv(train_path)\n",
    "test_df = pd.read_csv(test_path)"
   ]
  },
  {
   "cell_type": "code",
   "execution_count": 5,
   "id": "ff10c27e",
   "metadata": {
    "execution": {
     "iopub.execute_input": "2023-11-12T09:52:55.381676Z",
     "iopub.status.busy": "2023-11-12T09:52:55.381350Z",
     "iopub.status.idle": "2023-11-12T09:52:55.425562Z",
     "shell.execute_reply": "2023-11-12T09:52:55.424359Z"
    },
    "papermill": {
     "duration": 0.054903,
     "end_time": "2023-11-12T09:52:55.427743",
     "exception": false,
     "start_time": "2023-11-12T09:52:55.372840",
     "status": "completed"
    },
    "tags": []
   },
   "outputs": [
    {
     "data": {
      "text/html": [
       "<div>\n",
       "<style scoped>\n",
       "    .dataframe tbody tr th:only-of-type {\n",
       "        vertical-align: middle;\n",
       "    }\n",
       "\n",
       "    .dataframe tbody tr th {\n",
       "        vertical-align: top;\n",
       "    }\n",
       "\n",
       "    .dataframe thead th {\n",
       "        text-align: right;\n",
       "    }\n",
       "</style>\n",
       "<table border=\"1\" class=\"dataframe\">\n",
       "  <thead>\n",
       "    <tr style=\"text-align: right;\">\n",
       "      <th></th>\n",
       "      <th>text</th>\n",
       "      <th>Unnamed: 1</th>\n",
       "      <th>Unnamed: 2</th>\n",
       "      <th>Unnamed: 3</th>\n",
       "      <th>Unnamed: 4</th>\n",
       "      <th>request_http_method</th>\n",
       "      <th>request_http_request</th>\n",
       "      <th>Unnamed: 7</th>\n",
       "      <th>Unnamed: 8</th>\n",
       "      <th>Unnamed: 9</th>\n",
       "      <th>...</th>\n",
       "      <th>126 - Path Traversal</th>\n",
       "      <th>66 - SQL Injection</th>\n",
       "      <th>16 - Dictionary-based Password Attack</th>\n",
       "      <th>310 - Scanning for Vulnerable Software</th>\n",
       "      <th>153 - Input Data Manipulation</th>\n",
       "      <th>248 - Command Injection</th>\n",
       "      <th>274 - HTTP Verb Tampering</th>\n",
       "      <th>194 - Fake the Source of Data</th>\n",
       "      <th>34 - HTTP Response Splitting</th>\n",
       "      <th>33 - HTTP Request Smuggling</th>\n",
       "    </tr>\n",
       "  </thead>\n",
       "  <tbody>\n",
       "    <tr>\n",
       "      <th>0</th>\n",
       "      <td>GET /</td>\n",
       "      <td>NaN</td>\n",
       "      <td>NaN</td>\n",
       "      <td>NaN</td>\n",
       "      <td>NaN</td>\n",
       "      <td>GET</td>\n",
       "      <td>/</td>\n",
       "      <td>NaN</td>\n",
       "      <td>NaN</td>\n",
       "      <td>NaN</td>\n",
       "      <td>...</td>\n",
       "      <td>0.0</td>\n",
       "      <td>0.0</td>\n",
       "      <td>0.0</td>\n",
       "      <td>0.0</td>\n",
       "      <td>0.0</td>\n",
       "      <td>0.0</td>\n",
       "      <td>0.0</td>\n",
       "      <td>0.0</td>\n",
       "      <td>0.0</td>\n",
       "      <td>0.0</td>\n",
       "    </tr>\n",
       "    <tr>\n",
       "      <th>1</th>\n",
       "      <td>GET /blog/index.php/2020/04/04/voluptatum-repr...</td>\n",
       "      <td>NaN</td>\n",
       "      <td>NaN</td>\n",
       "      <td>NaN</td>\n",
       "      <td>NaN</td>\n",
       "      <td>GET</td>\n",
       "      <td>/blog/index.php/2020/04/04/voluptatum-reprehen...</td>\n",
       "      <td>NaN</td>\n",
       "      <td>NaN</td>\n",
       "      <td>NaN</td>\n",
       "      <td>...</td>\n",
       "      <td>0.0</td>\n",
       "      <td>0.0</td>\n",
       "      <td>0.0</td>\n",
       "      <td>0.0</td>\n",
       "      <td>0.0</td>\n",
       "      <td>0.0</td>\n",
       "      <td>0.0</td>\n",
       "      <td>0.0</td>\n",
       "      <td>0.0</td>\n",
       "      <td>0.0</td>\n",
       "    </tr>\n",
       "    <tr>\n",
       "      <th>2</th>\n",
       "      <td>GET /blog/xmlrpc.php?rsd</td>\n",
       "      <td>NaN</td>\n",
       "      <td>NaN</td>\n",
       "      <td>NaN</td>\n",
       "      <td>NaN</td>\n",
       "      <td>GET</td>\n",
       "      <td>/blog/xmlrpc.php?rsd</td>\n",
       "      <td>NaN</td>\n",
       "      <td>NaN</td>\n",
       "      <td>NaN</td>\n",
       "      <td>...</td>\n",
       "      <td>0.0</td>\n",
       "      <td>0.0</td>\n",
       "      <td>0.0</td>\n",
       "      <td>0.0</td>\n",
       "      <td>0.0</td>\n",
       "      <td>0.0</td>\n",
       "      <td>0.0</td>\n",
       "      <td>0.0</td>\n",
       "      <td>0.0</td>\n",
       "      <td>0.0</td>\n",
       "    </tr>\n",
       "    <tr>\n",
       "      <th>3</th>\n",
       "      <td>GET /</td>\n",
       "      <td>NaN</td>\n",
       "      <td>NaN</td>\n",
       "      <td>NaN</td>\n",
       "      <td>NaN</td>\n",
       "      <td>GET</td>\n",
       "      <td>/</td>\n",
       "      <td>NaN</td>\n",
       "      <td>NaN</td>\n",
       "      <td>NaN</td>\n",
       "      <td>...</td>\n",
       "      <td>0.0</td>\n",
       "      <td>0.0</td>\n",
       "      <td>0.0</td>\n",
       "      <td>0.0</td>\n",
       "      <td>0.0</td>\n",
       "      <td>0.0</td>\n",
       "      <td>0.0</td>\n",
       "      <td>0.0</td>\n",
       "      <td>0.0</td>\n",
       "      <td>0.0</td>\n",
       "    </tr>\n",
       "    <tr>\n",
       "      <th>4</th>\n",
       "      <td>GET /blog/index.php/2020/04/04/nihil-tenetur-e...</td>\n",
       "      <td>NaN</td>\n",
       "      <td>NaN</td>\n",
       "      <td>NaN</td>\n",
       "      <td>NaN</td>\n",
       "      <td>GET</td>\n",
       "      <td>/blog/index.php/2020/04/04/nihil-tenetur-et-ad...</td>\n",
       "      <td>NaN</td>\n",
       "      <td>NaN</td>\n",
       "      <td>NaN</td>\n",
       "      <td>...</td>\n",
       "      <td>0.0</td>\n",
       "      <td>0.0</td>\n",
       "      <td>0.0</td>\n",
       "      <td>0.0</td>\n",
       "      <td>0.0</td>\n",
       "      <td>0.0</td>\n",
       "      <td>0.0</td>\n",
       "      <td>0.0</td>\n",
       "      <td>0.0</td>\n",
       "      <td>0.0</td>\n",
       "    </tr>\n",
       "  </tbody>\n",
       "</table>\n",
       "<p>5 rows × 38 columns</p>\n",
       "</div>"
      ],
      "text/plain": [
       "                                                text  Unnamed: 1  Unnamed: 2  \\\n",
       "0                                              GET /         NaN         NaN   \n",
       "1  GET /blog/index.php/2020/04/04/voluptatum-repr...         NaN         NaN   \n",
       "2                           GET /blog/xmlrpc.php?rsd         NaN         NaN   \n",
       "3                                              GET /         NaN         NaN   \n",
       "4  GET /blog/index.php/2020/04/04/nihil-tenetur-e...         NaN         NaN   \n",
       "\n",
       "   Unnamed: 3  Unnamed: 4 request_http_method  \\\n",
       "0         NaN         NaN                 GET   \n",
       "1         NaN         NaN                 GET   \n",
       "2         NaN         NaN                 GET   \n",
       "3         NaN         NaN                 GET   \n",
       "4         NaN         NaN                 GET   \n",
       "\n",
       "                                request_http_request  Unnamed: 7  Unnamed: 8  \\\n",
       "0                                                  /         NaN         NaN   \n",
       "1  /blog/index.php/2020/04/04/voluptatum-reprehen...         NaN         NaN   \n",
       "2                               /blog/xmlrpc.php?rsd         NaN         NaN   \n",
       "3                                                  /         NaN         NaN   \n",
       "4  /blog/index.php/2020/04/04/nihil-tenetur-et-ad...         NaN         NaN   \n",
       "\n",
       "   Unnamed: 9  ...  126 - Path Traversal  66 - SQL Injection  \\\n",
       "0         NaN  ...                   0.0                 0.0   \n",
       "1         NaN  ...                   0.0                 0.0   \n",
       "2         NaN  ...                   0.0                 0.0   \n",
       "3         NaN  ...                   0.0                 0.0   \n",
       "4         NaN  ...                   0.0                 0.0   \n",
       "\n",
       "   16 - Dictionary-based Password Attack  \\\n",
       "0                                    0.0   \n",
       "1                                    0.0   \n",
       "2                                    0.0   \n",
       "3                                    0.0   \n",
       "4                                    0.0   \n",
       "\n",
       "   310 - Scanning for Vulnerable Software  153 - Input Data Manipulation  \\\n",
       "0                                     0.0                            0.0   \n",
       "1                                     0.0                            0.0   \n",
       "2                                     0.0                            0.0   \n",
       "3                                     0.0                            0.0   \n",
       "4                                     0.0                            0.0   \n",
       "\n",
       "   248 - Command Injection  274 - HTTP Verb Tampering  \\\n",
       "0                      0.0                        0.0   \n",
       "1                      0.0                        0.0   \n",
       "2                      0.0                        0.0   \n",
       "3                      0.0                        0.0   \n",
       "4                      0.0                        0.0   \n",
       "\n",
       "   194 - Fake the Source of Data  34 - HTTP Response Splitting  \\\n",
       "0                            0.0                           0.0   \n",
       "1                            0.0                           0.0   \n",
       "2                            0.0                           0.0   \n",
       "3                            0.0                           0.0   \n",
       "4                            0.0                           0.0   \n",
       "\n",
       "   33 - HTTP Request Smuggling  \n",
       "0                          0.0  \n",
       "1                          0.0  \n",
       "2                          0.0  \n",
       "3                          0.0  \n",
       "4                          0.0  \n",
       "\n",
       "[5 rows x 38 columns]"
      ]
     },
     "execution_count": 5,
     "metadata": {},
     "output_type": "execute_result"
    }
   ],
   "source": [
    "train_df.head()"
   ]
  },
  {
   "cell_type": "code",
   "execution_count": 6,
   "id": "885c709b",
   "metadata": {
    "execution": {
     "iopub.execute_input": "2023-11-12T09:52:55.445143Z",
     "iopub.status.busy": "2023-11-12T09:52:55.444857Z",
     "iopub.status.idle": "2023-11-12T09:52:55.484055Z",
     "shell.execute_reply": "2023-11-12T09:52:55.483117Z"
    },
    "papermill": {
     "duration": 0.050236,
     "end_time": "2023-11-12T09:52:55.486138",
     "exception": false,
     "start_time": "2023-11-12T09:52:55.435902",
     "status": "completed"
    },
    "tags": []
   },
   "outputs": [],
   "source": [
    "train_df.drop(train_df.columns[1:24], axis=1, inplace=True)"
   ]
  },
  {
   "cell_type": "code",
   "execution_count": 7,
   "id": "43a0f1ac",
   "metadata": {
    "execution": {
     "iopub.execute_input": "2023-11-12T09:52:55.504470Z",
     "iopub.status.busy": "2023-11-12T09:52:55.503916Z",
     "iopub.status.idle": "2023-11-12T09:52:55.519972Z",
     "shell.execute_reply": "2023-11-12T09:52:55.519072Z"
    },
    "papermill": {
     "duration": 0.027505,
     "end_time": "2023-11-12T09:52:55.521959",
     "exception": false,
     "start_time": "2023-11-12T09:52:55.494454",
     "status": "completed"
    },
    "tags": []
   },
   "outputs": [],
   "source": [
    "df2 = train_df.loc[200000:624245]\n",
    "df2 = df2.loc[(df2['242 - Code Injection'] == 1) \n",
    "              | (df2['16 - Dictionary-based Password Attack']==1)\n",
    "              | (df2['153 - Input Data Manipulation']==1)\n",
    "              | (df2['248 - Command Injection']==1)\n",
    "              | (df2['34 - HTTP Response Splitting']==1)\n",
    "              | (df2['274 - HTTP Verb Tampering'] == 1)\n",
    "              | (df2['33 - HTTP Request Smuggling']==1)]"
   ]
  },
  {
   "cell_type": "code",
   "execution_count": 8,
   "id": "4d387707",
   "metadata": {
    "execution": {
     "iopub.execute_input": "2023-11-12T09:52:55.539443Z",
     "iopub.status.busy": "2023-11-12T09:52:55.539151Z",
     "iopub.status.idle": "2023-11-12T09:52:55.557414Z",
     "shell.execute_reply": "2023-11-12T09:52:55.556525Z"
    },
    "papermill": {
     "duration": 0.029137,
     "end_time": "2023-11-12T09:52:55.559407",
     "exception": false,
     "start_time": "2023-11-12T09:52:55.530270",
     "status": "completed"
    },
    "tags": []
   },
   "outputs": [],
   "source": [
    "train_df = pd.concat([train_df.head(200000), df2], ignore_index=True)"
   ]
  },
  {
   "cell_type": "code",
   "execution_count": 9,
   "id": "04ef1b3e",
   "metadata": {
    "execution": {
     "iopub.execute_input": "2023-11-12T09:52:55.577427Z",
     "iopub.status.busy": "2023-11-12T09:52:55.577142Z",
     "iopub.status.idle": "2023-11-12T09:52:55.584055Z",
     "shell.execute_reply": "2023-11-12T09:52:55.583343Z"
    },
    "papermill": {
     "duration": 0.017881,
     "end_time": "2023-11-12T09:52:55.585881",
     "exception": false,
     "start_time": "2023-11-12T09:52:55.568000",
     "status": "completed"
    },
    "tags": []
   },
   "outputs": [
    {
     "data": {
      "text/plain": [
       "Index(['text', '000 - Normal', '272 - Protocol Manipulation',\n",
       "       '242 - Code Injection', '88 - OS Command Injection',\n",
       "       '126 - Path Traversal', '66 - SQL Injection',\n",
       "       '16 - Dictionary-based Password Attack',\n",
       "       '310 - Scanning for Vulnerable Software',\n",
       "       '153 - Input Data Manipulation', '248 - Command Injection',\n",
       "       '274 - HTTP Verb Tampering', '194 - Fake the Source of Data',\n",
       "       '34 - HTTP Response Splitting', '33 - HTTP Request Smuggling'],\n",
       "      dtype='object')"
      ]
     },
     "execution_count": 9,
     "metadata": {},
     "output_type": "execute_result"
    }
   ],
   "source": [
    "train_df.columns"
   ]
  },
  {
   "cell_type": "code",
   "execution_count": 10,
   "id": "e41a21bc",
   "metadata": {
    "execution": {
     "iopub.execute_input": "2023-11-12T09:52:55.603724Z",
     "iopub.status.busy": "2023-11-12T09:52:55.603424Z",
     "iopub.status.idle": "2023-11-12T09:52:55.607788Z",
     "shell.execute_reply": "2023-11-12T09:52:55.607052Z"
    },
    "papermill": {
     "duration": 0.015438,
     "end_time": "2023-11-12T09:52:55.609629",
     "exception": false,
     "start_time": "2023-11-12T09:52:55.594191",
     "status": "completed"
    },
    "tags": []
   },
   "outputs": [],
   "source": [
    "target_list = [\"000 - Normal\", \"272 - Protocol Manipulation\", \"242 - Code Injection\", \n",
    "               \"88 - OS Command Injection\", \"126 - Path Traversal\", \"66 - SQL Injection\",\n",
    "               \"16 - Dictionary-based Password Attack\", \"310 - Scanning for Vulnerable Software\", \n",
    "               \"153 - Input Data Manipulation\", \"248 - Command Injection\", \n",
    "               \"274 - HTTP Verb Tampering\", \"194 - Fake the Source of Data\", \n",
    "               \"34 - HTTP Response Splitting\", \"33 - HTTP Request Smuggling\"]"
   ]
  },
  {
   "cell_type": "code",
   "execution_count": 11,
   "id": "3ef018f8",
   "metadata": {
    "execution": {
     "iopub.execute_input": "2023-11-12T09:52:55.627229Z",
     "iopub.status.busy": "2023-11-12T09:52:55.626993Z",
     "iopub.status.idle": "2023-11-12T09:52:55.631848Z",
     "shell.execute_reply": "2023-11-12T09:52:55.631025Z"
    },
    "papermill": {
     "duration": 0.015952,
     "end_time": "2023-11-12T09:52:55.633947",
     "exception": false,
     "start_time": "2023-11-12T09:52:55.617995",
     "status": "completed"
    },
    "tags": []
   },
   "outputs": [
    {
     "data": {
      "text/plain": [
       "14"
      ]
     },
     "execution_count": 11,
     "metadata": {},
     "output_type": "execute_result"
    }
   ],
   "source": [
    "len(target_list)"
   ]
  },
  {
   "cell_type": "code",
   "execution_count": 12,
   "id": "d3637cef",
   "metadata": {
    "execution": {
     "iopub.execute_input": "2023-11-12T09:52:55.653229Z",
     "iopub.status.busy": "2023-11-12T09:52:55.652973Z",
     "iopub.status.idle": "2023-11-12T09:52:55.656903Z",
     "shell.execute_reply": "2023-11-12T09:52:55.656092Z"
    },
    "papermill": {
     "duration": 0.01561,
     "end_time": "2023-11-12T09:52:55.658745",
     "exception": false,
     "start_time": "2023-11-12T09:52:55.643135",
     "status": "completed"
    },
    "tags": []
   },
   "outputs": [],
   "source": [
    "# hyperparameters\n",
    "MAX_LEN = 256\n",
    "TRAIN_BATCH_SIZE = 32\n",
    "VALID_BATCH_SIZE = 32\n",
    "EPOCHS = 2\n",
    "LEARNING_RATE = 1e-05"
   ]
  },
  {
   "cell_type": "code",
   "execution_count": 13,
   "id": "1962f0ad",
   "metadata": {
    "execution": {
     "iopub.execute_input": "2023-11-12T09:52:55.677485Z",
     "iopub.status.busy": "2023-11-12T09:52:55.676805Z",
     "iopub.status.idle": "2023-11-12T09:53:06.737073Z",
     "shell.execute_reply": "2023-11-12T09:53:06.736315Z"
    },
    "papermill": {
     "duration": 11.071882,
     "end_time": "2023-11-12T09:53:06.739272",
     "exception": false,
     "start_time": "2023-11-12T09:52:55.667390",
     "status": "completed"
    },
    "tags": []
   },
   "outputs": [
    {
     "name": "stderr",
     "output_type": "stream",
     "text": [
      "/opt/conda/lib/python3.10/site-packages/scipy/__init__.py:146: UserWarning: A NumPy version >=1.16.5 and <1.23.0 is required for this version of SciPy (detected version 1.23.5\n",
      "  warnings.warn(f\"A NumPy version >={np_minversion} and <{np_maxversion}\"\n"
     ]
    }
   ],
   "source": [
    "from transformers import AutoTokenizer, AutoModelForMaskedLM, AutoModel\n",
    "from transformers import BertTokenizer, BertModel"
   ]
  },
  {
   "cell_type": "code",
   "execution_count": 14,
   "id": "1b84ddfa",
   "metadata": {
    "execution": {
     "iopub.execute_input": "2023-11-12T09:53:06.758450Z",
     "iopub.status.busy": "2023-11-12T09:53:06.758175Z",
     "iopub.status.idle": "2023-11-12T09:53:07.714683Z",
     "shell.execute_reply": "2023-11-12T09:53:07.713614Z"
    },
    "papermill": {
     "duration": 0.968795,
     "end_time": "2023-11-12T09:53:07.717204",
     "exception": false,
     "start_time": "2023-11-12T09:53:06.748409",
     "status": "completed"
    },
    "tags": []
   },
   "outputs": [
    {
     "data": {
      "application/vnd.jupyter.widget-view+json": {
       "model_id": "ff0ba183025f4ff3b41845842fb7f6ab",
       "version_major": 2,
       "version_minor": 0
      },
      "text/plain": [
       "Downloading (…)lve/main/config.json:   0%|          | 0.00/467 [00:00<?, ?B/s]"
      ]
     },
     "metadata": {},
     "output_type": "display_data"
    },
    {
     "data": {
      "application/vnd.jupyter.widget-view+json": {
       "model_id": "c61f4a8dd4084b8a8d1c49d5b314b4c9",
       "version_major": 2,
       "version_minor": 0
      },
      "text/plain": [
       "Downloading (…)solve/main/vocab.txt:   0%|          | 0.00/378k [00:00<?, ?B/s]"
      ]
     },
     "metadata": {},
     "output_type": "display_data"
    }
   ],
   "source": [
    "tokenizer = AutoTokenizer.from_pretrained('jackaduma/SecBERT')\n"
   ]
  },
  {
   "cell_type": "code",
   "execution_count": 15,
   "id": "6093cde9",
   "metadata": {
    "execution": {
     "iopub.execute_input": "2023-11-12T09:53:07.737479Z",
     "iopub.status.busy": "2023-11-12T09:53:07.737172Z",
     "iopub.status.idle": "2023-11-12T09:53:07.745656Z",
     "shell.execute_reply": "2023-11-12T09:53:07.744805Z"
    },
    "papermill": {
     "duration": 0.020616,
     "end_time": "2023-11-12T09:53:07.747520",
     "exception": false,
     "start_time": "2023-11-12T09:53:07.726904",
     "status": "completed"
    },
    "tags": []
   },
   "outputs": [],
   "source": [
    "class CustomDataset(torch.utils.data.Dataset):\n",
    "\n",
    "    def __init__(self, df, tokenizer, max_len):\n",
    "        self.tokenizer = tokenizer\n",
    "        self.df = df\n",
    "        self.title = df['text']\n",
    "        self.targets = self.df[target_list].values\n",
    "        self.max_len = max_len\n",
    "\n",
    "    def __len__(self):\n",
    "        return len(self.title)\n",
    "\n",
    "    def __getitem__(self, index):\n",
    "        title = str(self.title[index])\n",
    "        title = \" \".join(title.split())\n",
    "\n",
    "        inputs = self.tokenizer.encode_plus(\n",
    "            title,\n",
    "            None,\n",
    "            add_special_tokens=True,\n",
    "            max_length=self.max_len,\n",
    "            padding='max_length',\n",
    "            return_token_type_ids=True,\n",
    "            truncation=True,\n",
    "            return_attention_mask=True,\n",
    "            return_tensors='pt'\n",
    "        )\n",
    "\n",
    "        return {\n",
    "            'input_ids': inputs['input_ids'].flatten(),\n",
    "            'attention_mask': inputs['attention_mask'].flatten(),\n",
    "            'token_type_ids': inputs[\"token_type_ids\"].flatten(),\n",
    "            'targets': torch.FloatTensor(self.targets[index])\n",
    "        }"
   ]
  },
  {
   "cell_type": "code",
   "execution_count": 16,
   "id": "c10c6279",
   "metadata": {
    "execution": {
     "iopub.execute_input": "2023-11-12T09:53:07.767882Z",
     "iopub.status.busy": "2023-11-12T09:53:07.767627Z",
     "iopub.status.idle": "2023-11-12T09:53:07.826321Z",
     "shell.execute_reply": "2023-11-12T09:53:07.825519Z"
    },
    "papermill": {
     "duration": 0.071396,
     "end_time": "2023-11-12T09:53:07.828589",
     "exception": false,
     "start_time": "2023-11-12T09:53:07.757193",
     "status": "completed"
    },
    "tags": []
   },
   "outputs": [],
   "source": [
    "train_size = 0.8\n",
    "train_df1 = train_df.sample(frac=train_size, random_state=200).reset_index(drop=True)\n",
    "val_df = train_df.drop(train_df1.index).reset_index(drop=True)"
   ]
  },
  {
   "cell_type": "code",
   "execution_count": 17,
   "id": "da254367",
   "metadata": {
    "execution": {
     "iopub.execute_input": "2023-11-12T09:53:07.849331Z",
     "iopub.status.busy": "2023-11-12T09:53:07.848976Z",
     "iopub.status.idle": "2023-11-12T09:53:07.861579Z",
     "shell.execute_reply": "2023-11-12T09:53:07.860631Z"
    },
    "papermill": {
     "duration": 0.025347,
     "end_time": "2023-11-12T09:53:07.863698",
     "exception": false,
     "start_time": "2023-11-12T09:53:07.838351",
     "status": "completed"
    },
    "tags": []
   },
   "outputs": [],
   "source": [
    "train_dataset = CustomDataset(train_df, tokenizer, MAX_LEN)\n",
    "valid_dataset = CustomDataset(val_df, tokenizer, MAX_LEN)"
   ]
  },
  {
   "cell_type": "code",
   "execution_count": 18,
   "id": "6cd3b294",
   "metadata": {
    "execution": {
     "iopub.execute_input": "2023-11-12T09:53:07.884547Z",
     "iopub.status.busy": "2023-11-12T09:53:07.884283Z",
     "iopub.status.idle": "2023-11-12T09:53:07.889709Z",
     "shell.execute_reply": "2023-11-12T09:53:07.888740Z"
    },
    "papermill": {
     "duration": 0.018061,
     "end_time": "2023-11-12T09:53:07.891709",
     "exception": false,
     "start_time": "2023-11-12T09:53:07.873648",
     "status": "completed"
    },
    "tags": []
   },
   "outputs": [],
   "source": [
    "train_data_loader = torch.utils.data.DataLoader(train_dataset, \n",
    "    batch_size=TRAIN_BATCH_SIZE,\n",
    "    shuffle=True,\n",
    "    num_workers=0\n",
    ")\n",
    "\n",
    "val_data_loader = torch.utils.data.DataLoader(valid_dataset, \n",
    "    batch_size=VALID_BATCH_SIZE,\n",
    "    shuffle=False,\n",
    "    num_workers=0\n",
    ")"
   ]
  },
  {
   "cell_type": "code",
   "execution_count": 19,
   "id": "f9a52be9",
   "metadata": {
    "execution": {
     "iopub.execute_input": "2023-11-12T09:53:07.912780Z",
     "iopub.status.busy": "2023-11-12T09:53:07.912414Z",
     "iopub.status.idle": "2023-11-12T09:53:08.015367Z",
     "shell.execute_reply": "2023-11-12T09:53:08.014421Z"
    },
    "papermill": {
     "duration": 0.115801,
     "end_time": "2023-11-12T09:53:08.017527",
     "exception": false,
     "start_time": "2023-11-12T09:53:07.901726",
     "status": "completed"
    },
    "tags": []
   },
   "outputs": [
    {
     "data": {
      "text/plain": [
       "device(type='cuda')"
      ]
     },
     "execution_count": 19,
     "metadata": {},
     "output_type": "execute_result"
    }
   ],
   "source": [
    "device = torch.device('cuda') if torch.cuda.is_available() else torch.device('cpu')\n",
    "device"
   ]
  },
  {
   "cell_type": "code",
   "execution_count": 20,
   "id": "77d4fcb1",
   "metadata": {
    "execution": {
     "iopub.execute_input": "2023-11-12T09:53:08.038890Z",
     "iopub.status.busy": "2023-11-12T09:53:08.038560Z",
     "iopub.status.idle": "2023-11-12T09:53:08.045779Z",
     "shell.execute_reply": "2023-11-12T09:53:08.044907Z"
    },
    "papermill": {
     "duration": 0.020223,
     "end_time": "2023-11-12T09:53:08.047885",
     "exception": false,
     "start_time": "2023-11-12T09:53:08.027662",
     "status": "completed"
    },
    "tags": []
   },
   "outputs": [],
   "source": [
    "def load_ckp(checkpoint_fpath, model, optimizer):\n",
    "    \"\"\"\n",
    "    checkpoint_path: path to save checkpoint\n",
    "    model: model that we want to load checkpoint parameters into       \n",
    "    optimizer: optimizer we defined in previous training\n",
    "    \"\"\"\n",
    "    # load check point\n",
    "    checkpoint = torch.load(checkpoint_fpath)\n",
    "    # initialize state_dict from checkpoint to model\n",
    "    model.load_state_dict(checkpoint['state_dict'])\n",
    "    # initialize optimizer from checkpoint to optimizer\n",
    "    optimizer.load_state_dict(checkpoint['optimizer'])\n",
    "    # initialize valid_loss_min from checkpoint to valid_loss_min\n",
    "    valid_loss_min = checkpoint['valid_loss_min']\n",
    "    # return model, optimizer, epoch value, min validation loss \n",
    "    return model, optimizer, checkpoint['epoch'], valid_loss_min.item()\n",
    "\n",
    "def save_ckp(state, is_best, checkpoint_path, best_model_path):\n",
    "    \"\"\"\n",
    "    state: checkpoint we want to save\n",
    "    is_best: is this the best checkpoint; min validation loss\n",
    "    checkpoint_path: path to save checkpoint\n",
    "    best_model_path: path to save best model\n",
    "    \"\"\"\n",
    "    f_path = checkpoint_path\n",
    "    # save checkpoint data to the path given, checkpoint_path\n",
    "    torch.save(state, f_path)\n",
    "    # if it is a best model, min validation loss\n",
    "    if is_best:\n",
    "        best_fpath = best_model_path\n",
    "        # copy that checkpoint file to best path given, best_model_path\n",
    "        shutil.copyfile(f_path, best_fpath)"
   ]
  },
  {
   "cell_type": "code",
   "execution_count": 21,
   "id": "12c6219c",
   "metadata": {
    "execution": {
     "iopub.execute_input": "2023-11-12T09:53:08.069481Z",
     "iopub.status.busy": "2023-11-12T09:53:08.069217Z",
     "iopub.status.idle": "2023-11-12T09:53:16.965808Z",
     "shell.execute_reply": "2023-11-12T09:53:16.964678Z"
    },
    "papermill": {
     "duration": 8.909761,
     "end_time": "2023-11-12T09:53:16.967886",
     "exception": false,
     "start_time": "2023-11-12T09:53:08.058125",
     "status": "completed"
    },
    "tags": []
   },
   "outputs": [
    {
     "data": {
      "application/vnd.jupyter.widget-view+json": {
       "model_id": "5028d6cdee674f018284d661d6eef757",
       "version_major": 2,
       "version_minor": 0
      },
      "text/plain": [
       "Downloading model.safetensors:   0%|          | 0.00/336M [00:00<?, ?B/s]"
      ]
     },
     "metadata": {},
     "output_type": "display_data"
    },
    {
     "data": {
      "text/plain": [
       "BERTClass(\n",
       "  (bert_model): BertModel(\n",
       "    (embeddings): BertEmbeddings(\n",
       "      (word_embeddings): Embedding(52000, 768, padding_idx=0)\n",
       "      (position_embeddings): Embedding(514, 768)\n",
       "      (token_type_embeddings): Embedding(1, 768)\n",
       "      (LayerNorm): LayerNorm((768,), eps=1e-12, elementwise_affine=True)\n",
       "      (dropout): Dropout(p=0.1, inplace=False)\n",
       "    )\n",
       "    (encoder): BertEncoder(\n",
       "      (layer): ModuleList(\n",
       "        (0-5): 6 x BertLayer(\n",
       "          (attention): BertAttention(\n",
       "            (self): BertSelfAttention(\n",
       "              (query): Linear(in_features=768, out_features=768, bias=True)\n",
       "              (key): Linear(in_features=768, out_features=768, bias=True)\n",
       "              (value): Linear(in_features=768, out_features=768, bias=True)\n",
       "              (dropout): Dropout(p=0.1, inplace=False)\n",
       "            )\n",
       "            (output): BertSelfOutput(\n",
       "              (dense): Linear(in_features=768, out_features=768, bias=True)\n",
       "              (LayerNorm): LayerNorm((768,), eps=1e-12, elementwise_affine=True)\n",
       "              (dropout): Dropout(p=0.1, inplace=False)\n",
       "            )\n",
       "          )\n",
       "          (intermediate): BertIntermediate(\n",
       "            (dense): Linear(in_features=768, out_features=3072, bias=True)\n",
       "            (intermediate_act_fn): GELUActivation()\n",
       "          )\n",
       "          (output): BertOutput(\n",
       "            (dense): Linear(in_features=3072, out_features=768, bias=True)\n",
       "            (LayerNorm): LayerNorm((768,), eps=1e-12, elementwise_affine=True)\n",
       "            (dropout): Dropout(p=0.1, inplace=False)\n",
       "          )\n",
       "        )\n",
       "      )\n",
       "    )\n",
       "    (pooler): BertPooler(\n",
       "      (dense): Linear(in_features=768, out_features=768, bias=True)\n",
       "      (activation): Tanh()\n",
       "    )\n",
       "  )\n",
       "  (dropout): Dropout(p=0.3, inplace=False)\n",
       "  (linear): Linear(in_features=768, out_features=14, bias=True)\n",
       ")"
      ]
     },
     "execution_count": 21,
     "metadata": {},
     "output_type": "execute_result"
    }
   ],
   "source": [
    "class BERTClass(torch.nn.Module):\n",
    "    def __init__(self):\n",
    "        super(BERTClass, self).__init__()\n",
    "        self.bert_model = AutoModel.from_pretrained('jackaduma/SecBERT')\n",
    "        self.dropout = torch.nn.Dropout(0.3)\n",
    "        self.linear = torch.nn.Linear(768, 14)\n",
    "    \n",
    "    def forward(self, input_ids, attn_mask, token_type_ids):\n",
    "        output = self.bert_model(\n",
    "            input_ids, \n",
    "            attention_mask=attn_mask, \n",
    "            token_type_ids=token_type_ids\n",
    "        )\n",
    "        output_dropout = self.dropout(output.pooler_output)\n",
    "        output = self.linear(output_dropout)\n",
    "        return output\n",
    "\n",
    "model = BERTClass()\n",
    "\n",
    "model.to(device)"
   ]
  },
  {
   "cell_type": "code",
   "execution_count": 22,
   "id": "690d6e27",
   "metadata": {
    "execution": {
     "iopub.execute_input": "2023-11-12T09:53:16.990022Z",
     "iopub.status.busy": "2023-11-12T09:53:16.989682Z",
     "iopub.status.idle": "2023-11-12T09:53:16.995474Z",
     "shell.execute_reply": "2023-11-12T09:53:16.994619Z"
    },
    "papermill": {
     "duration": 0.0193,
     "end_time": "2023-11-12T09:53:16.997836",
     "exception": false,
     "start_time": "2023-11-12T09:53:16.978536",
     "status": "completed"
    },
    "tags": []
   },
   "outputs": [],
   "source": [
    "def loss_fn(outputs, targets):\n",
    "    return torch.nn.BCEWithLogitsLoss()(outputs, targets)\n",
    "\n",
    "optimizer = torch.optim.Adam(params =  model.parameters(), lr=LEARNING_RATE)"
   ]
  },
  {
   "cell_type": "code",
   "execution_count": 23,
   "id": "9d986d42",
   "metadata": {
    "execution": {
     "iopub.execute_input": "2023-11-12T09:53:17.020297Z",
     "iopub.status.busy": "2023-11-12T09:53:17.019991Z",
     "iopub.status.idle": "2023-11-12T09:53:17.023951Z",
     "shell.execute_reply": "2023-11-12T09:53:17.023176Z"
    },
    "papermill": {
     "duration": 0.016901,
     "end_time": "2023-11-12T09:53:17.025786",
     "exception": false,
     "start_time": "2023-11-12T09:53:17.008885",
     "status": "completed"
    },
    "tags": []
   },
   "outputs": [],
   "source": [
    "val_targets=[]\n",
    "val_outputs=[]"
   ]
  },
  {
   "cell_type": "code",
   "execution_count": 24,
   "id": "05b8e53f",
   "metadata": {
    "execution": {
     "iopub.execute_input": "2023-11-12T09:53:17.048029Z",
     "iopub.status.busy": "2023-11-12T09:53:17.047732Z",
     "iopub.status.idle": "2023-11-12T09:53:17.065442Z",
     "shell.execute_reply": "2023-11-12T09:53:17.064538Z"
    },
    "papermill": {
     "duration": 0.031195,
     "end_time": "2023-11-12T09:53:17.067400",
     "exception": false,
     "start_time": "2023-11-12T09:53:17.036205",
     "status": "completed"
    },
    "tags": []
   },
   "outputs": [],
   "source": [
    "def train_model(n_epochs, training_loader, validation_loader, model, \n",
    "                optimizer, checkpoint_path, best_model_path):\n",
    "   \n",
    "  # initialize tracker for minimum validation loss\n",
    "    valid_loss_min = np.Inf\n",
    "   \n",
    " \n",
    "    for epoch in range(1, n_epochs+1):\n",
    "        train_loss = 0\n",
    "        valid_loss = 0\n",
    "        model.train()\n",
    "        print('############# Epoch {}: Training Start   #############'.format(epoch))\n",
    "        for batch_idx, data in enumerate(training_loader):\n",
    "            #print('yyy epoch', batch_idx)\n",
    "            ids = data['input_ids'].to(device, dtype = torch.long)\n",
    "            mask = data['attention_mask'].to(device, dtype = torch.long)\n",
    "            token_type_ids = data['token_type_ids'].to(device, dtype = torch.long)\n",
    "            targets = data['targets'].to(device, dtype = torch.float)\n",
    "\n",
    "            outputs = model(ids, mask, token_type_ids)\n",
    "\n",
    "            optimizer.zero_grad()\n",
    "            loss = loss_fn(outputs, targets)\n",
    "            #if batch_idx%5000==0:\n",
    "             #   print(f'Epoch: {epoch}, Training Loss:  {loss.item()}')\n",
    "\n",
    "            optimizer.zero_grad()\n",
    "            loss.backward()\n",
    "            optimizer.step()\n",
    "            #print('before loss data in training', loss.item(), train_loss)\n",
    "            train_loss = train_loss + ((1 / (batch_idx + 1)) * (loss.item() - train_loss))\n",
    "            #print('after loss data in training', loss.item(), train_loss)\n",
    "            \n",
    "    print('############# Epoch {}: Training End     #############'.format(epoch))\n",
    "    \n",
    "    print('############# Epoch {}: Validation Start   #############'.format(epoch))\n",
    "    ######################    \n",
    "    # validate the model #\n",
    "    ######################\n",
    " \n",
    "    model.eval()\n",
    "   \n",
    "    with torch.no_grad():\n",
    "        for batch_idx, data in enumerate(validation_loader, 0):\n",
    "            ids = data['input_ids'].to(device, dtype = torch.long)\n",
    "            mask = data['attention_mask'].to(device, dtype = torch.long)\n",
    "            token_type_ids = data['token_type_ids'].to(device, dtype = torch.long)\n",
    "            targets = data['targets'].to(device, dtype = torch.float)\n",
    "            outputs = model(ids, mask, token_type_ids)\n",
    "\n",
    "            loss = loss_fn(outputs, targets)\n",
    "            valid_loss = valid_loss + ((1 / (batch_idx + 1)) * (loss.item() - valid_loss))\n",
    "            val_targets.extend(targets.cpu().detach().numpy().tolist())\n",
    "            val_outputs.extend(torch.sigmoid(outputs).cpu().detach().numpy().tolist())\n",
    "\n",
    "        print('############# Epoch {}: Validation End     #############'.format(epoch))\n",
    "        # calculate average losses\n",
    "        #print('before cal avg train loss', train_loss)\n",
    "        if len(training_loader) > 0:\n",
    "            train_loss = train_loss/len(training_loader)\n",
    "        if len(validation_loader) > 0:\n",
    "            valid_loss = valid_loss/len(validation_loader)\n",
    "        # print training/validation statistics \n",
    "        print('Epoch: {} \\tAvgerage Training Loss: {:.6f} \\tAverage Validation Loss: {:.6f}'.format(\n",
    "            epoch, \n",
    "            train_loss,\n",
    "            valid_loss\n",
    "            ))\n",
    "\n",
    "        # create checkpoint variable and add important data\n",
    "        checkpoint = {\n",
    "            'epoch': epoch + 1,\n",
    "            'valid_loss_min': valid_loss,\n",
    "            'state_dict': model.state_dict(),\n",
    "            'optimizer': optimizer.state_dict()\n",
    "        }\n",
    "\n",
    "        # save checkpoint\n",
    "        save_ckp(checkpoint, False, checkpoint_path, best_model_path)\n",
    "\n",
    "        ## TODO: save the model if validation loss has decreased\n",
    "        if valid_loss <= valid_loss_min:\n",
    "            print('Validation loss decreased ({:.6f} --> {:.6f}).  Saving model ...'.format(valid_loss_min,valid_loss))\n",
    "            # save checkpoint as best model\n",
    "            save_ckp(checkpoint, True, checkpoint_path, best_model_path)\n",
    "            valid_loss_min = valid_loss\n",
    "\n",
    "        print('############# Epoch {}  Done   #############\\n'.format(epoch))\n",
    "\n",
    "        return model"
   ]
  },
  {
   "cell_type": "code",
   "execution_count": 25,
   "id": "70d2049e",
   "metadata": {
    "execution": {
     "iopub.execute_input": "2023-11-12T09:53:17.090021Z",
     "iopub.status.busy": "2023-11-12T09:53:17.089712Z",
     "iopub.status.idle": "2023-11-12T09:53:17.093763Z",
     "shell.execute_reply": "2023-11-12T09:53:17.092959Z"
    },
    "papermill": {
     "duration": 0.017174,
     "end_time": "2023-11-12T09:53:17.095534",
     "exception": false,
     "start_time": "2023-11-12T09:53:17.078360",
     "status": "completed"
    },
    "tags": []
   },
   "outputs": [],
   "source": [
    "ckpt_path = \"/kaggle/working/curr_ckpt\"\n",
    "best_model_path = \"/kaggle/working/best_model.pt\""
   ]
  },
  {
   "cell_type": "code",
   "execution_count": 26,
   "id": "7b1342d1",
   "metadata": {
    "execution": {
     "iopub.execute_input": "2023-11-12T09:53:17.117330Z",
     "iopub.status.busy": "2023-11-12T09:53:17.117025Z",
     "iopub.status.idle": "2023-11-12T12:42:39.772755Z",
     "shell.execute_reply": "2023-11-12T12:42:39.771922Z"
    },
    "papermill": {
     "duration": 10162.669202,
     "end_time": "2023-11-12T12:42:39.775051",
     "exception": false,
     "start_time": "2023-11-12T09:53:17.105849",
     "status": "completed"
    },
    "tags": []
   },
   "outputs": [
    {
     "name": "stdout",
     "output_type": "stream",
     "text": [
      "############# Epoch 1: Training Start   #############\n",
      "############# Epoch 2: Training Start   #############\n",
      "############# Epoch 2: Training End     #############\n",
      "############# Epoch 2: Validation Start   #############\n",
      "############# Epoch 2: Validation End     #############\n",
      "Epoch: 2 \tAvgerage Training Loss: 0.000002 \tAverage Validation Loss: 0.000012\n",
      "Validation loss decreased (inf --> 0.000012).  Saving model ...\n",
      "############# Epoch 2  Done   #############\n",
      "\n"
     ]
    }
   ],
   "source": [
    "trained_model = train_model(EPOCHS, train_data_loader, val_data_loader, model, optimizer, ckpt_path, best_model_path)"
   ]
  },
  {
   "cell_type": "code",
   "execution_count": 27,
   "id": "b54da5d0",
   "metadata": {
    "execution": {
     "iopub.execute_input": "2023-11-12T12:42:39.802122Z",
     "iopub.status.busy": "2023-11-12T12:42:39.801796Z",
     "iopub.status.idle": "2023-11-12T12:42:40.715403Z",
     "shell.execute_reply": "2023-11-12T12:42:40.714280Z"
    },
    "papermill": {
     "duration": 0.931875,
     "end_time": "2023-11-12T12:42:40.718033",
     "exception": false,
     "start_time": "2023-11-12T12:42:39.786158",
     "status": "completed"
    },
    "tags": []
   },
   "outputs": [],
   "source": [
    "from sklearn.metrics import precision_score, recall_score, confusion_matrix, classification_report,accuracy_score, f1_score"
   ]
  },
  {
   "cell_type": "code",
   "execution_count": null,
   "id": "1df6c46f",
   "metadata": {
    "papermill": {
     "duration": 0.011268,
     "end_time": "2023-11-12T12:42:40.741172",
     "exception": false,
     "start_time": "2023-11-12T12:42:40.729904",
     "status": "completed"
    },
    "tags": []
   },
   "outputs": [],
   "source": []
  },
  {
   "cell_type": "code",
   "execution_count": 28,
   "id": "97c39cef",
   "metadata": {
    "execution": {
     "iopub.execute_input": "2023-11-12T12:42:40.767638Z",
     "iopub.status.busy": "2023-11-12T12:42:40.767236Z",
     "iopub.status.idle": "2023-11-12T13:44:19.579968Z",
     "shell.execute_reply": "2023-11-12T13:44:19.578606Z"
    },
    "papermill": {
     "duration": 3698.828458,
     "end_time": "2023-11-12T13:44:19.583098",
     "exception": false,
     "start_time": "2023-11-12T12:42:40.754640",
     "status": "completed"
    },
    "tags": []
   },
   "outputs": [
    {
     "name": "stderr",
     "output_type": "stream",
     "text": [
      "/opt/conda/lib/python3.10/site-packages/sklearn/metrics/_classification.py:1344: UndefinedMetricWarning: Precision and F-score are ill-defined and being set to 0.0 in labels with no predicted samples. Use `zero_division` parameter to control this behavior.\n",
      "  _warn_prf(average, modifier, msg_start, len(result))\n",
      "/opt/conda/lib/python3.10/site-packages/sklearn/metrics/_classification.py:1344: UndefinedMetricWarning: Recall and F-score are ill-defined and being set to 0.0 in labels with no true samples. Use `zero_division` parameter to control this behavior.\n",
      "  _warn_prf(average, modifier, msg_start, len(result))\n",
      "/opt/conda/lib/python3.10/site-packages/sklearn/metrics/_classification.py:1344: UndefinedMetricWarning: Precision and F-score are ill-defined and being set to 0.0 in samples with no predicted labels. Use `zero_division` parameter to control this behavior.\n",
      "  _warn_prf(average, modifier, msg_start, len(result))\n"
     ]
    },
    {
     "name": "stdout",
     "output_type": "stream",
     "text": [
      "\n",
      " clasification report:\n",
      "               precision    recall  f1-score   support\n",
      "\n",
      "           0     0.9134    0.7601    0.8297    167414\n",
      "           1     0.9630    0.1867    0.3128      8093\n",
      "           2     0.8045    0.9564    0.8739     14925\n",
      "           3     0.8560    0.2132    0.3414      6298\n",
      "           4     0.9379    0.4643    0.6211      3515\n",
      "           5     0.8362    0.9393    0.8848    177488\n",
      "           6     0.5917    0.9930    0.7415      1436\n",
      "           7     0.0000    0.0000    0.0000         3\n",
      "           8     0.0000    0.0000    0.0000      1023\n",
      "           9     0.0000    0.0000    0.0000         0\n",
      "          10     0.6051    0.9996    0.7538      5436\n",
      "          11     0.4369    0.0833    0.1399      1081\n",
      "          12     0.9905    0.9661    0.9782     19738\n",
      "          13     0.8849    0.9660    0.9237      1059\n",
      "\n",
      "   micro avg     0.8625    0.8338    0.8479    407509\n",
      "   macro avg     0.6300    0.5377    0.5286    407509\n",
      "weighted avg     0.8710    0.8338    0.8379    407509\n",
      " samples avg     0.8389    0.8385    0.8383    407509\n",
      "\n",
      "F1 score: 0.8478768641073247\n",
      "Recall: 0.8337680885575534\n",
      "Precision: 0.862471347668595\n",
      "Acc: 0.835315\n"
     ]
    }
   ],
   "source": [
    "# testing\n",
    "true_labels = list()\n",
    "predicted_labels = list()\n",
    "\n",
    "check = 1\n",
    "num_correct = 0;\n",
    "num_sample = 0\n",
    "for i in range(200000, 600000, 1):\n",
    "    check = 1\n",
    "    example = test_df['text'][i]\n",
    "    num_sample += 1\n",
    "    encodings = tokenizer.encode_plus(\n",
    "        example,\n",
    "        None,\n",
    "        add_special_tokens=True,\n",
    "        max_length=MAX_LEN,\n",
    "        padding='max_length',\n",
    "        return_token_type_ids=True,\n",
    "        truncation=True,\n",
    "        return_attention_mask=True,\n",
    "        return_tensors='pt'\n",
    "    )\n",
    "    model.eval()\n",
    "    with torch.no_grad():\n",
    "        input_ids = encodings['input_ids'].to(device, dtype=torch.long)\n",
    "        attention_mask = encodings['attention_mask'].to(device, dtype=torch.long)\n",
    "        token_type_ids = encodings['token_type_ids'].to(device, dtype=torch.long)\n",
    "        output = model(input_ids, attention_mask, token_type_ids)\n",
    "        final_output = torch.sigmoid(output).cpu().detach().numpy().tolist()\n",
    "    #     print(final_output)\n",
    "        for x in final_output:\n",
    "            true_label = list()\n",
    "            predicted_label = list()\n",
    "            for j, y in enumerate(x):\n",
    "#     #             print(i)\n",
    "#                 if y < 0.5: and test_df[target_list[j]][i] == 1:\n",
    "# #                     check = 0\n",
    "# #                     break\n",
    "#                 elif y > 0.5 and test_df[target_list[j]][i] == 0:\n",
    "# #                     check = 0\n",
    "# #                     break\n",
    "# #         if check == 1:\n",
    "# #             num_correct += 1\n",
    "                if y < 0.5:\n",
    "                    predicted_label.append(0)\n",
    "                else:\n",
    "                    predicted_label.append(1)\n",
    "                if test_df[target_list[j]][i] == 1:\n",
    "                    true_label.append(1)\n",
    "                else:\n",
    "                    true_label.append(0)\n",
    "#             print(predicted_label)\n",
    "            predicted_labels.append(predicted_label)\n",
    "            true_labels.append(true_label)\n",
    "# print(predicted_labels)\n",
    "# print(\"true label: \", true_labels)\n",
    "# acc = num_correct / num_sample\n",
    "# print(acc)\n",
    "score = f1_score(true_labels,predicted_labels,average=\"micro\")\n",
    "precision = precision_score(true_labels, predicted_labels,average=\"micro\")\n",
    "recall = recall_score(true_labels, predicted_labels,average=\"micro\")\n",
    "report = classification_report(true_labels,predicted_labels,digits=4)\n",
    "acc= accuracy_score(true_labels, predicted_labels)\n",
    "#classifaction_report_csv(report,precision,recall,score,0)\n",
    "print ('\\n clasification report:\\n', report)\n",
    "print ('F1 score:', score)\n",
    "print ('Recall:', recall)\n",
    "print ('Precision:', precision)\n",
    "print ('Acc:', acc)\n",
    "\n"
   ]
  },
  {
   "cell_type": "code",
   "execution_count": 29,
   "id": "a7fdaa9f",
   "metadata": {
    "execution": {
     "iopub.execute_input": "2023-11-12T13:44:19.610794Z",
     "iopub.status.busy": "2023-11-12T13:44:19.610434Z",
     "iopub.status.idle": "2023-11-12T13:44:19.616939Z",
     "shell.execute_reply": "2023-11-12T13:44:19.616020Z"
    },
    "papermill": {
     "duration": 0.02249,
     "end_time": "2023-11-12T13:44:19.619079",
     "exception": false,
     "start_time": "2023-11-12T13:44:19.596589",
     "status": "completed"
    },
    "tags": []
   },
   "outputs": [],
   "source": [
    "# from sklearn.metrics import precision_score, recall_score, confusion_matrix, classification_report,accuracy_score, f1_score\n",
    "\n",
    "# def evaluate(model, percentage = 80):\n",
    "#     with torch.no_grad():\n",
    "#         predicted_labels_dict = {\n",
    "#           0: 0,\n",
    "#           1: 0,\n",
    "#           2: 0,\n",
    "#           3: 0,\n",
    "#           4: 0,\n",
    "#           5: 0,\n",
    "#           6: 0,\n",
    "#         }\n",
    "#         model.eval()\n",
    "#         dev_df = pd.read_csv(test_path)\n",
    "#         data_size = dev_df.shape[0]\n",
    "#         selected_for_evaluation = int(data_size*percentage/100)\n",
    "#         dev_df = dev_df.head(selected_for_evaluation)\n",
    "#         dataset = ReviewDataset(dev_df)\n",
    "#         dataloader = DataLoader(dataset = dataset, batch_size = training_parameters[\"batch_size\"], shuffle = True, num_workers = 2)\n",
    "\n",
    "#         true_labels = list()\n",
    "#         predicted_label = list()\n",
    "#         for input_ids, attention_mask, token_type_ids, labels in dataloader:\n",
    "#             inputs = {\n",
    "#                 \"input_ids\": input_ids.squeeze(axis=1),\n",
    "#                 \"attention_mask\": attention_mask.squeeze(axis=1),\n",
    "#                 \"token_type_ids\" : token_type_ids.squeeze(axis=1),\n",
    "#                 \"labels\": labels,\n",
    "#             }\n",
    "#             for k, v in inputs.items():\n",
    "#                 inputs[k] = v.to(device)\n",
    "#             attack_pred, _ = model(**inputs)\n",
    "#             predicted_label.extend(attack_pred.max(dim = 1)[1].cpu().numpy())\n",
    "#             true_labels.extend(inputs['labels'].cpu().numpy())\n",
    "#             _, predicted_labels = compute_accuracy(attack_pred, inputs[\"labels\"])\n",
    "\n",
    "#             for i in range(7):\n",
    "#                 predicted_labels_dict[i] += predicted_labels[i]\n",
    "\n",
    "#         score = f1_score(true_labels,predicted_label,average=\"macro\")\n",
    "#         precision = precision_score(true_labels, predicted_label,average=\"macro\")\n",
    "#         recall = recall_score(true_labels, predicted_label,average=\"macro\")\n",
    "#         report = classification_report(true_labels,predicted_label,digits=4)\n",
    "#         acc= accuracy_score(true_labels, predicted_label)\n",
    "#         #classifaction_report_csv(report,precision,recall,score,0)\n",
    "#         print ('\\n clasification report:\\n', report)\n",
    "#         print ('F1 score:', score)\n",
    "#         print ('Recall:', recall)\n",
    "#         print ('Precision:', precision)\n",
    "#         print ('Acc:', acc)\n",
    "#         print('Confusion Matrix: \\n',confusion_matrix(true_labels, predicted_label))\n",
    "#         print(predicted_labels_dict)"
   ]
  },
  {
   "cell_type": "code",
   "execution_count": 30,
   "id": "a927a0cd",
   "metadata": {
    "execution": {
     "iopub.execute_input": "2023-11-12T13:44:19.645995Z",
     "iopub.status.busy": "2023-11-12T13:44:19.645424Z",
     "iopub.status.idle": "2023-11-12T13:44:19.651093Z",
     "shell.execute_reply": "2023-11-12T13:44:19.650193Z"
    },
    "papermill": {
     "duration": 0.021415,
     "end_time": "2023-11-12T13:44:19.653168",
     "exception": false,
     "start_time": "2023-11-12T13:44:19.631753",
     "status": "completed"
    },
    "tags": []
   },
   "outputs": [],
   "source": [
    "def accuracy(y_true, y_pred):\n",
    "    temp = 0\n",
    "    for i in range(len(y_true)):\n",
    "        numerator = sum(np.logical_and(y_true[i], y_pred[i]))\n",
    "        denominator = sum(np.logical_or(y_true[i], y_pred[i]))\n",
    "        if denominator != 0:\n",
    "            temp += numerator / denominator\n",
    "    return temp / len(y_true)"
   ]
  },
  {
   "cell_type": "code",
   "execution_count": 31,
   "id": "44c589f3",
   "metadata": {
    "execution": {
     "iopub.execute_input": "2023-11-12T13:44:19.676952Z",
     "iopub.status.busy": "2023-11-12T13:44:19.676707Z",
     "iopub.status.idle": "2023-11-12T13:44:32.654945Z",
     "shell.execute_reply": "2023-11-12T13:44:32.654021Z"
    },
    "papermill": {
     "duration": 12.992481,
     "end_time": "2023-11-12T13:44:32.657238",
     "exception": false,
     "start_time": "2023-11-12T13:44:19.664757",
     "status": "completed"
    },
    "tags": []
   },
   "outputs": [
    {
     "name": "stdout",
     "output_type": "stream",
     "text": [
      "accuracy: 0.8375585416666664\n"
     ]
    }
   ],
   "source": [
    "acc_ = accuracy(true_labels,predicted_labels)\n",
    "print(\"accuracy:\", acc_)"
   ]
  }
 ],
 "metadata": {
  "kernelspec": {
   "display_name": "Python 3",
   "language": "python",
   "name": "python3"
  },
  "language_info": {
   "codemirror_mode": {
    "name": "ipython",
    "version": 3
   },
   "file_extension": ".py",
   "mimetype": "text/x-python",
   "name": "python",
   "nbconvert_exporter": "python",
   "pygments_lexer": "ipython3",
   "version": "3.10.12"
  },
  "papermill": {
   "default_parameters": {},
   "duration": 13930.406239,
   "end_time": "2023-11-12T13:44:35.907693",
   "environment_variables": {},
   "exception": null,
   "input_path": "__notebook__.ipynb",
   "output_path": "__notebook__.ipynb",
   "parameters": {},
   "start_time": "2023-11-12T09:52:25.501454",
   "version": "2.4.0"
  },
  "widgets": {
   "application/vnd.jupyter.widget-state+json": {
    "state": {
     "0e8896116da0469aa9c19dbba5a3e41f": {
      "model_module": "@jupyter-widgets/controls",
      "model_module_version": "1.5.0",
      "model_name": "HTMLModel",
      "state": {
       "_dom_classes": [],
       "_model_module": "@jupyter-widgets/controls",
       "_model_module_version": "1.5.0",
       "_model_name": "HTMLModel",
       "_view_count": null,
       "_view_module": "@jupyter-widgets/controls",
       "_view_module_version": "1.5.0",
       "_view_name": "HTMLView",
       "description": "",
       "description_tooltip": null,
       "layout": "IPY_MODEL_e7edfe789ea840e3a9ef3f8b8c9f2834",
       "placeholder": "​",
       "style": "IPY_MODEL_1983734ce12b40028e712da0ad77c231",
       "value": " 336M/336M [00:01&lt;00:00, 224MB/s]"
      }
     },
     "10a8102b27164f66a135ceb11382c679": {
      "model_module": "@jupyter-widgets/controls",
      "model_module_version": "1.5.0",
      "model_name": "DescriptionStyleModel",
      "state": {
       "_model_module": "@jupyter-widgets/controls",
       "_model_module_version": "1.5.0",
       "_model_name": "DescriptionStyleModel",
       "_view_count": null,
       "_view_module": "@jupyter-widgets/base",
       "_view_module_version": "1.2.0",
       "_view_name": "StyleView",
       "description_width": ""
      }
     },
     "1983734ce12b40028e712da0ad77c231": {
      "model_module": "@jupyter-widgets/controls",
      "model_module_version": "1.5.0",
      "model_name": "DescriptionStyleModel",
      "state": {
       "_model_module": "@jupyter-widgets/controls",
       "_model_module_version": "1.5.0",
       "_model_name": "DescriptionStyleModel",
       "_view_count": null,
       "_view_module": "@jupyter-widgets/base",
       "_view_module_version": "1.2.0",
       "_view_name": "StyleView",
       "description_width": ""
      }
     },
     "270317e741dc44b383c1ef31651a48e3": {
      "model_module": "@jupyter-widgets/base",
      "model_module_version": "1.2.0",
      "model_name": "LayoutModel",
      "state": {
       "_model_module": "@jupyter-widgets/base",
       "_model_module_version": "1.2.0",
       "_model_name": "LayoutModel",
       "_view_count": null,
       "_view_module": "@jupyter-widgets/base",
       "_view_module_version": "1.2.0",
       "_view_name": "LayoutView",
       "align_content": null,
       "align_items": null,
       "align_self": null,
       "border": null,
       "bottom": null,
       "display": null,
       "flex": null,
       "flex_flow": null,
       "grid_area": null,
       "grid_auto_columns": null,
       "grid_auto_flow": null,
       "grid_auto_rows": null,
       "grid_column": null,
       "grid_gap": null,
       "grid_row": null,
       "grid_template_areas": null,
       "grid_template_columns": null,
       "grid_template_rows": null,
       "height": null,
       "justify_content": null,
       "justify_items": null,
       "left": null,
       "margin": null,
       "max_height": null,
       "max_width": null,
       "min_height": null,
       "min_width": null,
       "object_fit": null,
       "object_position": null,
       "order": null,
       "overflow": null,
       "overflow_x": null,
       "overflow_y": null,
       "padding": null,
       "right": null,
       "top": null,
       "visibility": null,
       "width": null
      }
     },
     "31e487460b854e8bab067040eb458054": {
      "model_module": "@jupyter-widgets/controls",
      "model_module_version": "1.5.0",
      "model_name": "HTMLModel",
      "state": {
       "_dom_classes": [],
       "_model_module": "@jupyter-widgets/controls",
       "_model_module_version": "1.5.0",
       "_model_name": "HTMLModel",
       "_view_count": null,
       "_view_module": "@jupyter-widgets/controls",
       "_view_module_version": "1.5.0",
       "_view_name": "HTMLView",
       "description": "",
       "description_tooltip": null,
       "layout": "IPY_MODEL_e299a2964a3e4ec4bb56eb78aef4a598",
       "placeholder": "​",
       "style": "IPY_MODEL_849cb57385914bae8342eebf3e1b069f",
       "value": " 378k/378k [00:00&lt;00:00, 6.91MB/s]"
      }
     },
     "342e787f93464690b8563d08fa92d8cd": {
      "model_module": "@jupyter-widgets/base",
      "model_module_version": "1.2.0",
      "model_name": "LayoutModel",
      "state": {
       "_model_module": "@jupyter-widgets/base",
       "_model_module_version": "1.2.0",
       "_model_name": "LayoutModel",
       "_view_count": null,
       "_view_module": "@jupyter-widgets/base",
       "_view_module_version": "1.2.0",
       "_view_name": "LayoutView",
       "align_content": null,
       "align_items": null,
       "align_self": null,
       "border": null,
       "bottom": null,
       "display": null,
       "flex": null,
       "flex_flow": null,
       "grid_area": null,
       "grid_auto_columns": null,
       "grid_auto_flow": null,
       "grid_auto_rows": null,
       "grid_column": null,
       "grid_gap": null,
       "grid_row": null,
       "grid_template_areas": null,
       "grid_template_columns": null,
       "grid_template_rows": null,
       "height": null,
       "justify_content": null,
       "justify_items": null,
       "left": null,
       "margin": null,
       "max_height": null,
       "max_width": null,
       "min_height": null,
       "min_width": null,
       "object_fit": null,
       "object_position": null,
       "order": null,
       "overflow": null,
       "overflow_x": null,
       "overflow_y": null,
       "padding": null,
       "right": null,
       "top": null,
       "visibility": null,
       "width": null
      }
     },
     "35b7cca6d9ab433ba881fb9f2063528b": {
      "model_module": "@jupyter-widgets/controls",
      "model_module_version": "1.5.0",
      "model_name": "DescriptionStyleModel",
      "state": {
       "_model_module": "@jupyter-widgets/controls",
       "_model_module_version": "1.5.0",
       "_model_name": "DescriptionStyleModel",
       "_view_count": null,
       "_view_module": "@jupyter-widgets/base",
       "_view_module_version": "1.2.0",
       "_view_name": "StyleView",
       "description_width": ""
      }
     },
     "44fbc77748e048f8b512f4a9eb213a41": {
      "model_module": "@jupyter-widgets/controls",
      "model_module_version": "1.5.0",
      "model_name": "FloatProgressModel",
      "state": {
       "_dom_classes": [],
       "_model_module": "@jupyter-widgets/controls",
       "_model_module_version": "1.5.0",
       "_model_name": "FloatProgressModel",
       "_view_count": null,
       "_view_module": "@jupyter-widgets/controls",
       "_view_module_version": "1.5.0",
       "_view_name": "ProgressView",
       "bar_style": "success",
       "description": "",
       "description_tooltip": null,
       "layout": "IPY_MODEL_e6e94ddd876b43a1955bad0cd8a32c26",
       "max": 378000.0,
       "min": 0.0,
       "orientation": "horizontal",
       "style": "IPY_MODEL_842aa54821a74415bf14527a48b47d5f",
       "value": 378000.0
      }
     },
     "5028d6cdee674f018284d661d6eef757": {
      "model_module": "@jupyter-widgets/controls",
      "model_module_version": "1.5.0",
      "model_name": "HBoxModel",
      "state": {
       "_dom_classes": [],
       "_model_module": "@jupyter-widgets/controls",
       "_model_module_version": "1.5.0",
       "_model_name": "HBoxModel",
       "_view_count": null,
       "_view_module": "@jupyter-widgets/controls",
       "_view_module_version": "1.5.0",
       "_view_name": "HBoxView",
       "box_style": "",
       "children": [
        "IPY_MODEL_cbc575e878e44be7aa60783ef2223755",
        "IPY_MODEL_6ebc998630c6431a87a949e0ff9e5b9d",
        "IPY_MODEL_0e8896116da0469aa9c19dbba5a3e41f"
       ],
       "layout": "IPY_MODEL_e6a5a16bed0f4241be3e88bd52a70537"
      }
     },
     "608d549f9f9646c8a0a6dfb53e979a7b": {
      "model_module": "@jupyter-widgets/base",
      "model_module_version": "1.2.0",
      "model_name": "LayoutModel",
      "state": {
       "_model_module": "@jupyter-widgets/base",
       "_model_module_version": "1.2.0",
       "_model_name": "LayoutModel",
       "_view_count": null,
       "_view_module": "@jupyter-widgets/base",
       "_view_module_version": "1.2.0",
       "_view_name": "LayoutView",
       "align_content": null,
       "align_items": null,
       "align_self": null,
       "border": null,
       "bottom": null,
       "display": null,
       "flex": null,
       "flex_flow": null,
       "grid_area": null,
       "grid_auto_columns": null,
       "grid_auto_flow": null,
       "grid_auto_rows": null,
       "grid_column": null,
       "grid_gap": null,
       "grid_row": null,
       "grid_template_areas": null,
       "grid_template_columns": null,
       "grid_template_rows": null,
       "height": null,
       "justify_content": null,
       "justify_items": null,
       "left": null,
       "margin": null,
       "max_height": null,
       "max_width": null,
       "min_height": null,
       "min_width": null,
       "object_fit": null,
       "object_position": null,
       "order": null,
       "overflow": null,
       "overflow_x": null,
       "overflow_y": null,
       "padding": null,
       "right": null,
       "top": null,
       "visibility": null,
       "width": null
      }
     },
     "63288b1753d8439fac87f7ba57f59b5d": {
      "model_module": "@jupyter-widgets/controls",
      "model_module_version": "1.5.0",
      "model_name": "ProgressStyleModel",
      "state": {
       "_model_module": "@jupyter-widgets/controls",
       "_model_module_version": "1.5.0",
       "_model_name": "ProgressStyleModel",
       "_view_count": null,
       "_view_module": "@jupyter-widgets/base",
       "_view_module_version": "1.2.0",
       "_view_name": "StyleView",
       "bar_color": null,
       "description_width": ""
      }
     },
     "6ebc998630c6431a87a949e0ff9e5b9d": {
      "model_module": "@jupyter-widgets/controls",
      "model_module_version": "1.5.0",
      "model_name": "FloatProgressModel",
      "state": {
       "_dom_classes": [],
       "_model_module": "@jupyter-widgets/controls",
       "_model_module_version": "1.5.0",
       "_model_name": "FloatProgressModel",
       "_view_count": null,
       "_view_module": "@jupyter-widgets/controls",
       "_view_module_version": "1.5.0",
       "_view_name": "ProgressView",
       "bar_style": "success",
       "description": "",
       "description_tooltip": null,
       "layout": "IPY_MODEL_270317e741dc44b383c1ef31651a48e3",
       "max": 336396808.0,
       "min": 0.0,
       "orientation": "horizontal",
       "style": "IPY_MODEL_63288b1753d8439fac87f7ba57f59b5d",
       "value": 336396808.0
      }
     },
     "842aa54821a74415bf14527a48b47d5f": {
      "model_module": "@jupyter-widgets/controls",
      "model_module_version": "1.5.0",
      "model_name": "ProgressStyleModel",
      "state": {
       "_model_module": "@jupyter-widgets/controls",
       "_model_module_version": "1.5.0",
       "_model_name": "ProgressStyleModel",
       "_view_count": null,
       "_view_module": "@jupyter-widgets/base",
       "_view_module_version": "1.2.0",
       "_view_name": "StyleView",
       "bar_color": null,
       "description_width": ""
      }
     },
     "849cb57385914bae8342eebf3e1b069f": {
      "model_module": "@jupyter-widgets/controls",
      "model_module_version": "1.5.0",
      "model_name": "DescriptionStyleModel",
      "state": {
       "_model_module": "@jupyter-widgets/controls",
       "_model_module_version": "1.5.0",
       "_model_name": "DescriptionStyleModel",
       "_view_count": null,
       "_view_module": "@jupyter-widgets/base",
       "_view_module_version": "1.2.0",
       "_view_name": "StyleView",
       "description_width": ""
      }
     },
     "84d12e53717b427c90d353db74509462": {
      "model_module": "@jupyter-widgets/controls",
      "model_module_version": "1.5.0",
      "model_name": "HTMLModel",
      "state": {
       "_dom_classes": [],
       "_model_module": "@jupyter-widgets/controls",
       "_model_module_version": "1.5.0",
       "_model_name": "HTMLModel",
       "_view_count": null,
       "_view_module": "@jupyter-widgets/controls",
       "_view_module_version": "1.5.0",
       "_view_name": "HTMLView",
       "description": "",
       "description_tooltip": null,
       "layout": "IPY_MODEL_608d549f9f9646c8a0a6dfb53e979a7b",
       "placeholder": "​",
       "style": "IPY_MODEL_ca4fd795d299443391c6a91d33605305",
       "value": " 467/467 [00:00&lt;00:00, 40.3kB/s]"
      }
     },
     "9cd181a4446c4690ac5f0fb9bd524409": {
      "model_module": "@jupyter-widgets/controls",
      "model_module_version": "1.5.0",
      "model_name": "HTMLModel",
      "state": {
       "_dom_classes": [],
       "_model_module": "@jupyter-widgets/controls",
       "_model_module_version": "1.5.0",
       "_model_name": "HTMLModel",
       "_view_count": null,
       "_view_module": "@jupyter-widgets/controls",
       "_view_module_version": "1.5.0",
       "_view_name": "HTMLView",
       "description": "",
       "description_tooltip": null,
       "layout": "IPY_MODEL_ab735a097c5c406da1c42bb56654524a",
       "placeholder": "​",
       "style": "IPY_MODEL_cfc46fa9ccc540ad92a52d528a578139",
       "value": "Downloading (…)solve/main/vocab.txt: 100%"
      }
     },
     "9d94c5bbb99e4f5c8f2c54e1a908ee83": {
      "model_module": "@jupyter-widgets/controls",
      "model_module_version": "1.5.0",
      "model_name": "FloatProgressModel",
      "state": {
       "_dom_classes": [],
       "_model_module": "@jupyter-widgets/controls",
       "_model_module_version": "1.5.0",
       "_model_name": "FloatProgressModel",
       "_view_count": null,
       "_view_module": "@jupyter-widgets/controls",
       "_view_module_version": "1.5.0",
       "_view_name": "ProgressView",
       "bar_style": "success",
       "description": "",
       "description_tooltip": null,
       "layout": "IPY_MODEL_bd4cb94a4d964489a78ee9aece21ca17",
       "max": 467.0,
       "min": 0.0,
       "orientation": "horizontal",
       "style": "IPY_MODEL_b1048ec9223947f1944817c2bc8dc0c2",
       "value": 467.0
      }
     },
     "9eb14b2e4f944255b7f6a440a364d657": {
      "model_module": "@jupyter-widgets/controls",
      "model_module_version": "1.5.0",
      "model_name": "HTMLModel",
      "state": {
       "_dom_classes": [],
       "_model_module": "@jupyter-widgets/controls",
       "_model_module_version": "1.5.0",
       "_model_name": "HTMLModel",
       "_view_count": null,
       "_view_module": "@jupyter-widgets/controls",
       "_view_module_version": "1.5.0",
       "_view_name": "HTMLView",
       "description": "",
       "description_tooltip": null,
       "layout": "IPY_MODEL_c13adfdd00044666bb3976c9776117f1",
       "placeholder": "​",
       "style": "IPY_MODEL_10a8102b27164f66a135ceb11382c679",
       "value": "Downloading (…)lve/main/config.json: 100%"
      }
     },
     "ab735a097c5c406da1c42bb56654524a": {
      "model_module": "@jupyter-widgets/base",
      "model_module_version": "1.2.0",
      "model_name": "LayoutModel",
      "state": {
       "_model_module": "@jupyter-widgets/base",
       "_model_module_version": "1.2.0",
       "_model_name": "LayoutModel",
       "_view_count": null,
       "_view_module": "@jupyter-widgets/base",
       "_view_module_version": "1.2.0",
       "_view_name": "LayoutView",
       "align_content": null,
       "align_items": null,
       "align_self": null,
       "border": null,
       "bottom": null,
       "display": null,
       "flex": null,
       "flex_flow": null,
       "grid_area": null,
       "grid_auto_columns": null,
       "grid_auto_flow": null,
       "grid_auto_rows": null,
       "grid_column": null,
       "grid_gap": null,
       "grid_row": null,
       "grid_template_areas": null,
       "grid_template_columns": null,
       "grid_template_rows": null,
       "height": null,
       "justify_content": null,
       "justify_items": null,
       "left": null,
       "margin": null,
       "max_height": null,
       "max_width": null,
       "min_height": null,
       "min_width": null,
       "object_fit": null,
       "object_position": null,
       "order": null,
       "overflow": null,
       "overflow_x": null,
       "overflow_y": null,
       "padding": null,
       "right": null,
       "top": null,
       "visibility": null,
       "width": null
      }
     },
     "b1048ec9223947f1944817c2bc8dc0c2": {
      "model_module": "@jupyter-widgets/controls",
      "model_module_version": "1.5.0",
      "model_name": "ProgressStyleModel",
      "state": {
       "_model_module": "@jupyter-widgets/controls",
       "_model_module_version": "1.5.0",
       "_model_name": "ProgressStyleModel",
       "_view_count": null,
       "_view_module": "@jupyter-widgets/base",
       "_view_module_version": "1.2.0",
       "_view_name": "StyleView",
       "bar_color": null,
       "description_width": ""
      }
     },
     "b36a8cca109e4fa1bf806d6e075fd6b3": {
      "model_module": "@jupyter-widgets/base",
      "model_module_version": "1.2.0",
      "model_name": "LayoutModel",
      "state": {
       "_model_module": "@jupyter-widgets/base",
       "_model_module_version": "1.2.0",
       "_model_name": "LayoutModel",
       "_view_count": null,
       "_view_module": "@jupyter-widgets/base",
       "_view_module_version": "1.2.0",
       "_view_name": "LayoutView",
       "align_content": null,
       "align_items": null,
       "align_self": null,
       "border": null,
       "bottom": null,
       "display": null,
       "flex": null,
       "flex_flow": null,
       "grid_area": null,
       "grid_auto_columns": null,
       "grid_auto_flow": null,
       "grid_auto_rows": null,
       "grid_column": null,
       "grid_gap": null,
       "grid_row": null,
       "grid_template_areas": null,
       "grid_template_columns": null,
       "grid_template_rows": null,
       "height": null,
       "justify_content": null,
       "justify_items": null,
       "left": null,
       "margin": null,
       "max_height": null,
       "max_width": null,
       "min_height": null,
       "min_width": null,
       "object_fit": null,
       "object_position": null,
       "order": null,
       "overflow": null,
       "overflow_x": null,
       "overflow_y": null,
       "padding": null,
       "right": null,
       "top": null,
       "visibility": null,
       "width": null
      }
     },
     "bd4cb94a4d964489a78ee9aece21ca17": {
      "model_module": "@jupyter-widgets/base",
      "model_module_version": "1.2.0",
      "model_name": "LayoutModel",
      "state": {
       "_model_module": "@jupyter-widgets/base",
       "_model_module_version": "1.2.0",
       "_model_name": "LayoutModel",
       "_view_count": null,
       "_view_module": "@jupyter-widgets/base",
       "_view_module_version": "1.2.0",
       "_view_name": "LayoutView",
       "align_content": null,
       "align_items": null,
       "align_self": null,
       "border": null,
       "bottom": null,
       "display": null,
       "flex": null,
       "flex_flow": null,
       "grid_area": null,
       "grid_auto_columns": null,
       "grid_auto_flow": null,
       "grid_auto_rows": null,
       "grid_column": null,
       "grid_gap": null,
       "grid_row": null,
       "grid_template_areas": null,
       "grid_template_columns": null,
       "grid_template_rows": null,
       "height": null,
       "justify_content": null,
       "justify_items": null,
       "left": null,
       "margin": null,
       "max_height": null,
       "max_width": null,
       "min_height": null,
       "min_width": null,
       "object_fit": null,
       "object_position": null,
       "order": null,
       "overflow": null,
       "overflow_x": null,
       "overflow_y": null,
       "padding": null,
       "right": null,
       "top": null,
       "visibility": null,
       "width": null
      }
     },
     "c13adfdd00044666bb3976c9776117f1": {
      "model_module": "@jupyter-widgets/base",
      "model_module_version": "1.2.0",
      "model_name": "LayoutModel",
      "state": {
       "_model_module": "@jupyter-widgets/base",
       "_model_module_version": "1.2.0",
       "_model_name": "LayoutModel",
       "_view_count": null,
       "_view_module": "@jupyter-widgets/base",
       "_view_module_version": "1.2.0",
       "_view_name": "LayoutView",
       "align_content": null,
       "align_items": null,
       "align_self": null,
       "border": null,
       "bottom": null,
       "display": null,
       "flex": null,
       "flex_flow": null,
       "grid_area": null,
       "grid_auto_columns": null,
       "grid_auto_flow": null,
       "grid_auto_rows": null,
       "grid_column": null,
       "grid_gap": null,
       "grid_row": null,
       "grid_template_areas": null,
       "grid_template_columns": null,
       "grid_template_rows": null,
       "height": null,
       "justify_content": null,
       "justify_items": null,
       "left": null,
       "margin": null,
       "max_height": null,
       "max_width": null,
       "min_height": null,
       "min_width": null,
       "object_fit": null,
       "object_position": null,
       "order": null,
       "overflow": null,
       "overflow_x": null,
       "overflow_y": null,
       "padding": null,
       "right": null,
       "top": null,
       "visibility": null,
       "width": null
      }
     },
     "c61f4a8dd4084b8a8d1c49d5b314b4c9": {
      "model_module": "@jupyter-widgets/controls",
      "model_module_version": "1.5.0",
      "model_name": "HBoxModel",
      "state": {
       "_dom_classes": [],
       "_model_module": "@jupyter-widgets/controls",
       "_model_module_version": "1.5.0",
       "_model_name": "HBoxModel",
       "_view_count": null,
       "_view_module": "@jupyter-widgets/controls",
       "_view_module_version": "1.5.0",
       "_view_name": "HBoxView",
       "box_style": "",
       "children": [
        "IPY_MODEL_9cd181a4446c4690ac5f0fb9bd524409",
        "IPY_MODEL_44fbc77748e048f8b512f4a9eb213a41",
        "IPY_MODEL_31e487460b854e8bab067040eb458054"
       ],
       "layout": "IPY_MODEL_342e787f93464690b8563d08fa92d8cd"
      }
     },
     "ca4fd795d299443391c6a91d33605305": {
      "model_module": "@jupyter-widgets/controls",
      "model_module_version": "1.5.0",
      "model_name": "DescriptionStyleModel",
      "state": {
       "_model_module": "@jupyter-widgets/controls",
       "_model_module_version": "1.5.0",
       "_model_name": "DescriptionStyleModel",
       "_view_count": null,
       "_view_module": "@jupyter-widgets/base",
       "_view_module_version": "1.2.0",
       "_view_name": "StyleView",
       "description_width": ""
      }
     },
     "cbc575e878e44be7aa60783ef2223755": {
      "model_module": "@jupyter-widgets/controls",
      "model_module_version": "1.5.0",
      "model_name": "HTMLModel",
      "state": {
       "_dom_classes": [],
       "_model_module": "@jupyter-widgets/controls",
       "_model_module_version": "1.5.0",
       "_model_name": "HTMLModel",
       "_view_count": null,
       "_view_module": "@jupyter-widgets/controls",
       "_view_module_version": "1.5.0",
       "_view_name": "HTMLView",
       "description": "",
       "description_tooltip": null,
       "layout": "IPY_MODEL_f03f31474c8a45ff90e2396d59a5a92a",
       "placeholder": "​",
       "style": "IPY_MODEL_35b7cca6d9ab433ba881fb9f2063528b",
       "value": "Downloading model.safetensors: 100%"
      }
     },
     "cfc46fa9ccc540ad92a52d528a578139": {
      "model_module": "@jupyter-widgets/controls",
      "model_module_version": "1.5.0",
      "model_name": "DescriptionStyleModel",
      "state": {
       "_model_module": "@jupyter-widgets/controls",
       "_model_module_version": "1.5.0",
       "_model_name": "DescriptionStyleModel",
       "_view_count": null,
       "_view_module": "@jupyter-widgets/base",
       "_view_module_version": "1.2.0",
       "_view_name": "StyleView",
       "description_width": ""
      }
     },
     "e299a2964a3e4ec4bb56eb78aef4a598": {
      "model_module": "@jupyter-widgets/base",
      "model_module_version": "1.2.0",
      "model_name": "LayoutModel",
      "state": {
       "_model_module": "@jupyter-widgets/base",
       "_model_module_version": "1.2.0",
       "_model_name": "LayoutModel",
       "_view_count": null,
       "_view_module": "@jupyter-widgets/base",
       "_view_module_version": "1.2.0",
       "_view_name": "LayoutView",
       "align_content": null,
       "align_items": null,
       "align_self": null,
       "border": null,
       "bottom": null,
       "display": null,
       "flex": null,
       "flex_flow": null,
       "grid_area": null,
       "grid_auto_columns": null,
       "grid_auto_flow": null,
       "grid_auto_rows": null,
       "grid_column": null,
       "grid_gap": null,
       "grid_row": null,
       "grid_template_areas": null,
       "grid_template_columns": null,
       "grid_template_rows": null,
       "height": null,
       "justify_content": null,
       "justify_items": null,
       "left": null,
       "margin": null,
       "max_height": null,
       "max_width": null,
       "min_height": null,
       "min_width": null,
       "object_fit": null,
       "object_position": null,
       "order": null,
       "overflow": null,
       "overflow_x": null,
       "overflow_y": null,
       "padding": null,
       "right": null,
       "top": null,
       "visibility": null,
       "width": null
      }
     },
     "e6a5a16bed0f4241be3e88bd52a70537": {
      "model_module": "@jupyter-widgets/base",
      "model_module_version": "1.2.0",
      "model_name": "LayoutModel",
      "state": {
       "_model_module": "@jupyter-widgets/base",
       "_model_module_version": "1.2.0",
       "_model_name": "LayoutModel",
       "_view_count": null,
       "_view_module": "@jupyter-widgets/base",
       "_view_module_version": "1.2.0",
       "_view_name": "LayoutView",
       "align_content": null,
       "align_items": null,
       "align_self": null,
       "border": null,
       "bottom": null,
       "display": null,
       "flex": null,
       "flex_flow": null,
       "grid_area": null,
       "grid_auto_columns": null,
       "grid_auto_flow": null,
       "grid_auto_rows": null,
       "grid_column": null,
       "grid_gap": null,
       "grid_row": null,
       "grid_template_areas": null,
       "grid_template_columns": null,
       "grid_template_rows": null,
       "height": null,
       "justify_content": null,
       "justify_items": null,
       "left": null,
       "margin": null,
       "max_height": null,
       "max_width": null,
       "min_height": null,
       "min_width": null,
       "object_fit": null,
       "object_position": null,
       "order": null,
       "overflow": null,
       "overflow_x": null,
       "overflow_y": null,
       "padding": null,
       "right": null,
       "top": null,
       "visibility": null,
       "width": null
      }
     },
     "e6e94ddd876b43a1955bad0cd8a32c26": {
      "model_module": "@jupyter-widgets/base",
      "model_module_version": "1.2.0",
      "model_name": "LayoutModel",
      "state": {
       "_model_module": "@jupyter-widgets/base",
       "_model_module_version": "1.2.0",
       "_model_name": "LayoutModel",
       "_view_count": null,
       "_view_module": "@jupyter-widgets/base",
       "_view_module_version": "1.2.0",
       "_view_name": "LayoutView",
       "align_content": null,
       "align_items": null,
       "align_self": null,
       "border": null,
       "bottom": null,
       "display": null,
       "flex": null,
       "flex_flow": null,
       "grid_area": null,
       "grid_auto_columns": null,
       "grid_auto_flow": null,
       "grid_auto_rows": null,
       "grid_column": null,
       "grid_gap": null,
       "grid_row": null,
       "grid_template_areas": null,
       "grid_template_columns": null,
       "grid_template_rows": null,
       "height": null,
       "justify_content": null,
       "justify_items": null,
       "left": null,
       "margin": null,
       "max_height": null,
       "max_width": null,
       "min_height": null,
       "min_width": null,
       "object_fit": null,
       "object_position": null,
       "order": null,
       "overflow": null,
       "overflow_x": null,
       "overflow_y": null,
       "padding": null,
       "right": null,
       "top": null,
       "visibility": null,
       "width": null
      }
     },
     "e7edfe789ea840e3a9ef3f8b8c9f2834": {
      "model_module": "@jupyter-widgets/base",
      "model_module_version": "1.2.0",
      "model_name": "LayoutModel",
      "state": {
       "_model_module": "@jupyter-widgets/base",
       "_model_module_version": "1.2.0",
       "_model_name": "LayoutModel",
       "_view_count": null,
       "_view_module": "@jupyter-widgets/base",
       "_view_module_version": "1.2.0",
       "_view_name": "LayoutView",
       "align_content": null,
       "align_items": null,
       "align_self": null,
       "border": null,
       "bottom": null,
       "display": null,
       "flex": null,
       "flex_flow": null,
       "grid_area": null,
       "grid_auto_columns": null,
       "grid_auto_flow": null,
       "grid_auto_rows": null,
       "grid_column": null,
       "grid_gap": null,
       "grid_row": null,
       "grid_template_areas": null,
       "grid_template_columns": null,
       "grid_template_rows": null,
       "height": null,
       "justify_content": null,
       "justify_items": null,
       "left": null,
       "margin": null,
       "max_height": null,
       "max_width": null,
       "min_height": null,
       "min_width": null,
       "object_fit": null,
       "object_position": null,
       "order": null,
       "overflow": null,
       "overflow_x": null,
       "overflow_y": null,
       "padding": null,
       "right": null,
       "top": null,
       "visibility": null,
       "width": null
      }
     },
     "f03f31474c8a45ff90e2396d59a5a92a": {
      "model_module": "@jupyter-widgets/base",
      "model_module_version": "1.2.0",
      "model_name": "LayoutModel",
      "state": {
       "_model_module": "@jupyter-widgets/base",
       "_model_module_version": "1.2.0",
       "_model_name": "LayoutModel",
       "_view_count": null,
       "_view_module": "@jupyter-widgets/base",
       "_view_module_version": "1.2.0",
       "_view_name": "LayoutView",
       "align_content": null,
       "align_items": null,
       "align_self": null,
       "border": null,
       "bottom": null,
       "display": null,
       "flex": null,
       "flex_flow": null,
       "grid_area": null,
       "grid_auto_columns": null,
       "grid_auto_flow": null,
       "grid_auto_rows": null,
       "grid_column": null,
       "grid_gap": null,
       "grid_row": null,
       "grid_template_areas": null,
       "grid_template_columns": null,
       "grid_template_rows": null,
       "height": null,
       "justify_content": null,
       "justify_items": null,
       "left": null,
       "margin": null,
       "max_height": null,
       "max_width": null,
       "min_height": null,
       "min_width": null,
       "object_fit": null,
       "object_position": null,
       "order": null,
       "overflow": null,
       "overflow_x": null,
       "overflow_y": null,
       "padding": null,
       "right": null,
       "top": null,
       "visibility": null,
       "width": null
      }
     },
     "ff0ba183025f4ff3b41845842fb7f6ab": {
      "model_module": "@jupyter-widgets/controls",
      "model_module_version": "1.5.0",
      "model_name": "HBoxModel",
      "state": {
       "_dom_classes": [],
       "_model_module": "@jupyter-widgets/controls",
       "_model_module_version": "1.5.0",
       "_model_name": "HBoxModel",
       "_view_count": null,
       "_view_module": "@jupyter-widgets/controls",
       "_view_module_version": "1.5.0",
       "_view_name": "HBoxView",
       "box_style": "",
       "children": [
        "IPY_MODEL_9eb14b2e4f944255b7f6a440a364d657",
        "IPY_MODEL_9d94c5bbb99e4f5c8f2c54e1a908ee83",
        "IPY_MODEL_84d12e53717b427c90d353db74509462"
       ],
       "layout": "IPY_MODEL_b36a8cca109e4fa1bf806d6e075fd6b3"
      }
     }
    },
    "version_major": 2,
    "version_minor": 0
   }
  }
 },
 "nbformat": 4,
 "nbformat_minor": 5
}
