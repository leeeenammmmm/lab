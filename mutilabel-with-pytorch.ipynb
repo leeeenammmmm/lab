{
 "cells": [
  {
   "cell_type": "code",
   "execution_count": 1,
   "id": "c6da4f8e",
   "metadata": {
    "execution": {
     "iopub.execute_input": "2023-11-12T08:04:43.837109Z",
     "iopub.status.busy": "2023-11-12T08:04:43.836760Z",
     "iopub.status.idle": "2023-11-12T08:04:57.448157Z",
     "shell.execute_reply": "2023-11-12T08:04:57.447082Z"
    },
    "papermill": {
     "duration": 13.624402,
     "end_time": "2023-11-12T08:04:57.451015",
     "exception": false,
     "start_time": "2023-11-12T08:04:43.826613",
     "status": "completed"
    },
    "tags": []
   },
   "outputs": [
    {
     "name": "stdout",
     "output_type": "stream",
     "text": [
      "Requirement already satisfied: transformers in /opt/conda/lib/python3.10/site-packages (4.33.0)\r\n",
      "Requirement already satisfied: filelock in /opt/conda/lib/python3.10/site-packages (from transformers) (3.12.2)\r\n",
      "Requirement already satisfied: huggingface-hub<1.0,>=0.15.1 in /opt/conda/lib/python3.10/site-packages (from transformers) (0.16.4)\r\n",
      "Requirement already satisfied: numpy>=1.17 in /opt/conda/lib/python3.10/site-packages (from transformers) (1.23.5)\r\n",
      "Requirement already satisfied: packaging>=20.0 in /opt/conda/lib/python3.10/site-packages (from transformers) (21.3)\r\n",
      "Requirement already satisfied: pyyaml>=5.1 in /opt/conda/lib/python3.10/site-packages (from transformers) (6.0)\r\n",
      "Requirement already satisfied: regex!=2019.12.17 in /opt/conda/lib/python3.10/site-packages (from transformers) (2023.6.3)\r\n",
      "Requirement already satisfied: requests in /opt/conda/lib/python3.10/site-packages (from transformers) (2.31.0)\r\n",
      "Requirement already satisfied: tokenizers!=0.11.3,<0.14,>=0.11.1 in /opt/conda/lib/python3.10/site-packages (from transformers) (0.13.3)\r\n",
      "Requirement already satisfied: safetensors>=0.3.1 in /opt/conda/lib/python3.10/site-packages (from transformers) (0.3.3)\r\n",
      "Requirement already satisfied: tqdm>=4.27 in /opt/conda/lib/python3.10/site-packages (from transformers) (4.66.1)\r\n",
      "Requirement already satisfied: fsspec in /opt/conda/lib/python3.10/site-packages (from huggingface-hub<1.0,>=0.15.1->transformers) (2023.9.0)\r\n",
      "Requirement already satisfied: typing-extensions>=3.7.4.3 in /opt/conda/lib/python3.10/site-packages (from huggingface-hub<1.0,>=0.15.1->transformers) (4.6.3)\r\n",
      "Requirement already satisfied: pyparsing!=3.0.5,>=2.0.2 in /opt/conda/lib/python3.10/site-packages (from packaging>=20.0->transformers) (3.0.9)\r\n",
      "Requirement already satisfied: charset-normalizer<4,>=2 in /opt/conda/lib/python3.10/site-packages (from requests->transformers) (3.1.0)\r\n",
      "Requirement already satisfied: idna<4,>=2.5 in /opt/conda/lib/python3.10/site-packages (from requests->transformers) (3.4)\r\n",
      "Requirement already satisfied: urllib3<3,>=1.21.1 in /opt/conda/lib/python3.10/site-packages (from requests->transformers) (1.26.15)\r\n",
      "Requirement already satisfied: certifi>=2017.4.17 in /opt/conda/lib/python3.10/site-packages (from requests->transformers) (2023.7.22)\r\n"
     ]
    }
   ],
   "source": [
    "!pip install transformers"
   ]
  },
  {
   "cell_type": "code",
   "execution_count": 2,
   "id": "935f858b",
   "metadata": {
    "execution": {
     "iopub.execute_input": "2023-11-12T08:04:57.468374Z",
     "iopub.status.busy": "2023-11-12T08:04:57.467785Z",
     "iopub.status.idle": "2023-11-12T08:05:02.181551Z",
     "shell.execute_reply": "2023-11-12T08:05:02.180680Z"
    },
    "papermill": {
     "duration": 4.724663,
     "end_time": "2023-11-12T08:05:02.183944",
     "exception": false,
     "start_time": "2023-11-12T08:04:57.459281",
     "status": "completed"
    },
    "tags": []
   },
   "outputs": [],
   "source": [
    "\n",
    "import torch\n",
    "import torch.nn as nn\n",
    "import pandas as pd\n",
    "import numpy as np\n",
    "import shutil\n",
    "import sys   "
   ]
  },
  {
   "cell_type": "code",
   "execution_count": 3,
   "id": "31c9776a",
   "metadata": {
    "execution": {
     "iopub.execute_input": "2023-11-12T08:05:02.201383Z",
     "iopub.status.busy": "2023-11-12T08:05:02.200994Z",
     "iopub.status.idle": "2023-11-12T08:05:02.205183Z",
     "shell.execute_reply": "2023-11-12T08:05:02.204282Z"
    },
    "papermill": {
     "duration": 0.014657,
     "end_time": "2023-11-12T08:05:02.207093",
     "exception": false,
     "start_time": "2023-11-12T08:05:02.192436",
     "status": "completed"
    },
    "tags": []
   },
   "outputs": [],
   "source": [
    "train_path = \"/kaggle/input/data-capec-multilabel/capec_mutilabel_new.csv\"\n",
    "test_path = \"/kaggle/input/data-capec-multilabel/capec_mutilabel_new.csv\""
   ]
  },
  {
   "cell_type": "code",
   "execution_count": 4,
   "id": "86a08fe9",
   "metadata": {
    "execution": {
     "iopub.execute_input": "2023-11-12T08:05:02.223312Z",
     "iopub.status.busy": "2023-11-12T08:05:02.223026Z",
     "iopub.status.idle": "2023-11-12T08:05:11.018252Z",
     "shell.execute_reply": "2023-11-12T08:05:11.017433Z"
    },
    "papermill": {
     "duration": 8.806215,
     "end_time": "2023-11-12T08:05:11.020639",
     "exception": false,
     "start_time": "2023-11-12T08:05:02.214424",
     "status": "completed"
    },
    "tags": []
   },
   "outputs": [
    {
     "name": "stderr",
     "output_type": "stream",
     "text": [
      "/tmp/ipykernel_26/897552558.py:1: DtypeWarning: Columns (5,6,22) have mixed types. Specify dtype option on import or set low_memory=False.\n",
      "  train_df = pd.read_csv(train_path)\n",
      "/tmp/ipykernel_26/897552558.py:2: DtypeWarning: Columns (5,6,22) have mixed types. Specify dtype option on import or set low_memory=False.\n",
      "  test_df = pd.read_csv(test_path)\n"
     ]
    }
   ],
   "source": [
    "train_df = pd.read_csv(train_path)\n",
    "test_df = pd.read_csv(test_path)"
   ]
  },
  {
   "cell_type": "code",
   "execution_count": 5,
   "id": "47c69069",
   "metadata": {
    "execution": {
     "iopub.execute_input": "2023-11-12T08:05:11.038231Z",
     "iopub.status.busy": "2023-11-12T08:05:11.037883Z",
     "iopub.status.idle": "2023-11-12T08:05:11.079647Z",
     "shell.execute_reply": "2023-11-12T08:05:11.078805Z"
    },
    "papermill": {
     "duration": 0.05271,
     "end_time": "2023-11-12T08:05:11.081571",
     "exception": false,
     "start_time": "2023-11-12T08:05:11.028861",
     "status": "completed"
    },
    "tags": []
   },
   "outputs": [
    {
     "data": {
      "text/html": [
       "<div>\n",
       "<style scoped>\n",
       "    .dataframe tbody tr th:only-of-type {\n",
       "        vertical-align: middle;\n",
       "    }\n",
       "\n",
       "    .dataframe tbody tr th {\n",
       "        vertical-align: top;\n",
       "    }\n",
       "\n",
       "    .dataframe thead th {\n",
       "        text-align: right;\n",
       "    }\n",
       "</style>\n",
       "<table border=\"1\" class=\"dataframe\">\n",
       "  <thead>\n",
       "    <tr style=\"text-align: right;\">\n",
       "      <th></th>\n",
       "      <th>text</th>\n",
       "      <th>Unnamed: 1</th>\n",
       "      <th>Unnamed: 2</th>\n",
       "      <th>Unnamed: 3</th>\n",
       "      <th>Unnamed: 4</th>\n",
       "      <th>request_http_method</th>\n",
       "      <th>request_http_request</th>\n",
       "      <th>Unnamed: 7</th>\n",
       "      <th>Unnamed: 8</th>\n",
       "      <th>Unnamed: 9</th>\n",
       "      <th>...</th>\n",
       "      <th>126 - Path Traversal</th>\n",
       "      <th>66 - SQL Injection</th>\n",
       "      <th>16 - Dictionary-based Password Attack</th>\n",
       "      <th>310 - Scanning for Vulnerable Software</th>\n",
       "      <th>153 - Input Data Manipulation</th>\n",
       "      <th>248 - Command Injection</th>\n",
       "      <th>274 - HTTP Verb Tampering</th>\n",
       "      <th>194 - Fake the Source of Data</th>\n",
       "      <th>34 - HTTP Response Splitting</th>\n",
       "      <th>33 - HTTP Request Smuggling</th>\n",
       "    </tr>\n",
       "  </thead>\n",
       "  <tbody>\n",
       "    <tr>\n",
       "      <th>0</th>\n",
       "      <td>GET /</td>\n",
       "      <td>NaN</td>\n",
       "      <td>NaN</td>\n",
       "      <td>NaN</td>\n",
       "      <td>NaN</td>\n",
       "      <td>GET</td>\n",
       "      <td>/</td>\n",
       "      <td>NaN</td>\n",
       "      <td>NaN</td>\n",
       "      <td>NaN</td>\n",
       "      <td>...</td>\n",
       "      <td>0.0</td>\n",
       "      <td>0.0</td>\n",
       "      <td>0.0</td>\n",
       "      <td>0.0</td>\n",
       "      <td>0.0</td>\n",
       "      <td>0.0</td>\n",
       "      <td>0.0</td>\n",
       "      <td>0.0</td>\n",
       "      <td>0.0</td>\n",
       "      <td>0.0</td>\n",
       "    </tr>\n",
       "    <tr>\n",
       "      <th>1</th>\n",
       "      <td>GET /blog/index.php/2020/04/04/voluptatum-repr...</td>\n",
       "      <td>NaN</td>\n",
       "      <td>NaN</td>\n",
       "      <td>NaN</td>\n",
       "      <td>NaN</td>\n",
       "      <td>GET</td>\n",
       "      <td>/blog/index.php/2020/04/04/voluptatum-reprehen...</td>\n",
       "      <td>NaN</td>\n",
       "      <td>NaN</td>\n",
       "      <td>NaN</td>\n",
       "      <td>...</td>\n",
       "      <td>0.0</td>\n",
       "      <td>0.0</td>\n",
       "      <td>0.0</td>\n",
       "      <td>0.0</td>\n",
       "      <td>0.0</td>\n",
       "      <td>0.0</td>\n",
       "      <td>0.0</td>\n",
       "      <td>0.0</td>\n",
       "      <td>0.0</td>\n",
       "      <td>0.0</td>\n",
       "    </tr>\n",
       "    <tr>\n",
       "      <th>2</th>\n",
       "      <td>GET /blog/xmlrpc.php?rsd</td>\n",
       "      <td>NaN</td>\n",
       "      <td>NaN</td>\n",
       "      <td>NaN</td>\n",
       "      <td>NaN</td>\n",
       "      <td>GET</td>\n",
       "      <td>/blog/xmlrpc.php?rsd</td>\n",
       "      <td>NaN</td>\n",
       "      <td>NaN</td>\n",
       "      <td>NaN</td>\n",
       "      <td>...</td>\n",
       "      <td>0.0</td>\n",
       "      <td>0.0</td>\n",
       "      <td>0.0</td>\n",
       "      <td>0.0</td>\n",
       "      <td>0.0</td>\n",
       "      <td>0.0</td>\n",
       "      <td>0.0</td>\n",
       "      <td>0.0</td>\n",
       "      <td>0.0</td>\n",
       "      <td>0.0</td>\n",
       "    </tr>\n",
       "    <tr>\n",
       "      <th>3</th>\n",
       "      <td>GET /</td>\n",
       "      <td>NaN</td>\n",
       "      <td>NaN</td>\n",
       "      <td>NaN</td>\n",
       "      <td>NaN</td>\n",
       "      <td>GET</td>\n",
       "      <td>/</td>\n",
       "      <td>NaN</td>\n",
       "      <td>NaN</td>\n",
       "      <td>NaN</td>\n",
       "      <td>...</td>\n",
       "      <td>0.0</td>\n",
       "      <td>0.0</td>\n",
       "      <td>0.0</td>\n",
       "      <td>0.0</td>\n",
       "      <td>0.0</td>\n",
       "      <td>0.0</td>\n",
       "      <td>0.0</td>\n",
       "      <td>0.0</td>\n",
       "      <td>0.0</td>\n",
       "      <td>0.0</td>\n",
       "    </tr>\n",
       "    <tr>\n",
       "      <th>4</th>\n",
       "      <td>GET /blog/index.php/2020/04/04/nihil-tenetur-e...</td>\n",
       "      <td>NaN</td>\n",
       "      <td>NaN</td>\n",
       "      <td>NaN</td>\n",
       "      <td>NaN</td>\n",
       "      <td>GET</td>\n",
       "      <td>/blog/index.php/2020/04/04/nihil-tenetur-et-ad...</td>\n",
       "      <td>NaN</td>\n",
       "      <td>NaN</td>\n",
       "      <td>NaN</td>\n",
       "      <td>...</td>\n",
       "      <td>0.0</td>\n",
       "      <td>0.0</td>\n",
       "      <td>0.0</td>\n",
       "      <td>0.0</td>\n",
       "      <td>0.0</td>\n",
       "      <td>0.0</td>\n",
       "      <td>0.0</td>\n",
       "      <td>0.0</td>\n",
       "      <td>0.0</td>\n",
       "      <td>0.0</td>\n",
       "    </tr>\n",
       "  </tbody>\n",
       "</table>\n",
       "<p>5 rows × 38 columns</p>\n",
       "</div>"
      ],
      "text/plain": [
       "                                                text  Unnamed: 1  Unnamed: 2  \\\n",
       "0                                              GET /         NaN         NaN   \n",
       "1  GET /blog/index.php/2020/04/04/voluptatum-repr...         NaN         NaN   \n",
       "2                           GET /blog/xmlrpc.php?rsd         NaN         NaN   \n",
       "3                                              GET /         NaN         NaN   \n",
       "4  GET /blog/index.php/2020/04/04/nihil-tenetur-e...         NaN         NaN   \n",
       "\n",
       "   Unnamed: 3  Unnamed: 4 request_http_method  \\\n",
       "0         NaN         NaN                 GET   \n",
       "1         NaN         NaN                 GET   \n",
       "2         NaN         NaN                 GET   \n",
       "3         NaN         NaN                 GET   \n",
       "4         NaN         NaN                 GET   \n",
       "\n",
       "                                request_http_request  Unnamed: 7  Unnamed: 8  \\\n",
       "0                                                  /         NaN         NaN   \n",
       "1  /blog/index.php/2020/04/04/voluptatum-reprehen...         NaN         NaN   \n",
       "2                               /blog/xmlrpc.php?rsd         NaN         NaN   \n",
       "3                                                  /         NaN         NaN   \n",
       "4  /blog/index.php/2020/04/04/nihil-tenetur-et-ad...         NaN         NaN   \n",
       "\n",
       "   Unnamed: 9  ...  126 - Path Traversal  66 - SQL Injection  \\\n",
       "0         NaN  ...                   0.0                 0.0   \n",
       "1         NaN  ...                   0.0                 0.0   \n",
       "2         NaN  ...                   0.0                 0.0   \n",
       "3         NaN  ...                   0.0                 0.0   \n",
       "4         NaN  ...                   0.0                 0.0   \n",
       "\n",
       "   16 - Dictionary-based Password Attack  \\\n",
       "0                                    0.0   \n",
       "1                                    0.0   \n",
       "2                                    0.0   \n",
       "3                                    0.0   \n",
       "4                                    0.0   \n",
       "\n",
       "   310 - Scanning for Vulnerable Software  153 - Input Data Manipulation  \\\n",
       "0                                     0.0                            0.0   \n",
       "1                                     0.0                            0.0   \n",
       "2                                     0.0                            0.0   \n",
       "3                                     0.0                            0.0   \n",
       "4                                     0.0                            0.0   \n",
       "\n",
       "   248 - Command Injection  274 - HTTP Verb Tampering  \\\n",
       "0                      0.0                        0.0   \n",
       "1                      0.0                        0.0   \n",
       "2                      0.0                        0.0   \n",
       "3                      0.0                        0.0   \n",
       "4                      0.0                        0.0   \n",
       "\n",
       "   194 - Fake the Source of Data  34 - HTTP Response Splitting  \\\n",
       "0                            0.0                           0.0   \n",
       "1                            0.0                           0.0   \n",
       "2                            0.0                           0.0   \n",
       "3                            0.0                           0.0   \n",
       "4                            0.0                           0.0   \n",
       "\n",
       "   33 - HTTP Request Smuggling  \n",
       "0                          0.0  \n",
       "1                          0.0  \n",
       "2                          0.0  \n",
       "3                          0.0  \n",
       "4                          0.0  \n",
       "\n",
       "[5 rows x 38 columns]"
      ]
     },
     "execution_count": 5,
     "metadata": {},
     "output_type": "execute_result"
    }
   ],
   "source": [
    "train_df.head()"
   ]
  },
  {
   "cell_type": "code",
   "execution_count": 6,
   "id": "47951ea0",
   "metadata": {
    "execution": {
     "iopub.execute_input": "2023-11-12T08:05:11.099498Z",
     "iopub.status.busy": "2023-11-12T08:05:11.099198Z",
     "iopub.status.idle": "2023-11-12T08:05:11.135515Z",
     "shell.execute_reply": "2023-11-12T08:05:11.134680Z"
    },
    "papermill": {
     "duration": 0.047658,
     "end_time": "2023-11-12T08:05:11.137621",
     "exception": false,
     "start_time": "2023-11-12T08:05:11.089963",
     "status": "completed"
    },
    "tags": []
   },
   "outputs": [],
   "source": [
    "train_df.drop(train_df.columns[1:24], axis=1, inplace=True)"
   ]
  },
  {
   "cell_type": "code",
   "execution_count": 7,
   "id": "f8469c2c",
   "metadata": {
    "execution": {
     "iopub.execute_input": "2023-11-12T08:05:11.155293Z",
     "iopub.status.busy": "2023-11-12T08:05:11.155015Z",
     "iopub.status.idle": "2023-11-12T08:05:11.171479Z",
     "shell.execute_reply": "2023-11-12T08:05:11.170652Z"
    },
    "papermill": {
     "duration": 0.027432,
     "end_time": "2023-11-12T08:05:11.173405",
     "exception": false,
     "start_time": "2023-11-12T08:05:11.145973",
     "status": "completed"
    },
    "tags": []
   },
   "outputs": [],
   "source": [
    "df2 = train_df.loc[30000:624245]\n",
    "df2 = df2.loc[(df2['242 - Code Injection'] == 1) \n",
    "              | (df2['16 - Dictionary-based Password Attack']==1)\n",
    "              | (df2['153 - Input Data Manipulation']==1)\n",
    "              | (df2['248 - Command Injection']==1)\n",
    "              | (df2['34 - HTTP Response Splitting']==1)\n",
    "              | (df2['274 - HTTP Verb Tampering'] == 1)\n",
    "              | (df2['33 - HTTP Request Smuggling']==1)]"
   ]
  },
  {
   "cell_type": "code",
   "execution_count": 8,
   "id": "40ece4b8",
   "metadata": {
    "execution": {
     "iopub.execute_input": "2023-11-12T08:05:11.190801Z",
     "iopub.status.busy": "2023-11-12T08:05:11.190533Z",
     "iopub.status.idle": "2023-11-12T08:05:11.202715Z",
     "shell.execute_reply": "2023-11-12T08:05:11.202027Z"
    },
    "papermill": {
     "duration": 0.022875,
     "end_time": "2023-11-12T08:05:11.204521",
     "exception": false,
     "start_time": "2023-11-12T08:05:11.181646",
     "status": "completed"
    },
    "tags": []
   },
   "outputs": [],
   "source": [
    "train_df = pd.concat([train_df.head(30000), df2], ignore_index=True)"
   ]
  },
  {
   "cell_type": "code",
   "execution_count": 9,
   "id": "8994c293",
   "metadata": {
    "execution": {
     "iopub.execute_input": "2023-11-12T08:05:11.222187Z",
     "iopub.status.busy": "2023-11-12T08:05:11.221919Z",
     "iopub.status.idle": "2023-11-12T08:05:11.227803Z",
     "shell.execute_reply": "2023-11-12T08:05:11.226959Z"
    },
    "papermill": {
     "duration": 0.016942,
     "end_time": "2023-11-12T08:05:11.229699",
     "exception": false,
     "start_time": "2023-11-12T08:05:11.212757",
     "status": "completed"
    },
    "tags": []
   },
   "outputs": [
    {
     "data": {
      "text/plain": [
       "Index(['text', '000 - Normal', '272 - Protocol Manipulation',\n",
       "       '242 - Code Injection', '88 - OS Command Injection',\n",
       "       '126 - Path Traversal', '66 - SQL Injection',\n",
       "       '16 - Dictionary-based Password Attack',\n",
       "       '310 - Scanning for Vulnerable Software',\n",
       "       '153 - Input Data Manipulation', '248 - Command Injection',\n",
       "       '274 - HTTP Verb Tampering', '194 - Fake the Source of Data',\n",
       "       '34 - HTTP Response Splitting', '33 - HTTP Request Smuggling'],\n",
       "      dtype='object')"
      ]
     },
     "execution_count": 9,
     "metadata": {},
     "output_type": "execute_result"
    }
   ],
   "source": [
    "train_df.columns"
   ]
  },
  {
   "cell_type": "code",
   "execution_count": 10,
   "id": "50f79ad5",
   "metadata": {
    "execution": {
     "iopub.execute_input": "2023-11-12T08:05:11.248619Z",
     "iopub.status.busy": "2023-11-12T08:05:11.247920Z",
     "iopub.status.idle": "2023-11-12T08:05:11.252936Z",
     "shell.execute_reply": "2023-11-12T08:05:11.252144Z"
    },
    "papermill": {
     "duration": 0.016552,
     "end_time": "2023-11-12T08:05:11.254792",
     "exception": false,
     "start_time": "2023-11-12T08:05:11.238240",
     "status": "completed"
    },
    "tags": []
   },
   "outputs": [],
   "source": [
    "target_list = [\"000 - Normal\", \"272 - Protocol Manipulation\", \"242 - Code Injection\", \n",
    "               \"88 - OS Command Injection\", \"126 - Path Traversal\", \"66 - SQL Injection\",\n",
    "               \"16 - Dictionary-based Password Attack\", \"310 - Scanning for Vulnerable Software\", \n",
    "               \"153 - Input Data Manipulation\", \"248 - Command Injection\", \n",
    "               \"274 - HTTP Verb Tampering\", \"194 - Fake the Source of Data\", \n",
    "               \"34 - HTTP Response Splitting\", \"33 - HTTP Request Smuggling\"]"
   ]
  },
  {
   "cell_type": "code",
   "execution_count": 11,
   "id": "d8754e72",
   "metadata": {
    "execution": {
     "iopub.execute_input": "2023-11-12T08:05:11.272900Z",
     "iopub.status.busy": "2023-11-12T08:05:11.272638Z",
     "iopub.status.idle": "2023-11-12T08:05:11.277962Z",
     "shell.execute_reply": "2023-11-12T08:05:11.277073Z"
    },
    "papermill": {
     "duration": 0.016458,
     "end_time": "2023-11-12T08:05:11.279786",
     "exception": false,
     "start_time": "2023-11-12T08:05:11.263328",
     "status": "completed"
    },
    "tags": []
   },
   "outputs": [
    {
     "data": {
      "text/plain": [
       "14"
      ]
     },
     "execution_count": 11,
     "metadata": {},
     "output_type": "execute_result"
    }
   ],
   "source": [
    "len(target_list)"
   ]
  },
  {
   "cell_type": "code",
   "execution_count": 12,
   "id": "e7a63a0f",
   "metadata": {
    "execution": {
     "iopub.execute_input": "2023-11-12T08:05:11.298104Z",
     "iopub.status.busy": "2023-11-12T08:05:11.297847Z",
     "iopub.status.idle": "2023-11-12T08:05:11.302462Z",
     "shell.execute_reply": "2023-11-12T08:05:11.301715Z"
    },
    "papermill": {
     "duration": 0.016036,
     "end_time": "2023-11-12T08:05:11.304317",
     "exception": false,
     "start_time": "2023-11-12T08:05:11.288281",
     "status": "completed"
    },
    "tags": []
   },
   "outputs": [],
   "source": [
    "# hyperparameters\n",
    "MAX_LEN = 256\n",
    "TRAIN_BATCH_SIZE = 32\n",
    "VALID_BATCH_SIZE = 32\n",
    "EPOCHS = 2\n",
    "LEARNING_RATE = 1e-05"
   ]
  },
  {
   "cell_type": "code",
   "execution_count": 13,
   "id": "51145162",
   "metadata": {
    "execution": {
     "iopub.execute_input": "2023-11-12T08:05:11.322574Z",
     "iopub.status.busy": "2023-11-12T08:05:11.322303Z",
     "iopub.status.idle": "2023-11-12T08:05:23.205213Z",
     "shell.execute_reply": "2023-11-12T08:05:23.204284Z"
    },
    "papermill": {
     "duration": 11.894884,
     "end_time": "2023-11-12T08:05:23.207777",
     "exception": false,
     "start_time": "2023-11-12T08:05:11.312893",
     "status": "completed"
    },
    "tags": []
   },
   "outputs": [
    {
     "name": "stderr",
     "output_type": "stream",
     "text": [
      "/opt/conda/lib/python3.10/site-packages/scipy/__init__.py:146: UserWarning: A NumPy version >=1.16.5 and <1.23.0 is required for this version of SciPy (detected version 1.23.5\n",
      "  warnings.warn(f\"A NumPy version >={np_minversion} and <{np_maxversion}\"\n"
     ]
    }
   ],
   "source": [
    "from transformers import AutoTokenizer, AutoModelForMaskedLM, AutoModel\n",
    "from transformers import BertTokenizer, BertModel"
   ]
  },
  {
   "cell_type": "code",
   "execution_count": 14,
   "id": "88efdefe",
   "metadata": {
    "execution": {
     "iopub.execute_input": "2023-11-12T08:05:23.228146Z",
     "iopub.status.busy": "2023-11-12T08:05:23.227837Z",
     "iopub.status.idle": "2023-11-12T08:05:24.289326Z",
     "shell.execute_reply": "2023-11-12T08:05:24.288542Z"
    },
    "papermill": {
     "duration": 1.074134,
     "end_time": "2023-11-12T08:05:24.291863",
     "exception": false,
     "start_time": "2023-11-12T08:05:23.217729",
     "status": "completed"
    },
    "tags": []
   },
   "outputs": [
    {
     "data": {
      "application/vnd.jupyter.widget-view+json": {
       "model_id": "82be796adb6a4205803340f91936c66b",
       "version_major": 2,
       "version_minor": 0
      },
      "text/plain": [
       "Downloading (…)lve/main/config.json:   0%|          | 0.00/467 [00:00<?, ?B/s]"
      ]
     },
     "metadata": {},
     "output_type": "display_data"
    },
    {
     "data": {
      "application/vnd.jupyter.widget-view+json": {
       "model_id": "2573bb1fd06a43e8acf1dac611d61132",
       "version_major": 2,
       "version_minor": 0
      },
      "text/plain": [
       "Downloading (…)solve/main/vocab.txt:   0%|          | 0.00/378k [00:00<?, ?B/s]"
      ]
     },
     "metadata": {},
     "output_type": "display_data"
    }
   ],
   "source": [
    "tokenizer = AutoTokenizer.from_pretrained('jackaduma/SecBERT')\n"
   ]
  },
  {
   "cell_type": "code",
   "execution_count": 15,
   "id": "f319e6cf",
   "metadata": {
    "execution": {
     "iopub.execute_input": "2023-11-12T08:05:24.312702Z",
     "iopub.status.busy": "2023-11-12T08:05:24.312366Z",
     "iopub.status.idle": "2023-11-12T08:05:24.320654Z",
     "shell.execute_reply": "2023-11-12T08:05:24.319874Z"
    },
    "papermill": {
     "duration": 0.020593,
     "end_time": "2023-11-12T08:05:24.322482",
     "exception": false,
     "start_time": "2023-11-12T08:05:24.301889",
     "status": "completed"
    },
    "tags": []
   },
   "outputs": [],
   "source": [
    "class CustomDataset(torch.utils.data.Dataset):\n",
    "\n",
    "    def __init__(self, df, tokenizer, max_len):\n",
    "        self.tokenizer = tokenizer\n",
    "        self.df = df\n",
    "        self.title = df['text']\n",
    "        self.targets = self.df[target_list].values\n",
    "        self.max_len = max_len\n",
    "\n",
    "    def __len__(self):\n",
    "        return len(self.title)\n",
    "\n",
    "    def __getitem__(self, index):\n",
    "        title = str(self.title[index])\n",
    "        title = \" \".join(title.split())\n",
    "\n",
    "        inputs = self.tokenizer.encode_plus(\n",
    "            title,\n",
    "            None,\n",
    "            add_special_tokens=True,\n",
    "            max_length=self.max_len,\n",
    "            padding='max_length',\n",
    "            return_token_type_ids=True,\n",
    "            truncation=True,\n",
    "            return_attention_mask=True,\n",
    "            return_tensors='pt'\n",
    "        )\n",
    "\n",
    "        return {\n",
    "            'input_ids': inputs['input_ids'].flatten(),\n",
    "            'attention_mask': inputs['attention_mask'].flatten(),\n",
    "            'token_type_ids': inputs[\"token_type_ids\"].flatten(),\n",
    "            'targets': torch.FloatTensor(self.targets[index])\n",
    "        }"
   ]
  },
  {
   "cell_type": "code",
   "execution_count": 16,
   "id": "609d2b16",
   "metadata": {
    "execution": {
     "iopub.execute_input": "2023-11-12T08:05:24.342973Z",
     "iopub.status.busy": "2023-11-12T08:05:24.342706Z",
     "iopub.status.idle": "2023-11-12T08:05:24.363290Z",
     "shell.execute_reply": "2023-11-12T08:05:24.362550Z"
    },
    "papermill": {
     "duration": 0.033517,
     "end_time": "2023-11-12T08:05:24.365469",
     "exception": false,
     "start_time": "2023-11-12T08:05:24.331952",
     "status": "completed"
    },
    "tags": []
   },
   "outputs": [],
   "source": [
    "train_size = 0.8\n",
    "train_df1 = train_df.sample(frac=train_size, random_state=200).reset_index(drop=True)\n",
    "val_df = train_df.drop(train_df1.index).reset_index(drop=True)"
   ]
  },
  {
   "cell_type": "code",
   "execution_count": 17,
   "id": "901a46e7",
   "metadata": {
    "execution": {
     "iopub.execute_input": "2023-11-12T08:05:24.385764Z",
     "iopub.status.busy": "2023-11-12T08:05:24.385483Z",
     "iopub.status.idle": "2023-11-12T08:05:24.393117Z",
     "shell.execute_reply": "2023-11-12T08:05:24.392378Z"
    },
    "papermill": {
     "duration": 0.020019,
     "end_time": "2023-11-12T08:05:24.395128",
     "exception": false,
     "start_time": "2023-11-12T08:05:24.375109",
     "status": "completed"
    },
    "tags": []
   },
   "outputs": [],
   "source": [
    "train_dataset = CustomDataset(train_df, tokenizer, MAX_LEN)\n",
    "valid_dataset = CustomDataset(val_df, tokenizer, MAX_LEN)"
   ]
  },
  {
   "cell_type": "code",
   "execution_count": 18,
   "id": "8934f3bc",
   "metadata": {
    "execution": {
     "iopub.execute_input": "2023-11-12T08:05:24.417441Z",
     "iopub.status.busy": "2023-11-12T08:05:24.417115Z",
     "iopub.status.idle": "2023-11-12T08:05:24.422315Z",
     "shell.execute_reply": "2023-11-12T08:05:24.421517Z"
    },
    "papermill": {
     "duration": 0.018645,
     "end_time": "2023-11-12T08:05:24.424244",
     "exception": false,
     "start_time": "2023-11-12T08:05:24.405599",
     "status": "completed"
    },
    "tags": []
   },
   "outputs": [],
   "source": [
    "train_data_loader = torch.utils.data.DataLoader(train_dataset, \n",
    "    batch_size=TRAIN_BATCH_SIZE,\n",
    "    shuffle=True,\n",
    "    num_workers=0\n",
    ")\n",
    "\n",
    "val_data_loader = torch.utils.data.DataLoader(valid_dataset, \n",
    "    batch_size=VALID_BATCH_SIZE,\n",
    "    shuffle=False,\n",
    "    num_workers=0\n",
    ")"
   ]
  },
  {
   "cell_type": "code",
   "execution_count": 19,
   "id": "b2879d53",
   "metadata": {
    "execution": {
     "iopub.execute_input": "2023-11-12T08:05:24.445723Z",
     "iopub.status.busy": "2023-11-12T08:05:24.445100Z",
     "iopub.status.idle": "2023-11-12T08:05:24.540763Z",
     "shell.execute_reply": "2023-11-12T08:05:24.539802Z"
    },
    "papermill": {
     "duration": 0.108407,
     "end_time": "2023-11-12T08:05:24.542753",
     "exception": false,
     "start_time": "2023-11-12T08:05:24.434346",
     "status": "completed"
    },
    "tags": []
   },
   "outputs": [
    {
     "data": {
      "text/plain": [
       "device(type='cuda')"
      ]
     },
     "execution_count": 19,
     "metadata": {},
     "output_type": "execute_result"
    }
   ],
   "source": [
    "device = torch.device('cuda') if torch.cuda.is_available() else torch.device('cpu')\n",
    "device"
   ]
  },
  {
   "cell_type": "code",
   "execution_count": 20,
   "id": "1a880003",
   "metadata": {
    "execution": {
     "iopub.execute_input": "2023-11-12T08:05:24.563586Z",
     "iopub.status.busy": "2023-11-12T08:05:24.563278Z",
     "iopub.status.idle": "2023-11-12T08:05:24.570303Z",
     "shell.execute_reply": "2023-11-12T08:05:24.569540Z"
    },
    "papermill": {
     "duration": 0.019411,
     "end_time": "2023-11-12T08:05:24.572158",
     "exception": false,
     "start_time": "2023-11-12T08:05:24.552747",
     "status": "completed"
    },
    "tags": []
   },
   "outputs": [],
   "source": [
    "def load_ckp(checkpoint_fpath, model, optimizer):\n",
    "    \"\"\"\n",
    "    checkpoint_path: path to save checkpoint\n",
    "    model: model that we want to load checkpoint parameters into       \n",
    "    optimizer: optimizer we defined in previous training\n",
    "    \"\"\"\n",
    "    # load check point\n",
    "    checkpoint = torch.load(checkpoint_fpath)\n",
    "    # initialize state_dict from checkpoint to model\n",
    "    model.load_state_dict(checkpoint['state_dict'])\n",
    "    # initialize optimizer from checkpoint to optimizer\n",
    "    optimizer.load_state_dict(checkpoint['optimizer'])\n",
    "    # initialize valid_loss_min from checkpoint to valid_loss_min\n",
    "    valid_loss_min = checkpoint['valid_loss_min']\n",
    "    # return model, optimizer, epoch value, min validation loss \n",
    "    return model, optimizer, checkpoint['epoch'], valid_loss_min.item()\n",
    "\n",
    "def save_ckp(state, is_best, checkpoint_path, best_model_path):\n",
    "    \"\"\"\n",
    "    state: checkpoint we want to save\n",
    "    is_best: is this the best checkpoint; min validation loss\n",
    "    checkpoint_path: path to save checkpoint\n",
    "    best_model_path: path to save best model\n",
    "    \"\"\"\n",
    "    f_path = checkpoint_path\n",
    "    # save checkpoint data to the path given, checkpoint_path\n",
    "    torch.save(state, f_path)\n",
    "    # if it is a best model, min validation loss\n",
    "    if is_best:\n",
    "        best_fpath = best_model_path\n",
    "        # copy that checkpoint file to best path given, best_model_path\n",
    "        shutil.copyfile(f_path, best_fpath)"
   ]
  },
  {
   "cell_type": "code",
   "execution_count": 21,
   "id": "b8e21cf4",
   "metadata": {
    "execution": {
     "iopub.execute_input": "2023-11-12T08:05:24.593057Z",
     "iopub.status.busy": "2023-11-12T08:05:24.592800Z",
     "iopub.status.idle": "2023-11-12T08:05:33.609209Z",
     "shell.execute_reply": "2023-11-12T08:05:33.608225Z"
    },
    "papermill": {
     "duration": 9.029344,
     "end_time": "2023-11-12T08:05:33.611527",
     "exception": false,
     "start_time": "2023-11-12T08:05:24.582183",
     "status": "completed"
    },
    "tags": []
   },
   "outputs": [
    {
     "data": {
      "application/vnd.jupyter.widget-view+json": {
       "model_id": "0b50e18909d5458784989164f6fb9bd8",
       "version_major": 2,
       "version_minor": 0
      },
      "text/plain": [
       "Downloading model.safetensors:   0%|          | 0.00/336M [00:00<?, ?B/s]"
      ]
     },
     "metadata": {},
     "output_type": "display_data"
    },
    {
     "data": {
      "text/plain": [
       "BERTClass(\n",
       "  (bert_model): BertModel(\n",
       "    (embeddings): BertEmbeddings(\n",
       "      (word_embeddings): Embedding(52000, 768, padding_idx=0)\n",
       "      (position_embeddings): Embedding(514, 768)\n",
       "      (token_type_embeddings): Embedding(1, 768)\n",
       "      (LayerNorm): LayerNorm((768,), eps=1e-12, elementwise_affine=True)\n",
       "      (dropout): Dropout(p=0.1, inplace=False)\n",
       "    )\n",
       "    (encoder): BertEncoder(\n",
       "      (layer): ModuleList(\n",
       "        (0-5): 6 x BertLayer(\n",
       "          (attention): BertAttention(\n",
       "            (self): BertSelfAttention(\n",
       "              (query): Linear(in_features=768, out_features=768, bias=True)\n",
       "              (key): Linear(in_features=768, out_features=768, bias=True)\n",
       "              (value): Linear(in_features=768, out_features=768, bias=True)\n",
       "              (dropout): Dropout(p=0.1, inplace=False)\n",
       "            )\n",
       "            (output): BertSelfOutput(\n",
       "              (dense): Linear(in_features=768, out_features=768, bias=True)\n",
       "              (LayerNorm): LayerNorm((768,), eps=1e-12, elementwise_affine=True)\n",
       "              (dropout): Dropout(p=0.1, inplace=False)\n",
       "            )\n",
       "          )\n",
       "          (intermediate): BertIntermediate(\n",
       "            (dense): Linear(in_features=768, out_features=3072, bias=True)\n",
       "            (intermediate_act_fn): GELUActivation()\n",
       "          )\n",
       "          (output): BertOutput(\n",
       "            (dense): Linear(in_features=3072, out_features=768, bias=True)\n",
       "            (LayerNorm): LayerNorm((768,), eps=1e-12, elementwise_affine=True)\n",
       "            (dropout): Dropout(p=0.1, inplace=False)\n",
       "          )\n",
       "        )\n",
       "      )\n",
       "    )\n",
       "    (pooler): BertPooler(\n",
       "      (dense): Linear(in_features=768, out_features=768, bias=True)\n",
       "      (activation): Tanh()\n",
       "    )\n",
       "  )\n",
       "  (dropout): Dropout(p=0.3, inplace=False)\n",
       "  (linear): Linear(in_features=768, out_features=14, bias=True)\n",
       ")"
      ]
     },
     "execution_count": 21,
     "metadata": {},
     "output_type": "execute_result"
    }
   ],
   "source": [
    "class BERTClass(torch.nn.Module):\n",
    "    def __init__(self):\n",
    "        super(BERTClass, self).__init__()\n",
    "        self.bert_model = AutoModel.from_pretrained('jackaduma/SecBERT')\n",
    "        self.dropout = torch.nn.Dropout(0.3)\n",
    "        self.linear = torch.nn.Linear(768, 14)\n",
    "    \n",
    "    def forward(self, input_ids, attn_mask, token_type_ids):\n",
    "        output = self.bert_model(\n",
    "            input_ids, \n",
    "            attention_mask=attn_mask, \n",
    "            token_type_ids=token_type_ids\n",
    "        )\n",
    "        output_dropout = self.dropout(output.pooler_output)\n",
    "        output = self.linear(output_dropout)\n",
    "        return output\n",
    "\n",
    "model = BERTClass()\n",
    "\n",
    "model.to(device)"
   ]
  },
  {
   "cell_type": "code",
   "execution_count": 22,
   "id": "8efd46f8",
   "metadata": {
    "execution": {
     "iopub.execute_input": "2023-11-12T08:05:33.635771Z",
     "iopub.status.busy": "2023-11-12T08:05:33.635439Z",
     "iopub.status.idle": "2023-11-12T08:05:33.641013Z",
     "shell.execute_reply": "2023-11-12T08:05:33.640124Z"
    },
    "papermill": {
     "duration": 0.019461,
     "end_time": "2023-11-12T08:05:33.643030",
     "exception": false,
     "start_time": "2023-11-12T08:05:33.623569",
     "status": "completed"
    },
    "tags": []
   },
   "outputs": [],
   "source": [
    "def loss_fn(outputs, targets):\n",
    "    return torch.nn.BCEWithLogitsLoss()(outputs, targets)\n",
    "\n",
    "optimizer = torch.optim.Adam(params =  model.parameters(), lr=LEARNING_RATE)"
   ]
  },
  {
   "cell_type": "code",
   "execution_count": 23,
   "id": "895fe802",
   "metadata": {
    "execution": {
     "iopub.execute_input": "2023-11-12T08:05:33.665666Z",
     "iopub.status.busy": "2023-11-12T08:05:33.665367Z",
     "iopub.status.idle": "2023-11-12T08:05:33.669521Z",
     "shell.execute_reply": "2023-11-12T08:05:33.668590Z"
    },
    "papermill": {
     "duration": 0.017845,
     "end_time": "2023-11-12T08:05:33.671604",
     "exception": false,
     "start_time": "2023-11-12T08:05:33.653759",
     "status": "completed"
    },
    "tags": []
   },
   "outputs": [],
   "source": [
    "val_targets=[]\n",
    "val_outputs=[]"
   ]
  },
  {
   "cell_type": "code",
   "execution_count": 24,
   "id": "acaf7b13",
   "metadata": {
    "execution": {
     "iopub.execute_input": "2023-11-12T08:05:33.694326Z",
     "iopub.status.busy": "2023-11-12T08:05:33.693797Z",
     "iopub.status.idle": "2023-11-12T08:05:33.710693Z",
     "shell.execute_reply": "2023-11-12T08:05:33.709875Z"
    },
    "papermill": {
     "duration": 0.03042,
     "end_time": "2023-11-12T08:05:33.712723",
     "exception": false,
     "start_time": "2023-11-12T08:05:33.682303",
     "status": "completed"
    },
    "tags": []
   },
   "outputs": [],
   "source": [
    "def train_model(n_epochs, training_loader, validation_loader, model, \n",
    "                optimizer, checkpoint_path, best_model_path):\n",
    "   \n",
    "  # initialize tracker for minimum validation loss\n",
    "    valid_loss_min = np.Inf\n",
    "   \n",
    " \n",
    "    for epoch in range(1, n_epochs+1):\n",
    "        train_loss = 0\n",
    "        valid_loss = 0\n",
    "        model.train()\n",
    "        print('############# Epoch {}: Training Start   #############'.format(epoch))\n",
    "        for batch_idx, data in enumerate(training_loader):\n",
    "            #print('yyy epoch', batch_idx)\n",
    "            ids = data['input_ids'].to(device, dtype = torch.long)\n",
    "            mask = data['attention_mask'].to(device, dtype = torch.long)\n",
    "            token_type_ids = data['token_type_ids'].to(device, dtype = torch.long)\n",
    "            targets = data['targets'].to(device, dtype = torch.float)\n",
    "\n",
    "            outputs = model(ids, mask, token_type_ids)\n",
    "\n",
    "            optimizer.zero_grad()\n",
    "            loss = loss_fn(outputs, targets)\n",
    "            #if batch_idx%5000==0:\n",
    "             #   print(f'Epoch: {epoch}, Training Loss:  {loss.item()}')\n",
    "\n",
    "            optimizer.zero_grad()\n",
    "            loss.backward()\n",
    "            optimizer.step()\n",
    "            #print('before loss data in training', loss.item(), train_loss)\n",
    "            train_loss = train_loss + ((1 / (batch_idx + 1)) * (loss.item() - train_loss))\n",
    "            #print('after loss data in training', loss.item(), train_loss)\n",
    "            \n",
    "    print('############# Epoch {}: Training End     #############'.format(epoch))\n",
    "    \n",
    "    print('############# Epoch {}: Validation Start   #############'.format(epoch))\n",
    "    ######################    \n",
    "    # validate the model #\n",
    "    ######################\n",
    " \n",
    "    model.eval()\n",
    "   \n",
    "    with torch.no_grad():\n",
    "        for batch_idx, data in enumerate(validation_loader, 0):\n",
    "            ids = data['input_ids'].to(device, dtype = torch.long)\n",
    "            mask = data['attention_mask'].to(device, dtype = torch.long)\n",
    "            token_type_ids = data['token_type_ids'].to(device, dtype = torch.long)\n",
    "            targets = data['targets'].to(device, dtype = torch.float)\n",
    "            outputs = model(ids, mask, token_type_ids)\n",
    "\n",
    "            loss = loss_fn(outputs, targets)\n",
    "            valid_loss = valid_loss + ((1 / (batch_idx + 1)) * (loss.item() - valid_loss))\n",
    "            val_targets.extend(targets.cpu().detach().numpy().tolist())\n",
    "            val_outputs.extend(torch.sigmoid(outputs).cpu().detach().numpy().tolist())\n",
    "\n",
    "        print('############# Epoch {}: Validation End     #############'.format(epoch))\n",
    "        # calculate average losses\n",
    "        #print('before cal avg train loss', train_loss)\n",
    "        if len(training_loader) > 0:\n",
    "            train_loss = train_loss/len(training_loader)\n",
    "        if len(validation_loader) > 0:\n",
    "            valid_loss = valid_loss/len(validation_loader)\n",
    "        # print training/validation statistics \n",
    "        print('Epoch: {} \\tAvgerage Training Loss: {:.6f} \\tAverage Validation Loss: {:.6f}'.format(\n",
    "            epoch, \n",
    "            train_loss,\n",
    "            valid_loss\n",
    "            ))\n",
    "\n",
    "        # create checkpoint variable and add important data\n",
    "        checkpoint = {\n",
    "            'epoch': epoch + 1,\n",
    "            'valid_loss_min': valid_loss,\n",
    "            'state_dict': model.state_dict(),\n",
    "            'optimizer': optimizer.state_dict()\n",
    "        }\n",
    "\n",
    "        # save checkpoint\n",
    "        save_ckp(checkpoint, False, checkpoint_path, best_model_path)\n",
    "\n",
    "        ## TODO: save the model if validation loss has decreased\n",
    "        if valid_loss <= valid_loss_min:\n",
    "            print('Validation loss decreased ({:.6f} --> {:.6f}).  Saving model ...'.format(valid_loss_min,valid_loss))\n",
    "            # save checkpoint as best model\n",
    "            save_ckp(checkpoint, True, checkpoint_path, best_model_path)\n",
    "            valid_loss_min = valid_loss\n",
    "\n",
    "        print('############# Epoch {}  Done   #############\\n'.format(epoch))\n",
    "\n",
    "        return model"
   ]
  },
  {
   "cell_type": "code",
   "execution_count": 25,
   "id": "1b18c6cf",
   "metadata": {
    "execution": {
     "iopub.execute_input": "2023-11-12T08:05:33.735677Z",
     "iopub.status.busy": "2023-11-12T08:05:33.735369Z",
     "iopub.status.idle": "2023-11-12T08:05:33.739297Z",
     "shell.execute_reply": "2023-11-12T08:05:33.738474Z"
    },
    "papermill": {
     "duration": 0.017696,
     "end_time": "2023-11-12T08:05:33.741187",
     "exception": false,
     "start_time": "2023-11-12T08:05:33.723491",
     "status": "completed"
    },
    "tags": []
   },
   "outputs": [],
   "source": [
    "ckpt_path = \"/kaggle/working/curr_ckpt\"\n",
    "best_model_path = \"/kaggle/working/best_model.pt\""
   ]
  },
  {
   "cell_type": "code",
   "execution_count": 26,
   "id": "6fe9ec6f",
   "metadata": {
    "execution": {
     "iopub.execute_input": "2023-11-12T08:05:33.763041Z",
     "iopub.status.busy": "2023-11-12T08:05:33.762783Z",
     "iopub.status.idle": "2023-11-12T09:00:16.923746Z",
     "shell.execute_reply": "2023-11-12T09:00:16.922540Z"
    },
    "papermill": {
     "duration": 3283.174374,
     "end_time": "2023-11-12T09:00:16.925886",
     "exception": false,
     "start_time": "2023-11-12T08:05:33.751512",
     "status": "completed"
    },
    "tags": []
   },
   "outputs": [
    {
     "name": "stdout",
     "output_type": "stream",
     "text": [
      "############# Epoch 1: Training Start   #############\n",
      "############# Epoch 2: Training Start   #############\n",
      "############# Epoch 2: Training End     #############\n",
      "############# Epoch 2: Validation Start   #############\n",
      "############# Epoch 2: Validation End     #############\n",
      "Epoch: 2 \tAvgerage Training Loss: 0.000012 \tAverage Validation Loss: 0.000038\n",
      "Validation loss decreased (inf --> 0.000038).  Saving model ...\n",
      "############# Epoch 2  Done   #############\n",
      "\n"
     ]
    }
   ],
   "source": [
    "trained_model = train_model(EPOCHS, train_data_loader, val_data_loader, model, optimizer, ckpt_path, best_model_path)"
   ]
  },
  {
   "cell_type": "code",
   "execution_count": 27,
   "id": "7b1606b5",
   "metadata": {
    "execution": {
     "iopub.execute_input": "2023-11-12T09:00:16.949197Z",
     "iopub.status.busy": "2023-11-12T09:00:16.948889Z",
     "iopub.status.idle": "2023-11-12T09:00:17.785678Z",
     "shell.execute_reply": "2023-11-12T09:00:17.784902Z"
    },
    "papermill": {
     "duration": 0.850822,
     "end_time": "2023-11-12T09:00:17.787973",
     "exception": false,
     "start_time": "2023-11-12T09:00:16.937151",
     "status": "completed"
    },
    "tags": []
   },
   "outputs": [],
   "source": [
    "from sklearn.metrics import precision_score, recall_score, confusion_matrix, classification_report,accuracy_score, f1_score"
   ]
  },
  {
   "cell_type": "code",
   "execution_count": null,
   "id": "66a12ffc",
   "metadata": {
    "papermill": {
     "duration": 0.011189,
     "end_time": "2023-11-12T09:00:17.810684",
     "exception": false,
     "start_time": "2023-11-12T09:00:17.799495",
     "status": "completed"
    },
    "tags": []
   },
   "outputs": [],
   "source": []
  },
  {
   "cell_type": "code",
   "execution_count": 28,
   "id": "7ac176e8",
   "metadata": {
    "execution": {
     "iopub.execute_input": "2023-11-12T09:00:17.836331Z",
     "iopub.status.busy": "2023-11-12T09:00:17.835518Z",
     "iopub.status.idle": "2023-11-12T09:09:54.843073Z",
     "shell.execute_reply": "2023-11-12T09:09:54.841507Z"
    },
    "papermill": {
     "duration": 577.022806,
     "end_time": "2023-11-12T09:09:54.845671",
     "exception": false,
     "start_time": "2023-11-12T09:00:17.822865",
     "status": "completed"
    },
    "tags": []
   },
   "outputs": [
    {
     "name": "stderr",
     "output_type": "stream",
     "text": [
      "/opt/conda/lib/python3.10/site-packages/sklearn/metrics/_classification.py:1344: UndefinedMetricWarning: Precision and F-score are ill-defined and being set to 0.0 in labels with no predicted samples. Use `zero_division` parameter to control this behavior.\n",
      "  _warn_prf(average, modifier, msg_start, len(result))\n",
      "/opt/conda/lib/python3.10/site-packages/sklearn/metrics/_classification.py:1344: UndefinedMetricWarning: Recall and F-score are ill-defined and being set to 0.0 in labels with no true samples. Use `zero_division` parameter to control this behavior.\n",
      "  _warn_prf(average, modifier, msg_start, len(result))\n",
      "/opt/conda/lib/python3.10/site-packages/sklearn/metrics/_classification.py:1344: UndefinedMetricWarning: Precision and F-score are ill-defined and being set to 0.0 in samples with no predicted labels. Use `zero_division` parameter to control this behavior.\n",
      "  _warn_prf(average, modifier, msg_start, len(result))\n"
     ]
    },
    {
     "name": "stdout",
     "output_type": "stream",
     "text": [
      "\n",
      " clasification report:\n",
      "               precision    recall  f1-score   support\n",
      "\n",
      "           0     0.1824    0.9636    0.3068      9146\n",
      "           1     0.0000    0.0000    0.0000       407\n",
      "           2     0.0000    0.0000    0.0000         0\n",
      "           3     1.0000    0.4485    0.6193       301\n",
      "           4     0.9865    0.9206    0.9524      6175\n",
      "           5     0.0000    0.0000    0.0000        19\n",
      "           6     0.9478    0.9695    0.9585       131\n",
      "           7     0.0000    0.0000    0.0000         0\n",
      "           8     0.0962    0.7722    0.1710       316\n",
      "           9     0.0000    0.0000    0.0000         0\n",
      "          10     0.0000    0.0000    0.0000         0\n",
      "          11     0.0000    0.0000    0.0000     43894\n",
      "          12     0.0000    0.0000    0.0000         0\n",
      "          13     0.0000    0.0000    0.0000         0\n",
      "\n",
      "   micro avg     0.2556    0.2485    0.2520     60389\n",
      "   macro avg     0.2295    0.2910    0.2149     60389\n",
      "weighted avg     0.1360    0.2485    0.1499     60389\n",
      " samples avg     0.2477    0.2462    0.2466     60389\n",
      "\n",
      "F1 score: 0.2519901917973867\n",
      "Recall: 0.24845584460746162\n",
      "Precision: 0.25562654399863705\n",
      "Acc: 0.24443333333333334\n"
     ]
    }
   ],
   "source": [
    "# testing\n",
    "true_labels = list()\n",
    "predicted_labels = list()\n",
    "\n",
    "check = 1\n",
    "num_correct = 0;\n",
    "num_sample = 0\n",
    "for i in range(30000, 90000, 1):\n",
    "    check = 1\n",
    "    example = test_df['text'][i]\n",
    "    num_sample += 1\n",
    "    encodings = tokenizer.encode_plus(\n",
    "        example,\n",
    "        None,\n",
    "        add_special_tokens=True,\n",
    "        max_length=MAX_LEN,\n",
    "        padding='max_length',\n",
    "        return_token_type_ids=True,\n",
    "        truncation=True,\n",
    "        return_attention_mask=True,\n",
    "        return_tensors='pt'\n",
    "    )\n",
    "    model.eval()\n",
    "    with torch.no_grad():\n",
    "        input_ids = encodings['input_ids'].to(device, dtype=torch.long)\n",
    "        attention_mask = encodings['attention_mask'].to(device, dtype=torch.long)\n",
    "        token_type_ids = encodings['token_type_ids'].to(device, dtype=torch.long)\n",
    "        output = model(input_ids, attention_mask, token_type_ids)\n",
    "        final_output = torch.sigmoid(output).cpu().detach().numpy().tolist()\n",
    "    #     print(final_output)\n",
    "        for x in final_output:\n",
    "            true_label = list()\n",
    "            predicted_label = list()\n",
    "            for j, y in enumerate(x):\n",
    "#     #             print(i)\n",
    "#                 if y < 0.5: and test_df[target_list[j]][i] == 1:\n",
    "# #                     check = 0\n",
    "# #                     break\n",
    "#                 elif y > 0.5 and test_df[target_list[j]][i] == 0:\n",
    "# #                     check = 0\n",
    "# #                     break\n",
    "# #         if check == 1:\n",
    "# #             num_correct += 1\n",
    "                if y < 0.5:\n",
    "                    predicted_label.append(0)\n",
    "                else:\n",
    "                    predicted_label.append(1)\n",
    "                if test_df[target_list[j]][i] == 1:\n",
    "                    true_label.append(1)\n",
    "                else:\n",
    "                    true_label.append(0)\n",
    "#             print(predicted_label)\n",
    "            predicted_labels.append(predicted_label)\n",
    "            true_labels.append(true_label)\n",
    "# print(predicted_labels)\n",
    "# print(\"true label: \", true_labels)\n",
    "# acc = num_correct / num_sample\n",
    "# print(acc)\n",
    "score = f1_score(true_labels,predicted_labels,average=\"micro\")\n",
    "precision = precision_score(true_labels, predicted_labels,average=\"micro\")\n",
    "recall = recall_score(true_labels, predicted_labels,average=\"micro\")\n",
    "report = classification_report(true_labels,predicted_labels,digits=4)\n",
    "acc= accuracy_score(true_labels, predicted_labels)\n",
    "#classifaction_report_csv(report,precision,recall,score,0)\n",
    "print ('\\n clasification report:\\n', report)\n",
    "print ('F1 score:', score)\n",
    "print ('Recall:', recall)\n",
    "print ('Precision:', precision)\n",
    "print ('Acc:', acc)\n",
    "\n"
   ]
  },
  {
   "cell_type": "code",
   "execution_count": 29,
   "id": "231d1568",
   "metadata": {
    "execution": {
     "iopub.execute_input": "2023-11-12T09:09:54.874455Z",
     "iopub.status.busy": "2023-11-12T09:09:54.874046Z",
     "iopub.status.idle": "2023-11-12T09:09:54.880749Z",
     "shell.execute_reply": "2023-11-12T09:09:54.879704Z"
    },
    "papermill": {
     "duration": 0.022812,
     "end_time": "2023-11-12T09:09:54.882789",
     "exception": false,
     "start_time": "2023-11-12T09:09:54.859977",
     "status": "completed"
    },
    "tags": []
   },
   "outputs": [],
   "source": [
    "# from sklearn.metrics import precision_score, recall_score, confusion_matrix, classification_report,accuracy_score, f1_score\n",
    "\n",
    "# def evaluate(model, percentage = 80):\n",
    "#     with torch.no_grad():\n",
    "#         predicted_labels_dict = {\n",
    "#           0: 0,\n",
    "#           1: 0,\n",
    "#           2: 0,\n",
    "#           3: 0,\n",
    "#           4: 0,\n",
    "#           5: 0,\n",
    "#           6: 0,\n",
    "#         }\n",
    "#         model.eval()\n",
    "#         dev_df = pd.read_csv(test_path)\n",
    "#         data_size = dev_df.shape[0]\n",
    "#         selected_for_evaluation = int(data_size*percentage/100)\n",
    "#         dev_df = dev_df.head(selected_for_evaluation)\n",
    "#         dataset = ReviewDataset(dev_df)\n",
    "#         dataloader = DataLoader(dataset = dataset, batch_size = training_parameters[\"batch_size\"], shuffle = True, num_workers = 2)\n",
    "\n",
    "#         true_labels = list()\n",
    "#         predicted_label = list()\n",
    "#         for input_ids, attention_mask, token_type_ids, labels in dataloader:\n",
    "#             inputs = {\n",
    "#                 \"input_ids\": input_ids.squeeze(axis=1),\n",
    "#                 \"attention_mask\": attention_mask.squeeze(axis=1),\n",
    "#                 \"token_type_ids\" : token_type_ids.squeeze(axis=1),\n",
    "#                 \"labels\": labels,\n",
    "#             }\n",
    "#             for k, v in inputs.items():\n",
    "#                 inputs[k] = v.to(device)\n",
    "#             attack_pred, _ = model(**inputs)\n",
    "#             predicted_label.extend(attack_pred.max(dim = 1)[1].cpu().numpy())\n",
    "#             true_labels.extend(inputs['labels'].cpu().numpy())\n",
    "#             _, predicted_labels = compute_accuracy(attack_pred, inputs[\"labels\"])\n",
    "\n",
    "#             for i in range(7):\n",
    "#                 predicted_labels_dict[i] += predicted_labels[i]\n",
    "\n",
    "#         score = f1_score(true_labels,predicted_label,average=\"macro\")\n",
    "#         precision = precision_score(true_labels, predicted_label,average=\"macro\")\n",
    "#         recall = recall_score(true_labels, predicted_label,average=\"macro\")\n",
    "#         report = classification_report(true_labels,predicted_label,digits=4)\n",
    "#         acc= accuracy_score(true_labels, predicted_label)\n",
    "#         #classifaction_report_csv(report,precision,recall,score,0)\n",
    "#         print ('\\n clasification report:\\n', report)\n",
    "#         print ('F1 score:', score)\n",
    "#         print ('Recall:', recall)\n",
    "#         print ('Precision:', precision)\n",
    "#         print ('Acc:', acc)\n",
    "#         print('Confusion Matrix: \\n',confusion_matrix(true_labels, predicted_label))\n",
    "#         print(predicted_labels_dict)"
   ]
  },
  {
   "cell_type": "code",
   "execution_count": 30,
   "id": "f6344740",
   "metadata": {
    "execution": {
     "iopub.execute_input": "2023-11-12T09:09:54.908208Z",
     "iopub.status.busy": "2023-11-12T09:09:54.907888Z",
     "iopub.status.idle": "2023-11-12T09:09:54.913835Z",
     "shell.execute_reply": "2023-11-12T09:09:54.912962Z"
    },
    "papermill": {
     "duration": 0.020963,
     "end_time": "2023-11-12T09:09:54.915889",
     "exception": false,
     "start_time": "2023-11-12T09:09:54.894926",
     "status": "completed"
    },
    "tags": []
   },
   "outputs": [],
   "source": [
    "def accuracy(y_true, y_pred):\n",
    "    temp = 0\n",
    "    for i in range(len(y_true)):\n",
    "        numerator = sum(np.logical_and(y_true[i], y_pred[i]))\n",
    "        denominator = sum(np.logical_or(y_true[i], y_pred[i]))\n",
    "        if denominator != 0:\n",
    "            temp += numerator / denominator\n",
    "    return temp / len(y_true)"
   ]
  },
  {
   "cell_type": "code",
   "execution_count": 31,
   "id": "a335a8bf",
   "metadata": {
    "execution": {
     "iopub.execute_input": "2023-11-12T09:09:54.941390Z",
     "iopub.status.busy": "2023-11-12T09:09:54.941075Z",
     "iopub.status.idle": "2023-11-12T09:09:57.136243Z",
     "shell.execute_reply": "2023-11-12T09:09:57.135182Z"
    },
    "papermill": {
     "duration": 2.210613,
     "end_time": "2023-11-12T09:09:57.138748",
     "exception": false,
     "start_time": "2023-11-12T09:09:54.928135",
     "status": "completed"
    },
    "tags": []
   },
   "outputs": [
    {
     "name": "stdout",
     "output_type": "stream",
     "text": [
      "accuracy: 0.24604166666666696\n"
     ]
    }
   ],
   "source": [
    "acc_ = accuracy(true_labels,predicted_labels)\n",
    "print(\"accuracy:\", acc_)"
   ]
  }
 ],
 "metadata": {
  "kernelspec": {
   "display_name": "Python 3",
   "language": "python",
   "name": "python3"
  },
  "language_info": {
   "codemirror_mode": {
    "name": "ipython",
    "version": 3
   },
   "file_extension": ".py",
   "mimetype": "text/x-python",
   "name": "python",
   "nbconvert_exporter": "python",
   "pygments_lexer": "ipython3",
   "version": "3.10.12"
  },
  "papermill": {
   "default_parameters": {},
   "duration": 3920.345132,
   "end_time": "2023-11-12T09:10:00.427955",
   "environment_variables": {},
   "exception": null,
   "input_path": "__notebook__.ipynb",
   "output_path": "__notebook__.ipynb",
   "parameters": {},
   "start_time": "2023-11-12T08:04:40.082823",
   "version": "2.4.0"
  },
  "widgets": {
   "application/vnd.jupyter.widget-state+json": {
    "state": {
     "0157024430894a66b9f931fd43e25b88": {
      "model_module": "@jupyter-widgets/base",
      "model_module_version": "1.2.0",
      "model_name": "LayoutModel",
      "state": {
       "_model_module": "@jupyter-widgets/base",
       "_model_module_version": "1.2.0",
       "_model_name": "LayoutModel",
       "_view_count": null,
       "_view_module": "@jupyter-widgets/base",
       "_view_module_version": "1.2.0",
       "_view_name": "LayoutView",
       "align_content": null,
       "align_items": null,
       "align_self": null,
       "border": null,
       "bottom": null,
       "display": null,
       "flex": null,
       "flex_flow": null,
       "grid_area": null,
       "grid_auto_columns": null,
       "grid_auto_flow": null,
       "grid_auto_rows": null,
       "grid_column": null,
       "grid_gap": null,
       "grid_row": null,
       "grid_template_areas": null,
       "grid_template_columns": null,
       "grid_template_rows": null,
       "height": null,
       "justify_content": null,
       "justify_items": null,
       "left": null,
       "margin": null,
       "max_height": null,
       "max_width": null,
       "min_height": null,
       "min_width": null,
       "object_fit": null,
       "object_position": null,
       "order": null,
       "overflow": null,
       "overflow_x": null,
       "overflow_y": null,
       "padding": null,
       "right": null,
       "top": null,
       "visibility": null,
       "width": null
      }
     },
     "05137868b8004c55ba6837e479223fcd": {
      "model_module": "@jupyter-widgets/controls",
      "model_module_version": "1.5.0",
      "model_name": "HTMLModel",
      "state": {
       "_dom_classes": [],
       "_model_module": "@jupyter-widgets/controls",
       "_model_module_version": "1.5.0",
       "_model_name": "HTMLModel",
       "_view_count": null,
       "_view_module": "@jupyter-widgets/controls",
       "_view_module_version": "1.5.0",
       "_view_name": "HTMLView",
       "description": "",
       "description_tooltip": null,
       "layout": "IPY_MODEL_69ba8b03770c477b94f19feb1c4dbfb8",
       "placeholder": "​",
       "style": "IPY_MODEL_6695fcd604374d9886ade6e7767e8d5f",
       "value": "Downloading model.safetensors: 100%"
      }
     },
     "0b50e18909d5458784989164f6fb9bd8": {
      "model_module": "@jupyter-widgets/controls",
      "model_module_version": "1.5.0",
      "model_name": "HBoxModel",
      "state": {
       "_dom_classes": [],
       "_model_module": "@jupyter-widgets/controls",
       "_model_module_version": "1.5.0",
       "_model_name": "HBoxModel",
       "_view_count": null,
       "_view_module": "@jupyter-widgets/controls",
       "_view_module_version": "1.5.0",
       "_view_name": "HBoxView",
       "box_style": "",
       "children": [
        "IPY_MODEL_05137868b8004c55ba6837e479223fcd",
        "IPY_MODEL_8f7682216ed948f08d231a3af7888db6",
        "IPY_MODEL_95a83ca219e44cc1a1c6d840d3b23f50"
       ],
       "layout": "IPY_MODEL_0157024430894a66b9f931fd43e25b88"
      }
     },
     "0f7d75a06fee4d5c9c244de4698852e9": {
      "model_module": "@jupyter-widgets/controls",
      "model_module_version": "1.5.0",
      "model_name": "DescriptionStyleModel",
      "state": {
       "_model_module": "@jupyter-widgets/controls",
       "_model_module_version": "1.5.0",
       "_model_name": "DescriptionStyleModel",
       "_view_count": null,
       "_view_module": "@jupyter-widgets/base",
       "_view_module_version": "1.2.0",
       "_view_name": "StyleView",
       "description_width": ""
      }
     },
     "1322eba7c5f74f09877857b01168b11b": {
      "model_module": "@jupyter-widgets/base",
      "model_module_version": "1.2.0",
      "model_name": "LayoutModel",
      "state": {
       "_model_module": "@jupyter-widgets/base",
       "_model_module_version": "1.2.0",
       "_model_name": "LayoutModel",
       "_view_count": null,
       "_view_module": "@jupyter-widgets/base",
       "_view_module_version": "1.2.0",
       "_view_name": "LayoutView",
       "align_content": null,
       "align_items": null,
       "align_self": null,
       "border": null,
       "bottom": null,
       "display": null,
       "flex": null,
       "flex_flow": null,
       "grid_area": null,
       "grid_auto_columns": null,
       "grid_auto_flow": null,
       "grid_auto_rows": null,
       "grid_column": null,
       "grid_gap": null,
       "grid_row": null,
       "grid_template_areas": null,
       "grid_template_columns": null,
       "grid_template_rows": null,
       "height": null,
       "justify_content": null,
       "justify_items": null,
       "left": null,
       "margin": null,
       "max_height": null,
       "max_width": null,
       "min_height": null,
       "min_width": null,
       "object_fit": null,
       "object_position": null,
       "order": null,
       "overflow": null,
       "overflow_x": null,
       "overflow_y": null,
       "padding": null,
       "right": null,
       "top": null,
       "visibility": null,
       "width": null
      }
     },
     "13baa087f732423cb2f3222fef327611": {
      "model_module": "@jupyter-widgets/base",
      "model_module_version": "1.2.0",
      "model_name": "LayoutModel",
      "state": {
       "_model_module": "@jupyter-widgets/base",
       "_model_module_version": "1.2.0",
       "_model_name": "LayoutModel",
       "_view_count": null,
       "_view_module": "@jupyter-widgets/base",
       "_view_module_version": "1.2.0",
       "_view_name": "LayoutView",
       "align_content": null,
       "align_items": null,
       "align_self": null,
       "border": null,
       "bottom": null,
       "display": null,
       "flex": null,
       "flex_flow": null,
       "grid_area": null,
       "grid_auto_columns": null,
       "grid_auto_flow": null,
       "grid_auto_rows": null,
       "grid_column": null,
       "grid_gap": null,
       "grid_row": null,
       "grid_template_areas": null,
       "grid_template_columns": null,
       "grid_template_rows": null,
       "height": null,
       "justify_content": null,
       "justify_items": null,
       "left": null,
       "margin": null,
       "max_height": null,
       "max_width": null,
       "min_height": null,
       "min_width": null,
       "object_fit": null,
       "object_position": null,
       "order": null,
       "overflow": null,
       "overflow_x": null,
       "overflow_y": null,
       "padding": null,
       "right": null,
       "top": null,
       "visibility": null,
       "width": null
      }
     },
     "1923c4abcd214b20826948f2eb4084e5": {
      "model_module": "@jupyter-widgets/controls",
      "model_module_version": "1.5.0",
      "model_name": "FloatProgressModel",
      "state": {
       "_dom_classes": [],
       "_model_module": "@jupyter-widgets/controls",
       "_model_module_version": "1.5.0",
       "_model_name": "FloatProgressModel",
       "_view_count": null,
       "_view_module": "@jupyter-widgets/controls",
       "_view_module_version": "1.5.0",
       "_view_name": "ProgressView",
       "bar_style": "success",
       "description": "",
       "description_tooltip": null,
       "layout": "IPY_MODEL_13baa087f732423cb2f3222fef327611",
       "max": 467.0,
       "min": 0.0,
       "orientation": "horizontal",
       "style": "IPY_MODEL_6a7df72fdf4b49a6955489c9b61ee97b",
       "value": 467.0
      }
     },
     "2438ebfd7f3f497ebfe67c59cd568ba3": {
      "model_module": "@jupyter-widgets/controls",
      "model_module_version": "1.5.0",
      "model_name": "DescriptionStyleModel",
      "state": {
       "_model_module": "@jupyter-widgets/controls",
       "_model_module_version": "1.5.0",
       "_model_name": "DescriptionStyleModel",
       "_view_count": null,
       "_view_module": "@jupyter-widgets/base",
       "_view_module_version": "1.2.0",
       "_view_name": "StyleView",
       "description_width": ""
      }
     },
     "2573bb1fd06a43e8acf1dac611d61132": {
      "model_module": "@jupyter-widgets/controls",
      "model_module_version": "1.5.0",
      "model_name": "HBoxModel",
      "state": {
       "_dom_classes": [],
       "_model_module": "@jupyter-widgets/controls",
       "_model_module_version": "1.5.0",
       "_model_name": "HBoxModel",
       "_view_count": null,
       "_view_module": "@jupyter-widgets/controls",
       "_view_module_version": "1.5.0",
       "_view_name": "HBoxView",
       "box_style": "",
       "children": [
        "IPY_MODEL_2b48577b9d3d4840b3a2eaac401372ed",
        "IPY_MODEL_a7ed92802ba145858800a9b46cc72c45",
        "IPY_MODEL_8195910b7a43499d88c78d8aef70218f"
       ],
       "layout": "IPY_MODEL_ce1b3faa9bf74e43a3299104c0db4db7"
      }
     },
     "2998f0a26b2e43dcb492235649c565de": {
      "model_module": "@jupyter-widgets/controls",
      "model_module_version": "1.5.0",
      "model_name": "DescriptionStyleModel",
      "state": {
       "_model_module": "@jupyter-widgets/controls",
       "_model_module_version": "1.5.0",
       "_model_name": "DescriptionStyleModel",
       "_view_count": null,
       "_view_module": "@jupyter-widgets/base",
       "_view_module_version": "1.2.0",
       "_view_name": "StyleView",
       "description_width": ""
      }
     },
     "2b48577b9d3d4840b3a2eaac401372ed": {
      "model_module": "@jupyter-widgets/controls",
      "model_module_version": "1.5.0",
      "model_name": "HTMLModel",
      "state": {
       "_dom_classes": [],
       "_model_module": "@jupyter-widgets/controls",
       "_model_module_version": "1.5.0",
       "_model_name": "HTMLModel",
       "_view_count": null,
       "_view_module": "@jupyter-widgets/controls",
       "_view_module_version": "1.5.0",
       "_view_name": "HTMLView",
       "description": "",
       "description_tooltip": null,
       "layout": "IPY_MODEL_1322eba7c5f74f09877857b01168b11b",
       "placeholder": "​",
       "style": "IPY_MODEL_47a22f0bda49425c930efba02bd74dbb",
       "value": "Downloading (…)solve/main/vocab.txt: 100%"
      }
     },
     "2c2590f5d16c407f9d7e69cc0bac3216": {
      "model_module": "@jupyter-widgets/base",
      "model_module_version": "1.2.0",
      "model_name": "LayoutModel",
      "state": {
       "_model_module": "@jupyter-widgets/base",
       "_model_module_version": "1.2.0",
       "_model_name": "LayoutModel",
       "_view_count": null,
       "_view_module": "@jupyter-widgets/base",
       "_view_module_version": "1.2.0",
       "_view_name": "LayoutView",
       "align_content": null,
       "align_items": null,
       "align_self": null,
       "border": null,
       "bottom": null,
       "display": null,
       "flex": null,
       "flex_flow": null,
       "grid_area": null,
       "grid_auto_columns": null,
       "grid_auto_flow": null,
       "grid_auto_rows": null,
       "grid_column": null,
       "grid_gap": null,
       "grid_row": null,
       "grid_template_areas": null,
       "grid_template_columns": null,
       "grid_template_rows": null,
       "height": null,
       "justify_content": null,
       "justify_items": null,
       "left": null,
       "margin": null,
       "max_height": null,
       "max_width": null,
       "min_height": null,
       "min_width": null,
       "object_fit": null,
       "object_position": null,
       "order": null,
       "overflow": null,
       "overflow_x": null,
       "overflow_y": null,
       "padding": null,
       "right": null,
       "top": null,
       "visibility": null,
       "width": null
      }
     },
     "47a22f0bda49425c930efba02bd74dbb": {
      "model_module": "@jupyter-widgets/controls",
      "model_module_version": "1.5.0",
      "model_name": "DescriptionStyleModel",
      "state": {
       "_model_module": "@jupyter-widgets/controls",
       "_model_module_version": "1.5.0",
       "_model_name": "DescriptionStyleModel",
       "_view_count": null,
       "_view_module": "@jupyter-widgets/base",
       "_view_module_version": "1.2.0",
       "_view_name": "StyleView",
       "description_width": ""
      }
     },
     "641c9e4babff408fb78196ee4646966f": {
      "model_module": "@jupyter-widgets/controls",
      "model_module_version": "1.5.0",
      "model_name": "ProgressStyleModel",
      "state": {
       "_model_module": "@jupyter-widgets/controls",
       "_model_module_version": "1.5.0",
       "_model_name": "ProgressStyleModel",
       "_view_count": null,
       "_view_module": "@jupyter-widgets/base",
       "_view_module_version": "1.2.0",
       "_view_name": "StyleView",
       "bar_color": null,
       "description_width": ""
      }
     },
     "6695fcd604374d9886ade6e7767e8d5f": {
      "model_module": "@jupyter-widgets/controls",
      "model_module_version": "1.5.0",
      "model_name": "DescriptionStyleModel",
      "state": {
       "_model_module": "@jupyter-widgets/controls",
       "_model_module_version": "1.5.0",
       "_model_name": "DescriptionStyleModel",
       "_view_count": null,
       "_view_module": "@jupyter-widgets/base",
       "_view_module_version": "1.2.0",
       "_view_name": "StyleView",
       "description_width": ""
      }
     },
     "69ba8b03770c477b94f19feb1c4dbfb8": {
      "model_module": "@jupyter-widgets/base",
      "model_module_version": "1.2.0",
      "model_name": "LayoutModel",
      "state": {
       "_model_module": "@jupyter-widgets/base",
       "_model_module_version": "1.2.0",
       "_model_name": "LayoutModel",
       "_view_count": null,
       "_view_module": "@jupyter-widgets/base",
       "_view_module_version": "1.2.0",
       "_view_name": "LayoutView",
       "align_content": null,
       "align_items": null,
       "align_self": null,
       "border": null,
       "bottom": null,
       "display": null,
       "flex": null,
       "flex_flow": null,
       "grid_area": null,
       "grid_auto_columns": null,
       "grid_auto_flow": null,
       "grid_auto_rows": null,
       "grid_column": null,
       "grid_gap": null,
       "grid_row": null,
       "grid_template_areas": null,
       "grid_template_columns": null,
       "grid_template_rows": null,
       "height": null,
       "justify_content": null,
       "justify_items": null,
       "left": null,
       "margin": null,
       "max_height": null,
       "max_width": null,
       "min_height": null,
       "min_width": null,
       "object_fit": null,
       "object_position": null,
       "order": null,
       "overflow": null,
       "overflow_x": null,
       "overflow_y": null,
       "padding": null,
       "right": null,
       "top": null,
       "visibility": null,
       "width": null
      }
     },
     "6a7df72fdf4b49a6955489c9b61ee97b": {
      "model_module": "@jupyter-widgets/controls",
      "model_module_version": "1.5.0",
      "model_name": "ProgressStyleModel",
      "state": {
       "_model_module": "@jupyter-widgets/controls",
       "_model_module_version": "1.5.0",
       "_model_name": "ProgressStyleModel",
       "_view_count": null,
       "_view_module": "@jupyter-widgets/base",
       "_view_module_version": "1.2.0",
       "_view_name": "StyleView",
       "bar_color": null,
       "description_width": ""
      }
     },
     "8195910b7a43499d88c78d8aef70218f": {
      "model_module": "@jupyter-widgets/controls",
      "model_module_version": "1.5.0",
      "model_name": "HTMLModel",
      "state": {
       "_dom_classes": [],
       "_model_module": "@jupyter-widgets/controls",
       "_model_module_version": "1.5.0",
       "_model_name": "HTMLModel",
       "_view_count": null,
       "_view_module": "@jupyter-widgets/controls",
       "_view_module_version": "1.5.0",
       "_view_name": "HTMLView",
       "description": "",
       "description_tooltip": null,
       "layout": "IPY_MODEL_baedcf3346674b3eb35e194bb36e9e84",
       "placeholder": "​",
       "style": "IPY_MODEL_0f7d75a06fee4d5c9c244de4698852e9",
       "value": " 378k/378k [00:00&lt;00:00, 6.94MB/s]"
      }
     },
     "82be796adb6a4205803340f91936c66b": {
      "model_module": "@jupyter-widgets/controls",
      "model_module_version": "1.5.0",
      "model_name": "HBoxModel",
      "state": {
       "_dom_classes": [],
       "_model_module": "@jupyter-widgets/controls",
       "_model_module_version": "1.5.0",
       "_model_name": "HBoxModel",
       "_view_count": null,
       "_view_module": "@jupyter-widgets/controls",
       "_view_module_version": "1.5.0",
       "_view_name": "HBoxView",
       "box_style": "",
       "children": [
        "IPY_MODEL_9bddfb4cf2c94ae0ba26d46ee0982cfd",
        "IPY_MODEL_1923c4abcd214b20826948f2eb4084e5",
        "IPY_MODEL_b5af23fd2ab8420295050219c733d79e"
       ],
       "layout": "IPY_MODEL_9d1ae2a85e5d4a5ca64d7dc9bd6b4726"
      }
     },
     "87706b38d53640dca7bc3fb9adcd2bb0": {
      "model_module": "@jupyter-widgets/controls",
      "model_module_version": "1.5.0",
      "model_name": "DescriptionStyleModel",
      "state": {
       "_model_module": "@jupyter-widgets/controls",
       "_model_module_version": "1.5.0",
       "_model_name": "DescriptionStyleModel",
       "_view_count": null,
       "_view_module": "@jupyter-widgets/base",
       "_view_module_version": "1.2.0",
       "_view_name": "StyleView",
       "description_width": ""
      }
     },
     "8f7682216ed948f08d231a3af7888db6": {
      "model_module": "@jupyter-widgets/controls",
      "model_module_version": "1.5.0",
      "model_name": "FloatProgressModel",
      "state": {
       "_dom_classes": [],
       "_model_module": "@jupyter-widgets/controls",
       "_model_module_version": "1.5.0",
       "_model_name": "FloatProgressModel",
       "_view_count": null,
       "_view_module": "@jupyter-widgets/controls",
       "_view_module_version": "1.5.0",
       "_view_name": "ProgressView",
       "bar_style": "success",
       "description": "",
       "description_tooltip": null,
       "layout": "IPY_MODEL_e315a17141074b10b5d52881cdab3182",
       "max": 336396808.0,
       "min": 0.0,
       "orientation": "horizontal",
       "style": "IPY_MODEL_eeca8b365f024e4e9dacc6a7973c57df",
       "value": 336396808.0
      }
     },
     "95a83ca219e44cc1a1c6d840d3b23f50": {
      "model_module": "@jupyter-widgets/controls",
      "model_module_version": "1.5.0",
      "model_name": "HTMLModel",
      "state": {
       "_dom_classes": [],
       "_model_module": "@jupyter-widgets/controls",
       "_model_module_version": "1.5.0",
       "_model_name": "HTMLModel",
       "_view_count": null,
       "_view_module": "@jupyter-widgets/controls",
       "_view_module_version": "1.5.0",
       "_view_name": "HTMLView",
       "description": "",
       "description_tooltip": null,
       "layout": "IPY_MODEL_bf88f087990b42e3a9235164e703f30a",
       "placeholder": "​",
       "style": "IPY_MODEL_2438ebfd7f3f497ebfe67c59cd568ba3",
       "value": " 336M/336M [00:01&lt;00:00, 219MB/s]"
      }
     },
     "9bddfb4cf2c94ae0ba26d46ee0982cfd": {
      "model_module": "@jupyter-widgets/controls",
      "model_module_version": "1.5.0",
      "model_name": "HTMLModel",
      "state": {
       "_dom_classes": [],
       "_model_module": "@jupyter-widgets/controls",
       "_model_module_version": "1.5.0",
       "_model_name": "HTMLModel",
       "_view_count": null,
       "_view_module": "@jupyter-widgets/controls",
       "_view_module_version": "1.5.0",
       "_view_name": "HTMLView",
       "description": "",
       "description_tooltip": null,
       "layout": "IPY_MODEL_2c2590f5d16c407f9d7e69cc0bac3216",
       "placeholder": "​",
       "style": "IPY_MODEL_87706b38d53640dca7bc3fb9adcd2bb0",
       "value": "Downloading (…)lve/main/config.json: 100%"
      }
     },
     "9d1ae2a85e5d4a5ca64d7dc9bd6b4726": {
      "model_module": "@jupyter-widgets/base",
      "model_module_version": "1.2.0",
      "model_name": "LayoutModel",
      "state": {
       "_model_module": "@jupyter-widgets/base",
       "_model_module_version": "1.2.0",
       "_model_name": "LayoutModel",
       "_view_count": null,
       "_view_module": "@jupyter-widgets/base",
       "_view_module_version": "1.2.0",
       "_view_name": "LayoutView",
       "align_content": null,
       "align_items": null,
       "align_self": null,
       "border": null,
       "bottom": null,
       "display": null,
       "flex": null,
       "flex_flow": null,
       "grid_area": null,
       "grid_auto_columns": null,
       "grid_auto_flow": null,
       "grid_auto_rows": null,
       "grid_column": null,
       "grid_gap": null,
       "grid_row": null,
       "grid_template_areas": null,
       "grid_template_columns": null,
       "grid_template_rows": null,
       "height": null,
       "justify_content": null,
       "justify_items": null,
       "left": null,
       "margin": null,
       "max_height": null,
       "max_width": null,
       "min_height": null,
       "min_width": null,
       "object_fit": null,
       "object_position": null,
       "order": null,
       "overflow": null,
       "overflow_x": null,
       "overflow_y": null,
       "padding": null,
       "right": null,
       "top": null,
       "visibility": null,
       "width": null
      }
     },
     "a7ed92802ba145858800a9b46cc72c45": {
      "model_module": "@jupyter-widgets/controls",
      "model_module_version": "1.5.0",
      "model_name": "FloatProgressModel",
      "state": {
       "_dom_classes": [],
       "_model_module": "@jupyter-widgets/controls",
       "_model_module_version": "1.5.0",
       "_model_name": "FloatProgressModel",
       "_view_count": null,
       "_view_module": "@jupyter-widgets/controls",
       "_view_module_version": "1.5.0",
       "_view_name": "ProgressView",
       "bar_style": "success",
       "description": "",
       "description_tooltip": null,
       "layout": "IPY_MODEL_cf0f6cc01d7d4b6eaf5e97ad8b7a2e68",
       "max": 378000.0,
       "min": 0.0,
       "orientation": "horizontal",
       "style": "IPY_MODEL_641c9e4babff408fb78196ee4646966f",
       "value": 378000.0
      }
     },
     "ad7eee76151748679729a5da851b68a8": {
      "model_module": "@jupyter-widgets/base",
      "model_module_version": "1.2.0",
      "model_name": "LayoutModel",
      "state": {
       "_model_module": "@jupyter-widgets/base",
       "_model_module_version": "1.2.0",
       "_model_name": "LayoutModel",
       "_view_count": null,
       "_view_module": "@jupyter-widgets/base",
       "_view_module_version": "1.2.0",
       "_view_name": "LayoutView",
       "align_content": null,
       "align_items": null,
       "align_self": null,
       "border": null,
       "bottom": null,
       "display": null,
       "flex": null,
       "flex_flow": null,
       "grid_area": null,
       "grid_auto_columns": null,
       "grid_auto_flow": null,
       "grid_auto_rows": null,
       "grid_column": null,
       "grid_gap": null,
       "grid_row": null,
       "grid_template_areas": null,
       "grid_template_columns": null,
       "grid_template_rows": null,
       "height": null,
       "justify_content": null,
       "justify_items": null,
       "left": null,
       "margin": null,
       "max_height": null,
       "max_width": null,
       "min_height": null,
       "min_width": null,
       "object_fit": null,
       "object_position": null,
       "order": null,
       "overflow": null,
       "overflow_x": null,
       "overflow_y": null,
       "padding": null,
       "right": null,
       "top": null,
       "visibility": null,
       "width": null
      }
     },
     "b5af23fd2ab8420295050219c733d79e": {
      "model_module": "@jupyter-widgets/controls",
      "model_module_version": "1.5.0",
      "model_name": "HTMLModel",
      "state": {
       "_dom_classes": [],
       "_model_module": "@jupyter-widgets/controls",
       "_model_module_version": "1.5.0",
       "_model_name": "HTMLModel",
       "_view_count": null,
       "_view_module": "@jupyter-widgets/controls",
       "_view_module_version": "1.5.0",
       "_view_name": "HTMLView",
       "description": "",
       "description_tooltip": null,
       "layout": "IPY_MODEL_ad7eee76151748679729a5da851b68a8",
       "placeholder": "​",
       "style": "IPY_MODEL_2998f0a26b2e43dcb492235649c565de",
       "value": " 467/467 [00:00&lt;00:00, 36.1kB/s]"
      }
     },
     "baedcf3346674b3eb35e194bb36e9e84": {
      "model_module": "@jupyter-widgets/base",
      "model_module_version": "1.2.0",
      "model_name": "LayoutModel",
      "state": {
       "_model_module": "@jupyter-widgets/base",
       "_model_module_version": "1.2.0",
       "_model_name": "LayoutModel",
       "_view_count": null,
       "_view_module": "@jupyter-widgets/base",
       "_view_module_version": "1.2.0",
       "_view_name": "LayoutView",
       "align_content": null,
       "align_items": null,
       "align_self": null,
       "border": null,
       "bottom": null,
       "display": null,
       "flex": null,
       "flex_flow": null,
       "grid_area": null,
       "grid_auto_columns": null,
       "grid_auto_flow": null,
       "grid_auto_rows": null,
       "grid_column": null,
       "grid_gap": null,
       "grid_row": null,
       "grid_template_areas": null,
       "grid_template_columns": null,
       "grid_template_rows": null,
       "height": null,
       "justify_content": null,
       "justify_items": null,
       "left": null,
       "margin": null,
       "max_height": null,
       "max_width": null,
       "min_height": null,
       "min_width": null,
       "object_fit": null,
       "object_position": null,
       "order": null,
       "overflow": null,
       "overflow_x": null,
       "overflow_y": null,
       "padding": null,
       "right": null,
       "top": null,
       "visibility": null,
       "width": null
      }
     },
     "bf88f087990b42e3a9235164e703f30a": {
      "model_module": "@jupyter-widgets/base",
      "model_module_version": "1.2.0",
      "model_name": "LayoutModel",
      "state": {
       "_model_module": "@jupyter-widgets/base",
       "_model_module_version": "1.2.0",
       "_model_name": "LayoutModel",
       "_view_count": null,
       "_view_module": "@jupyter-widgets/base",
       "_view_module_version": "1.2.0",
       "_view_name": "LayoutView",
       "align_content": null,
       "align_items": null,
       "align_self": null,
       "border": null,
       "bottom": null,
       "display": null,
       "flex": null,
       "flex_flow": null,
       "grid_area": null,
       "grid_auto_columns": null,
       "grid_auto_flow": null,
       "grid_auto_rows": null,
       "grid_column": null,
       "grid_gap": null,
       "grid_row": null,
       "grid_template_areas": null,
       "grid_template_columns": null,
       "grid_template_rows": null,
       "height": null,
       "justify_content": null,
       "justify_items": null,
       "left": null,
       "margin": null,
       "max_height": null,
       "max_width": null,
       "min_height": null,
       "min_width": null,
       "object_fit": null,
       "object_position": null,
       "order": null,
       "overflow": null,
       "overflow_x": null,
       "overflow_y": null,
       "padding": null,
       "right": null,
       "top": null,
       "visibility": null,
       "width": null
      }
     },
     "ce1b3faa9bf74e43a3299104c0db4db7": {
      "model_module": "@jupyter-widgets/base",
      "model_module_version": "1.2.0",
      "model_name": "LayoutModel",
      "state": {
       "_model_module": "@jupyter-widgets/base",
       "_model_module_version": "1.2.0",
       "_model_name": "LayoutModel",
       "_view_count": null,
       "_view_module": "@jupyter-widgets/base",
       "_view_module_version": "1.2.0",
       "_view_name": "LayoutView",
       "align_content": null,
       "align_items": null,
       "align_self": null,
       "border": null,
       "bottom": null,
       "display": null,
       "flex": null,
       "flex_flow": null,
       "grid_area": null,
       "grid_auto_columns": null,
       "grid_auto_flow": null,
       "grid_auto_rows": null,
       "grid_column": null,
       "grid_gap": null,
       "grid_row": null,
       "grid_template_areas": null,
       "grid_template_columns": null,
       "grid_template_rows": null,
       "height": null,
       "justify_content": null,
       "justify_items": null,
       "left": null,
       "margin": null,
       "max_height": null,
       "max_width": null,
       "min_height": null,
       "min_width": null,
       "object_fit": null,
       "object_position": null,
       "order": null,
       "overflow": null,
       "overflow_x": null,
       "overflow_y": null,
       "padding": null,
       "right": null,
       "top": null,
       "visibility": null,
       "width": null
      }
     },
     "cf0f6cc01d7d4b6eaf5e97ad8b7a2e68": {
      "model_module": "@jupyter-widgets/base",
      "model_module_version": "1.2.0",
      "model_name": "LayoutModel",
      "state": {
       "_model_module": "@jupyter-widgets/base",
       "_model_module_version": "1.2.0",
       "_model_name": "LayoutModel",
       "_view_count": null,
       "_view_module": "@jupyter-widgets/base",
       "_view_module_version": "1.2.0",
       "_view_name": "LayoutView",
       "align_content": null,
       "align_items": null,
       "align_self": null,
       "border": null,
       "bottom": null,
       "display": null,
       "flex": null,
       "flex_flow": null,
       "grid_area": null,
       "grid_auto_columns": null,
       "grid_auto_flow": null,
       "grid_auto_rows": null,
       "grid_column": null,
       "grid_gap": null,
       "grid_row": null,
       "grid_template_areas": null,
       "grid_template_columns": null,
       "grid_template_rows": null,
       "height": null,
       "justify_content": null,
       "justify_items": null,
       "left": null,
       "margin": null,
       "max_height": null,
       "max_width": null,
       "min_height": null,
       "min_width": null,
       "object_fit": null,
       "object_position": null,
       "order": null,
       "overflow": null,
       "overflow_x": null,
       "overflow_y": null,
       "padding": null,
       "right": null,
       "top": null,
       "visibility": null,
       "width": null
      }
     },
     "e315a17141074b10b5d52881cdab3182": {
      "model_module": "@jupyter-widgets/base",
      "model_module_version": "1.2.0",
      "model_name": "LayoutModel",
      "state": {
       "_model_module": "@jupyter-widgets/base",
       "_model_module_version": "1.2.0",
       "_model_name": "LayoutModel",
       "_view_count": null,
       "_view_module": "@jupyter-widgets/base",
       "_view_module_version": "1.2.0",
       "_view_name": "LayoutView",
       "align_content": null,
       "align_items": null,
       "align_self": null,
       "border": null,
       "bottom": null,
       "display": null,
       "flex": null,
       "flex_flow": null,
       "grid_area": null,
       "grid_auto_columns": null,
       "grid_auto_flow": null,
       "grid_auto_rows": null,
       "grid_column": null,
       "grid_gap": null,
       "grid_row": null,
       "grid_template_areas": null,
       "grid_template_columns": null,
       "grid_template_rows": null,
       "height": null,
       "justify_content": null,
       "justify_items": null,
       "left": null,
       "margin": null,
       "max_height": null,
       "max_width": null,
       "min_height": null,
       "min_width": null,
       "object_fit": null,
       "object_position": null,
       "order": null,
       "overflow": null,
       "overflow_x": null,
       "overflow_y": null,
       "padding": null,
       "right": null,
       "top": null,
       "visibility": null,
       "width": null
      }
     },
     "eeca8b365f024e4e9dacc6a7973c57df": {
      "model_module": "@jupyter-widgets/controls",
      "model_module_version": "1.5.0",
      "model_name": "ProgressStyleModel",
      "state": {
       "_model_module": "@jupyter-widgets/controls",
       "_model_module_version": "1.5.0",
       "_model_name": "ProgressStyleModel",
       "_view_count": null,
       "_view_module": "@jupyter-widgets/base",
       "_view_module_version": "1.2.0",
       "_view_name": "StyleView",
       "bar_color": null,
       "description_width": ""
      }
     }
    },
    "version_major": 2,
    "version_minor": 0
   }
  }
 },
 "nbformat": 4,
 "nbformat_minor": 5
}
