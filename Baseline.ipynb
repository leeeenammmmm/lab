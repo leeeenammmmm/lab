{
  "nbformat": 4,
  "nbformat_minor": 0,
  "metadata": {
    "colab": {
      "provenance": [],
      "authorship_tag": "ABX9TyPMlKnOCPGrpdORqWUOOYwW",
      "include_colab_link": true
    },
    "kernelspec": {
      "name": "python3",
      "display_name": "Python 3"
    },
    "language_info": {
      "name": "python"
    },
    "accelerator": "TPU"
  },
  "cells": [
    {
      "cell_type": "markdown",
      "metadata": {
        "id": "view-in-github",
        "colab_type": "text"
      },
      "source": [
        "<a href=\"https://colab.research.google.com/github/leeeenammmmm/lab/blob/main/Baseline.ipynb\" target=\"_parent\"><img src=\"https://colab.research.google.com/assets/colab-badge.svg\" alt=\"Open In Colab\"/></a>"
      ]
    },
    {
      "cell_type": "code",
      "execution_count": 1,
      "metadata": {
        "colab": {
          "base_uri": "https://localhost:8080/"
        },
        "id": "rYxFzBmN7pF3",
        "outputId": "4705cd84-b928-4495-c96a-3b0f106898d3"
      },
      "outputs": [
        {
          "output_type": "stream",
          "name": "stderr",
          "text": [
            "[nltk_data] Downloading package punkt to /root/nltk_data...\n",
            "[nltk_data]   Unzipping tokenizers/punkt.zip.\n",
            "[nltk_data] Downloading package averaged_perceptron_tagger to\n",
            "[nltk_data]     /root/nltk_data...\n",
            "[nltk_data]   Unzipping taggers/averaged_perceptron_tagger.zip.\n",
            "[nltk_data] Downloading package wordnet to /root/nltk_data...\n"
          ]
        }
      ],
      "source": [
        "import pandas as pd\n",
        "import numpy as np\n",
        "\n",
        "import seaborn as sns\n",
        "import matplotlib.pyplot as plt\n",
        "\n",
        "#for text pre-processing\n",
        "import re, string\n",
        "import nltk\n",
        "from nltk.tokenize import word_tokenize\n",
        "from nltk.corpus import stopwords\n",
        "from nltk.tokenize import word_tokenize\n",
        "from nltk.stem import SnowballStemmer\n",
        "from nltk.corpus import wordnet\n",
        "from nltk.stem import WordNetLemmatizer\n",
        "\n",
        "nltk.download('punkt')\n",
        "nltk.download('averaged_perceptron_tagger')\n",
        "nltk.download('wordnet')\n",
        "\n",
        "#for model-building\n",
        "from sklearn.model_selection import train_test_split\n",
        "from sklearn.linear_model import LogisticRegression\n",
        "from sklearn.linear_model import SGDClassifier\n",
        "from sklearn.naive_bayes import MultinomialNB\n",
        "from sklearn.metrics import classification_report, f1_score, accuracy_score, confusion_matrix\n",
        "from sklearn.metrics import roc_curve, auc, roc_auc_score\n",
        "\n",
        "# bag of words\n",
        "from sklearn.feature_extraction.text import TfidfVectorizer\n",
        "from sklearn.feature_extraction.text import CountVectorizer\n",
        "\n",
        "#for word embedding\n",
        "import gensim\n",
        "from gensim.models import Word2Vec #Word2Vec is mostly used for huge datasets"
      ]
    },
    {
      "cell_type": "code",
      "source": [
        "\n",
        "from google.colab import drive\n",
        "drive.mount('/content/drive')"
      ],
      "metadata": {
        "colab": {
          "base_uri": "https://localhost:8080/"
        },
        "id": "0YxSxlHv8BGt",
        "outputId": "679ea470-8c2f-4e39-dc26-d005371f7f27"
      },
      "execution_count": 2,
      "outputs": [
        {
          "output_type": "stream",
          "name": "stdout",
          "text": [
            "Mounted at /content/drive\n"
          ]
        }
      ]
    },
    {
      "cell_type": "code",
      "source": [
        "%cd /content/drive/MyDrive/Code_Injection_Dataset"
      ],
      "metadata": {
        "colab": {
          "base_uri": "https://localhost:8080/"
        },
        "id": "XO5K6NiF8BJ5",
        "outputId": "42776669-484e-4d52-cb62-3ee7ebc942cb"
      },
      "execution_count": 3,
      "outputs": [
        {
          "output_type": "stream",
          "name": "stdout",
          "text": [
            "/content/drive/MyDrive/Code_Injection_Dataset\n"
          ]
        }
      ]
    },
    {
      "cell_type": "code",
      "source": [
        "df_train = pd.read_csv('dataset_capec.csv')\n",
        "df_train.head()"
      ],
      "metadata": {
        "colab": {
          "base_uri": "https://localhost:8080/",
          "height": 206
        },
        "id": "d8jkiQHs8BOH",
        "outputId": "1ee98216-0038-4f86-8bb7-6fb3b1d4381d"
      },
      "execution_count": 4,
      "outputs": [
        {
          "output_type": "execute_result",
          "data": {
            "text/plain": [
              "                                                text         label\n",
              "0  GET /blog/index.php/2020/04/04/voluptatum-repr...  000 - Normal\n",
              "1                           GET /blog/xmlrpc.php?rsd  000 - Normal\n",
              "2  GET /blog/index.php/2020/04/04/nihil-tenetur-e...  000 - Normal\n",
              "3  GET /blog/index.php/2020/04/04/explicabo-qui-f...  000 - Normal\n",
              "4  GET /blog/index.php/2020/04/04/explicabo-qui-f...  000 - Normal"
            ],
            "text/html": [
              "\n",
              "  <div id=\"df-38cdcae4-aee1-45f5-aaed-fc793d520fca\">\n",
              "    <div class=\"colab-df-container\">\n",
              "      <div>\n",
              "<style scoped>\n",
              "    .dataframe tbody tr th:only-of-type {\n",
              "        vertical-align: middle;\n",
              "    }\n",
              "\n",
              "    .dataframe tbody tr th {\n",
              "        vertical-align: top;\n",
              "    }\n",
              "\n",
              "    .dataframe thead th {\n",
              "        text-align: right;\n",
              "    }\n",
              "</style>\n",
              "<table border=\"1\" class=\"dataframe\">\n",
              "  <thead>\n",
              "    <tr style=\"text-align: right;\">\n",
              "      <th></th>\n",
              "      <th>text</th>\n",
              "      <th>label</th>\n",
              "    </tr>\n",
              "  </thead>\n",
              "  <tbody>\n",
              "    <tr>\n",
              "      <th>0</th>\n",
              "      <td>GET /blog/index.php/2020/04/04/voluptatum-repr...</td>\n",
              "      <td>000 - Normal</td>\n",
              "    </tr>\n",
              "    <tr>\n",
              "      <th>1</th>\n",
              "      <td>GET /blog/xmlrpc.php?rsd</td>\n",
              "      <td>000 - Normal</td>\n",
              "    </tr>\n",
              "    <tr>\n",
              "      <th>2</th>\n",
              "      <td>GET /blog/index.php/2020/04/04/nihil-tenetur-e...</td>\n",
              "      <td>000 - Normal</td>\n",
              "    </tr>\n",
              "    <tr>\n",
              "      <th>3</th>\n",
              "      <td>GET /blog/index.php/2020/04/04/explicabo-qui-f...</td>\n",
              "      <td>000 - Normal</td>\n",
              "    </tr>\n",
              "    <tr>\n",
              "      <th>4</th>\n",
              "      <td>GET /blog/index.php/2020/04/04/explicabo-qui-f...</td>\n",
              "      <td>000 - Normal</td>\n",
              "    </tr>\n",
              "  </tbody>\n",
              "</table>\n",
              "</div>\n",
              "      <button class=\"colab-df-convert\" onclick=\"convertToInteractive('df-38cdcae4-aee1-45f5-aaed-fc793d520fca')\"\n",
              "              title=\"Convert this dataframe to an interactive table.\"\n",
              "              style=\"display:none;\">\n",
              "        \n",
              "  <svg xmlns=\"http://www.w3.org/2000/svg\" height=\"24px\"viewBox=\"0 0 24 24\"\n",
              "       width=\"24px\">\n",
              "    <path d=\"M0 0h24v24H0V0z\" fill=\"none\"/>\n",
              "    <path d=\"M18.56 5.44l.94 2.06.94-2.06 2.06-.94-2.06-.94-.94-2.06-.94 2.06-2.06.94zm-11 1L8.5 8.5l.94-2.06 2.06-.94-2.06-.94L8.5 2.5l-.94 2.06-2.06.94zm10 10l.94 2.06.94-2.06 2.06-.94-2.06-.94-.94-2.06-.94 2.06-2.06.94z\"/><path d=\"M17.41 7.96l-1.37-1.37c-.4-.4-.92-.59-1.43-.59-.52 0-1.04.2-1.43.59L10.3 9.45l-7.72 7.72c-.78.78-.78 2.05 0 2.83L4 21.41c.39.39.9.59 1.41.59.51 0 1.02-.2 1.41-.59l7.78-7.78 2.81-2.81c.8-.78.8-2.07 0-2.86zM5.41 20L4 18.59l7.72-7.72 1.47 1.35L5.41 20z\"/>\n",
              "  </svg>\n",
              "      </button>\n",
              "      \n",
              "  <style>\n",
              "    .colab-df-container {\n",
              "      display:flex;\n",
              "      flex-wrap:wrap;\n",
              "      gap: 12px;\n",
              "    }\n",
              "\n",
              "    .colab-df-convert {\n",
              "      background-color: #E8F0FE;\n",
              "      border: none;\n",
              "      border-radius: 50%;\n",
              "      cursor: pointer;\n",
              "      display: none;\n",
              "      fill: #1967D2;\n",
              "      height: 32px;\n",
              "      padding: 0 0 0 0;\n",
              "      width: 32px;\n",
              "    }\n",
              "\n",
              "    .colab-df-convert:hover {\n",
              "      background-color: #E2EBFA;\n",
              "      box-shadow: 0px 1px 2px rgba(60, 64, 67, 0.3), 0px 1px 3px 1px rgba(60, 64, 67, 0.15);\n",
              "      fill: #174EA6;\n",
              "    }\n",
              "\n",
              "    [theme=dark] .colab-df-convert {\n",
              "      background-color: #3B4455;\n",
              "      fill: #D2E3FC;\n",
              "    }\n",
              "\n",
              "    [theme=dark] .colab-df-convert:hover {\n",
              "      background-color: #434B5C;\n",
              "      box-shadow: 0px 1px 3px 1px rgba(0, 0, 0, 0.15);\n",
              "      filter: drop-shadow(0px 1px 2px rgba(0, 0, 0, 0.3));\n",
              "      fill: #FFFFFF;\n",
              "    }\n",
              "  </style>\n",
              "\n",
              "      <script>\n",
              "        const buttonEl =\n",
              "          document.querySelector('#df-38cdcae4-aee1-45f5-aaed-fc793d520fca button.colab-df-convert');\n",
              "        buttonEl.style.display =\n",
              "          google.colab.kernel.accessAllowed ? 'block' : 'none';\n",
              "\n",
              "        async function convertToInteractive(key) {\n",
              "          const element = document.querySelector('#df-38cdcae4-aee1-45f5-aaed-fc793d520fca');\n",
              "          const dataTable =\n",
              "            await google.colab.kernel.invokeFunction('convertToInteractive',\n",
              "                                                     [key], {});\n",
              "          if (!dataTable) return;\n",
              "\n",
              "          const docLinkHtml = 'Like what you see? Visit the ' +\n",
              "            '<a target=\"_blank\" href=https://colab.research.google.com/notebooks/data_table.ipynb>data table notebook</a>'\n",
              "            + ' to learn more about interactive tables.';\n",
              "          element.innerHTML = '';\n",
              "          dataTable['output_type'] = 'display_data';\n",
              "          await google.colab.output.renderOutput(dataTable, element);\n",
              "          const docLink = document.createElement('div');\n",
              "          docLink.innerHTML = docLinkHtml;\n",
              "          element.appendChild(docLink);\n",
              "        }\n",
              "      </script>\n",
              "    </div>\n",
              "  </div>\n",
              "  "
            ]
          },
          "metadata": {},
          "execution_count": 4
        }
      ]
    },
    {
      "cell_type": "code",
      "source": [
        "# CLASS DISTRIBUTION\n",
        "#if dataset is balanced or not\n",
        "x=df_train['label'].value_counts()\n",
        "print(x)\n",
        "sns.barplot(x = x.index, y = x)\n",
        "plt.xticks(rotation=90)"
      ],
      "metadata": {
        "colab": {
          "base_uri": "https://localhost:8080/",
          "height": 1000
        },
        "id": "r39cLRDq8inY",
        "outputId": "79e193fe-8d49-4a2c-ea4a-4f9db8e909b3"
      },
      "execution_count": 5,
      "outputs": [
        {
          "output_type": "stream",
          "name": "stdout",
          "text": [
            "66 - SQL Injection                        248093\n",
            "000 - Normal                              226509\n",
            "194 - Fake the Source of Data              55982\n",
            "34 - HTTP Response Splitting               19134\n",
            "126 - Path Traversal                       17595\n",
            "242 - Code Injection                       13792\n",
            "272 - Protocol Manipulation                 6924\n",
            "310 - Scanning for Vulnerable Software      2382\n",
            "153 - Input Data Manipulation               1387\n",
            "Name: label, dtype: int64\n"
          ]
        },
        {
          "output_type": "execute_result",
          "data": {
            "text/plain": [
              "(array([0, 1, 2, 3, 4, 5, 6, 7, 8]),\n",
              " [Text(0, 0, '66 - SQL Injection'),\n",
              "  Text(1, 0, '000 - Normal'),\n",
              "  Text(2, 0, '194 - Fake the Source of Data'),\n",
              "  Text(3, 0, '34 - HTTP Response Splitting'),\n",
              "  Text(4, 0, '126 - Path Traversal'),\n",
              "  Text(5, 0, '242 - Code Injection'),\n",
              "  Text(6, 0, '272 - Protocol Manipulation'),\n",
              "  Text(7, 0, '310 - Scanning for Vulnerable Software'),\n",
              "  Text(8, 0, '153 - Input Data Manipulation')])"
            ]
          },
          "metadata": {},
          "execution_count": 5
        },
        {
          "output_type": "display_data",
          "data": {
            "text/plain": [
              "<Figure size 640x480 with 1 Axes>"
            ],
            "image/png": "[encoded data removed]"
          },
          "metadata": {}
        }
      ]
    },
    {
      "cell_type": "code",
      "source": [
        "from sklearn.feature_extraction.text import CountVectorizer, TfidfVectorizer\n",
        "import numpy as np\n",
        "import json\n",
        "\n",
        "\n",
        "class Vectorizer:\n",
        "    def __init__(self, method='BOW', ngram_range=(1, 1), max_features=300, emb_fname='', word_index_fname=''):\n",
        "        self.method = method\n",
        "        if self.method == 'BOW':\n",
        "            self.vectorizer = CountVectorizer(analyzer='word', input='content', ngram_range=ngram_range, max_features=max_features)\n",
        "        elif self.method == 'TFIDF':\n",
        "            self.vectorizer = TfidfVectorizer(analyzer='word', input='content', max_features=max_features)\n",
        "        elif self.method == 'Word2Vec':\n",
        "            self.max_features = max_features\n",
        "            self.emb_fname = emb_fname\n",
        "            self.word_index_fname = word_index_fname\n",
        "        else:\n",
        "            raise ValueError('Feature extraction method does not exist.')\n",
        "\n",
        "    def feature_extraction(self, X_train, X_test):\n",
        "        train_data = self.vectorizer.fit_transform(X_train).toarray()\n",
        "        test_data = self.vectorizer.transform(X_test).toarray()\n",
        "        return train_data, test_data\n",
        "\n",
        "    def get_word_index(self):\n",
        "        word2id = json.load(open(self.word_index_fname, 'r'))\n",
        "        return word2id\n",
        "\n",
        "    def get_embedding_matrix(self):\n",
        "        np.random.seed(0)\n",
        "        word2id = self.get_word_index()\n",
        "        embedding_matrix = np.random.uniform(-0.25, 0.25, [len(word2id) + 1, self.max_features])\n",
        "        with open(self.emb_fname, 'r', encoding='utf-8') as f:\n",
        "            for line in f:\n",
        "                content = line.split(' ')\n",
        "                if content[0] in word2id:\n",
        "                    embedding_matrix[word2id[content[0]]] = np.array(list(map(float, content[1:])))\n",
        "        return embedding_matrix"
      ],
      "metadata": {
        "id": "9NtQNF-28iu6"
      },
      "execution_count": 6,
      "outputs": []
    },
    {
      "cell_type": "code",
      "source": [
        "# Optional (not effect very much)\n",
        "df_train['text'] = df_train['text'].str.replace('/',' ')\n",
        "df_train.head()\n"
      ],
      "metadata": {
        "colab": {
          "base_uri": "https://localhost:8080/",
          "height": 206
        },
        "id": "HAvf8lRY8ixo",
        "outputId": "38eedf35-0843-461f-9b43-51de4e8b6886"
      },
      "execution_count": 7,
      "outputs": [
        {
          "output_type": "execute_result",
          "data": {
            "text/plain": [
              "                                                text         label\n",
              "0  GET  blog index.php 2020 04 04 voluptatum-repr...  000 - Normal\n",
              "1                           GET  blog xmlrpc.php?rsd  000 - Normal\n",
              "2  GET  blog index.php 2020 04 04 nihil-tenetur-e...  000 - Normal\n",
              "3  GET  blog index.php 2020 04 04 explicabo-qui-f...  000 - Normal\n",
              "4  GET  blog index.php 2020 04 04 explicabo-qui-f...  000 - Normal"
            ],
            "text/html": [
              "\n",
              "  <div id=\"df-232f1dc3-c728-453b-ae91-95e73915a16f\">\n",
              "    <div class=\"colab-df-container\">\n",
              "      <div>\n",
              "<style scoped>\n",
              "    .dataframe tbody tr th:only-of-type {\n",
              "        vertical-align: middle;\n",
              "    }\n",
              "\n",
              "    .dataframe tbody tr th {\n",
              "        vertical-align: top;\n",
              "    }\n",
              "\n",
              "    .dataframe thead th {\n",
              "        text-align: right;\n",
              "    }\n",
              "</style>\n",
              "<table border=\"1\" class=\"dataframe\">\n",
              "  <thead>\n",
              "    <tr style=\"text-align: right;\">\n",
              "      <th></th>\n",
              "      <th>text</th>\n",
              "      <th>label</th>\n",
              "    </tr>\n",
              "  </thead>\n",
              "  <tbody>\n",
              "    <tr>\n",
              "      <th>0</th>\n",
              "      <td>GET  blog index.php 2020 04 04 voluptatum-repr...</td>\n",
              "      <td>000 - Normal</td>\n",
              "    </tr>\n",
              "    <tr>\n",
              "      <th>1</th>\n",
              "      <td>GET  blog xmlrpc.php?rsd</td>\n",
              "      <td>000 - Normal</td>\n",
              "    </tr>\n",
              "    <tr>\n",
              "      <th>2</th>\n",
              "      <td>GET  blog index.php 2020 04 04 nihil-tenetur-e...</td>\n",
              "      <td>000 - Normal</td>\n",
              "    </tr>\n",
              "    <tr>\n",
              "      <th>3</th>\n",
              "      <td>GET  blog index.php 2020 04 04 explicabo-qui-f...</td>\n",
              "      <td>000 - Normal</td>\n",
              "    </tr>\n",
              "    <tr>\n",
              "      <th>4</th>\n",
              "      <td>GET  blog index.php 2020 04 04 explicabo-qui-f...</td>\n",
              "      <td>000 - Normal</td>\n",
              "    </tr>\n",
              "  </tbody>\n",
              "</table>\n",
              "</div>\n",
              "      <button class=\"colab-df-convert\" onclick=\"convertToInteractive('df-232f1dc3-c728-453b-ae91-95e73915a16f')\"\n",
              "              title=\"Convert this dataframe to an interactive table.\"\n",
              "              style=\"display:none;\">\n",
              "        \n",
              "  <svg xmlns=\"http://www.w3.org/2000/svg\" height=\"24px\"viewBox=\"0 0 24 24\"\n",
              "       width=\"24px\">\n",
              "    <path d=\"M0 0h24v24H0V0z\" fill=\"none\"/>\n",
              "    <path d=\"M18.56 5.44l.94 2.06.94-2.06 2.06-.94-2.06-.94-.94-2.06-.94 2.06-2.06.94zm-11 1L8.5 8.5l.94-2.06 2.06-.94-2.06-.94L8.5 2.5l-.94 2.06-2.06.94zm10 10l.94 2.06.94-2.06 2.06-.94-2.06-.94-.94-2.06-.94 2.06-2.06.94z\"/><path d=\"M17.41 7.96l-1.37-1.37c-.4-.4-.92-.59-1.43-.59-.52 0-1.04.2-1.43.59L10.3 9.45l-7.72 7.72c-.78.78-.78 2.05 0 2.83L4 21.41c.39.39.9.59 1.41.59.51 0 1.02-.2 1.41-.59l7.78-7.78 2.81-2.81c.8-.78.8-2.07 0-2.86zM5.41 20L4 18.59l7.72-7.72 1.47 1.35L5.41 20z\"/>\n",
              "  </svg>\n",
              "      </button>\n",
              "      \n",
              "  <style>\n",
              "    .colab-df-container {\n",
              "      display:flex;\n",
              "      flex-wrap:wrap;\n",
              "      gap: 12px;\n",
              "    }\n",
              "\n",
              "    .colab-df-convert {\n",
              "      background-color: #E8F0FE;\n",
              "      border: none;\n",
              "      border-radius: 50%;\n",
              "      cursor: pointer;\n",
              "      display: none;\n",
              "      fill: #1967D2;\n",
              "      height: 32px;\n",
              "      padding: 0 0 0 0;\n",
              "      width: 32px;\n",
              "    }\n",
              "\n",
              "    .colab-df-convert:hover {\n",
              "      background-color: #E2EBFA;\n",
              "      box-shadow: 0px 1px 2px rgba(60, 64, 67, 0.3), 0px 1px 3px 1px rgba(60, 64, 67, 0.15);\n",
              "      fill: #174EA6;\n",
              "    }\n",
              "\n",
              "    [theme=dark] .colab-df-convert {\n",
              "      background-color: #3B4455;\n",
              "      fill: #D2E3FC;\n",
              "    }\n",
              "\n",
              "    [theme=dark] .colab-df-convert:hover {\n",
              "      background-color: #434B5C;\n",
              "      box-shadow: 0px 1px 3px 1px rgba(0, 0, 0, 0.15);\n",
              "      filter: drop-shadow(0px 1px 2px rgba(0, 0, 0, 0.3));\n",
              "      fill: #FFFFFF;\n",
              "    }\n",
              "  </style>\n",
              "\n",
              "      <script>\n",
              "        const buttonEl =\n",
              "          document.querySelector('#df-232f1dc3-c728-453b-ae91-95e73915a16f button.colab-df-convert');\n",
              "        buttonEl.style.display =\n",
              "          google.colab.kernel.accessAllowed ? 'block' : 'none';\n",
              "\n",
              "        async function convertToInteractive(key) {\n",
              "          const element = document.querySelector('#df-232f1dc3-c728-453b-ae91-95e73915a16f');\n",
              "          const dataTable =\n",
              "            await google.colab.kernel.invokeFunction('convertToInteractive',\n",
              "                                                     [key], {});\n",
              "          if (!dataTable) return;\n",
              "\n",
              "          const docLinkHtml = 'Like what you see? Visit the ' +\n",
              "            '<a target=\"_blank\" href=https://colab.research.google.com/notebooks/data_table.ipynb>data table notebook</a>'\n",
              "            + ' to learn more about interactive tables.';\n",
              "          element.innerHTML = '';\n",
              "          dataTable['output_type'] = 'display_data';\n",
              "          await google.colab.output.renderOutput(dataTable, element);\n",
              "          const docLink = document.createElement('div');\n",
              "          docLink.innerHTML = docLinkHtml;\n",
              "          element.appendChild(docLink);\n",
              "        }\n",
              "      </script>\n",
              "    </div>\n",
              "  </div>\n",
              "  "
            ]
          },
          "metadata": {},
          "execution_count": 7
        }
      ]
    },
    {
      "cell_type": "code",
      "source": [
        "from sklearn.naive_bayes import MultinomialNB\n",
        "X_train, X_val, y_train, y_val = train_test_split(df_train[\"text\"],\n",
        "                                                  df_train[\"label\"],\n",
        "                                                  test_size=0.2,\n",
        "                                                  shuffle=True)\n",
        "vectorizer = Vectorizer('TFIDF')\n",
        "train_features, test_features = vectorizer.feature_extraction(X_train, X_val)\n",
        "mnb = MultinomialNB()\n",
        "mnb.fit(train_features, y_train)\n",
        "print(mnb.score(test_features, y_val))"
      ],
      "metadata": {
        "colab": {
          "base_uri": "https://localhost:8080/"
        },
        "id": "1AGx1xv38i0g",
        "outputId": "7c9b05db-2e6a-46e5-80d6-0b128000fcfc"
      },
      "execution_count": 8,
      "outputs": [
        {
          "output_type": "stream",
          "name": "stdout",
          "text": [
            "0.8677086853666779\n"
          ]
        }
      ]
    },
    {
      "cell_type": "code",
      "source": [
        "y_predict = mnb.predict(test_features)\n",
        "print(classification_report(y_val,y_predict))\n",
        "print('Confusion Matrix: \\n',confusion_matrix(y_val, y_predict))"
      ],
      "metadata": {
        "colab": {
          "base_uri": "https://localhost:8080/"
        },
        "id": "0zlS6X1J8i3A",
        "outputId": "02ffa35f-d7e9-47bb-8086-3386a526b80b"
      },
      "execution_count": 9,
      "outputs": [
        {
          "output_type": "stream",
          "name": "stderr",
          "text": [
            "/usr/local/lib/python3.10/dist-packages/sklearn/metrics/_classification.py:1344: UndefinedMetricWarning: Precision and F-score are ill-defined and being set to 0.0 in labels with no predicted samples. Use `zero_division` parameter to control this behavior.\n",
            "  _warn_prf(average, modifier, msg_start, len(result))\n",
            "/usr/local/lib/python3.10/dist-packages/sklearn/metrics/_classification.py:1344: UndefinedMetricWarning: Precision and F-score are ill-defined and being set to 0.0 in labels with no predicted samples. Use `zero_division` parameter to control this behavior.\n",
            "  _warn_prf(average, modifier, msg_start, len(result))\n",
            "/usr/local/lib/python3.10/dist-packages/sklearn/metrics/_classification.py:1344: UndefinedMetricWarning: Precision and F-score are ill-defined and being set to 0.0 in labels with no predicted samples. Use `zero_division` parameter to control this behavior.\n",
            "  _warn_prf(average, modifier, msg_start, len(result))\n"
          ]
        },
        {
          "output_type": "stream",
          "name": "stdout",
          "text": [
            "                                        precision    recall  f1-score   support\n",
            "\n",
            "                          000 - Normal       0.81      0.93      0.87     45405\n",
            "                  126 - Path Traversal       1.00      0.78      0.88      3436\n",
            "         153 - Input Data Manipulation       0.11      1.00      0.19       287\n",
            "         194 - Fake the Source of Data       0.98      0.91      0.94     11141\n",
            "                  242 - Code Injection       0.98      0.90      0.94      2713\n",
            "           272 - Protocol Manipulation       0.00      0.00      0.00      1419\n",
            "310 - Scanning for Vulnerable Software       0.98      0.29      0.44       473\n",
            "          34 - HTTP Response Splitting       0.95      0.92      0.94      3816\n",
            "                    66 - SQL Injection       0.94      0.83      0.88     49670\n",
            "\n",
            "                              accuracy                           0.87    118360\n",
            "                             macro avg       0.75      0.73      0.68    118360\n",
            "                          weighted avg       0.88      0.87      0.87    118360\n",
            "\n",
            "Confusion Matrix: \n",
            " [[42240    10   495    32     1     0     2   177  2448]\n",
            " [  560  2693    44   118     0     0     0     0    21]\n",
            " [    0     0   287     0     0     0     0     0     0]\n",
            " [  587     0   396 10119     0     0     1     0    38]\n",
            " [  198     0    23     0  2454     0     0     0    38]\n",
            " [ 1083     0    65    94     0     0     0     1   176]\n",
            " [  330     0     0     5     0     0   136     0     2]\n",
            " [  177     0    95     0     0     0     0  3519    25]\n",
            " [ 7064     0  1289     6    56     0     0     1 41254]]\n"
          ]
        }
      ]
    },
    {
      "cell_type": "code",
      "source": [
        "from sklearn.ensemble import RandomForestClassifier\n",
        "\n",
        "rf = RandomForestClassifier(n_estimators=10, criterion='gini')\n",
        "rf.fit(train_features, y_train)\n",
        "print(rf.score(test_features, y_val))"
      ],
      "metadata": {
        "colab": {
          "base_uri": "https://localhost:8080/"
        },
        "id": "TjTQinHa930b",
        "outputId": "e1469ab5-d4f1-4934-84eb-ccd046c0a1ef"
      },
      "execution_count": 10,
      "outputs": [
        {
          "output_type": "stream",
          "name": "stdout",
          "text": [
            "0.9595471443055086\n"
          ]
        }
      ]
    },
    {
      "cell_type": "code",
      "source": [
        "y_predict = rf.predict(test_features)\n",
        "print(classification_report(y_val,y_predict))\n",
        "print('Confusion Matrix: \\n',confusion_matrix(y_val, y_predict))"
      ],
      "metadata": {
        "colab": {
          "base_uri": "https://localhost:8080/"
        },
        "id": "nQNy6tUo9347",
        "outputId": "45458759-09b1-4b49-f429-858c601951ea"
      },
      "execution_count": 11,
      "outputs": [
        {
          "output_type": "stream",
          "name": "stdout",
          "text": [
            "                                        precision    recall  f1-score   support\n",
            "\n",
            "                          000 - Normal       0.92      0.99      0.96     45405\n",
            "                  126 - Path Traversal       1.00      0.92      0.96      3436\n",
            "         153 - Input Data Manipulation       0.70      0.02      0.05       287\n",
            "         194 - Fake the Source of Data       1.00      0.93      0.96     11141\n",
            "                  242 - Code Injection       1.00      0.99      1.00      2713\n",
            "           272 - Protocol Manipulation       0.70      0.14      0.24      1419\n",
            "310 - Scanning for Vulnerable Software       0.87      0.98      0.92       473\n",
            "          34 - HTTP Response Splitting       1.00      1.00      1.00      3816\n",
            "                    66 - SQL Injection       0.98      0.96      0.97     49670\n",
            "\n",
            "                              accuracy                           0.96    118360\n",
            "                             macro avg       0.91      0.77      0.78    118360\n",
            "                          weighted avg       0.96      0.96      0.96    118360\n",
            "\n",
            "Confusion Matrix: \n",
            " [[45012     1     0     6     0    14    37     0   335]\n",
            " [  221  3155     0     0     0    15     1     0    44]\n",
            " [   92     0     7     0     0     0     0     0   188]\n",
            " [  607     0     1 10353     0    33     2     0   145]\n",
            " [    5     0     0     0  2692     0     0     0    16]\n",
            " [ 1023     1     2    21     1   205    25     0   141]\n",
            " [    8     1     0     0     0     0   464     0     0]\n",
            " [    0     0     0     0     0     0     0  3816     0]\n",
            " [ 1769     0     0     0     4    25     4     0 47868]]\n"
          ]
        }
      ]
    },
    {
      "cell_type": "code",
      "source": [
        "from sklearn.tree import DecisionTreeClassifier\n",
        "\n",
        "dt = DecisionTreeClassifier(criterion='gini')\n",
        "dt.fit(train_features, y_train)\n",
        "print(dt.score(test_features, y_val))"
      ],
      "metadata": {
        "colab": {
          "base_uri": "https://localhost:8080/"
        },
        "id": "R1VJ2xYh938Z",
        "outputId": "59d88bd0-6f24-4b2d-b4a8-2eedcd223879"
      },
      "execution_count": 12,
      "outputs": [
        {
          "output_type": "stream",
          "name": "stdout",
          "text": [
            "0.9595640419060494\n"
          ]
        }
      ]
    },
    {
      "cell_type": "code",
      "source": [
        "\n",
        "y_predict = dt.predict(test_features)\n",
        "print(classification_report(y_val,y_predict))\n",
        "print('Confusion Matrix: \\n',confusion_matrix(y_val, y_predict))"
      ],
      "metadata": {
        "colab": {
          "base_uri": "https://localhost:8080/"
        },
        "id": "VS6Uk-oe93_r",
        "outputId": "2c60d774-5a69-460c-a863-e16ac9fceee8"
      },
      "execution_count": 13,
      "outputs": [
        {
          "output_type": "stream",
          "name": "stdout",
          "text": [
            "                                        precision    recall  f1-score   support\n",
            "\n",
            "                          000 - Normal       0.92      0.99      0.96     45405\n",
            "                  126 - Path Traversal       1.00      0.92      0.96      3436\n",
            "         153 - Input Data Manipulation       0.67      0.02      0.04       287\n",
            "         194 - Fake the Source of Data       1.00      0.93      0.96     11141\n",
            "                  242 - Code Injection       1.00      0.99      0.99      2713\n",
            "           272 - Protocol Manipulation       0.68      0.15      0.24      1419\n",
            "310 - Scanning for Vulnerable Software       0.87      0.98      0.92       473\n",
            "          34 - HTTP Response Splitting       1.00      1.00      1.00      3816\n",
            "                    66 - SQL Injection       0.98      0.96      0.97     49670\n",
            "\n",
            "                              accuracy                           0.96    118360\n",
            "                             macro avg       0.90      0.77      0.78    118360\n",
            "                          weighted avg       0.96      0.96      0.96    118360\n",
            "\n",
            "Confusion Matrix: \n",
            " [[45013     0     0     6     1    16    37     0   332]\n",
            " [  211  3172     0     0     0    13     1     0    39]\n",
            " [   92     0     6     0     0     0     0     0   189]\n",
            " [  606     0     1 10344     0    41     2     0   147]\n",
            " [    4     0     0     0  2695     0     0     0    14]\n",
            " [ 1022     0     2    15     0   208    25     0   147]\n",
            " [    8     1     0     0     0     0   464     0     0]\n",
            " [    0     0     0     0     0     0     0  3816     0]\n",
            " [ 1770     0     0     0    11    29     4     0 47856]]\n"
          ]
        }
      ]
    },
    {
      "cell_type": "code",
      "source": [
        "\n",
        "from sklearn.ensemble import AdaBoostClassifier\n",
        "\n",
        "abc = AdaBoostClassifier(n_estimators=10)\n",
        "abc.fit(train_features, y_train)\n",
        "print(abc.score(test_features, y_val))"
      ],
      "metadata": {
        "colab": {
          "base_uri": "https://localhost:8080/"
        },
        "id": "nZqZyRsf94Cm",
        "outputId": "2beecbde-df5b-4b6c-f229-c59041acfc91"
      },
      "execution_count": 14,
      "outputs": [
        {
          "output_type": "stream",
          "name": "stdout",
          "text": [
            "0.561752281176073\n"
          ]
        }
      ]
    },
    {
      "cell_type": "code",
      "source": [
        "y_predict = abc.predict(test_features)\n",
        "print(classification_report(y_val,y_predict))\n",
        "print('Confusion Matrix: \\n',confusion_matrix(y_val, y_predict))"
      ],
      "metadata": {
        "colab": {
          "base_uri": "https://localhost:8080/"
        },
        "id": "Jro2vFjt94Fu",
        "outputId": "6355fff2-0930-47d3-dff1-47c477c7f79b"
      },
      "execution_count": 15,
      "outputs": [
        {
          "output_type": "stream",
          "name": "stderr",
          "text": [
            "/usr/local/lib/python3.10/dist-packages/sklearn/metrics/_classification.py:1344: UndefinedMetricWarning: Precision and F-score are ill-defined and being set to 0.0 in labels with no predicted samples. Use `zero_division` parameter to control this behavior.\n",
            "  _warn_prf(average, modifier, msg_start, len(result))\n",
            "/usr/local/lib/python3.10/dist-packages/sklearn/metrics/_classification.py:1344: UndefinedMetricWarning: Precision and F-score are ill-defined and being set to 0.0 in labels with no predicted samples. Use `zero_division` parameter to control this behavior.\n",
            "  _warn_prf(average, modifier, msg_start, len(result))\n",
            "/usr/local/lib/python3.10/dist-packages/sklearn/metrics/_classification.py:1344: UndefinedMetricWarning: Precision and F-score are ill-defined and being set to 0.0 in labels with no predicted samples. Use `zero_division` parameter to control this behavior.\n",
            "  _warn_prf(average, modifier, msg_start, len(result))\n"
          ]
        },
        {
          "output_type": "stream",
          "name": "stdout",
          "text": [
            "                                        precision    recall  f1-score   support\n",
            "\n",
            "                          000 - Normal       0.00      0.00      0.00     45405\n",
            "                  126 - Path Traversal       0.00      0.00      0.00      3436\n",
            "         153 - Input Data Manipulation       0.00      0.00      0.00       287\n",
            "         194 - Fake the Source of Data       0.99      0.93      0.96     11141\n",
            "                  242 - Code Injection       1.00      0.97      0.98      2713\n",
            "           272 - Protocol Manipulation       0.00      0.00      0.00      1419\n",
            "310 - Scanning for Vulnerable Software       0.00      0.00      0.00       473\n",
            "          34 - HTTP Response Splitting       1.00      1.00      1.00      3816\n",
            "                    66 - SQL Injection       0.49      1.00      0.66     49670\n",
            "\n",
            "                              accuracy                           0.56    118360\n",
            "                             macro avg       0.39      0.43      0.40    118360\n",
            "                          weighted avg       0.35      0.56      0.42    118360\n",
            "\n",
            "Confusion Matrix: \n",
            " [[    0     0     0     0     4     0     0     0 45401]\n",
            " [    0     0     0     0     0     0     0     0  3436]\n",
            " [    0     0     0     0     0     0     0     0   287]\n",
            " [    0     0     0 10370     0     0     0     0   771]\n",
            " [    0     0     0     0  2633     0     0     0    80]\n",
            " [    0     0     0    95     0     0     0     0  1324]\n",
            " [    0     0     0     3     0     0     0     0   470]\n",
            " [    0     0     0     0     0     0     0  3816     0]\n",
            " [    0     0     0     0     0     0     0     0 49670]]\n"
          ]
        }
      ]
    },
    {
      "cell_type": "code",
      "source": [
        "\n",
        "from sklearn.linear_model import LogisticRegression\n",
        "\n",
        "lr = LogisticRegression()\n",
        "lr.fit(train_features, y_train)\n",
        "print(lr.score(test_features, y_val))"
      ],
      "metadata": {
        "colab": {
          "base_uri": "https://localhost:8080/"
        },
        "id": "0_oN1Hby94JY",
        "outputId": "83029141-ad97-4ead-e9d4-01316bc8d22c"
      },
      "execution_count": 16,
      "outputs": [
        {
          "output_type": "stream",
          "name": "stderr",
          "text": [
            "/usr/local/lib/python3.10/dist-packages/sklearn/linear_model/_logistic.py:458: ConvergenceWarning: lbfgs failed to converge (status=1):\n",
            "STOP: TOTAL NO. of ITERATIONS REACHED LIMIT.\n",
            "\n",
            "Increase the number of iterations (max_iter) or scale the data as shown in:\n",
            "    https://scikit-learn.org/stable/modules/preprocessing.html\n",
            "Please also refer to the documentation for alternative solver options:\n",
            "    https://scikit-learn.org/stable/modules/linear_model.html#logistic-regression\n",
            "  n_iter_i = _check_optimize_result(\n"
          ]
        },
        {
          "output_type": "stream",
          "name": "stdout",
          "text": [
            "0.9500591416018925\n"
          ]
        }
      ]
    },
    {
      "cell_type": "code",
      "source": [
        "y_predict = lr.predict(test_features)\n",
        "print(classification_report(y_val,y_predict))\n",
        "print('Confusion Matrix: \\n',confusion_matrix(y_val, y_predict))"
      ],
      "metadata": {
        "colab": {
          "base_uri": "https://localhost:8080/"
        },
        "id": "cyOc6OVX8BR7",
        "outputId": "543f6cd2-1ebd-48f2-ac6b-eddc038c8961"
      },
      "execution_count": 17,
      "outputs": [
        {
          "output_type": "stream",
          "name": "stdout",
          "text": [
            "                                        precision    recall  f1-score   support\n",
            "\n",
            "                          000 - Normal       0.91      0.98      0.94     45405\n",
            "                  126 - Path Traversal       0.98      0.91      0.94      3436\n",
            "         153 - Input Data Manipulation       0.62      0.02      0.03       287\n",
            "         194 - Fake the Source of Data       0.99      0.93      0.96     11141\n",
            "                  242 - Code Injection       1.00      0.97      0.99      2713\n",
            "           272 - Protocol Manipulation       0.00      0.00      0.00      1419\n",
            "310 - Scanning for Vulnerable Software       0.85      0.94      0.89       473\n",
            "          34 - HTTP Response Splitting       1.00      1.00      1.00      3816\n",
            "                    66 - SQL Injection       0.98      0.95      0.96     49670\n",
            "\n",
            "                              accuracy                           0.95    118360\n",
            "                             macro avg       0.81      0.75      0.75    118360\n",
            "                          weighted avg       0.94      0.95      0.94    118360\n",
            "\n",
            "Confusion Matrix: \n",
            " [[44644    62     0     3     2     0    47     0   647]\n",
            " [  289  3112     0     0     0     0     1     0    34]\n",
            " [   92     0     5     0     0     0     0     0   190]\n",
            " [  641     0     1 10370     0     0     2     0   127]\n",
            " [    9     0     0     0  2639     0     0     0    65]\n",
            " [ 1167     0     1    95     0     0    25     0   131]\n",
            " [   22     1     0     3     0     2   445     0     0]\n",
            " [    0     0     0     0     0     0     0  3816     0]\n",
            " [ 2247     0     1     0     0     0     4     0 47418]]\n"
          ]
        }
      ]
    },
    {
      "cell_type": "code",
      "source": [],
      "metadata": {
        "id": "8ndIihjq-ivU"
      },
      "execution_count": null,
      "outputs": []
    },
    {
      "cell_type": "code",
      "source": [],
      "metadata": {
        "id": "iQUU5KMw-iyr"
      },
      "execution_count": null,
      "outputs": []
    },
    {
      "cell_type": "code",
      "source": [],
      "metadata": {
        "id": "6zzhxjYq-i3I"
      },
      "execution_count": null,
      "outputs": []
    },
    {
      "cell_type": "code",
      "source": [],
      "metadata": {
        "id": "spfMhgxM-i6C"
      },
      "execution_count": null,
      "outputs": []
    },
    {
      "cell_type": "code",
      "source": [],
      "metadata": {
        "id": "RF1E2o4Z-i8a"
      },
      "execution_count": null,
      "outputs": []
    },
    {
      "cell_type": "code",
      "source": [],
      "metadata": {
        "id": "onxkGw6S8Beb"
      },
      "execution_count": null,
      "outputs": []
    }
  ]
}